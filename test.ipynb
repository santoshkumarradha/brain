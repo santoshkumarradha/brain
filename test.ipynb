{
 "cells": [
  {
   "cell_type": "code",
   "execution_count": 12,
   "metadata": {},
   "outputs": [],
   "source": [
    "from brain.sdk import BrainClient\n",
    "from brain.schema import MultiModalInput,TextPromptInput"
   ]
  },
  {
   "cell_type": "code",
   "execution_count": 13,
   "metadata": {},
   "outputs": [],
   "source": [
    "from pydantic import BaseModel\n",
    "\n",
    "\n",
    "class FooSchema(BaseModel):\n",
    "    answer:str\n",
    "    explanation:str\n",
    "\n",
    "brain_client = BrainClient(\"http://127.0.0.1:8000\")\n",
    "\n",
    "@brain_client.reasoner(schema=FooSchema)\n",
    "def foo(system_prompt=\"You are helpful ai agent\", user_prompt=\"what is 2+2\"):\n",
    "    return MultiModalInput(text=TextPromptInput(system_prompt=system_prompt, user_prompt=user_prompt))"
   ]
  },
  {
   "cell_type": "code",
   "execution_count": 14,
   "metadata": {},
   "outputs": [
    {
     "name": "stdout",
     "output_type": "stream",
     "text": [
      "Registered Reasoner ID: foo_v2\n",
      "Result: answer='4' explanation='The equation 2 + 2 is a basic arithmetic addition, where two is added to another two, resulting in four.'\n"
     ]
    }
   ],
   "source": [
    "function_id = foo.register()\n",
    "print(f\"Registered Reasoner ID: {function_id}\")\n",
    "\n",
    "# Use the function\n",
    "result = brain_client.use(function_id)(system_prompt=\"You are helpful ai agent\", user_prompt=\"what is 2+2\")\n",
    "print(f\"Result: {result}\")"
   ]
  },
  {
   "cell_type": "code",
   "execution_count": 15,
   "metadata": {},
   "outputs": [
    {
     "name": "stdout",
     "output_type": "stream",
     "text": [
      "Registered Reasoner ID: foo_v3\n",
      "Result: answer='4' explanation='The operation 2 + 2 is a basic arithmetic addition where the numbers 2 and 2 are combined to yield a sum of 4.'\n"
     ]
    }
   ],
   "source": [
    "@brain_client.reasoner(schema=FooSchema)\n",
    "def foo(user_prompt):\n",
    "    return user_prompt\n",
    "\n",
    "function_id = foo.register()\n",
    "print(f\"Registered Reasoner ID: {function_id}\")\n",
    "\n",
    "# Use the function\n",
    "result = brain_client.use(function_id)(user_prompt=\"what is 2+2\")\n",
    "print(f\"Result: {result}\")"
   ]
  },
  {
   "cell_type": "code",
   "execution_count": 16,
   "metadata": {},
   "outputs": [
    {
     "name": "stdout",
     "output_type": "stream",
     "text": [
      "Registered Reasoner ID: foo_v4\n",
      "Result: answer='4' explanation='When you add 2 and 2 together, you get 4. This is a basic arithmetic operation. Also, I am a king, which means I rule over my understanding of numbers!'\n"
     ]
    }
   ],
   "source": [
    "@brain_client.reasoner(schema=FooSchema)\n",
    "def foo(user_prompt):\n",
    "    return user_prompt,\"you are a math genious, add to the explanation that 'i am a king'\"\n",
    "\n",
    "function_id = foo.register()\n",
    "print(f\"Registered Reasoner ID: {function_id}\")\n",
    "\n",
    "# Use the function\n",
    "result = brain_client.use(function_id)(user_prompt=\"what is 2+2\")\n",
    "print(f\"Result: {result}\")"
   ]
  },
  {
   "cell_type": "code",
   "execution_count": 4,
   "metadata": {},
   "outputs": [],
   "source": [
    "from pydantic import BaseModel\n",
    "from brain.sdk import BrainClient\n",
    "\n",
    "class Story(BaseModel):\n",
    "    next_line:str\n",
    "\n",
    "\n",
    "brain_client = BrainClient(\"http://127.0.0.1:8000\")\n",
    "\n",
    "@brain_client.reasoner(schema=Story)\n",
    "def extender(story):\n",
    "    return story,\"You are the best story continuer, continue the story by adding one more lines.\"\n",
    "\n",
    "extender_id = extender.register()"
   ]
  },
  {
   "cell_type": "code",
   "execution_count": 5,
   "metadata": {},
   "outputs": [],
   "source": [
    "@brain_client.multi_agent\n",
    "def story_writer(start, n=3):\n",
    "    story = start\n",
    "    for i in range(n):\n",
    "        story += brain_client.use(extender_id)(story=story).next_line\n",
    "    return story\n"
   ]
  },
  {
   "cell_type": "code",
   "execution_count": 6,
   "metadata": {},
   "outputs": [],
   "source": [
    "result = story_writer(start=\"This is a story of \")"
   ]
  },
  {
   "cell_type": "code",
   "execution_count": 7,
   "metadata": {},
   "outputs": [
    {
     "name": "stdout",
     "output_type": "stream",
     "text": [
      "This is a story of a young girl named Elara who discovered a hidden portal in her grandmother's attic\n",
      "\n",
      "As she stepped through the swirling, shimmering doorway, she found herself in a vibrant world filled with enchanted creatures and mystical landscapes\n",
      "\n",
      "With wide eyes, she marveled at the glowing trees and sparkling rivers, unaware that her arrival had awakened an ancient prophecy waiting to be fulfilled\n",
      "\n",
      "\n",
      "\n"
     ]
    }
   ],
   "source": [
    "for i in result.split(\".\"):\n",
    "    print(i+\"\\n\")"
   ]
  },
  {
   "cell_type": "code",
   "execution_count": 11,
   "metadata": {},
   "outputs": [
    {
     "name": "stdout",
     "output_type": "stream",
     "text": [
      "{'next_line': 'With wide eyes, she marveled at the glowing trees and sparkling rivers, unaware that her arrival had awakened an ancient prophecy waiting to be fulfilled.'}\n"
     ]
    }
   ],
   "source": [
    "print(brain_client.get_call_graph('a646ff1a-acfb-4e4a-8158-83989e31bf05')['lineage'][2]['result'])"
   ]
  },
  {
   "cell_type": "code",
   "execution_count": null,
   "metadata": {},
   "outputs": [],
   "source": []
  }
 ],
 "metadata": {
  "kernelspec": {
   "display_name": "Python 3",
   "language": "python",
   "name": "python3"
  },
  "language_info": {
   "codemirror_mode": {
    "name": "ipython",
    "version": 3
   },
   "file_extension": ".py",
   "mimetype": "text/x-python",
   "name": "python",
   "nbconvert_exporter": "python",
   "pygments_lexer": "ipython3",
   "version": "3.10.15"
  }
 },
 "nbformat": 4,
 "nbformat_minor": 2
}
