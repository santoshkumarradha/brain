{
 "cells": [
  {
   "cell_type": "code",
   "execution_count": 1,
   "metadata": {},
   "outputs": [],
   "source": [
    "from brain.sdk import BrainClient\n",
    "from brain.schema import MultiModalInput,TextPromptInput"
   ]
  },
  {
   "cell_type": "code",
   "execution_count": 2,
   "metadata": {},
   "outputs": [],
   "source": [
    "from pydantic import BaseModel\n",
    "\n",
    "\n",
    "class FooSchema(BaseModel):\n",
    "    answer:str\n",
    "    explanation:str\n",
    "\n",
    "brain_client = BrainClient(\"http://127.0.0.1:8000\")\n",
    "\n",
    "@brain_client.reasoner(schema=FooSchema)\n",
    "def foo(system_prompt=\"You are helpful ai agent\", user_prompt=\"what is 2+2\"):\n",
    "    return MultiModalInput(text=TextPromptInput(system_prompt=system_prompt, user_prompt=user_prompt))"
   ]
  },
  {
   "cell_type": "code",
   "execution_count": 3,
   "metadata": {},
   "outputs": [
    {
     "name": "stdout",
     "output_type": "stream",
     "text": [
      "Registered Reasoner ID: foo_v1\n",
      "Result: answer='4' explanation='The operation 2+2 is a basic arithmetic addition where you combine the numbers 2 and 2. The sum of 2 and 2 equals 4.'\n"
     ]
    }
   ],
   "source": [
    "function_id = foo.register()\n",
    "print(f\"Registered Reasoner ID: {function_id}\")\n",
    "\n",
    "# Use the function\n",
    "result = brain_client.use(function_id)(system_prompt=\"You are helpful ai agent\", user_prompt=\"what is 2+2\")\n",
    "print(f\"Result: {result}\")"
   ]
  },
  {
   "cell_type": "code",
   "execution_count": 4,
   "metadata": {},
   "outputs": [
    {
     "name": "stdout",
     "output_type": "stream",
     "text": [
      "Registered Reasoner ID: foo_v2\n",
      "Result: answer='4' explanation='2+2 is a basic arithmetic operation where you add two and two together. The result is four.'\n"
     ]
    }
   ],
   "source": [
    "@brain_client.reasoner(schema=FooSchema)\n",
    "def foo(user_prompt):\n",
    "    return user_prompt\n",
    "\n",
    "function_id = foo.register()\n",
    "print(f\"Registered Reasoner ID: {function_id}\")\n",
    "\n",
    "# Use the function\n",
    "result = brain_client.use(function_id)(user_prompt=\"what is 2+2\")\n",
    "print(f\"Result: {result}\")"
   ]
  },
  {
   "cell_type": "code",
   "execution_count": 5,
   "metadata": {},
   "outputs": [
    {
     "name": "stdout",
     "output_type": "stream",
     "text": [
      "Registered Reasoner ID: foo_v3\n",
      "Result: answer='4' explanation='When you add 2 and 2 together, you get 4. This is a basic arithmetic operation that is universally accepted. As I solve this, remember, I am a king of mathematics!'\n"
     ]
    }
   ],
   "source": [
    "@brain_client.reasoner(schema=FooSchema)\n",
    "def foo(user_prompt):\n",
    "    return user_prompt,\"you are a math genious, add to the explanation that 'i am a king'\"\n",
    "\n",
    "function_id = foo.register()\n",
    "print(f\"Registered Reasoner ID: {function_id}\")\n",
    "\n",
    "# Use the function\n",
    "result = brain_client.use(function_id)(user_prompt=\"what is 2+2\")\n",
    "print(f\"Result: {result}\")"
   ]
  }
 ],
 "metadata": {
  "kernelspec": {
   "display_name": "Python 3",
   "language": "python",
   "name": "python3"
  },
  "language_info": {
   "codemirror_mode": {
    "name": "ipython",
    "version": 3
   },
   "file_extension": ".py",
   "mimetype": "text/x-python",
   "name": "python",
   "nbconvert_exporter": "python",
   "pygments_lexer": "ipython3",
   "version": "3.10.15"
  }
 },
 "nbformat": 4,
 "nbformat_minor": 2
}
