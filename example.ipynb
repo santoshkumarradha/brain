{
 "cells": [
  {
   "cell_type": "code",
   "execution_count": null,
   "metadata": {},
   "outputs": [],
   "source": [
    "import sys; sys.path.append('..')\n",
    "from builtins import print\n",
    "\n",
    "from about_time import about_time  # ❯ pip install about-time"
   ]
  },
  {
   "cell_type": "code",
   "execution_count": null,
   "metadata": {},
   "outputs": [],
   "source": [
    "from brain.sdk import BrainClient\n",
    "\n",
    "# set OPENAI_API_KEY environment variable\n",
    "# brain start --debug\n",
    "\n",
    "brain = BrainClient(\"http://127.0.0.1:8000\")"
   ]
  },
  {
   "cell_type": "markdown",
   "metadata": {},
   "source": [
    "# Basic Usage\n",
    "\n",
    "**Reasoner** \n",
    "- Systems that analyze input and provide meaningful output.\n",
    "- Use the `@reasoner` decorator on a Python function that returns a system prompt and user prompt.\n",
    "- Responses are formatted according to the attached schema."
   ]
  },
  {
   "cell_type": "code",
   "execution_count": null,
   "metadata": {},
   "outputs": [
    {
     "data": {
      "text/html": [
       "<pre style=\"white-space:pre;overflow-x:auto;line-height:normal;font-family:Menlo,'DejaVu Sans Mono',consolas,'Courier New',monospace\"><span style=\"font-style: italic\">                                Reasoners in Project: Default Project                                 </span>\n",
       "                                                                                                      \n",
       " <span style=\"font-weight: bold\"> Reasoner        </span> <span style=\"font-weight: bold\"> ID                                   </span> <span style=\"font-weight: bold\"> Tags                </span> <span style=\"font-weight: bold\">     Created At      </span> \n",
       " ──────────────────────────────────────────────────────────────────────────────────────────────────── \n",
       "  Sample Reasoner   1305c165-2c79-463f-943b-37d92acbdd30   sample, quick-start   2024-12-03 03:52:21  \n",
       "                                                                                                      \n",
       "</pre>\n"
      ],
      "text/plain": [
       "\u001b[3m                                Reasoners in Project: Default Project                                 \u001b[0m\n",
       "                                                                                                      \n",
       " \u001b[1m \u001b[0m\u001b[1mReasoner       \u001b[0m\u001b[1m \u001b[0m \u001b[1m \u001b[0m\u001b[1mID                                  \u001b[0m\u001b[1m \u001b[0m \u001b[1m \u001b[0m\u001b[1mTags               \u001b[0m\u001b[1m \u001b[0m \u001b[1m \u001b[0m\u001b[1m    Created At     \u001b[0m\u001b[1m \u001b[0m \n",
       " ──────────────────────────────────────────────────────────────────────────────────────────────────── \n",
       "  Sample Reasoner   1305c165-2c79-463f-943b-37d92acbdd30   sample, quick-start   2024-12-03 03:52:21  \n",
       "                                                                                                      \n"
      ]
     },
     "metadata": {},
     "output_type": "display_data"
    }
   ],
   "source": [
    "from pydantic import BaseModel, Field\n",
    "\n",
    "\n",
    "class AnswerSchema(BaseModel):\n",
    "    answer:str\n",
    "    explanation:str\n",
    "\n",
    "\n",
    "# Attach tags or pass optional name to the reasoner\n",
    "@brain.reasoner(name=\"Sample Reasoner\",schema=AnswerSchema,tags=[\"sample\",\"quick-start\"])\n",
    "def sample_reasoner(system_prompt, user_prompt):\n",
    "    return dict(system_prompt=system_prompt, user_prompt=user_prompt)\n",
    "\n",
    "brain.list_reasoners()"
   ]
  },
  {
   "cell_type": "markdown",
   "metadata": {},
   "source": [
    "We run the reasoner via their ID, this is so that we can swap out the implementation of the reasoner without changing the code that uses it in real-time."
   ]
  },
  {
   "cell_type": "code",
   "execution_count": null,
   "metadata": {},
   "outputs": [
    {
     "name": "stdout",
     "output_type": "stream",
     "text": [
      "\u001b[4m1 synchronous call\u001b[0m\n",
      "Time Taken: 460.8ms\n",
      "Answer: answer='2' explanation=\"The word 'STRAWBERRY' contains two occurrences of the letter 'R'.\"\n",
      "\n",
      "--------------------------------------------------\n",
      "\n",
      "\u001b[4m5 asynchronous calls\u001b[0m\n",
      "Total Time Taken for 5 async calls: 567.5ms\n",
      "1. Answer: answer='2' explanation=\"The word 'STRAWBERRY' contains two occurrences of the letter 'R'.\"\n",
      "2. Answer: answer='2' explanation=\"The word 'STRAWBERRY' contains the letter 'R' twice.\"\n",
      "3. Answer: answer='2' explanation=\"The word 'STRAWBERRY' contains two instances of the letter 'R'.\"\n",
      "4. Answer: answer='2' explanation=\"The word 'STRAWBERRY' contains the letter 'R' twice, specifically in the second half of the word.\"\n",
      "5. Answer: answer='2' explanation=\"The word 'STRAWBERRY' contains two occurrences of the letter 'R'.\"\n"
     ]
    }
   ],
   "source": [
    "question = \"How many R's are there in the word 'STRAWBERRY'?\"\n",
    "\n",
    "with about_time() as t_sync:\n",
    "    answer_sync = brain.use(sample_reasoner.id)(\n",
    "        system_prompt=\"You are an expert letter counter, answer this question\",\n",
    "        user_prompt=question,\n",
    "    )\n",
    "    \n",
    "with about_time() as t_async:\n",
    "    fut=[]\n",
    "    for _ in range(5):\n",
    "        fut.append(brain.use(sample_reasoner.id,run_async=True)(\n",
    "            system_prompt=\"You are an expert letter counter, answer this question\",\n",
    "            user_prompt=question,\n",
    "        ))\n",
    "    answer_async = [f.result() for f in fut]\n",
    "    \n",
    "\n",
    "print(\"\\033[4m1 synchronous call\\033[0m\")\n",
    "print(f\"Time Taken: {t_sync.duration_human}\")\n",
    "print(f\"Answer: {answer_sync}\")\n",
    "print(\"\\n\" + \"-\" * 50 + \"\\n\")\n",
    "print(\"\\033[4m5 asynchronous calls\\033[0m\")\n",
    "print(f\"Total Time Taken for 5 async calls: {t_async.duration_human}\")\n",
    "for idx, ans in enumerate(answer_async, start=1):\n",
    "    print(f\"{idx}. Answer: {ans}\")"
   ]
  },
  {
   "cell_type": "markdown",
   "metadata": {},
   "source": [
    "## Multiagents\n",
    "\n",
    "- Encapsulate multiple reasoners.\n",
    "- Combine outputs of multiple reasoners into a single workflow.\n",
    "- Do not have a schema.\n",
    "- Decorated with the `@multi_agent` decorator.\n",
    "- Define complex units of work requiring multiple specialized reasoners.\n",
    "\n",
    "### The story writer"
   ]
  },
  {
   "cell_type": "code",
   "execution_count": null,
   "metadata": {},
   "outputs": [],
   "source": [
    "from typing import List\n",
    "\n",
    "from pydantic import BaseModel, Field\n",
    "\n",
    "\n",
    "# Define schemas for reasoners\n",
    "class Story(BaseModel):\n",
    "    story_next_lines: str = Field(..., description=\"Continuation of the story. Do not repeat the story in the prompt, just provide the continuation.\")\n",
    "\n",
    "class Character(BaseModel):\n",
    "    name: str = Field(..., description=\"The name of the character.\")\n",
    "    description: str = Field(..., description=\"The detailed description of the character and their role in the story.\")\n",
    "\n",
    "class Action(BaseModel):\n",
    "    type: str = Field(..., description=f\"The type of action to take. One of given actions.\")\n",
    "    action_description: str = Field(..., description=\"suggested continuation or action for the story.\")\n",
    "\n",
    "# Define reasoners\n",
    "@brain.reasoner(schema=Story)\n",
    "def story_extender(story: str, action: str):\n",
    "    \"\"\"Extends the story based on the provided action.\"\"\"\n",
    "    system_prompt = \"You are a skilled storyteller.\"\n",
    "    user_prompt = (\n",
    "        f\"The current story is:\\n{story}\\n\"\n",
    "        f\"Based on the action '{action}', give a short (~1-3 lines) continuation to the story. If the action is 'end_story', conclude the story gracefully.\"\n",
    "    )\n",
    "    return user_prompt, system_prompt\n",
    "\n",
    "@brain.reasoner(schema=Character)\n",
    "def character_describer(name: str, story: str):\n",
    "    \"\"\"Introduces a character based on the current story context.\"\"\"\n",
    "    system_prompt = \"You are a creative writer.\"\n",
    "    user_prompt = (\n",
    "        f\"The current story is:\\n{story}\\n\"\n",
    "        f\"Introduce the character named {name} into the story. Use their personality and traits to make their role meaningful.\"\n",
    "    )\n",
    "    return user_prompt, system_prompt\n",
    "\n",
    "@brain.reasoner(schema=Action)\n",
    "def action_extender(story: str, actions: List[str]):\n",
    "    \"\"\"Suggests the next action for the story.\"\"\"\n",
    "    system_prompt = \"You are a narrative strategist.\"\n",
    "    user_prompt = (\n",
    "        f\"The current story is:\\n{story}\\n\"\n",
    "        f\"Suggest the next action for the story.Based on existing story, choose one of the following that would be the best next step\"\n",
    "        f\"\\nActions:{actions+['introduce character']}.\"\n",
    "        \"Clearly state the action type and provide the next_action description.\"\n",
    "    )\n",
    "    return user_prompt, system_prompt"
   ]
  },
  {
   "cell_type": "markdown",
   "metadata": {},
   "source": [
    "Let's define the multiagent that will use all these reasoners above to generate an interesting story"
   ]
  },
  {
   "cell_type": "code",
   "execution_count": null,
   "metadata": {},
   "outputs": [],
   "source": [
    "from random import choice\n",
    "from typing import List\n",
    "\n",
    "\n",
    "@brain.multi_agent(name=\"Story Builder\", tags=[\"storytelling\",\"quick-start\"])\n",
    "def story_builder(start: str, characters: List[str],actions=List[str], n: int = 5):\n",
    "    \"\"\"\n",
    "    Builds a story iteratively by introducing characters and progressing actions.\n",
    "\n",
    "    Args:\n",
    "        start (str): The starting line of the story.\n",
    "        characters (List[str]): List of character names to introduce dynamically.\n",
    "        n (int): Maximum number of iterations to build the story.\n",
    "\n",
    "    Returns:\n",
    "        dict: The final story, introduced characters, remaining characters, and final action.\n",
    "    \"\"\"\n",
    "    story = start\n",
    "    introduced_characters = []  # Track introduced characters\n",
    "    remaining_characters = characters[:]  # Characters not yet introduced\n",
    "    actions_proposed=[]\n",
    "    \n",
    "    for _ in range(n-1):\n",
    "        # Step 1: Determine the next action\n",
    "        action = brain.use(action_extender.id)(story=story,actions=actions)\n",
    "        actions_proposed.append(action)\n",
    "        \n",
    "        if action.type == \"introduce character\" and remaining_characters:\n",
    "            # Introduce a random character\n",
    "            character_name = choice(remaining_characters)\n",
    "            \n",
    "            remaining_characters.remove(character_name)\n",
    "            character_description = brain.use(character_describer.id)(name=character_name, story=story).description\n",
    "            story += brain.use(story_extender.id)(story=story, action=f\"Introduce {character_name}: {character_description}\").story_next_lines\n",
    "            introduced_characters.append(character_name)\n",
    "\n",
    "        else:\n",
    "            story += brain.use(story_extender.id)(story=story, action=f\"Type:{action.type} Descprition{action.action_description}\").story_next_lines\n",
    "            \n",
    "\n",
    "    # Conclude the story\n",
    "    story += brain.use(story_extender.id)(story=story, action=\"end_story\").story_next_lines\n",
    "\n",
    "    # Return the final result\n",
    "    return {\n",
    "        \"final_story\": story,\n",
    "        \"introduced_characters\": introduced_characters,\n",
    "        \"remaining_characters\": remaining_characters,\n",
    "        \"final_action\": actions_proposed,\n",
    "    }"
   ]
  },
  {
   "cell_type": "code",
   "execution_count": null,
   "metadata": {},
   "outputs": [
    {
     "data": {
      "text/html": [
       "<pre style=\"white-space:pre;overflow-x:auto;line-height:normal;font-family:Menlo,'DejaVu Sans Mono',consolas,'Courier New',monospace\"><span style=\"font-weight: bold\">{</span>\n",
       "    <span style=\"color: #008000; text-decoration-color: #008000\">'final_story'</span>: <span style=\"color: #008000; text-decoration-color: #008000\">'Once upon a time, in a faraway land One day, while exploring the depths of a misty forest, </span>\n",
       "<span style=\"color: #008000; text-decoration-color: #008000\">David stumbled upon an ancient map carved onto a stone tablet, detailing a hidden treasure that could save his </span>\n",
       "<span style=\"color: #008000; text-decoration-color: #008000\">village from impending doom. Determined to follow its cryptic clues, he rallied his fellow villagers, igniting a </span>\n",
       "<span style=\"color: #008000; text-decoration-color: #008000\">spark of hope in their hearts.Together, David and Charlie set off deeper into the forest, the ancient map clutched </span>\n",
       "<span style=\"color: #008000; text-decoration-color: #008000\">tightly in David’s hands. With each riddle they faced, Charlie’s infectious laughter echoed through the trees, </span>\n",
       "<span style=\"color: #008000; text-decoration-color: #008000\">reminding everyone that no challenge was too great with friendship and courage at their side.Emboldened by the </span>\n",
       "<span style=\"color: #008000; text-decoration-color: #008000\">magic that surrounded them, David and Charlie stepped forward, following the dancing branches. The spirits’ </span>\n",
       "<span style=\"color: #008000; text-decoration-color: #008000\">whispers grew clearer, leading them to a magnificent clearing where the treasure lay hidden beneath a blossom of </span>\n",
       "<span style=\"color: #008000; text-decoration-color: #008000\">shimmering flowers, radiating a light brighter than the sun.As the guardian spirit bestowed her magic upon them, </span>\n",
       "<span style=\"color: #008000; text-decoration-color: #008000\">the flowers pulsed with vibrant energy, casting a protective shield over the village. United by their newfound </span>\n",
       "<span style=\"color: #008000; text-decoration-color: #008000\">strength, David and Charlie led the villagers back home, their hearts filled with hope, knowing that together they </span>\n",
       "<span style=\"color: #008000; text-decoration-color: #008000\">could overcome any darkness that threatened their land.As the villagers danced beneath the rain of golden feathers,</span>\n",
       "<span style=\"color: #008000; text-decoration-color: #008000\">laughter mingled with the melody of the spirits. David and Charlie stood at the center, their bond stronger than </span>\n",
       "<span style=\"color: #008000; text-decoration-color: #008000\">ever, knowing that this moment marked the dawn of a new era filled with wonder and magic for their beloved </span>\n",
       "<span style=\"color: #008000; text-decoration-color: #008000\">village.As the sun dipped below the horizon, painting the sky with hues of orange and pink, David and Charlie </span>\n",
       "<span style=\"color: #008000; text-decoration-color: #008000\">exchanged a knowing smile, their adventure forever engraved in the hearts of their villagers. They understood that </span>\n",
       "<span style=\"color: #008000; text-decoration-color: #008000\">the true treasure was not gold or jewels, but the spirit of unity and courage they had forged together. From that </span>\n",
       "<span style=\"color: #008000; text-decoration-color: #008000\">day on, the village thrived, and the tales of their journey spread far and wide, inspiring others to seek their own</span>\n",
       "<span style=\"color: #008000; text-decoration-color: #008000\">adventures filled with friendship and hope.'</span>,\n",
       "    <span style=\"color: #008000; text-decoration-color: #008000\">'introduced_characters'</span>: <span style=\"font-weight: bold\">[</span><span style=\"color: #008000; text-decoration-color: #008000\">'David'</span>, <span style=\"color: #008000; text-decoration-color: #008000\">'Charlie'</span><span style=\"font-weight: bold\">]</span>,\n",
       "    <span style=\"color: #008000; text-decoration-color: #008000\">'remaining_characters'</span>: <span style=\"font-weight: bold\">[</span><span style=\"color: #008000; text-decoration-color: #008000\">'Alice'</span>, <span style=\"color: #008000; text-decoration-color: #008000\">'Bob'</span>, <span style=\"color: #008000; text-decoration-color: #008000\">'Eve'</span><span style=\"font-weight: bold\">]</span>,\n",
       "    <span style=\"color: #008000; text-decoration-color: #008000\">'final_action'</span>: <span style=\"font-weight: bold\">[</span>\n",
       "        <span style=\"color: #800080; text-decoration-color: #800080; font-weight: bold\">Action</span><span style=\"font-weight: bold\">(</span>\n",
       "            <span style=\"color: #808000; text-decoration-color: #808000\">type</span>=<span style=\"color: #008000; text-decoration-color: #008000\">'introduce character'</span>,\n",
       "            <span style=\"color: #808000; text-decoration-color: #808000\">action_description</span>=<span style=\"color: #008000; text-decoration-color: #008000\">'Introduce a mysterious traveler who arrives in the village, bringing tales of </span>\n",
       "<span style=\"color: #008000; text-decoration-color: #008000\">adventure and magic from distant lands.'</span>\n",
       "        <span style=\"font-weight: bold\">)</span>,\n",
       "        <span style=\"color: #800080; text-decoration-color: #800080; font-weight: bold\">Action</span><span style=\"font-weight: bold\">(</span>\n",
       "            <span style=\"color: #808000; text-decoration-color: #808000\">type</span>=<span style=\"color: #008000; text-decoration-color: #008000\">'introduce character'</span>,\n",
       "            <span style=\"color: #808000; text-decoration-color: #808000\">action_description</span>=<span style=\"color: #008000; text-decoration-color: #008000\">\"As David prepares to embark on the treasure hunt, a mysterious old woman appears at</span>\n",
       "<span style=\"color: #008000; text-decoration-color: #008000\">the edge of the forest, claiming to be a guardian of the map. She offers to guide them in exchange for a promise to</span>\n",
       "<span style=\"color: #008000; text-decoration-color: #008000\">uphold the forest's ancient magic.\"</span>\n",
       "        <span style=\"font-weight: bold\">)</span>,\n",
       "        <span style=\"color: #800080; text-decoration-color: #800080; font-weight: bold\">Action</span><span style=\"font-weight: bold\">(</span>\n",
       "            <span style=\"color: #808000; text-decoration-color: #808000\">type</span>=<span style=\"color: #008000; text-decoration-color: #008000\">'make it magical'</span>,\n",
       "            <span style=\"color: #808000; text-decoration-color: #808000\">action_description</span>=<span style=\"color: #008000; text-decoration-color: #008000\">'As they decode the next riddle, the forest around them begins to shimmer with </span>\n",
       "<span style=\"color: #008000; text-decoration-color: #008000\">golden light. Suddenly, the trees grow animated, their branches dancing gracefully, revealing hidden pathways that </span>\n",
       "<span style=\"color: #008000; text-decoration-color: #008000\">lead deeper into the enchanted woods, while the whispers of ancient spirits guide them with gentle encouragement.'</span>\n",
       "        <span style=\"font-weight: bold\">)</span>,\n",
       "        <span style=\"color: #800080; text-decoration-color: #800080; font-weight: bold\">Action</span><span style=\"font-weight: bold\">(</span>\n",
       "            <span style=\"color: #808000; text-decoration-color: #808000\">type</span>=<span style=\"color: #008000; text-decoration-color: #008000\">'make it magical'</span>,\n",
       "            <span style=\"color: #808000; text-decoration-color: #808000\">action_description</span>=<span style=\"color: #008000; text-decoration-color: #008000\">'As David and Charlie kneel before the blossoms, the flowers suddenly bloom wide </span>\n",
       "<span style=\"color: #008000; text-decoration-color: #008000\">open, revealing not just gold and jewels but also a guardian spirit of the forest. Her ethereal presence fills the </span>\n",
       "<span style=\"color: #008000; text-decoration-color: #008000\">air with a warm glow as she speaks in a melodious voice, explaining that the true treasure is not the riches, but </span>\n",
       "<span style=\"color: #008000; text-decoration-color: #008000\">the power of unity and courage that they showed while searching for it. Enchanted by her words, the villagers feel </span>\n",
       "<span style=\"color: #008000; text-decoration-color: #008000\">a surge of energy, as the spirit gifts them with protective magic to ward off the impending doom.'</span>\n",
       "        <span style=\"font-weight: bold\">)</span>,\n",
       "        <span style=\"color: #800080; text-decoration-color: #800080; font-weight: bold\">Action</span><span style=\"font-weight: bold\">(</span>\n",
       "            <span style=\"color: #808000; text-decoration-color: #808000\">type</span>=<span style=\"color: #008000; text-decoration-color: #008000\">'make it magical'</span>,\n",
       "            <span style=\"color: #808000; text-decoration-color: #808000\">action_description</span>=<span style=\"color: #008000; text-decoration-color: #008000\">'As they returned to the village, the protective shield began to shimmer and pulse </span>\n",
       "<span style=\"color: #008000; text-decoration-color: #008000\">in time with their heartbeats. Suddenly, the village folklore came to life as mythical creatures appeared around </span>\n",
       "<span style=\"color: #008000; text-decoration-color: #008000\">them, celebrating their victory. A giant shimmering phoenix soared overhead, showering the village with golden </span>\n",
       "<span style=\"color: #008000; text-decoration-color: #008000\">feathers that ignited joy and prosperity in the hearts of all who caught them.'</span>\n",
       "        <span style=\"font-weight: bold\">)</span>\n",
       "    <span style=\"font-weight: bold\">]</span>\n",
       "<span style=\"font-weight: bold\">}</span>\n",
       "</pre>\n"
      ],
      "text/plain": [
       "\u001b[1m{\u001b[0m\n",
       "    \u001b[32m'final_story'\u001b[0m: \u001b[32m'Once upon a time, in a faraway land One day, while exploring the depths of a misty forest, \u001b[0m\n",
       "\u001b[32mDavid stumbled upon an ancient map carved onto a stone tablet, detailing a hidden treasure that could save his \u001b[0m\n",
       "\u001b[32mvillage from impending doom. Determined to follow its cryptic clues, he rallied his fellow villagers, igniting a \u001b[0m\n",
       "\u001b[32mspark of hope in their hearts.Together, David and Charlie set off deeper into the forest, the ancient map clutched \u001b[0m\n",
       "\u001b[32mtightly in David’s hands. With each riddle they faced, Charlie’s infectious laughter echoed through the trees, \u001b[0m\n",
       "\u001b[32mreminding everyone that no challenge was too great with friendship and courage at their side.Emboldened by the \u001b[0m\n",
       "\u001b[32mmagic that surrounded them, David and Charlie stepped forward, following the dancing branches. The spirits’ \u001b[0m\n",
       "\u001b[32mwhispers grew clearer, leading them to a magnificent clearing where the treasure lay hidden beneath a blossom of \u001b[0m\n",
       "\u001b[32mshimmering flowers, radiating a light brighter than the sun.As the guardian spirit bestowed her magic upon them, \u001b[0m\n",
       "\u001b[32mthe flowers pulsed with vibrant energy, casting a protective shield over the village. United by their newfound \u001b[0m\n",
       "\u001b[32mstrength, David and Charlie led the villagers back home, their hearts filled with hope, knowing that together they \u001b[0m\n",
       "\u001b[32mcould overcome any darkness that threatened their land.As the villagers danced beneath the rain of golden feathers,\u001b[0m\n",
       "\u001b[32mlaughter mingled with the melody of the spirits. David and Charlie stood at the center, their bond stronger than \u001b[0m\n",
       "\u001b[32mever, knowing that this moment marked the dawn of a new era filled with wonder and magic for their beloved \u001b[0m\n",
       "\u001b[32mvillage.As the sun dipped below the horizon, painting the sky with hues of orange and pink, David and Charlie \u001b[0m\n",
       "\u001b[32mexchanged a knowing smile, their adventure forever engraved in the hearts of their villagers. They understood that \u001b[0m\n",
       "\u001b[32mthe true treasure was not gold or jewels, but the spirit of unity and courage they had forged together. From that \u001b[0m\n",
       "\u001b[32mday on, the village thrived, and the tales of their journey spread far and wide, inspiring others to seek their own\u001b[0m\n",
       "\u001b[32madventures filled with friendship and hope.'\u001b[0m,\n",
       "    \u001b[32m'introduced_characters'\u001b[0m: \u001b[1m[\u001b[0m\u001b[32m'David'\u001b[0m, \u001b[32m'Charlie'\u001b[0m\u001b[1m]\u001b[0m,\n",
       "    \u001b[32m'remaining_characters'\u001b[0m: \u001b[1m[\u001b[0m\u001b[32m'Alice'\u001b[0m, \u001b[32m'Bob'\u001b[0m, \u001b[32m'Eve'\u001b[0m\u001b[1m]\u001b[0m,\n",
       "    \u001b[32m'final_action'\u001b[0m: \u001b[1m[\u001b[0m\n",
       "        \u001b[1;35mAction\u001b[0m\u001b[1m(\u001b[0m\n",
       "            \u001b[33mtype\u001b[0m=\u001b[32m'introduce character'\u001b[0m,\n",
       "            \u001b[33maction_description\u001b[0m=\u001b[32m'Introduce a mysterious traveler who arrives in the village, bringing tales of \u001b[0m\n",
       "\u001b[32madventure and magic from distant lands.'\u001b[0m\n",
       "        \u001b[1m)\u001b[0m,\n",
       "        \u001b[1;35mAction\u001b[0m\u001b[1m(\u001b[0m\n",
       "            \u001b[33mtype\u001b[0m=\u001b[32m'introduce character'\u001b[0m,\n",
       "            \u001b[33maction_description\u001b[0m=\u001b[32m\"As\u001b[0m\u001b[32m David prepares to embark on the treasure hunt, a mysterious old woman appears at\u001b[0m\n",
       "\u001b[32mthe edge of the forest, claiming to be a guardian of the map. She offers to guide them in exchange for a promise to\u001b[0m\n",
       "\u001b[32muphold the forest's ancient magic.\"\u001b[0m\n",
       "        \u001b[1m)\u001b[0m,\n",
       "        \u001b[1;35mAction\u001b[0m\u001b[1m(\u001b[0m\n",
       "            \u001b[33mtype\u001b[0m=\u001b[32m'make it magical'\u001b[0m,\n",
       "            \u001b[33maction_description\u001b[0m=\u001b[32m'As they decode the next riddle, the forest around them begins to shimmer with \u001b[0m\n",
       "\u001b[32mgolden light. Suddenly, the trees grow animated, their branches dancing gracefully, revealing hidden pathways that \u001b[0m\n",
       "\u001b[32mlead deeper into the enchanted woods, while the whispers of ancient spirits guide them with gentle encouragement.'\u001b[0m\n",
       "        \u001b[1m)\u001b[0m,\n",
       "        \u001b[1;35mAction\u001b[0m\u001b[1m(\u001b[0m\n",
       "            \u001b[33mtype\u001b[0m=\u001b[32m'make it magical'\u001b[0m,\n",
       "            \u001b[33maction_description\u001b[0m=\u001b[32m'As David and Charlie kneel before the blossoms, the flowers suddenly bloom wide \u001b[0m\n",
       "\u001b[32mopen, revealing not just gold and jewels but also a guardian spirit of the forest. Her ethereal presence fills the \u001b[0m\n",
       "\u001b[32mair with a warm glow as she speaks in a melodious voice, explaining that the true treasure is not the riches, but \u001b[0m\n",
       "\u001b[32mthe power of unity and courage that they showed while searching for it. Enchanted by her words, the villagers feel \u001b[0m\n",
       "\u001b[32ma surge of energy, as the spirit gifts them with protective magic to ward off the impending doom.'\u001b[0m\n",
       "        \u001b[1m)\u001b[0m,\n",
       "        \u001b[1;35mAction\u001b[0m\u001b[1m(\u001b[0m\n",
       "            \u001b[33mtype\u001b[0m=\u001b[32m'make it magical'\u001b[0m,\n",
       "            \u001b[33maction_description\u001b[0m=\u001b[32m'As they returned to the village, the protective shield began to shimmer and pulse \u001b[0m\n",
       "\u001b[32min time with their heartbeats. Suddenly, the village folklore came to life as mythical creatures appeared around \u001b[0m\n",
       "\u001b[32mthem, celebrating their victory. A giant shimmering phoenix soared overhead, showering the village with golden \u001b[0m\n",
       "\u001b[32mfeathers that ignited joy and prosperity in the hearts of all who caught them.'\u001b[0m\n",
       "        \u001b[1m)\u001b[0m\n",
       "    \u001b[1m]\u001b[0m\n",
       "\u001b[1m}\u001b[0m\n"
      ]
     },
     "metadata": {},
     "output_type": "display_data"
    }
   ],
   "source": [
    "from rich import print\n",
    "\n",
    "start=\"Once upon a time, in a faraway land \"\n",
    "characters=[\"Alice\", \"Bob\", \"Charlie\", \"David\", \"Eve\"]\n",
    "action=['add happy emotion', 'add sad emotion', 'add twist','make it magical','add fight']\n",
    "n=6\n",
    "\n",
    "story=story_builder(start, characters,actions=action, n=n)\n",
    "\n",
    "print(story)"
   ]
  },
  {
   "cell_type": "code",
   "execution_count": null,
   "metadata": {},
   "outputs": [
    {
     "data": {
      "text/html": [
       "<pre style=\"white-space:pre;overflow-x:auto;line-height:normal;font-family:Menlo,'DejaVu Sans Mono',consolas,'Courier New',monospace\"><span style=\"font-style: italic\">                                   MultiAgent Session Runs in Project: Default Project                                    </span>\n",
       "                                                                                                                          \n",
       " <span style=\"font-weight: bold\"> Session ID                           </span> <span style=\"font-weight: bold\">  MultiAgent   </span> <span style=\"font-weight: bold\"> Reasoner Calls       </span> <span style=\"font-weight: bold\">  Start Date &amp; Time  </span> <span style=\"font-weight: bold\"> Total Duration (s) </span> \n",
       " ──────────────────────────────────────────────────────────────────────────────────────────────────────────────────────── \n",
       "  c6e68a09-764d-4598-9adf-2cf4900431fb   Story Builder   action_extender        2024-12-03 03:52:22         15.35         \n",
       "                                                         (0.79s) →                                                        \n",
       "                                                         character_describer                                              \n",
       "                                                         (1.45s) →                                                        \n",
       "                                                         story_extender                                                   \n",
       "                                                         (0.89s) →                                                        \n",
       "                                                         action_extender                                                  \n",
       "                                                         (1.63s) →                                                        \n",
       "                                                         character_describer                                              \n",
       "                                                         (1.63s) →                                                        \n",
       "                                                         story_extender                                                   \n",
       "                                                         (1.24s) →                                                        \n",
       "                                                         action_extender                                                  \n",
       "                                                         (1.21s) →                                                        \n",
       "                                                         story_extender                                                   \n",
       "                                                         (1.03s) →                                                        \n",
       "                                                         action_extender                                                  \n",
       "                                                         (1.31s) →                                                        \n",
       "                                                         story_extender                                                   \n",
       "                                                         (0.92s) →                                                        \n",
       "                                                         action_extender                                                  \n",
       "                                                         (1.12s) →                                                        \n",
       "                                                         story_extender                                                   \n",
       "                                                         (0.82s) →                                                        \n",
       "                                                         story_extender                                                   \n",
       "                                                         (1.29s)                                                          \n",
       "                                                                                                                          \n",
       "</pre>\n"
      ],
      "text/plain": [
       "\u001b[3m                                   MultiAgent Session Runs in Project: Default Project                                    \u001b[0m\n",
       "                                                                                                                          \n",
       " \u001b[1m \u001b[0m\u001b[1mSession ID                          \u001b[0m\u001b[1m \u001b[0m \u001b[1m \u001b[0m\u001b[1m MultiAgent  \u001b[0m\u001b[1m \u001b[0m \u001b[1m \u001b[0m\u001b[1mReasoner Calls      \u001b[0m\u001b[1m \u001b[0m \u001b[1m \u001b[0m\u001b[1m Start Date & Time \u001b[0m\u001b[1m \u001b[0m \u001b[1m \u001b[0m\u001b[1mTotal Duration (s)\u001b[0m\u001b[1m \u001b[0m \n",
       " ──────────────────────────────────────────────────────────────────────────────────────────────────────────────────────── \n",
       "  c6e68a09-764d-4598-9adf-2cf4900431fb   Story Builder   action_extender        2024-12-03 03:52:22         15.35         \n",
       "                                                         (0.79s) →                                                        \n",
       "                                                         character_describer                                              \n",
       "                                                         (1.45s) →                                                        \n",
       "                                                         story_extender                                                   \n",
       "                                                         (0.89s) →                                                        \n",
       "                                                         action_extender                                                  \n",
       "                                                         (1.63s) →                                                        \n",
       "                                                         character_describer                                              \n",
       "                                                         (1.63s) →                                                        \n",
       "                                                         story_extender                                                   \n",
       "                                                         (1.24s) →                                                        \n",
       "                                                         action_extender                                                  \n",
       "                                                         (1.21s) →                                                        \n",
       "                                                         story_extender                                                   \n",
       "                                                         (1.03s) →                                                        \n",
       "                                                         action_extender                                                  \n",
       "                                                         (1.31s) →                                                        \n",
       "                                                         story_extender                                                   \n",
       "                                                         (0.92s) →                                                        \n",
       "                                                         action_extender                                                  \n",
       "                                                         (1.12s) →                                                        \n",
       "                                                         story_extender                                                   \n",
       "                                                         (0.82s) →                                                        \n",
       "                                                         story_extender                                                   \n",
       "                                                         (1.29s)                                                          \n",
       "                                                                                                                          \n"
      ]
     },
     "metadata": {},
     "output_type": "display_data"
    }
   ],
   "source": [
    "runs=brain.list_runs(return_data=True)"
   ]
  },
  {
   "cell_type": "code",
   "execution_count": null,
   "metadata": {},
   "outputs": [
    {
     "data": {
      "image/png": "[encoded data removed]",
      "text/plain": [
       "<Figure size 1400x500 with 1 Axes>"
      ]
     },
     "metadata": {},
     "output_type": "display_data"
    }
   ],
   "source": [
    "from brain.visualize import plot_workflow_matplotlib\n",
    "\n",
    "lineage=brain.get_call_graph(runs[0]['session_id'])\n",
    "fig=plot_workflow_matplotlib(lineage['lineage'])"
   ]
  },
  {
   "cell_type": "markdown",
   "metadata": {},
   "source": [
    "## Modifiers\n",
    "\n",
    "- Modifiers are objects that can be passed to modify the runtime behavior of the reasoner.\n",
    "- Passed as keyword arguments when using the reasoner.\n",
    "- Custom modifiers can be defined by inheriting from the `ModifierBase` class.\n",
    "- Built-in modifiers include reasoning enhancers like CoT/IoT, guardrails, transformations, etc."
   ]
  },
  {
   "cell_type": "code",
   "execution_count": null,
   "metadata": {},
   "outputs": [
    {
     "data": {
      "text/html": [
       "<pre style=\"white-space:pre;overflow-x:auto;line-height:normal;font-family:Menlo,'DejaVu Sans Mono',consolas,'Courier New',monospace\">Question: How many R's are there in the word <span style=\"color: #008000; text-decoration-color: #008000\">'STRAWBERRY'</span>?\n",
       "\n",
       "Answers without modifier : <span style=\"font-weight: bold\">[</span><span style=\"color: #008000; text-decoration-color: #008000\">'2'</span>, <span style=\"color: #008000; text-decoration-color: #008000\">'2'</span>, <span style=\"color: #008000; text-decoration-color: #008000\">'2'</span>, <span style=\"color: #008000; text-decoration-color: #008000\">'2'</span>, <span style=\"color: #008000; text-decoration-color: #008000\">'2'</span><span style=\"font-weight: bold\">]</span>\n",
       "Answers with CoT modifier: <span style=\"font-weight: bold\">[</span><span style=\"color: #008000; text-decoration-color: #008000\">'3'</span>, <span style=\"color: #008000; text-decoration-color: #008000\">'3'</span>, <span style=\"color: #008000; text-decoration-color: #008000\">'2'</span>, <span style=\"color: #008000; text-decoration-color: #008000\">'3'</span>, <span style=\"color: #008000; text-decoration-color: #008000\">'3'</span><span style=\"font-weight: bold\">]</span>\n",
       "</pre>\n"
      ],
      "text/plain": [
       "Question: How many R's are there in the word \u001b[32m'STRAWBERRY'\u001b[0m?\n",
       "\n",
       "Answers without modifier : \u001b[1m[\u001b[0m\u001b[32m'2'\u001b[0m, \u001b[32m'2'\u001b[0m, \u001b[32m'2'\u001b[0m, \u001b[32m'2'\u001b[0m, \u001b[32m'2'\u001b[0m\u001b[1m]\u001b[0m\n",
       "Answers with CoT modifier: \u001b[1m[\u001b[0m\u001b[32m'3'\u001b[0m, \u001b[32m'3'\u001b[0m, \u001b[32m'2'\u001b[0m, \u001b[32m'3'\u001b[0m, \u001b[32m'3'\u001b[0m\u001b[1m]\u001b[0m\n"
      ]
     },
     "metadata": {},
     "output_type": "display_data"
    }
   ],
   "source": [
    "from brain.modifiers import COT as ChainOfThought\n",
    "\n",
    "question = \"How many R's are there in the word 'STRAWBERRY'?\"\n",
    "    \n",
    "fut=[]\n",
    "for _ in range(5):\n",
    "    fut.append(brain.use(sample_reasoner.id,run_async=True)(\n",
    "        system_prompt=\"You are an expert letter counter, answer this question\",\n",
    "        user_prompt=question,\n",
    "    ))\n",
    "answer_wo_mod = [f.result().answer for f in fut]\n",
    "    \n",
    "fut=[]\n",
    "for _ in range(5):\n",
    "    fut.append(brain.use(sample_reasoner.id,run_async=True,modifier=ChainOfThought())(\n",
    "        system_prompt=\"You are an expert letter counter, answer this question\",\n",
    "        user_prompt=question,\n",
    "    ))\n",
    "answer_w_mod = [f.result().answer for f in fut]\n",
    "\n",
    "print(f\"Question: {question}\\n\\n\"\n",
    "f\"Answers without modifier : {answer_wo_mod}\\n\"\n",
    "f\"Answers with CoT modifier: {answer_w_mod}\")"
   ]
  },
  {
   "cell_type": "code",
   "execution_count": null,
   "metadata": {},
   "outputs": [
    {
     "data": {
      "text/html": [
       "<pre style=\"white-space:pre;overflow-x:auto;line-height:normal;font-family:Menlo,'DejaVu Sans Mono',consolas,'Courier New',monospace\">Once upon a time, in a faraway land Emboldened by the warmth of the villagers' smiles, Bob decided it was time to \n",
       "embark on an adventure with them, promising that together they would face whatever challenges lay ahead.The energy \n",
       "was infectious, and soon Bob found himself swept up in the merriment, twirling with children and singing along with\n",
       "the elders as they prepared for the journey. With hearts united and spirits high, they set off, leaving behind the \n",
       "familiar village and stepping into the embrace of a new adventure.As they ventured deeper into the forest, the air \n",
       "began to shimmer with golden light, and the trees swayed gently, their whispers guiding the villagers towards a \n",
       "hidden path that glowed with ethereal magic. With each step, Bob felt a surge of wonder, sensing that the forest \n",
       "was alive and welcoming them into its enchanted embrace.As the villagers marveled at the fairies' twirls, the air \n",
       "filled with laughter and joy, transforming their adventure into a vibrant celebration. The fairies, sensing their \n",
       "delight, showered them with sparkling dust, creating an aura of shimmering light around the group. With newfound \n",
       "energy and hope, they continued down the path, ready to embrace whatever wonders awaited them in the heart of the \n",
       "enchanted forest.As they stepped into the glade, the villagers gasped in awe at the sight of the luminous flowers \n",
       "swaying rhythmically, their gentle melodies harmonizing with the whispers of the wind. With each note, the flowers \n",
       "seemed to invite them closer, revealing secrets of the forest's magic and encouraging Bob and his friends to dance \n",
       "among them, their laughter intertwining with the enchanting song.As the sun began to set, casting a warm glow over \n",
       "the glade, Bob and the villagers realized they had discovered not only the wonders of the forest but also the magic\n",
       "of their own hearts united in joy. With promises to return, they made their way back home, forever changed by the \n",
       "adventure that had bonded them together in friendship and wonder.\n",
       "</pre>\n"
      ],
      "text/plain": [
       "Once upon a time, in a faraway land Emboldened by the warmth of the villagers' smiles, Bob decided it was time to \n",
       "embark on an adventure with them, promising that together they would face whatever challenges lay ahead.The energy \n",
       "was infectious, and soon Bob found himself swept up in the merriment, twirling with children and singing along with\n",
       "the elders as they prepared for the journey. With hearts united and spirits high, they set off, leaving behind the \n",
       "familiar village and stepping into the embrace of a new adventure.As they ventured deeper into the forest, the air \n",
       "began to shimmer with golden light, and the trees swayed gently, their whispers guiding the villagers towards a \n",
       "hidden path that glowed with ethereal magic. With each step, Bob felt a surge of wonder, sensing that the forest \n",
       "was alive and welcoming them into its enchanted embrace.As the villagers marveled at the fairies' twirls, the air \n",
       "filled with laughter and joy, transforming their adventure into a vibrant celebration. The fairies, sensing their \n",
       "delight, showered them with sparkling dust, creating an aura of shimmering light around the group. With newfound \n",
       "energy and hope, they continued down the path, ready to embrace whatever wonders awaited them in the heart of the \n",
       "enchanted forest.As they stepped into the glade, the villagers gasped in awe at the sight of the luminous flowers \n",
       "swaying rhythmically, their gentle melodies harmonizing with the whispers of the wind. With each note, the flowers \n",
       "seemed to invite them closer, revealing secrets of the forest's magic and encouraging Bob and his friends to dance \n",
       "among them, their laughter intertwining with the enchanting song.As the sun began to set, casting a warm glow over \n",
       "the glade, Bob and the villagers realized they had discovered not only the wonders of the forest but also the magic\n",
       "of their own hearts united in joy. With promises to return, they made their way back home, forever changed by the \n",
       "adventure that had bonded them together in friendship and wonder.\n"
      ]
     },
     "metadata": {},
     "output_type": "display_data"
    }
   ],
   "source": [
    "from random import choice\n",
    "from typing import List\n",
    "\n",
    "\n",
    "@brain.multi_agent(name=\"Story Builder with COT\", tags=[\"storytelling\", \"quick-start\"])\n",
    "def story_builder_mod(start: str, characters: List[str], actions=List[str], n: int = 5):\n",
    "    \"\"\"\n",
    "    Builds a story iteratively by introducing characters and progressing actions.\n",
    "\n",
    "    Args:\n",
    "        start (str): The starting line of the story.\n",
    "        characters (List[str]): List of character names to introduce dynamically.\n",
    "        n (int): Maximum number of iterations to build the story.\n",
    "\n",
    "    Returns:\n",
    "        dict: The final story, introduced characters, remaining characters, and final action.\n",
    "    \"\"\"\n",
    "    story = start\n",
    "    introduced_characters = []  # Track introduced characters\n",
    "    remaining_characters = characters[:]  # Characters not yet introduced\n",
    "    actions_proposed = []\n",
    "\n",
    "    for _ in range(n - 1):\n",
    "        # Step 1: Determine the next action\n",
    "        # Use Chain of Thought modifier to decide the next action\n",
    "        action = brain.use(action_extender.id,modifier=ChainOfThought(num_steps=2))(story=story, actions=actions)\n",
    "        actions_proposed.append(action)\n",
    "\n",
    "        if action.type == \"introduce character\" and remaining_characters:\n",
    "            # Introduce a random character\n",
    "            character_name = choice(remaining_characters)\n",
    "\n",
    "            remaining_characters.remove(character_name)\n",
    "            character_description = brain.use(character_describer.id)(\n",
    "                name=character_name, story=story\n",
    "            ).description\n",
    "            \n",
    "            # Use Chain of Thought modifier to extend the story\n",
    "            story += brain.use(story_extender.id, modifier=ChainOfThought(num_steps=2))(\n",
    "                story=story,\n",
    "                action=f\"Introduce {character_name}: {character_description}\",\n",
    "            ).story_next_lines\n",
    "            introduced_characters.append(character_name)\n",
    "\n",
    "        else:\n",
    "            story += brain.use(story_extender.id)(\n",
    "                story=story,\n",
    "                action=f\"Type:{action.type} Descprition{action.action_description}\",\n",
    "            ).story_next_lines\n",
    "\n",
    "    # Conclude the story\n",
    "    story += brain.use(story_extender.id)(\n",
    "        story=story, action=\"end_story\"\n",
    "    ).story_next_lines\n",
    "\n",
    "    # Return the final result\n",
    "    return {\n",
    "        \"final_story\": story,\n",
    "        \"introduced_characters\": introduced_characters,\n",
    "        \"remaining_characters\": remaining_characters,\n",
    "        \"final_action\": actions_proposed,\n",
    "    }\n",
    "\n",
    "\n",
    "print(story_builder_mod(start, characters, actions=action, n=n)[\"final_story\"])"
   ]
  },
  {
   "cell_type": "code",
   "execution_count": null,
   "metadata": {},
   "outputs": [
    {
     "data": {
      "image/png": "[encoded data removed]",
      "text/plain": [
       "<Figure size 1400x500 with 1 Axes>"
      ]
     },
     "metadata": {},
     "output_type": "display_data"
    }
   ],
   "source": [
    "runs=brain.list_runs(print_table=False,return_data=True)\n",
    "lineage=brain.get_call_graph(runs[0]['session_id'])\n",
    "fig=plot_workflow_matplotlib(lineage['lineage'])"
   ]
  },
  {
   "cell_type": "code",
   "execution_count": null,
   "metadata": {},
   "outputs": [
    {
     "data": {
      "text/html": [
       "<pre style=\"white-space:pre;overflow-x:auto;line-height:normal;font-family:Menlo,'DejaVu Sans Mono',consolas,'Courier New',monospace\"><span style=\"font-style: italic\">                                  Reasoners in Project: Default Project                                   </span>\n",
       "                                                                                                          \n",
       " <span style=\"font-weight: bold\"> Reasoner            </span> <span style=\"font-weight: bold\"> ID                                   </span> <span style=\"font-weight: bold\"> Tags                </span> <span style=\"font-weight: bold\">     Created At      </span> \n",
       " ──────────────────────────────────────────────────────────────────────────────────────────────────────── \n",
       "  action_extender       0fe5980c-3a42-468f-96b9-29b73ba72c6a                         2024-12-03 03:52:22  \n",
       "                                                                                                          \n",
       "  character_describer   710e98ac-2971-4b5d-8bba-e3acf0ca1386                         2024-12-03 03:52:22  \n",
       "                                                                                                          \n",
       "  story_extender        ea6b3b7f-0e4b-49c4-9178-fefd97502bfd                         2024-12-03 03:52:22  \n",
       "                                                                                                          \n",
       "  Sample Reasoner       1305c165-2c79-463f-943b-37d92acbdd30   sample, quick-start   2024-12-03 03:52:21  \n",
       "                                                                                                          \n",
       "</pre>\n"
      ],
      "text/plain": [
       "\u001b[3m                                  Reasoners in Project: Default Project                                   \u001b[0m\n",
       "                                                                                                          \n",
       " \u001b[1m \u001b[0m\u001b[1mReasoner           \u001b[0m\u001b[1m \u001b[0m \u001b[1m \u001b[0m\u001b[1mID                                  \u001b[0m\u001b[1m \u001b[0m \u001b[1m \u001b[0m\u001b[1mTags               \u001b[0m\u001b[1m \u001b[0m \u001b[1m \u001b[0m\u001b[1m    Created At     \u001b[0m\u001b[1m \u001b[0m \n",
       " ──────────────────────────────────────────────────────────────────────────────────────────────────────── \n",
       "  action_extender       0fe5980c-3a42-468f-96b9-29b73ba72c6a                         2024-12-03 03:52:22  \n",
       "                                                                                                          \n",
       "  character_describer   710e98ac-2971-4b5d-8bba-e3acf0ca1386                         2024-12-03 03:52:22  \n",
       "                                                                                                          \n",
       "  story_extender        ea6b3b7f-0e4b-49c4-9178-fefd97502bfd                         2024-12-03 03:52:22  \n",
       "                                                                                                          \n",
       "  Sample Reasoner       1305c165-2c79-463f-943b-37d92acbdd30   sample, quick-start   2024-12-03 03:52:21  \n",
       "                                                                                                          \n"
      ]
     },
     "metadata": {},
     "output_type": "display_data"
    },
    {
     "data": {
      "text/html": [
       "<pre style=\"white-space:pre;overflow-x:auto;line-height:normal;font-family:Menlo,'DejaVu Sans Mono',consolas,'Courier New',monospace\"><span style=\"font-style: italic\">                                   MultiAgents in Project: Default Project                                    </span>\n",
       "                                                                                                              \n",
       " <span style=\"font-weight: bold\"> MultiAgent             </span> <span style=\"font-weight: bold\"> ID                                   </span> <span style=\"font-weight: bold\"> Tags                 </span> <span style=\"font-weight: bold\">     Created At      </span> \n",
       " ──────────────────────────────────────────────────────────────────────────────────────────────────────────── \n",
       "  Story Builder with COT   c5aa6347-e735-4637-8553-61746fb90bd4   storytelling,          2024-12-03 03:52:40  \n",
       "                                                                  quick-start                                 \n",
       "                                                                                                              \n",
       "  Story Builder            b0c9f361-472d-46bc-a95a-813c4a09126f   storytelling,          2024-12-03 03:52:22  \n",
       "                                                                  quick-start                                 \n",
       "                                                                                                              \n",
       "</pre>\n"
      ],
      "text/plain": [
       "\u001b[3m                                   MultiAgents in Project: Default Project                                    \u001b[0m\n",
       "                                                                                                              \n",
       " \u001b[1m \u001b[0m\u001b[1mMultiAgent            \u001b[0m\u001b[1m \u001b[0m \u001b[1m \u001b[0m\u001b[1mID                                  \u001b[0m\u001b[1m \u001b[0m \u001b[1m \u001b[0m\u001b[1mTags                \u001b[0m\u001b[1m \u001b[0m \u001b[1m \u001b[0m\u001b[1m    Created At     \u001b[0m\u001b[1m \u001b[0m \n",
       " ──────────────────────────────────────────────────────────────────────────────────────────────────────────── \n",
       "  Story Builder with COT   c5aa6347-e735-4637-8553-61746fb90bd4   storytelling,          2024-12-03 03:52:40  \n",
       "                                                                  quick-start                                 \n",
       "                                                                                                              \n",
       "  Story Builder            b0c9f361-472d-46bc-a95a-813c4a09126f   storytelling,          2024-12-03 03:52:22  \n",
       "                                                                  quick-start                                 \n",
       "                                                                                                              \n"
      ]
     },
     "metadata": {},
     "output_type": "display_data"
    }
   ],
   "source": [
    "brain.list_reasoners()\n",
    "brain.list_multiagents()"
   ]
  }
 ],
 "metadata": {
  "kernelspec": {
   "display_name": "Python 3",
   "language": "python",
   "name": "python3"
  },
  "language_info": {
   "codemirror_mode": {
    "name": "ipython",
    "version": 3
   },
   "file_extension": ".py",
   "mimetype": "text/x-python",
   "name": "python",
   "nbconvert_exporter": "python",
   "pygments_lexer": "ipython3",
   "version": "3.10.15"
  }
 },
 "nbformat": 4,
 "nbformat_minor": 2
}
