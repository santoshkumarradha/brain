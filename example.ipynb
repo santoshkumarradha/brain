{
 "cells": [
  {
   "cell_type": "code",
   "execution_count": 1,
   "metadata": {},
   "outputs": [],
   "source": [
    "import sys; sys.path.append('..')\n",
    "from about_time import about_time  # ❯ pip install about-time\n",
    "\n",
    "from brain.sdk import BrainClient"
   ]
  },
  {
   "cell_type": "code",
   "execution_count": 2,
   "metadata": {},
   "outputs": [],
   "source": [
    "brain = BrainClient(\"http://127.0.0.1:8000\")"
   ]
  },
  {
   "cell_type": "markdown",
   "metadata": {},
   "source": [
    "# Basic Usage\n",
    "\n",
    "**Reasoner** \n",
    "- Systems that analyze input and provide meaningful output.\n",
    "- Use the `@reasoner` decorator on a Python function that returns a system prompt and user prompt.\n",
    "- Responses are formatted according to the attached schema."
   ]
  },
  {
   "cell_type": "code",
   "execution_count": 3,
   "metadata": {},
   "outputs": [
    {
     "data": {
      "text/html": [
       "<pre style=\"white-space:pre;overflow-x:auto;line-height:normal;font-family:Menlo,'DejaVu Sans Mono',consolas,'Courier New',monospace\"><span style=\"font-style: italic\">                                Reasoners in Project: Default Project                                 </span>\n",
       "                                                                                                      \n",
       " <span style=\"font-weight: bold\"> Reasoner        </span> <span style=\"font-weight: bold\"> ID                                   </span> <span style=\"font-weight: bold\"> Tags                </span> <span style=\"font-weight: bold\">     Created At      </span> \n",
       " ──────────────────────────────────────────────────────────────────────────────────────────────────── \n",
       "  Sample Reasoner   778e682c-1653-4bd2-854a-eb9d844e57f5   sample, quick-start   2024-12-03 03:14:53  \n",
       "                                                                                                      \n",
       "  foo               f7132eac-27eb-40f0-bae5-90a89d81aac6                         2024-12-03 03:14:50  \n",
       "                                                                                                      \n",
       "  foo               72b046bd-8053-4dc9-833e-380ea3928597                         2024-12-03 03:14:50  \n",
       "                                                                                                      \n",
       "  foo               1049fa58-a281-42f5-91f8-48af2bcbf135                         2024-12-03 03:14:47  \n",
       "                                                                                                      \n",
       "  foo               d6290189-d78d-40b1-9335-33289ed7569b                         2024-12-03 03:14:47  \n",
       "                                                                                                      \n",
       "</pre>\n"
      ],
      "text/plain": [
       "\u001b[3m                                Reasoners in Project: Default Project                                 \u001b[0m\n",
       "                                                                                                      \n",
       " \u001b[1m \u001b[0m\u001b[1mReasoner       \u001b[0m\u001b[1m \u001b[0m \u001b[1m \u001b[0m\u001b[1mID                                  \u001b[0m\u001b[1m \u001b[0m \u001b[1m \u001b[0m\u001b[1mTags               \u001b[0m\u001b[1m \u001b[0m \u001b[1m \u001b[0m\u001b[1m    Created At     \u001b[0m\u001b[1m \u001b[0m \n",
       " ──────────────────────────────────────────────────────────────────────────────────────────────────── \n",
       "  Sample Reasoner   778e682c-1653-4bd2-854a-eb9d844e57f5   sample, quick-start   2024-12-03 03:14:53  \n",
       "                                                                                                      \n",
       "  foo               f7132eac-27eb-40f0-bae5-90a89d81aac6                         2024-12-03 03:14:50  \n",
       "                                                                                                      \n",
       "  foo               72b046bd-8053-4dc9-833e-380ea3928597                         2024-12-03 03:14:50  \n",
       "                                                                                                      \n",
       "  foo               1049fa58-a281-42f5-91f8-48af2bcbf135                         2024-12-03 03:14:47  \n",
       "                                                                                                      \n",
       "  foo               d6290189-d78d-40b1-9335-33289ed7569b                         2024-12-03 03:14:47  \n",
       "                                                                                                      \n"
      ]
     },
     "metadata": {},
     "output_type": "display_data"
    }
   ],
   "source": [
    "from pydantic import BaseModel, Field\n",
    "\n",
    "\n",
    "class AnswerSchema(BaseModel):\n",
    "    answer:str\n",
    "    explanation:str\n",
    "\n",
    "\n",
    "# Attach tags or pass optional name to the reasoner\n",
    "@brain.reasoner(name=\"Sample Reasoner\",schema=AnswerSchema,tags=[\"sample\",\"quick-start\"])\n",
    "def sample_reasoner(system_prompt, user_prompt):\n",
    "    return dict(system_prompt=system_prompt, user_prompt=user_prompt)\n",
    "\n",
    "brain.list_reasoners()"
   ]
  },
  {
   "cell_type": "markdown",
   "metadata": {},
   "source": [
    "We run the reasoner via their ID, this is so that we can swap out the implementation of the reasoner without changing the code that uses it in real-time."
   ]
  },
  {
   "cell_type": "code",
   "execution_count": 4,
   "metadata": {},
   "outputs": [
    {
     "name": "stdout",
     "output_type": "stream",
     "text": [
      "\u001b[4m1 synchronous call\u001b[0m\n",
      "Time Taken: 818.1ms\n",
      "Answer: answer='2' explanation=\"The word 'STRAWBERRY' contains two instances of the letter 'R'.\"\n",
      "\n",
      "--------------------------------------------------\n",
      "\n",
      "\u001b[4m5 asynchronous calls\u001b[0m\n",
      "Total Time Taken for 5 async calls: 680.6ms\n",
      "1. Answer: answer='2' explanation=\"The word 'STRAWBERRY' contains two instances of the letter 'R'.\"\n",
      "2. Answer: answer='2' explanation=\"The word 'STRAWBERRY' contains two occurrences of the letter 'R'.\"\n",
      "3. Answer: answer='2' explanation=\"In the word 'STRAWBERRY', there are two occurrences of the letter 'R'.\"\n",
      "4. Answer: answer='2' explanation=\"The word 'STRAWBERRY' contains two 'R's. They appear as the fifth and sixth letters in the word.\"\n",
      "5. Answer: answer='2' explanation=\"The word 'STRAWBERRY' contains two occurrences of the letter 'R'.\"\n"
     ]
    }
   ],
   "source": [
    "question = \"How many R's are there in the word 'STRAWBERRY'?\"\n",
    "\n",
    "with about_time() as t_sync:\n",
    "    answer_sync = brain.use(sample_reasoner.id)(\n",
    "        system_prompt=\"You are an expert letter counter, answer this question\",\n",
    "        user_prompt=question,\n",
    "    )\n",
    "    \n",
    "with about_time() as t_async:\n",
    "    fut=[]\n",
    "    for _ in range(5):\n",
    "        fut.append(brain.use(sample_reasoner.id,run_async=True)(\n",
    "            system_prompt=\"You are an expert letter counter, answer this question\",\n",
    "            user_prompt=question,\n",
    "        ))\n",
    "    answer_async = [f.result() for f in fut]\n",
    "    \n",
    "\n",
    "print(\"\\033[4m1 synchronous call\\033[0m\")\n",
    "print(f\"Time Taken: {t_sync.duration_human}\")\n",
    "print(f\"Answer: {answer_sync}\")\n",
    "print(\"\\n\" + \"-\" * 50 + \"\\n\")\n",
    "print(\"\\033[4m5 asynchronous calls\\033[0m\")\n",
    "print(f\"Total Time Taken for 5 async calls: {t_async.duration_human}\")\n",
    "for idx, ans in enumerate(answer_async, start=1):\n",
    "    print(f\"{idx}. Answer: {ans}\")"
   ]
  },
  {
   "cell_type": "markdown",
   "metadata": {},
   "source": [
    "## Multiagents\n",
    "\n",
    "- Encapsulate multiple reasoners.\n",
    "- Combine outputs of multiple reasoners into a single workflow.\n",
    "- Do not have a schema.\n",
    "- Decorated with the `@multi_agent` decorator.\n",
    "- Define complex units of work requiring multiple specialized reasoners.\n",
    "\n",
    "### The story writer"
   ]
  },
  {
   "cell_type": "code",
   "execution_count": 11,
   "metadata": {},
   "outputs": [],
   "source": [
    "from typing import List\n",
    "\n",
    "from pydantic import BaseModel, Field\n",
    "\n",
    "\n",
    "# Define schemas for reasoners\n",
    "class Story(BaseModel):\n",
    "    story_next_lines: str = Field(..., description=\"Continuation of the story. Do not repeat the story in the prompt, just provide the continuation.\")\n",
    "\n",
    "class Character(BaseModel):\n",
    "    name: str = Field(..., description=\"The name of the character.\")\n",
    "    description: str = Field(..., description=\"The detailed description of the character and their role in the story.\")\n",
    "\n",
    "class Action(BaseModel):\n",
    "    type: str = Field(..., description=f\"The type of action to take. One of given actions.\")\n",
    "    action_description: str = Field(..., description=\"suggested continuation or action for the story.\")\n",
    "\n",
    "# Define reasoners\n",
    "@brain.reasoner(schema=Story)\n",
    "def story_extender(story: str, action: str):\n",
    "    \"\"\"Extends the story based on the provided action.\"\"\"\n",
    "    system_prompt = \"You are a skilled storyteller.\"\n",
    "    user_prompt = (\n",
    "        f\"The current story is:\\n{story}\\n\"\n",
    "        f\"Based on the action '{action}', give a short (~1-3 lines) continuation to the story. If the action is 'end_story', conclude the story gracefully.\"\n",
    "    )\n",
    "    return user_prompt, system_prompt\n",
    "\n",
    "@brain.reasoner(schema=Character)\n",
    "def character_describer(name: str, story: str):\n",
    "    \"\"\"Introduces a character based on the current story context.\"\"\"\n",
    "    system_prompt = \"You are a creative writer.\"\n",
    "    user_prompt = (\n",
    "        f\"The current story is:\\n{story}\\n\"\n",
    "        f\"Introduce the character named {name} into the story. Use their personality and traits to make their role meaningful.\"\n",
    "    )\n",
    "    return user_prompt, system_prompt\n",
    "\n",
    "@brain.reasoner(schema=Action)\n",
    "def action_extender(story: str, actions: List[str]):\n",
    "    \"\"\"Suggests the next action for the story.\"\"\"\n",
    "    system_prompt = \"You are a narrative strategist.\"\n",
    "    user_prompt = (\n",
    "        f\"The current story is:\\n{story}\\n\"\n",
    "        f\"Suggest the next action for the story.Based on existing story, choose one of the following that would be the best next step\"\n",
    "        f\"\\nActions:{actions+['introduce character']}.\"\n",
    "        \"Clearly state the action type and provide the next_action description.\"\n",
    "    )\n",
    "    return user_prompt, system_prompt"
   ]
  },
  {
   "cell_type": "markdown",
   "metadata": {},
   "source": [
    "Let's define the multiagent that will use all these reasoners above to generate an interesting story"
   ]
  },
  {
   "cell_type": "code",
   "execution_count": 12,
   "metadata": {},
   "outputs": [],
   "source": [
    "from random import choice\n",
    "from typing import List\n",
    "\n",
    "\n",
    "@brain.multi_agent(name=\"Story Builder\", tags=[\"storytelling\",\"quick-start\"])\n",
    "def story_builder(start: str, characters: List[str],actions=List[str], n: int = 5):\n",
    "    \"\"\"\n",
    "    Builds a story iteratively by introducing characters and progressing actions.\n",
    "\n",
    "    Args:\n",
    "        start (str): The starting line of the story.\n",
    "        characters (List[str]): List of character names to introduce dynamically.\n",
    "        n (int): Maximum number of iterations to build the story.\n",
    "\n",
    "    Returns:\n",
    "        dict: The final story, introduced characters, remaining characters, and final action.\n",
    "    \"\"\"\n",
    "    story = start\n",
    "    introduced_characters = []  # Track introduced characters\n",
    "    remaining_characters = characters[:]  # Characters not yet introduced\n",
    "    actions_proposed=[]\n",
    "    \n",
    "    for _ in range(n-1):\n",
    "        # Step 1: Determine the next action\n",
    "        action = brain.use(action_extender.id)(story=story,actions=actions)\n",
    "        actions_proposed.append(action)\n",
    "        \n",
    "        if action.type == \"introduce character\" and remaining_characters:\n",
    "            # Introduce a random character\n",
    "            character_name = choice(remaining_characters)\n",
    "            \n",
    "            remaining_characters.remove(character_name)\n",
    "            character_description = brain.use(character_describer.id)(name=character_name, story=story).description\n",
    "            story += brain.use(story_extender.id)(story=story, action=f\"Introduce {character_name}: {character_description}\").story_next_lines\n",
    "            introduced_characters.append(character_name)\n",
    "\n",
    "        else:\n",
    "            story += brain.use(story_extender.id)(story=story, action=f\"Type:{action.type} Descprition{action.action_description}\").story_next_lines\n",
    "            \n",
    "\n",
    "    # Conclude the story\n",
    "    story += brain.use(story_extender.id)(story=story, action=\"end_story\").story_next_lines\n",
    "\n",
    "    # Return the final result\n",
    "    return {\n",
    "        \"final_story\": story,\n",
    "        \"introduced_characters\": introduced_characters,\n",
    "        \"remaining_characters\": remaining_characters,\n",
    "        \"final_action\": actions_proposed,\n",
    "    }"
   ]
  },
  {
   "cell_type": "code",
   "execution_count": 13,
   "metadata": {},
   "outputs": [
    {
     "data": {
      "text/html": [
       "<pre style=\"white-space:pre;overflow-x:auto;line-height:normal;font-family:Menlo,'DejaVu Sans Mono',consolas,'Courier New',monospace\"><span style=\"font-weight: bold\">{</span>\n",
       "    <span style=\"color: #008000; text-decoration-color: #008000\">'final_story'</span>: <span style=\"color: #008000; text-decoration-color: #008000\">'Once upon a time, in a faraway land As Bob stepped through the shimmering portal, he felt a </span>\n",
       "<span style=\"color: #008000; text-decoration-color: #008000\">rush of energy and wonder, revealing a vibrant world filled with mystical creatures and radiant landscapes. Little </span>\n",
       "<span style=\"color: #008000; text-decoration-color: #008000\">did he know, the prophecy he sought was drawn to his hopeful spirit, and dark forces were already aware of his </span>\n",
       "<span style=\"color: #008000; text-decoration-color: #008000\">arrival.Eve approached Bob with a bright smile, her hair shimmering in the sunlight as she extended her hand in </span>\n",
       "<span style=\"color: #008000; text-decoration-color: #008000\">friendship. \"Welcome, traveler! Together, we can uncover the secrets of this realm and protect it from the looming </span>\n",
       "<span style=\"color: #008000; text-decoration-color: #008000\">darkness.\" With a newfound determination, Bob took her hand, feeling the warmth of her spirit fueling his own </span>\n",
       "<span style=\"color: #008000; text-decoration-color: #008000\">courage.As the forest spirits swirled around them, one with twinkling eyes stepped forward, whispering ancient </span>\n",
       "<span style=\"color: #008000; text-decoration-color: #008000\">secrets that led them to a hidden glen. \"The heart of this world lies ahead,\" it said, \"but beware, for shadows </span>\n",
       "<span style=\"color: #008000; text-decoration-color: #008000\">lurk in the depths, ready to challenge the light you carry within.\" With courage ignited, Bob and Eve ventured </span>\n",
       "<span style=\"color: #008000; text-decoration-color: #008000\">forth, ready to confront the darkness.The blast of light from the crystal cut through the shadows, creating a </span>\n",
       "<span style=\"color: #008000; text-decoration-color: #008000\">barrier that momentarily stalled the advancing darkness. Empowered by their bond and determination, Bob and Eve </span>\n",
       "<span style=\"color: #008000; text-decoration-color: #008000\">fought back with ferocity, each blow fueled by the strength of hope, as they began to turn the tide of battle in </span>\n",
       "<span style=\"color: #008000; text-decoration-color: #008000\">their favor.As the Shadow Guardian emerged, its voice resonated like thunder, echoing with lost hope. \"You think </span>\n",
       "<span style=\"color: #008000; text-decoration-color: #008000\">you can restore what was lost?\" it challenged, its eyes glowing with malevolence. Bob and Eve exchanged glances, </span>\n",
       "<span style=\"color: #008000; text-decoration-color: #008000\">realizing that to defeat the Guardian, they must not only fight for their realm but also awaken the light hidden </span>\n",
       "<span style=\"color: #008000; text-decoration-color: #008000\">deep within its twisted heart.Summoning their inner strength, Bob and Eve channeled their unwavering hope, weaving </span>\n",
       "<span style=\"color: #008000; text-decoration-color: #008000\">a tapestry of light that enveloped the Shadow Guardian. With a final, blinding surge, the darkness shattered, </span>\n",
       "<span style=\"color: #008000; text-decoration-color: #008000\">revealing the Guardian\\'s true form—a once-pure spirit longing for redemption. Together, they embraced the power of</span>\n",
       "<span style=\"color: #008000; text-decoration-color: #008000\">forgiveness, restoring balance to the realm and ensuring that light would forever triumph over darkness.'</span>,\n",
       "    <span style=\"color: #008000; text-decoration-color: #008000\">'introduced_characters'</span>: <span style=\"font-weight: bold\">[</span><span style=\"color: #008000; text-decoration-color: #008000\">'Bob'</span>, <span style=\"color: #008000; text-decoration-color: #008000\">'Eve'</span><span style=\"font-weight: bold\">]</span>,\n",
       "    <span style=\"color: #008000; text-decoration-color: #008000\">'remaining_characters'</span>: <span style=\"font-weight: bold\">[</span><span style=\"color: #008000; text-decoration-color: #008000\">'Alice'</span>, <span style=\"color: #008000; text-decoration-color: #008000\">'Charlie'</span>, <span style=\"color: #008000; text-decoration-color: #008000\">'David'</span><span style=\"font-weight: bold\">]</span>,\n",
       "    <span style=\"color: #008000; text-decoration-color: #008000\">'final_action'</span>: <span style=\"font-weight: bold\">[</span>\n",
       "        <span style=\"color: #800080; text-decoration-color: #800080; font-weight: bold\">Action</span><span style=\"font-weight: bold\">(</span>\n",
       "            <span style=\"color: #808000; text-decoration-color: #808000\">type</span>=<span style=\"color: #008000; text-decoration-color: #008000\">'introduce character'</span>,\n",
       "            <span style=\"color: #808000; text-decoration-color: #808000\">action_description</span>=<span style=\"color: #008000; text-decoration-color: #008000\">'Introduce a brave young princess named Elara, who dreams of exploring the enchanted</span>\n",
       "<span style=\"color: #008000; text-decoration-color: #008000\">forest that borders her kingdom, filled with mysterious creatures and ancient secrets.'</span>\n",
       "        <span style=\"font-weight: bold\">)</span>,\n",
       "        <span style=\"color: #800080; text-decoration-color: #800080; font-weight: bold\">Action</span><span style=\"font-weight: bold\">(</span>\n",
       "            <span style=\"color: #808000; text-decoration-color: #808000\">type</span>=<span style=\"color: #008000; text-decoration-color: #008000\">'introduce character'</span>,\n",
       "            <span style=\"color: #808000; text-decoration-color: #808000\">action_description</span>=<span style=\"color: #008000; text-decoration-color: #008000\">\"As Bob takes in the majestic surroundings, he is approached by a wise old wizard </span>\n",
       "<span style=\"color: #008000; text-decoration-color: #008000\">named Eldrin, who senses the strong magic within Bob and reveals that he has been expecting him. Eldrin explains </span>\n",
       "<span style=\"color: #008000; text-decoration-color: #008000\">the importance of Bob's quest and the dangers that lie ahead.\"</span>\n",
       "        <span style=\"font-weight: bold\">)</span>,\n",
       "        <span style=\"color: #800080; text-decoration-color: #800080; font-weight: bold\">Action</span><span style=\"font-weight: bold\">(</span>\n",
       "            <span style=\"color: #808000; text-decoration-color: #808000\">type</span>=<span style=\"color: #008000; text-decoration-color: #008000\">'make it magical'</span>,\n",
       "            <span style=\"color: #808000; text-decoration-color: #808000\">action_description</span>=<span style=\"color: #008000; text-decoration-color: #008000\">'As Bob and Eve journey deeper into the vibrant world, they discover an ancient </span>\n",
       "<span style=\"color: #008000; text-decoration-color: #008000\">grove where the trees shimmer with iridescent leaves. Suddenly, a gentle breeze stirs, revealing playful forest </span>\n",
       "<span style=\"color: #008000; text-decoration-color: #008000\">spirits who dance around them, casting spells of protection and guiding them towards their destiny. The air fills </span>\n",
       "<span style=\"color: #008000; text-decoration-color: #008000\">with laughter and light, making Bob and Eve feel as if they are part of a grand tapestry of magic that connects all</span>\n",
       "<span style=\"color: #008000; text-decoration-color: #008000\">living things.'</span>\n",
       "        <span style=\"font-weight: bold\">)</span>,\n",
       "        <span style=\"color: #800080; text-decoration-color: #800080; font-weight: bold\">Action</span><span style=\"font-weight: bold\">(</span>\n",
       "            <span style=\"color: #808000; text-decoration-color: #808000\">type</span>=<span style=\"color: #008000; text-decoration-color: #008000\">'add fight'</span>,\n",
       "            <span style=\"color: #808000; text-decoration-color: #808000\">action_description</span>=<span style=\"color: #008000; text-decoration-color: #008000\">'As Bob and Eve approached the heart of the world, the air grew thick with a </span>\n",
       "<span style=\"color: #008000; text-decoration-color: #008000\">malevolent energy. Suddenly, shadowy figures emerged from the darkness, their forms shifting and twisting as they </span>\n",
       "<span style=\"color: #008000; text-decoration-color: #008000\">screeched and lunged at the duo. Bob, clutching a glowing crystal gifted by the forest spirits, prepared to defend </span>\n",
       "<span style=\"color: #008000; text-decoration-color: #008000\">Eve. With a furious battle cry, he unleashed the energy of the crystal, lighting up the glen and igniting an epic </span>\n",
       "<span style=\"color: #008000; text-decoration-color: #008000\">confrontation against the dark forces.'</span>\n",
       "        <span style=\"font-weight: bold\">)</span>,\n",
       "        <span style=\"color: #800080; text-decoration-color: #800080; font-weight: bold\">Action</span><span style=\"font-weight: bold\">(</span>\n",
       "            <span style=\"color: #808000; text-decoration-color: #808000\">type</span>=<span style=\"color: #008000; text-decoration-color: #008000\">'add twist'</span>,\n",
       "            <span style=\"color: #808000; text-decoration-color: #808000\">action_description</span>=<span style=\"color: #008000; text-decoration-color: #008000\">'Just as Bob and Eve begin to gain the upper hand, a sudden tremor shakes the ground</span>\n",
       "<span style=\"color: #008000; text-decoration-color: #008000\">beneath them, and the shadows split apart to reveal a powerful figure shrouded in darkness. It is the Shadow </span>\n",
       "<span style=\"color: #008000; text-decoration-color: #008000\">Guardian, a being that was once a protector of the realm but had been corrupted by a desperate desire for power. </span>\n",
       "<span style=\"color: #008000; text-decoration-color: #008000\">This unexpected arrival shifts the balance of the battle, challenging everything Bob and Eve thought they knew </span>\n",
       "<span style=\"color: #008000; text-decoration-color: #008000\">about the darkness they face.'</span>\n",
       "        <span style=\"font-weight: bold\">)</span>\n",
       "    <span style=\"font-weight: bold\">]</span>\n",
       "<span style=\"font-weight: bold\">}</span>\n",
       "</pre>\n"
      ],
      "text/plain": [
       "\u001b[1m{\u001b[0m\n",
       "    \u001b[32m'final_story'\u001b[0m: \u001b[32m'Once upon a time, in a faraway land As Bob stepped through the shimmering portal, he felt a \u001b[0m\n",
       "\u001b[32mrush of energy and wonder, revealing a vibrant world filled with mystical creatures and radiant landscapes. Little \u001b[0m\n",
       "\u001b[32mdid he know, the prophecy he sought was drawn to his hopeful spirit, and dark forces were already aware of his \u001b[0m\n",
       "\u001b[32marrival.Eve approached Bob with a bright smile, her hair shimmering in the sunlight as she extended her hand in \u001b[0m\n",
       "\u001b[32mfriendship. \"Welcome, traveler! Together, we can uncover the secrets of this realm and protect it from the looming \u001b[0m\n",
       "\u001b[32mdarkness.\" With a newfound determination, Bob took her hand, feeling the warmth of her spirit fueling his own \u001b[0m\n",
       "\u001b[32mcourage.As the forest spirits swirled around them, one with twinkling eyes stepped forward, whispering ancient \u001b[0m\n",
       "\u001b[32msecrets that led them to a hidden glen. \"The heart of this world lies ahead,\" it said, \"but beware, for shadows \u001b[0m\n",
       "\u001b[32mlurk in the depths, ready to challenge the light you carry within.\" With courage ignited, Bob and Eve ventured \u001b[0m\n",
       "\u001b[32mforth, ready to confront the darkness.The blast of light from the crystal cut through the shadows, creating a \u001b[0m\n",
       "\u001b[32mbarrier that momentarily stalled the advancing darkness. Empowered by their bond and determination, Bob and Eve \u001b[0m\n",
       "\u001b[32mfought back with ferocity, each blow fueled by the strength of hope, as they began to turn the tide of battle in \u001b[0m\n",
       "\u001b[32mtheir favor.As the Shadow Guardian emerged, its voice resonated like thunder, echoing with lost hope. \"You think \u001b[0m\n",
       "\u001b[32myou can restore what was lost?\" it challenged, its eyes glowing with malevolence. Bob and Eve exchanged glances, \u001b[0m\n",
       "\u001b[32mrealizing that to defeat the Guardian, they must not only fight for their realm but also awaken the light hidden \u001b[0m\n",
       "\u001b[32mdeep within its twisted heart.Summoning their inner strength, Bob and Eve channeled their unwavering hope, weaving \u001b[0m\n",
       "\u001b[32ma tapestry of light that enveloped the Shadow Guardian. With a final, blinding surge, the darkness shattered, \u001b[0m\n",
       "\u001b[32mrevealing the Guardian\\'s true form—a once-pure spirit longing for redemption. Together, they embraced the power of\u001b[0m\n",
       "\u001b[32mforgiveness, restoring balance to the realm and ensuring that light would forever triumph over darkness.'\u001b[0m,\n",
       "    \u001b[32m'introduced_characters'\u001b[0m: \u001b[1m[\u001b[0m\u001b[32m'Bob'\u001b[0m, \u001b[32m'Eve'\u001b[0m\u001b[1m]\u001b[0m,\n",
       "    \u001b[32m'remaining_characters'\u001b[0m: \u001b[1m[\u001b[0m\u001b[32m'Alice'\u001b[0m, \u001b[32m'Charlie'\u001b[0m, \u001b[32m'David'\u001b[0m\u001b[1m]\u001b[0m,\n",
       "    \u001b[32m'final_action'\u001b[0m: \u001b[1m[\u001b[0m\n",
       "        \u001b[1;35mAction\u001b[0m\u001b[1m(\u001b[0m\n",
       "            \u001b[33mtype\u001b[0m=\u001b[32m'introduce character'\u001b[0m,\n",
       "            \u001b[33maction_description\u001b[0m=\u001b[32m'Introduce a brave young princess named Elara, who dreams of exploring the enchanted\u001b[0m\n",
       "\u001b[32mforest that borders her kingdom, filled with mysterious creatures and ancient secrets.'\u001b[0m\n",
       "        \u001b[1m)\u001b[0m,\n",
       "        \u001b[1;35mAction\u001b[0m\u001b[1m(\u001b[0m\n",
       "            \u001b[33mtype\u001b[0m=\u001b[32m'introduce character'\u001b[0m,\n",
       "            \u001b[33maction_description\u001b[0m=\u001b[32m\"As\u001b[0m\u001b[32m Bob takes in the majestic surroundings, he is approached by a wise old wizard \u001b[0m\n",
       "\u001b[32mnamed Eldrin, who senses the strong magic within Bob and reveals that he has been expecting him. Eldrin explains \u001b[0m\n",
       "\u001b[32mthe importance of Bob's quest and the dangers that lie ahead.\"\u001b[0m\n",
       "        \u001b[1m)\u001b[0m,\n",
       "        \u001b[1;35mAction\u001b[0m\u001b[1m(\u001b[0m\n",
       "            \u001b[33mtype\u001b[0m=\u001b[32m'make it magical'\u001b[0m,\n",
       "            \u001b[33maction_description\u001b[0m=\u001b[32m'As Bob and Eve journey deeper into the vibrant world, they discover an ancient \u001b[0m\n",
       "\u001b[32mgrove where the trees shimmer with iridescent leaves. Suddenly, a gentle breeze stirs, revealing playful forest \u001b[0m\n",
       "\u001b[32mspirits who dance around them, casting spells of protection and guiding them towards their destiny. The air fills \u001b[0m\n",
       "\u001b[32mwith laughter and light, making Bob and Eve feel as if they are part of a grand tapestry of magic that connects all\u001b[0m\n",
       "\u001b[32mliving things.'\u001b[0m\n",
       "        \u001b[1m)\u001b[0m,\n",
       "        \u001b[1;35mAction\u001b[0m\u001b[1m(\u001b[0m\n",
       "            \u001b[33mtype\u001b[0m=\u001b[32m'add fight'\u001b[0m,\n",
       "            \u001b[33maction_description\u001b[0m=\u001b[32m'As Bob and Eve approached the heart of the world, the air grew thick with a \u001b[0m\n",
       "\u001b[32mmalevolent energy. Suddenly, shadowy figures emerged from the darkness, their forms shifting and twisting as they \u001b[0m\n",
       "\u001b[32mscreeched and lunged at the duo. Bob, clutching a glowing crystal gifted by the forest spirits, prepared to defend \u001b[0m\n",
       "\u001b[32mEve. With a furious battle cry, he unleashed the energy of the crystal, lighting up the glen and igniting an epic \u001b[0m\n",
       "\u001b[32mconfrontation against the dark forces.'\u001b[0m\n",
       "        \u001b[1m)\u001b[0m,\n",
       "        \u001b[1;35mAction\u001b[0m\u001b[1m(\u001b[0m\n",
       "            \u001b[33mtype\u001b[0m=\u001b[32m'add twist'\u001b[0m,\n",
       "            \u001b[33maction_description\u001b[0m=\u001b[32m'Just as Bob and Eve begin to gain the upper hand, a sudden tremor shakes the ground\u001b[0m\n",
       "\u001b[32mbeneath them, and the shadows split apart to reveal a powerful figure shrouded in darkness. It is the Shadow \u001b[0m\n",
       "\u001b[32mGuardian, a being that was once a protector of the realm but had been corrupted by a desperate desire for power. \u001b[0m\n",
       "\u001b[32mThis unexpected arrival shifts the balance of the battle, challenging everything Bob and Eve thought they knew \u001b[0m\n",
       "\u001b[32mabout the darkness they face.'\u001b[0m\n",
       "        \u001b[1m)\u001b[0m\n",
       "    \u001b[1m]\u001b[0m\n",
       "\u001b[1m}\u001b[0m\n"
      ]
     },
     "metadata": {},
     "output_type": "display_data"
    }
   ],
   "source": [
    "from rich import print\n",
    "\n",
    "start=\"Once upon a time, in a faraway land \"\n",
    "characters=[\"Alice\", \"Bob\", \"Charlie\", \"David\", \"Eve\"]\n",
    "action=['add happy emotion', 'add sad emotion', 'add twist','make it magical','add fight']\n",
    "n=6\n",
    "\n",
    "story=story_builder(start, characters,actions=action, n=n)\n",
    "\n",
    "print(story)"
   ]
  },
  {
   "cell_type": "code",
   "execution_count": 14,
   "metadata": {},
   "outputs": [
    {
     "data": {
      "text/html": [
       "<pre style=\"white-space:pre;overflow-x:auto;line-height:normal;font-family:Menlo,'DejaVu Sans Mono',consolas,'Courier New',monospace\"><span style=\"font-style: italic\">                                   MultiAgent Session Runs in Project: Default Project                                    </span>\n",
       "                                                                                                                          \n",
       " <span style=\"font-weight: bold\"> Session ID                           </span> <span style=\"font-weight: bold\">  MultiAgent   </span> <span style=\"font-weight: bold\"> Reasoner Calls       </span> <span style=\"font-weight: bold\">  Start Date &amp; Time  </span> <span style=\"font-weight: bold\"> Total Duration (s) </span> \n",
       " ──────────────────────────────────────────────────────────────────────────────────────────────────────────────────────── \n",
       "  6c7fec53-69b3-436a-b071-8e78411e06f2   Story Builder   action_extender        2024-12-03 03:16:28         17.86         \n",
       "                                                         (2.72s) →                                                        \n",
       "                                                         character_describer                                              \n",
       "                                                         (1.57s) →                                                        \n",
       "                                                         story_extender                                                   \n",
       "                                                         (0.76s) →                                                        \n",
       "                                                         action_extender                                                  \n",
       "                                                         (1.27s) →                                                        \n",
       "                                                         character_describer                                              \n",
       "                                                         (1.94s) →                                                        \n",
       "                                                         story_extender                                                   \n",
       "                                                         (1.23s) →                                                        \n",
       "                                                         action_extender                                                  \n",
       "                                                         (1.02s) →                                                        \n",
       "                                                         story_extender                                                   \n",
       "                                                         (1.02s) →                                                        \n",
       "                                                         action_extender                                                  \n",
       "                                                         (1.43s) →                                                        \n",
       "                                                         story_extender                                                   \n",
       "                                                         (0.98s) →                                                        \n",
       "                                                         action_extender                                                  \n",
       "                                                         (1.07s) →                                                        \n",
       "                                                         story_extender                                                   \n",
       "                                                         (1.02s) →                                                        \n",
       "                                                         story_extender                                                   \n",
       "                                                         (1.83s)                                                          \n",
       "                                                                                                                          \n",
       "  caee33da-fae4-4de0-afe8-d6bcbcaa801c   Story Builder   action_extender        2024-12-03 03:14:54         12.09         \n",
       "                                                         (0.89s) →                                                        \n",
       "                                                         story_extender                                                   \n",
       "                                                         (1.0s) →                                                         \n",
       "                                                         action_extender                                                  \n",
       "                                                         (1.0s) →                                                         \n",
       "                                                         story_extender                                                   \n",
       "                                                         (0.73s) →                                                        \n",
       "                                                         action_extender                                                  \n",
       "                                                         (1.02s) →                                                        \n",
       "                                                         story_extender                                                   \n",
       "                                                         (1.42s) →                                                        \n",
       "                                                         action_extender                                                  \n",
       "                                                         (1.04s) →                                                        \n",
       "                                                         story_extender                                                   \n",
       "                                                         (0.81s) →                                                        \n",
       "                                                         action_extender                                                  \n",
       "                                                         (2.15s) →                                                        \n",
       "                                                         story_extender                                                   \n",
       "                                                         (0.82s) →                                                        \n",
       "                                                         story_extender                                                   \n",
       "                                                         (1.23s)                                                          \n",
       "                                                                                                                          \n",
       "</pre>\n"
      ],
      "text/plain": [
       "\u001b[3m                                   MultiAgent Session Runs in Project: Default Project                                    \u001b[0m\n",
       "                                                                                                                          \n",
       " \u001b[1m \u001b[0m\u001b[1mSession ID                          \u001b[0m\u001b[1m \u001b[0m \u001b[1m \u001b[0m\u001b[1m MultiAgent  \u001b[0m\u001b[1m \u001b[0m \u001b[1m \u001b[0m\u001b[1mReasoner Calls      \u001b[0m\u001b[1m \u001b[0m \u001b[1m \u001b[0m\u001b[1m Start Date & Time \u001b[0m\u001b[1m \u001b[0m \u001b[1m \u001b[0m\u001b[1mTotal Duration (s)\u001b[0m\u001b[1m \u001b[0m \n",
       " ──────────────────────────────────────────────────────────────────────────────────────────────────────────────────────── \n",
       "  6c7fec53-69b3-436a-b071-8e78411e06f2   Story Builder   action_extender        2024-12-03 03:16:28         17.86         \n",
       "                                                         (2.72s) →                                                        \n",
       "                                                         character_describer                                              \n",
       "                                                         (1.57s) →                                                        \n",
       "                                                         story_extender                                                   \n",
       "                                                         (0.76s) →                                                        \n",
       "                                                         action_extender                                                  \n",
       "                                                         (1.27s) →                                                        \n",
       "                                                         character_describer                                              \n",
       "                                                         (1.94s) →                                                        \n",
       "                                                         story_extender                                                   \n",
       "                                                         (1.23s) →                                                        \n",
       "                                                         action_extender                                                  \n",
       "                                                         (1.02s) →                                                        \n",
       "                                                         story_extender                                                   \n",
       "                                                         (1.02s) →                                                        \n",
       "                                                         action_extender                                                  \n",
       "                                                         (1.43s) →                                                        \n",
       "                                                         story_extender                                                   \n",
       "                                                         (0.98s) →                                                        \n",
       "                                                         action_extender                                                  \n",
       "                                                         (1.07s) →                                                        \n",
       "                                                         story_extender                                                   \n",
       "                                                         (1.02s) →                                                        \n",
       "                                                         story_extender                                                   \n",
       "                                                         (1.83s)                                                          \n",
       "                                                                                                                          \n",
       "  caee33da-fae4-4de0-afe8-d6bcbcaa801c   Story Builder   action_extender        2024-12-03 03:14:54         12.09         \n",
       "                                                         (0.89s) →                                                        \n",
       "                                                         story_extender                                                   \n",
       "                                                         (1.0s) →                                                         \n",
       "                                                         action_extender                                                  \n",
       "                                                         (1.0s) →                                                         \n",
       "                                                         story_extender                                                   \n",
       "                                                         (0.73s) →                                                        \n",
       "                                                         action_extender                                                  \n",
       "                                                         (1.02s) →                                                        \n",
       "                                                         story_extender                                                   \n",
       "                                                         (1.42s) →                                                        \n",
       "                                                         action_extender                                                  \n",
       "                                                         (1.04s) →                                                        \n",
       "                                                         story_extender                                                   \n",
       "                                                         (0.81s) →                                                        \n",
       "                                                         action_extender                                                  \n",
       "                                                         (2.15s) →                                                        \n",
       "                                                         story_extender                                                   \n",
       "                                                         (0.82s) →                                                        \n",
       "                                                         story_extender                                                   \n",
       "                                                         (1.23s)                                                          \n",
       "                                                                                                                          \n"
      ]
     },
     "metadata": {},
     "output_type": "display_data"
    }
   ],
   "source": [
    "runs=brain.list_runs(return_data=True)"
   ]
  },
  {
   "cell_type": "code",
   "execution_count": 15,
   "metadata": {},
   "outputs": [
    {
     "data": {
      "image/png": "[encoded data removed]",
      "text/plain": [
       "<Figure size 1400x500 with 1 Axes>"
      ]
     },
     "metadata": {},
     "output_type": "display_data"
    }
   ],
   "source": [
    "from brain.visualize import plot_workflow_matplotlib\n",
    "\n",
    "lineage=brain.get_call_graph(runs[0]['session_id'])\n",
    "fig=plot_workflow_matplotlib(lineage['lineage'])"
   ]
  },
  {
   "cell_type": "markdown",
   "metadata": {},
   "source": [
    "## Modifiers\n",
    "\n",
    "- Modifiers are objects that can be passed to modify the runtime behavior of the reasoner.\n",
    "- Passed as keyword arguments when using the reasoner.\n",
    "- Custom modifiers can be defined by inheriting from the `ModifierBase` class.\n",
    "- Built-in modifiers include reasoning enhancers like CoT/IoT, guardrails, transformations, etc."
   ]
  },
  {
   "cell_type": "code",
   "execution_count": 17,
   "metadata": {},
   "outputs": [
    {
     "data": {
      "text/html": [
       "<pre style=\"white-space:pre;overflow-x:auto;line-height:normal;font-family:Menlo,'DejaVu Sans Mono',consolas,'Courier New',monospace\">Question: How many R's are there in the word <span style=\"color: #008000; text-decoration-color: #008000\">'STRAWBERRY'</span>?\n",
       "</pre>\n"
      ],
      "text/plain": [
       "Question: How many R's are there in the word \u001b[32m'STRAWBERRY'\u001b[0m?\n"
      ]
     },
     "metadata": {},
     "output_type": "display_data"
    },
    {
     "data": {
      "text/html": [
       "<pre style=\"white-space:pre;overflow-x:auto;line-height:normal;font-family:Menlo,'DejaVu Sans Mono',consolas,'Courier New',monospace\">Answers without modifier : <span style=\"font-weight: bold\">[</span><span style=\"color: #008000; text-decoration-color: #008000\">'2'</span>, <span style=\"color: #008000; text-decoration-color: #008000\">'2'</span>, <span style=\"color: #008000; text-decoration-color: #008000\">'2'</span>, <span style=\"color: #008000; text-decoration-color: #008000\">'2'</span>, <span style=\"color: #008000; text-decoration-color: #008000\">'2'</span><span style=\"font-weight: bold\">]</span>\n",
       "</pre>\n"
      ],
      "text/plain": [
       "Answers without modifier : \u001b[1m[\u001b[0m\u001b[32m'2'\u001b[0m, \u001b[32m'2'\u001b[0m, \u001b[32m'2'\u001b[0m, \u001b[32m'2'\u001b[0m, \u001b[32m'2'\u001b[0m\u001b[1m]\u001b[0m\n"
      ]
     },
     "metadata": {},
     "output_type": "display_data"
    },
    {
     "data": {
      "text/html": [
       "<pre style=\"white-space:pre;overflow-x:auto;line-height:normal;font-family:Menlo,'DejaVu Sans Mono',consolas,'Courier New',monospace\">Answers with CoT modifier: <span style=\"font-weight: bold\">[</span><span style=\"color: #008000; text-decoration-color: #008000\">'3'</span>, <span style=\"color: #008000; text-decoration-color: #008000\">'3'</span>, <span style=\"color: #008000; text-decoration-color: #008000\">'3'</span>, <span style=\"color: #008000; text-decoration-color: #008000\">'3'</span>, <span style=\"color: #008000; text-decoration-color: #008000\">'2'</span><span style=\"font-weight: bold\">]</span>\n",
       "</pre>\n"
      ],
      "text/plain": [
       "Answers with CoT modifier: \u001b[1m[\u001b[0m\u001b[32m'3'\u001b[0m, \u001b[32m'3'\u001b[0m, \u001b[32m'3'\u001b[0m, \u001b[32m'3'\u001b[0m, \u001b[32m'2'\u001b[0m\u001b[1m]\u001b[0m\n"
      ]
     },
     "metadata": {},
     "output_type": "display_data"
    }
   ],
   "source": [
    "from brain.modifiers import COT as ChainOfThought\n",
    "\n",
    "question = \"How many R's are there in the word 'STRAWBERRY'?\"\n",
    "    \n",
    "fut=[]\n",
    "for _ in range(5):\n",
    "    fut.append(brain.use(sample_reasoner.id,run_async=True)(\n",
    "        system_prompt=\"You are an expert letter counter, answer this question\",\n",
    "        user_prompt=question,\n",
    "    ))\n",
    "answer_wo_mod = [f.result().answer for f in fut]\n",
    "    \n",
    "fut=[]\n",
    "for _ in range(5):\n",
    "    fut.append(brain.use(sample_reasoner.id,run_async=True,modifier=ChainOfThought())(\n",
    "        system_prompt=\"You are an expert letter counter, answer this question\",\n",
    "        user_prompt=question,\n",
    "    ))\n",
    "answer_w_mod = [f.result().answer for f in fut]\n",
    "\n",
    "print(f\"Question: {question}\")\n",
    "print(f\"Answers without modifier : {answer_wo_mod}\")\n",
    "print(f\"Answers with CoT modifier: {answer_w_mod}\")"
   ]
  }
 ],
 "metadata": {
  "kernelspec": {
   "display_name": "Python 3",
   "language": "python",
   "name": "python3"
  },
  "language_info": {
   "codemirror_mode": {
    "name": "ipython",
    "version": 3
   },
   "file_extension": ".py",
   "mimetype": "text/x-python",
   "name": "python",
   "nbconvert_exporter": "python",
   "pygments_lexer": "ipython3",
   "version": "3.10.15"
  }
 },
 "nbformat": 4,
 "nbformat_minor": 2
}
