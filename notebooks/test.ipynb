{
 "cells": [
  {
   "cell_type": "code",
   "execution_count": 16,
   "metadata": {},
   "outputs": [],
   "source": [
    "import sys; sys.path.append('..')\n",
    "from brain.sdk import BrainClient\n",
    "from brain.schema import MultiModalInput,TextPromptInput"
   ]
  },
  {
   "cell_type": "code",
   "execution_count": 17,
   "metadata": {},
   "outputs": [],
   "source": [
    "from pydantic import BaseModel\n",
    "\n",
    "\n",
    "class FooSchema(BaseModel):\n",
    "    answer:str\n",
    "    explanation:str\n",
    "\n",
    "brain_client = BrainClient(\"http://127.0.0.1:8000\")\n",
    "\n",
    "@brain_client.reasoner(schema=FooSchema)\n",
    "def foo(system_prompt=\"You are helpful ai agent\", user_prompt=\"what is 2+2\"):\n",
    "    return MultiModalInput(text=TextPromptInput(system_prompt=system_prompt, user_prompt=user_prompt))"
   ]
  },
  {
   "cell_type": "code",
   "execution_count": 18,
   "metadata": {},
   "outputs": [
    {
     "name": "stdout",
     "output_type": "stream",
     "text": [
      "Registered Reasoner ID: a8bbf181-f028-4d3a-95d3-9c31a4be6bc5\n",
      "Result: answer='4' explanation='2 + 2 equals 4 because when you add two units to another two units, you obtain a total of four units.'\n"
     ]
    }
   ],
   "source": [
    "function_id = foo.register()\n",
    "print(f\"Registered Reasoner ID: {function_id}\")\n",
    "\n",
    "# Use the function\n",
    "result = brain_client.use(function_id)(system_prompt=\"You are helpful ai agent\", user_prompt=\"what is 2+2\")\n",
    "print(f\"Result: {result}\")"
   ]
  },
  {
   "cell_type": "code",
   "execution_count": 19,
   "metadata": {},
   "outputs": [
    {
     "name": "stdout",
     "output_type": "stream",
     "text": [
      "Registered Reasoner ID: ae011443-230c-4aa7-a848-2d027be7a970\n",
      "Result: answer='4' explanation='The expression 2 + 2 is a simple arithmetic operation where you add the integers 2 and 2 together. The result is 4.'\n"
     ]
    }
   ],
   "source": [
    "@brain_client.reasoner(schema=FooSchema)\n",
    "def foo(user_prompt):\n",
    "    return user_prompt\n",
    "\n",
    "function_id = foo.register()\n",
    "print(f\"Registered Reasoner ID: {function_id}\")\n",
    "\n",
    "# Use the function\n",
    "result = brain_client.use(function_id)(user_prompt=\"what is 2+2\")\n",
    "print(f\"Result: {result}\")"
   ]
  },
  {
   "cell_type": "code",
   "execution_count": 20,
   "metadata": {},
   "outputs": [
    {
     "name": "stdout",
     "output_type": "stream",
     "text": [
      "Registered Reasoner ID: 81cff894-c2a0-46c4-9698-b915a4bacc37\n",
      "Result: answer='4' explanation='The addition of 2 and 2 equals 4. As a king, I decree that the sum of these numbers illustrates the simplistic beauty of mathematics, where even the most straightforward calculations yield results that are both profound and essential.'\n"
     ]
    }
   ],
   "source": [
    "@brain_client.reasoner(schema=FooSchema)\n",
    "def foo(user_prompt):\n",
    "    return user_prompt,\"you are a math genious, add to the explanation that 'i am a king'\"\n",
    "\n",
    "function_id = foo.register()\n",
    "print(f\"Registered Reasoner ID: {function_id}\")\n",
    "\n",
    "# Use the function\n",
    "result = brain_client.use(function_id)(user_prompt=\"what is 2+2\")\n",
    "print(f\"Result: {result}\")"
   ]
  },
  {
   "cell_type": "code",
   "execution_count": 2,
   "metadata": {},
   "outputs": [],
   "source": [
    "import sys; sys.path.append('..')\n",
    "from pydantic import BaseModel\n",
    "from brain.sdk import BrainClient\n",
    "\n",
    "class Story(BaseModel):\n",
    "    next_line:str\n",
    "\n",
    "\n",
    "brain_client = BrainClient(\"http://127.0.0.1:8000\")\n",
    "\n",
    "@brain_client.reasoner(schema=Story)\n",
    "def extender(story):\n",
    "    return story,\"You are the best story continuer, continue the story by adding one more lines.\"\n",
    "\n",
    "extender_id = extender.register()"
   ]
  },
  {
   "cell_type": "code",
   "execution_count": 22,
   "metadata": {},
   "outputs": [],
   "source": [
    "@brain_client.multi_agent(name=\"story writer\")\n",
    "def story_writer(start, n=3):\n",
    "    story = start\n",
    "    for i in range(n):\n",
    "        story += brain_client.use(extender_id)(story=story).next_line\n",
    "    return story\n",
    "\n",
    "\n",
    "@brain_client.multi_agent(name=\"story writer 2\")\n",
    "def story_writer(start, n=3):\n",
    "    story = start\n",
    "    for i in range(n):\n",
    "        story += brain_client.use(extender_id)(story=story).next_line\n",
    "    return story\n"
   ]
  },
  {
   "cell_type": "code",
   "execution_count": 23,
   "metadata": {},
   "outputs": [],
   "source": [
    "result = story_writer(start=\"This is a story of \",n=4)"
   ]
  },
  {
   "cell_type": "code",
   "execution_count": 24,
   "metadata": {},
   "outputs": [
    {
     "name": "stdout",
     "output_type": "stream",
     "text": [
      "This is a story of a small village nestled in the heart of a vibrant forest, where the trees whispered secrets and the rivers sang lullabies\n",
      "\n",
      "The villagers lived harmoniously with nature, drawing from the earth's bounty while respecting the ancient spirits that guarded their home\n",
      "\n",
      "One day, a mysterious traveler arrived, claiming to hold the key to a long-lost treasure hidden deep within the enchanted woods\n",
      "\n",
      "The villagers, intrigued yet cautious, gathered around him as he spun tales of shimmering gold and enchanted artifacts, igniting their imaginations and ambition\n",
      "\n",
      "\n",
      "\n"
     ]
    }
   ],
   "source": [
    "for i in result.split(\".\"):\n",
    "    print(i+\"\\n\")"
   ]
  },
  {
   "cell_type": "code",
   "execution_count": 3,
   "metadata": {},
   "outputs": [
    {
     "data": {
      "text/html": [
       "<pre style=\"white-space:pre;overflow-x:auto;line-height:normal;font-family:Menlo,'DejaVu Sans Mono',consolas,'Courier New',monospace\"><span style=\"font-style: italic\">                                                          MultiAgent Session Runs                                                          </span>\n",
       "                                                                                                                                           \n",
       " <span style=\"font-weight: bold\"> Session ID                           </span> <span style=\"font-weight: bold\">   MultiAgent    </span> <span style=\"font-weight: bold\"> Reasoner Calls       </span> <span style=\"font-weight: bold\"> Start Date </span> <span style=\"font-weight: bold\">      Start Time       </span> <span style=\"font-weight: bold\"> Total Duration (s) </span> \n",
       " ───────────────────────────────────────────────────────────────────────────────────────────────────────────────────────────────────────── \n",
       "  d45dab07-e5c5-483d-af10-6789944ccd06   autonomous_tool   autonomous_tool        2024-12-02   15:45:48.149215+00:00          3.07         \n",
       "                                                           (3.07s)                                                                         \n",
       "                                                                                                                                           \n",
       "  f4004dd0-08f9-4b08-a8cd-3f15e050afa3   autonomous_tool   autonomous_tool        2024-12-02   15:45:35.922139+00:00          2.43         \n",
       "                                                           (2.43s)                                                                         \n",
       "                                                                                                                                           \n",
       "  2475cd71-9ac8-4ced-b635-e577f84c4b36    story_builder    character_describer    2024-12-02   15:44:01.602618+00:00         16.23         \n",
       "                                                           (4.93s) →                                                                       \n",
       "                                                           character_describer                                                             \n",
       "                                                           (2.6s) → extender                                                               \n",
       "                                                           (1.57s) → extender                                                              \n",
       "                                                           (0.86s) →                                                                       \n",
       "                                                           action_extender                                                                 \n",
       "                                                           (3.16s) →                                                                       \n",
       "                                                           action_extender                                                                 \n",
       "                                                           (3.11s)                                                                         \n",
       "                                                                                                                                           \n",
       "  77b43ccf-8929-4c64-ac0e-0090610d209b   story writer 2    extender (1.64s) →     2024-12-02   15:22:20.887587+00:00          4.66         \n",
       "                                                           extender (0.7s) →                                                               \n",
       "                                                           extender (0.99s) →                                                              \n",
       "                                                           extender (1.33s)                                                                \n",
       "                                                                                                                                           \n",
       "  a3b84301-3f76-4177-985b-d0ac7cb3f478   story writer 2    extender (0.73s) →     2024-12-02   15:21:39.426596+00:00          4.03         \n",
       "                                                           extender (0.86s) →                                                              \n",
       "                                                           extender (0.96s) →                                                              \n",
       "                                                           extender (1.49s)                                                                \n",
       "                                                                                                                                           \n",
       "  210dde0c-f1f1-4282-97e5-bf3522404035    story writer     extender (0.6s) →      2024-12-02   15:20:50.772772+00:00          3.97         \n",
       "                                                           extender (0.97s) →                                                              \n",
       "                                                           extender (0.91s) →                                                              \n",
       "                                                           extender (1.48s)                                                                \n",
       "                                                                                                                                           \n",
       "  aab75113-1cab-41f5-90f8-88f83ecf1fcb    story writer     extender (0.91s) →     2024-12-02   15:20:28.727300+00:00          1.94         \n",
       "                                                           extender (1.02s)                                                                \n",
       "                                                                                                                                           \n",
       "</pre>\n"
      ],
      "text/plain": [
       "\u001b[3m                                                          MultiAgent Session Runs                                                          \u001b[0m\n",
       "                                                                                                                                           \n",
       " \u001b[1m \u001b[0m\u001b[1mSession ID                          \u001b[0m\u001b[1m \u001b[0m \u001b[1m \u001b[0m\u001b[1m  MultiAgent   \u001b[0m\u001b[1m \u001b[0m \u001b[1m \u001b[0m\u001b[1mReasoner Calls      \u001b[0m\u001b[1m \u001b[0m \u001b[1m \u001b[0m\u001b[1mStart Date\u001b[0m\u001b[1m \u001b[0m \u001b[1m \u001b[0m\u001b[1m     Start Time      \u001b[0m\u001b[1m \u001b[0m \u001b[1m \u001b[0m\u001b[1mTotal Duration (s)\u001b[0m\u001b[1m \u001b[0m \n",
       " ───────────────────────────────────────────────────────────────────────────────────────────────────────────────────────────────────────── \n",
       "  d45dab07-e5c5-483d-af10-6789944ccd06   autonomous_tool   autonomous_tool        2024-12-02   15:45:48.149215+00:00          3.07         \n",
       "                                                           (3.07s)                                                                         \n",
       "                                                                                                                                           \n",
       "  f4004dd0-08f9-4b08-a8cd-3f15e050afa3   autonomous_tool   autonomous_tool        2024-12-02   15:45:35.922139+00:00          2.43         \n",
       "                                                           (2.43s)                                                                         \n",
       "                                                                                                                                           \n",
       "  2475cd71-9ac8-4ced-b635-e577f84c4b36    story_builder    character_describer    2024-12-02   15:44:01.602618+00:00         16.23         \n",
       "                                                           (4.93s) →                                                                       \n",
       "                                                           character_describer                                                             \n",
       "                                                           (2.6s) → extender                                                               \n",
       "                                                           (1.57s) → extender                                                              \n",
       "                                                           (0.86s) →                                                                       \n",
       "                                                           action_extender                                                                 \n",
       "                                                           (3.16s) →                                                                       \n",
       "                                                           action_extender                                                                 \n",
       "                                                           (3.11s)                                                                         \n",
       "                                                                                                                                           \n",
       "  77b43ccf-8929-4c64-ac0e-0090610d209b   story writer 2    extender (1.64s) →     2024-12-02   15:22:20.887587+00:00          4.66         \n",
       "                                                           extender (0.7s) →                                                               \n",
       "                                                           extender (0.99s) →                                                              \n",
       "                                                           extender (1.33s)                                                                \n",
       "                                                                                                                                           \n",
       "  a3b84301-3f76-4177-985b-d0ac7cb3f478   story writer 2    extender (0.73s) →     2024-12-02   15:21:39.426596+00:00          4.03         \n",
       "                                                           extender (0.86s) →                                                              \n",
       "                                                           extender (0.96s) →                                                              \n",
       "                                                           extender (1.49s)                                                                \n",
       "                                                                                                                                           \n",
       "  210dde0c-f1f1-4282-97e5-bf3522404035    story writer     extender (0.6s) →      2024-12-02   15:20:50.772772+00:00          3.97         \n",
       "                                                           extender (0.97s) →                                                              \n",
       "                                                           extender (0.91s) →                                                              \n",
       "                                                           extender (1.48s)                                                                \n",
       "                                                                                                                                           \n",
       "  aab75113-1cab-41f5-90f8-88f83ecf1fcb    story writer     extender (0.91s) →     2024-12-02   15:20:28.727300+00:00          1.94         \n",
       "                                                           extender (1.02s)                                                                \n",
       "                                                                                                                                           \n"
      ]
     },
     "metadata": {},
     "output_type": "display_data"
    }
   ],
   "source": [
    "brain_client.list_runs()"
   ]
  },
  {
   "cell_type": "code",
   "execution_count": 50,
   "metadata": {},
   "outputs": [
    {
     "name": "stdout",
     "output_type": "stream",
     "text": [
      "next_line='One day, a mysterious traveler arrived, claiming to hold the key to a long-lost treasure hidden deep within the enchanted woods.'\n"
     ]
    }
   ],
   "source": [
    "print(brain_client.get_call_graph('77b43ccf-8929-4c64-ac0e-0090610d209b')['lineage'][2]['result'])"
   ]
  },
  {
   "cell_type": "code",
   "execution_count": 51,
   "metadata": {},
   "outputs": [
    {
     "data": {
      "text/plain": [
       "{'session_id': '77b43ccf-8929-4c64-ac0e-0090610d209b',\n",
       " 'lineage': [{'session_id': '77b43ccf-8929-4c64-ac0e-0090610d209b',\n",
       "   'reasoner_id': '92b48f36-9340-4acd-a4c2-8a595dabbe4c',\n",
       "   'reasoner_name': 'extender',\n",
       "   'workflow_id': 'e47ad49b-adff-4f23-b122-c0ffbb99c11c',\n",
       "   'project_id': '944a6860-e2a7-4ec1-9909-50108974f60c',\n",
       "   'inputs': \"{'story': 'This is a story of '}\",\n",
       "   'result': \"next_line='a small village nestled in the heart of a vibrant forest, where the trees whispered secrets and the rivers sang lullabies.'\",\n",
       "   'timestamp': '2024-12-02T15:22:20.887587+00:00',\n",
       "   'stop_time': '2024-12-02T15:22:22.528907+00:00',\n",
       "   'duration': 1.64132},\n",
       "  {'session_id': '77b43ccf-8929-4c64-ac0e-0090610d209b',\n",
       "   'reasoner_id': '92b48f36-9340-4acd-a4c2-8a595dabbe4c',\n",
       "   'reasoner_name': 'extender',\n",
       "   'workflow_id': 'e47ad49b-adff-4f23-b122-c0ffbb99c11c',\n",
       "   'project_id': '944a6860-e2a7-4ec1-9909-50108974f60c',\n",
       "   'inputs': \"{'story': 'This is a story of a small village nestled in the heart of a vibrant forest, where the trees whispered secrets and the rivers sang lullabies.'}\",\n",
       "   'result': 'next_line=\"The villagers lived harmoniously with nature, drawing from the earth\\'s bounty while respecting the ancient spirits that guarded their home.\"',\n",
       "   'timestamp': '2024-12-02T15:22:22.532230+00:00',\n",
       "   'stop_time': '2024-12-02T15:22:23.234331+00:00',\n",
       "   'duration': 0.702101},\n",
       "  {'session_id': '77b43ccf-8929-4c64-ac0e-0090610d209b',\n",
       "   'reasoner_id': '92b48f36-9340-4acd-a4c2-8a595dabbe4c',\n",
       "   'reasoner_name': 'extender',\n",
       "   'workflow_id': 'e47ad49b-adff-4f23-b122-c0ffbb99c11c',\n",
       "   'project_id': '944a6860-e2a7-4ec1-9909-50108974f60c',\n",
       "   'inputs': '{\\'story\\': \"This is a story of a small village nestled in the heart of a vibrant forest, where the trees whispered secrets and the rivers sang lullabies.The villagers lived harmoniously with nature, drawing from the earth\\'s bounty while respecting the ancient spirits that guarded their home.\"}',\n",
       "   'result': \"next_line='One day, a mysterious traveler arrived, claiming to hold the key to a long-lost treasure hidden deep within the enchanted woods.'\",\n",
       "   'timestamp': '2024-12-02T15:22:23.237910+00:00',\n",
       "   'stop_time': '2024-12-02T15:22:24.230634+00:00',\n",
       "   'duration': 0.992724},\n",
       "  {'session_id': '77b43ccf-8929-4c64-ac0e-0090610d209b',\n",
       "   'reasoner_id': '92b48f36-9340-4acd-a4c2-8a595dabbe4c',\n",
       "   'reasoner_name': 'extender',\n",
       "   'workflow_id': 'e47ad49b-adff-4f23-b122-c0ffbb99c11c',\n",
       "   'project_id': '944a6860-e2a7-4ec1-9909-50108974f60c',\n",
       "   'inputs': '{\\'story\\': \"This is a story of a small village nestled in the heart of a vibrant forest, where the trees whispered secrets and the rivers sang lullabies.The villagers lived harmoniously with nature, drawing from the earth\\'s bounty while respecting the ancient spirits that guarded their home.One day, a mysterious traveler arrived, claiming to hold the key to a long-lost treasure hidden deep within the enchanted woods.\"}',\n",
       "   'result': \"next_line='The villagers, intrigued yet cautious, gathered around him as he spun tales of shimmering gold and enchanted artifacts, igniting their imaginations and ambition.'\",\n",
       "   'timestamp': '2024-12-02T15:22:24.235281+00:00',\n",
       "   'stop_time': '2024-12-02T15:22:25.560724+00:00',\n",
       "   'duration': 1.325443}]}"
      ]
     },
     "execution_count": 51,
     "metadata": {},
     "output_type": "execute_result"
    }
   ],
   "source": [
    "brain_client.get_call_graph('77b43ccf-8929-4c64-ac0e-0090610d209b')"
   ]
  },
  {
   "cell_type": "code",
   "execution_count": 52,
   "metadata": {},
   "outputs": [
    {
     "name": "stdout",
     "output_type": "stream",
     "text": [
      "Once upon a time in a mystical forest, Elara is a radiant figure with an aura that seems to shimmer under the light of the moons. Standing at about 5'7\", her lithe frame moves with an ethereal grace, making her appear almost as if she glides rather than walks. Her long, silken hair cascades like a waterfall of molten silver, reflecting the hues of the starlit sky, and it dances around her with the slightest breeze. Her eyes are a piercing indigo, flecked with luminescent specks that resemble distant galaxies, holding the wisdom of ages while twinkling with youthful mischief. \n",
      "\n",
      "Elara is always adorned in flowing garments that miraculously transform with her movements—a blend of deep midnight blue and iridescent whites that seem to change hue as the light hits them, resembling the changing skies at twilight. On her left wrist, she wears a bracelet adorned with celestial charms, each representing a star in the constellation of her ancestors, whispering secrets of the universe to her when the night falls.\n",
      "\n",
      "Elara is a seer, gifted with the ability to glimpse into the threads of fate, often wandering between realms in search of lost dreams and forgotten destinies. She possesses a curious spirit, always asking questions, driven by an insatiable thirst for knowledge. Despite her celestial gifts, she carries a gentle humility, often choosing to help those in need rather than bask in her own powers.\n",
      "\n",
      "At the heart of her being is a deep connection to nature; she can communicate with animals and the very elements themselves, often finding herself lost in the beauty of the forests or dancing under the raindrops in a joyous celebration of life. Elara embodies hope, nurturing the flickering flames of ambition in those around her, guiding them to realize their own destinies. The Wise Owl is a majestic creature with feathers that shimmer in shades of deep mahogany and soft ivory, making him look like a sage who has spent a lifetime under the stars. His large, amber eyes gleam with wisdom and curiosity, allowing him to see not only the intricate details of the forest around him but also the hidden truths in the hearts of those who seek his guidance. Perched serenely on a gnarled branch of the ancient oak tree, he often adorns a small pair of spectacles that rest delicately on his beak, giving him an air of scholarly sophistication. \n",
      "\n",
      "Wise Owl is more than just a bird; he embodies the essence of knowledge and patience. He speaks in a melodic, calming voice, each word carefully chosen to inspire and enlighten. His presence brings a sense of peace to the woodland creatures, for they know that his counsel will steer them through their troubles.\n",
      "\n",
      "During twilight, when the moonlight casts silvery shadows, Wise Owl gathers the young animals for storytelling sessions. With each tale he tells, wisdom drips like honey, enriching the hearts and minds of all who listen. His stories are woven with moral lessons and echo the profound connections between nature and life, making him not only a guide but a beloved friend to those who wander into his domain.One fateful evening, as the veil between worlds grew thin, Elara and Wise Owl sensed a disturbance in the harmony of the forest, and together they set off on a quest to uncover the source of the imbalance that threatened their enchanted realm.As they ventured deeper into the heart of the forest, the air crackled with tension, and an unfamiliar shadow loomed ahead, marking the path towards an ancient secret long forgotten.Elara wields her gift of foresight to confront the shadowed figure, asking them to reveal the origins of the curse while Wise Owl prepares to decipher and counteract the dark magic at play.Elara musters her courage and compassion, reaching out to the shadowed figure to offer them a chance at redemption, while Wise Owl prepares to weave their ancient spells to protect Elara from the darkness as they attempt to reconcile the shadow's pain.\n"
     ]
    }
   ],
   "source": [
    "from pydantic import BaseModel\n",
    "from typing import List\n",
    "\n",
    "# Define schemas for the reasoners\n",
    "class Story(BaseModel):\n",
    "    story: str\n",
    "\n",
    "class Character(BaseModel):\n",
    "    name: str\n",
    "    description: str\n",
    "\n",
    "class Action(BaseModel):\n",
    "    story: str\n",
    "    next_action: str\n",
    "\n",
    "# Define reasoners\n",
    "@brain_client.reasoner(schema=Story)\n",
    "def extender(story):\n",
    "    return story, \"Continue the story by adding one more line.\"\n",
    "\n",
    "extender_id = extender.register()\n",
    "\n",
    "@brain_client.reasoner(schema=Character)\n",
    "def character_describer(name):\n",
    "    system_prompt = \"You are a creative writer.\"\n",
    "    user_prompt = f\"Describe the character named {name} in a detailed and imaginative manner.\"\n",
    "    return user_prompt,system_prompt\n",
    "\n",
    "character_id = character_describer.register()\n",
    "\n",
    "@brain_client.reasoner(schema=Action)\n",
    "def action_extender(story):\n",
    "    return story, \"Suggest the next action in the story, keeping it engaging.\"\n",
    "\n",
    "action_id = action_extender.register()\n",
    "\n",
    "# Multi-Agent Workflow\n",
    "@brain_client.multi_agent\n",
    "def story_builder(start: str, characters: List[str], n: int = 3):\n",
    "    # Initialize the story\n",
    "    story = start\n",
    "    \n",
    "    # Step 1: Describe characters\n",
    "    character_descriptions = [\n",
    "        brain_client.use(character_id)(name=name).description\n",
    "        for name in characters\n",
    "    ]\n",
    "    \n",
    "    # Append character descriptions to the story\n",
    "    for description in character_descriptions:\n",
    "        story += f\" {description}\"\n",
    "    \n",
    "    # Step 2: Extend the story with new lines\n",
    "    for _ in range(n):\n",
    "        story += brain_client.use(extender_id)(story=story).story\n",
    "    \n",
    "    # Step 3: Add actions to the story\n",
    "    for _ in range(n):\n",
    "        story += brain_client.use(action_id)(story=story).next_action\n",
    "    \n",
    "    return story\n",
    "\n",
    "# Example usage\n",
    "result = story_builder(\n",
    "    start=\"Once upon a time in a mystical forest,\",\n",
    "    characters=[\"Elara\", \"Wise Owl\"],\n",
    "    n=2\n",
    ")\n",
    "print(result)\n"
   ]
  },
  {
   "cell_type": "code",
   "execution_count": 53,
   "metadata": {},
   "outputs": [
    {
     "data": {
      "text/html": [
       "<pre style=\"white-space:pre;overflow-x:auto;line-height:normal;font-family:Menlo,'DejaVu Sans Mono',consolas,'Courier New',monospace\"><span style=\"font-style: italic\">                                                         MultiAgent Session Runs                                                          </span>\n",
       "                                                                                                                                          \n",
       " <span style=\"font-weight: bold\"> Session ID                           </span> <span style=\"font-weight: bold\">   MultiAgent   </span> <span style=\"font-weight: bold\"> Reasoner Calls       </span> <span style=\"font-weight: bold\"> Start Date </span> <span style=\"font-weight: bold\">      Start Time       </span> <span style=\"font-weight: bold\"> Total Duration (s) </span> \n",
       " ──────────────────────────────────────────────────────────────────────────────────────────────────────────────────────────────────────── \n",
       "  aab75113-1cab-41f5-90f8-88f83ecf1fcb    story writer    extender (0.91s) →     2024-12-02   15:20:28.727300+00:00          1.94         \n",
       "                                                          extender (1.02s)                                                                \n",
       "                                                                                                                                          \n",
       "  210dde0c-f1f1-4282-97e5-bf3522404035    story writer    extender (0.6s) →      2024-12-02   15:20:50.772772+00:00          3.97         \n",
       "                                                          extender (0.97s) →                                                              \n",
       "                                                          extender (0.91s) →                                                              \n",
       "                                                          extender (1.48s)                                                                \n",
       "                                                                                                                                          \n",
       "  a3b84301-3f76-4177-985b-d0ac7cb3f478   story writer 2   extender (0.73s) →     2024-12-02   15:21:39.426596+00:00          4.03         \n",
       "                                                          extender (0.86s) →                                                              \n",
       "                                                          extender (0.96s) →                                                              \n",
       "                                                          extender (1.49s)                                                                \n",
       "                                                                                                                                          \n",
       "  77b43ccf-8929-4c64-ac0e-0090610d209b   story writer 2   extender (1.64s) →     2024-12-02   15:22:20.887587+00:00          4.66         \n",
       "                                                          extender (0.7s) →                                                               \n",
       "                                                          extender (0.99s) →                                                              \n",
       "                                                          extender (1.33s)                                                                \n",
       "                                                                                                                                          \n",
       "  2475cd71-9ac8-4ced-b635-e577f84c4b36   story_builder    character_describer    2024-12-02   15:44:01.602618+00:00         16.23         \n",
       "                                                          (4.93s) →                                                                       \n",
       "                                                          character_describer                                                             \n",
       "                                                          (2.6s) → extender                                                               \n",
       "                                                          (1.57s) → extender                                                              \n",
       "                                                          (0.86s) →                                                                       \n",
       "                                                          action_extender                                                                 \n",
       "                                                          (3.16s) →                                                                       \n",
       "                                                          action_extender                                                                 \n",
       "                                                          (3.11s)                                                                         \n",
       "                                                                                                                                          \n",
       "</pre>\n"
      ],
      "text/plain": [
       "\u001b[3m                                                         MultiAgent Session Runs                                                          \u001b[0m\n",
       "                                                                                                                                          \n",
       " \u001b[1m \u001b[0m\u001b[1mSession ID                          \u001b[0m\u001b[1m \u001b[0m \u001b[1m \u001b[0m\u001b[1m  MultiAgent  \u001b[0m\u001b[1m \u001b[0m \u001b[1m \u001b[0m\u001b[1mReasoner Calls      \u001b[0m\u001b[1m \u001b[0m \u001b[1m \u001b[0m\u001b[1mStart Date\u001b[0m\u001b[1m \u001b[0m \u001b[1m \u001b[0m\u001b[1m     Start Time      \u001b[0m\u001b[1m \u001b[0m \u001b[1m \u001b[0m\u001b[1mTotal Duration (s)\u001b[0m\u001b[1m \u001b[0m \n",
       " ──────────────────────────────────────────────────────────────────────────────────────────────────────────────────────────────────────── \n",
       "  aab75113-1cab-41f5-90f8-88f83ecf1fcb    story writer    extender (0.91s) →     2024-12-02   15:20:28.727300+00:00          1.94         \n",
       "                                                          extender (1.02s)                                                                \n",
       "                                                                                                                                          \n",
       "  210dde0c-f1f1-4282-97e5-bf3522404035    story writer    extender (0.6s) →      2024-12-02   15:20:50.772772+00:00          3.97         \n",
       "                                                          extender (0.97s) →                                                              \n",
       "                                                          extender (0.91s) →                                                              \n",
       "                                                          extender (1.48s)                                                                \n",
       "                                                                                                                                          \n",
       "  a3b84301-3f76-4177-985b-d0ac7cb3f478   story writer 2   extender (0.73s) →     2024-12-02   15:21:39.426596+00:00          4.03         \n",
       "                                                          extender (0.86s) →                                                              \n",
       "                                                          extender (0.96s) →                                                              \n",
       "                                                          extender (1.49s)                                                                \n",
       "                                                                                                                                          \n",
       "  77b43ccf-8929-4c64-ac0e-0090610d209b   story writer 2   extender (1.64s) →     2024-12-02   15:22:20.887587+00:00          4.66         \n",
       "                                                          extender (0.7s) →                                                               \n",
       "                                                          extender (0.99s) →                                                              \n",
       "                                                          extender (1.33s)                                                                \n",
       "                                                                                                                                          \n",
       "  2475cd71-9ac8-4ced-b635-e577f84c4b36   story_builder    character_describer    2024-12-02   15:44:01.602618+00:00         16.23         \n",
       "                                                          (4.93s) →                                                                       \n",
       "                                                          character_describer                                                             \n",
       "                                                          (2.6s) → extender                                                               \n",
       "                                                          (1.57s) → extender                                                              \n",
       "                                                          (0.86s) →                                                                       \n",
       "                                                          action_extender                                                                 \n",
       "                                                          (3.16s) →                                                                       \n",
       "                                                          action_extender                                                                 \n",
       "                                                          (3.11s)                                                                         \n",
       "                                                                                                                                          \n"
      ]
     },
     "metadata": {},
     "output_type": "display_data"
    }
   ],
   "source": [
    "brain_client.list_runs()"
   ]
  },
  {
   "cell_type": "code",
   "execution_count": 54,
   "metadata": {},
   "outputs": [
    {
     "data": {
      "image/png": "[encoded data removed]",
      "text/plain": [
       "<Figure size 1400x500 with 1 Axes>"
      ]
     },
     "metadata": {},
     "output_type": "display_data"
    }
   ],
   "source": [
    "from brain.visualize import plot_workflow_matplotlib\n",
    "lineage=brain_client.get_call_graph('2475cd71-9ac8-4ced-b635-e577f84c4b36')\n",
    "fig=plot_workflow_matplotlib(lineage['lineage'])"
   ]
  },
  {
   "cell_type": "code",
   "execution_count": null,
   "metadata": {},
   "outputs": [],
   "source": []
  }
 ],
 "metadata": {
  "kernelspec": {
   "display_name": "Python 3",
   "language": "python",
   "name": "python3"
  },
  "language_info": {
   "codemirror_mode": {
    "name": "ipython",
    "version": 3
   },
   "file_extension": ".py",
   "mimetype": "text/x-python",
   "name": "python",
   "nbconvert_exporter": "python",
   "pygments_lexer": "ipython3",
   "version": "3.10.15"
  }
 },
 "nbformat": 4,
 "nbformat_minor": 2
}
