{
 "cells": [
  {
   "cell_type": "code",
   "execution_count": null,
   "metadata": {},
   "outputs": [],
   "source": [
    "import sys; sys.path.append('..')\n",
    "from brain.schema import MultiModalInput, TextPromptInput\n",
    "from brain.sdk import BrainClient"
   ]
  },
  {
   "cell_type": "code",
   "execution_count": null,
   "metadata": {},
   "outputs": [],
   "source": [
    "from pydantic import BaseModel\n",
    "\n",
    "\n",
    "class FooSchema(BaseModel):\n",
    "    answer:str\n",
    "    explanation:str\n",
    "\n",
    "brain_client = BrainClient(\"http://127.0.0.1:8000\")\n",
    "\n",
    "@brain_client.reasoner(schema=FooSchema)\n",
    "def foo(system_prompt=\"You are helpful ai agent\", user_prompt=\"what is 2+2\"):\n",
    "    return MultiModalInput(text=TextPromptInput(system_prompt=system_prompt, user_prompt=user_prompt))"
   ]
  },
  {
   "cell_type": "code",
   "execution_count": null,
   "metadata": {},
   "outputs": [
    {
     "name": "stdout",
     "output_type": "stream",
     "text": [
      "Registered Reasoner ID: 2ac0821b-84cd-46f9-804e-f1f7a2e937d9\n",
      "Result: answer='4' explanation='The sum of 2 and 2 is calculated by adding the two numbers together, which results in 4.'\n",
      "Execution time: 1.0367259979248047 seconds\n"
     ]
    }
   ],
   "source": [
    "import time\n",
    "\n",
    "function_id = foo.register()\n",
    "print(f\"Registered Reasoner ID: {function_id}\")\n",
    "\n",
    "\n",
    "start_time = time.time()\n",
    "\n",
    "# Use the function\n",
    "result = brain_client.use(function_id)(system_prompt=\"You are helpful ai agent\", user_prompt=\"what is 2+2\")\n",
    "print(f\"Result: {result}\")\n",
    "\n",
    "end_time = time.time()\n",
    "print(f\"Execution time: {end_time - start_time} seconds\")"
   ]
  },
  {
   "cell_type": "code",
   "execution_count": null,
   "metadata": {},
   "outputs": [
    {
     "name": "stdout",
     "output_type": "stream",
     "text": [
      "Wall time for 5 async: 1.124316930770874 seconds\n"
     ]
    }
   ],
   "source": [
    "start_time = time.time()\n",
    "num_executions=5\n",
    "# Use the function\n",
    "futs = [brain_client.use(function_id,run_async=True)(system_prompt=\"You are helpful ai agent\", user_prompt=\"what is 2+2\") for _ in range(num_executions)]\n",
    "results=[fut.result() for fut in futs]\n",
    "\n",
    "end_time = time.time()\n",
    "print(f\"Wall time for 5 async: {end_time - start_time} seconds\")"
   ]
  },
  {
   "cell_type": "code",
   "execution_count": null,
   "metadata": {},
   "outputs": [
    {
     "name": "stdout",
     "output_type": "stream",
     "text": [
      "Registered Reasoner ID: ae011443-230c-4aa7-a848-2d027be7a970\n",
      "Result: answer='4' explanation='The expression 2 + 2 is a simple arithmetic operation where you add the integers 2 and 2 together. The result is 4.'\n"
     ]
    }
   ],
   "source": [
    "@brain_client.reasoner(schema=FooSchema)\n",
    "def foo(user_prompt):\n",
    "    return user_prompt\n",
    "\n",
    "function_id = foo.register()\n",
    "print(f\"Registered Reasoner ID: {function_id}\")\n",
    "\n",
    "# Use the function\n",
    "result = brain_client.use(function_id)(user_prompt=\"what is 2+2\")\n",
    "print(f\"Result: {result}\")"
   ]
  },
  {
   "cell_type": "code",
   "execution_count": null,
   "metadata": {},
   "outputs": [
    {
     "name": "stdout",
     "output_type": "stream",
     "text": [
      "Registered Reasoner ID: 81cff894-c2a0-46c4-9698-b915a4bacc37\n",
      "Result: answer='4' explanation='The addition of 2 and 2 equals 4. As a king, I decree that the sum of these numbers illustrates the simplistic beauty of mathematics, where even the most straightforward calculations yield results that are both profound and essential.'\n"
     ]
    }
   ],
   "source": [
    "@brain_client.reasoner(schema=FooSchema)\n",
    "def foo(user_prompt):\n",
    "    return user_prompt,\"you are a math genious, add to the explanation that 'i am a king'\"\n",
    "\n",
    "function_id = foo.register()\n",
    "print(f\"Registered Reasoner ID: {function_id}\")\n",
    "\n",
    "# Use the function\n",
    "result = brain_client.use(function_id)(user_prompt=\"what is 2+2\")\n",
    "print(f\"Result: {result}\")"
   ]
  },
  {
   "cell_type": "code",
   "execution_count": null,
   "metadata": {},
   "outputs": [],
   "source": [
    "import sys; sys.path.append('..')\n",
    "from pydantic import BaseModel\n",
    "\n",
    "from brain.sdk import BrainClient\n",
    "\n",
    "\n",
    "class Story(BaseModel):\n",
    "    next_line:str\n",
    "\n",
    "\n",
    "brain_client = BrainClient(\"http://127.0.0.1:8000\")\n",
    "\n",
    "project=brain_client.project(\"Test2\")\n",
    "\n",
    "@brain_client.reasoner(name=\"Story Extender\",schema=Story,project=project,tags=[\"story\"])\n",
    "def extender(story):\n",
    "    return story,\"You are the best story continuer, continue the story by adding one more lines.\"\n",
    "\n",
    "extender_id = extender.register()"
   ]
  },
  {
   "cell_type": "code",
   "execution_count": null,
   "metadata": {},
   "outputs": [],
   "source": [
    "@brain_client.multi_agent(name=\"story writer\",project=project,tags=[\"story\",\"writer\"])\n",
    "def story_writer(start, n=3):\n",
    "    story = start\n",
    "    for i in range(n):\n",
    "        story += brain_client.use(extender_id)(story=story).next_line\n",
    "    return story\n",
    "\n",
    "\n",
    "@brain_client.multi_agent(name=\"story writer 4\",project=project,tags=[\"story\",\"writer\",\"longer session/system\"])\n",
    "def story_writer(start, n=3):\n",
    "    story = start\n",
    "    for i in range(n):\n",
    "        story += brain_client.use(extender_id)(story=story).next_line\n",
    "    return story"
   ]
  },
  {
   "cell_type": "code",
   "execution_count": null,
   "metadata": {},
   "outputs": [],
   "source": [
    "result = story_writer(start=\"This is a story of \",n=4)"
   ]
  },
  {
   "cell_type": "code",
   "execution_count": null,
   "metadata": {},
   "outputs": [
    {
     "name": "stdout",
     "output_type": "stream",
     "text": [
      "This is a story of a brave young girl named Elara who lived in a small village surrounded by enchanted forests\n",
      "\n",
      "One day, while exploring the woods, she stumbled upon a hidden glade where a wounded unicorn lay amidst the shimmering flowers\n",
      "\n",
      "With her heart pounding in her chest, Elara approached the majestic creature, determined to help it heal and uncover the secrets of the glade\n",
      "\n",
      "As she knelt beside the unicorn, she felt a strange warmth envelop her, and a soft voice beckoned her to call upon the ancient magic of the forest for help\n",
      "\n",
      "\n",
      "\n"
     ]
    }
   ],
   "source": [
    "for i in result.split(\".\"):\n",
    "    print(i+\"\\n\")"
   ]
  },
  {
   "cell_type": "code",
   "execution_count": null,
   "metadata": {},
   "outputs": [
    {
     "data": {
      "text/html": [
       "<pre style=\"white-space:pre;overflow-x:auto;line-height:normal;font-family:Menlo,'DejaVu Sans Mono',consolas,'Courier New',monospace\"><span style=\"font-style: italic\">                                         MultiAgent Session Runs in Project: Test2                                         </span>\n",
       "                                                                                                                           \n",
       " <span style=\"font-weight: bold\"> Session ID                           </span> <span style=\"font-weight: bold\">   MultiAgent   </span> <span style=\"font-weight: bold\"> Reasoner Calls       </span> <span style=\"font-weight: bold\">  Start Date &amp; Time  </span> <span style=\"font-weight: bold\"> Total Duration (s) </span> \n",
       " ───────────────────────────────────────────────────────────────────────────────────────────────────────────────────────── \n",
       "  9af24d21-ecbd-4ad7-8110-979730884a26   story writer 4   Story Extender         2024-12-02 21:41:55          3.41         \n",
       "                                                          (0.53s) → Story                                                  \n",
       "                                                          Extender (0.73s) →                                               \n",
       "                                                          Story Extender                                                   \n",
       "                                                          (1.13s) → Story                                                  \n",
       "                                                          Extender (1.02s)                                                 \n",
       "                                                                                                                           \n",
       "  6457fd30-4952-4d5f-99c7-d53ad7ebcaa6   story writer 4   Story Extender         2024-12-02 16:54:33          3.33         \n",
       "                                                          (0.86s) → Story                                                  \n",
       "                                                          Extender (0.79s) →                                               \n",
       "                                                          Story Extender                                                   \n",
       "                                                          (0.86s) → Story                                                  \n",
       "                                                          Extender (0.82s)                                                 \n",
       "                                                                                                                           \n",
       "  ef0e78a9-a533-4c6b-97d0-018f34bd32a4   story writer 4   extender (0.58s) →     2024-12-02 16:45:33          3.72         \n",
       "                                                          extender (1.02s) →                                               \n",
       "                                                          extender (0.7s) →                                                \n",
       "                                                          extender (1.42s)                                                 \n",
       "                                                                                                                           \n",
       "  2b783f10-a989-400d-84f1-4986a225a172   story writer 4   extender (0.74s) →     2024-12-02 16:35:24          3.88         \n",
       "                                                          extender (0.87s) →                                               \n",
       "                                                          extender (1.41s) →                                               \n",
       "                                                          extender (0.86s)                                                 \n",
       "                                                                                                                           \n",
       "</pre>\n"
      ],
      "text/plain": [
       "\u001b[3m                                         MultiAgent Session Runs in Project: Test2                                         \u001b[0m\n",
       "                                                                                                                           \n",
       " \u001b[1m \u001b[0m\u001b[1mSession ID                          \u001b[0m\u001b[1m \u001b[0m \u001b[1m \u001b[0m\u001b[1m  MultiAgent  \u001b[0m\u001b[1m \u001b[0m \u001b[1m \u001b[0m\u001b[1mReasoner Calls      \u001b[0m\u001b[1m \u001b[0m \u001b[1m \u001b[0m\u001b[1m Start Date & Time \u001b[0m\u001b[1m \u001b[0m \u001b[1m \u001b[0m\u001b[1mTotal Duration (s)\u001b[0m\u001b[1m \u001b[0m \n",
       " ───────────────────────────────────────────────────────────────────────────────────────────────────────────────────────── \n",
       "  9af24d21-ecbd-4ad7-8110-979730884a26   story writer 4   Story Extender         2024-12-02 21:41:55          3.41         \n",
       "                                                          (0.53s) → Story                                                  \n",
       "                                                          Extender (0.73s) →                                               \n",
       "                                                          Story Extender                                                   \n",
       "                                                          (1.13s) → Story                                                  \n",
       "                                                          Extender (1.02s)                                                 \n",
       "                                                                                                                           \n",
       "  6457fd30-4952-4d5f-99c7-d53ad7ebcaa6   story writer 4   Story Extender         2024-12-02 16:54:33          3.33         \n",
       "                                                          (0.86s) → Story                                                  \n",
       "                                                          Extender (0.79s) →                                               \n",
       "                                                          Story Extender                                                   \n",
       "                                                          (0.86s) → Story                                                  \n",
       "                                                          Extender (0.82s)                                                 \n",
       "                                                                                                                           \n",
       "  ef0e78a9-a533-4c6b-97d0-018f34bd32a4   story writer 4   extender (0.58s) →     2024-12-02 16:45:33          3.72         \n",
       "                                                          extender (1.02s) →                                               \n",
       "                                                          extender (0.7s) →                                                \n",
       "                                                          extender (1.42s)                                                 \n",
       "                                                                                                                           \n",
       "  2b783f10-a989-400d-84f1-4986a225a172   story writer 4   extender (0.74s) →     2024-12-02 16:35:24          3.88         \n",
       "                                                          extender (0.87s) →                                               \n",
       "                                                          extender (1.41s) →                                               \n",
       "                                                          extender (0.86s)                                                 \n",
       "                                                                                                                           \n"
      ]
     },
     "metadata": {},
     "output_type": "display_data"
    },
    {
     "data": {
      "text/html": [
       "<pre style=\"white-space:pre;overflow-x:auto;line-height:normal;font-family:Menlo,'DejaVu Sans Mono',consolas,'Courier New',monospace\"><span style=\"font-style: italic\">                                         MultiAgent Session Runs in Project: Test1                                         </span>\n",
       "                                                                                                                           \n",
       " <span style=\"font-weight: bold\"> Session ID                           </span> <span style=\"font-weight: bold\">   MultiAgent   </span> <span style=\"font-weight: bold\"> Reasoner Calls       </span> <span style=\"font-weight: bold\">  Start Date &amp; Time  </span> <span style=\"font-weight: bold\"> Total Duration (s) </span> \n",
       " ───────────────────────────────────────────────────────────────────────────────────────────────────────────────────────── \n",
       "  10c108ad-c4c8-40ed-bbc9-a9a2ea789d05   story writer 4   extender (1.0s) →      2024-12-02 16:35:11          3.84         \n",
       "                                                          extender (0.83s) →                                               \n",
       "                                                          extender (0.9s) →                                                \n",
       "                                                          extender (1.11s)                                                 \n",
       "                                                                                                                           \n",
       "  f43e477f-2083-4d4a-9837-f91a456013c6   story writer 4   extender (1.3s) →      2024-12-02 16:25:17          5.51         \n",
       "                                                          extender (1.42s) →                                               \n",
       "                                                          extender (1.68s) →                                               \n",
       "                                                          extender (1.1s)                                                  \n",
       "                                                                                                                           \n",
       "</pre>\n"
      ],
      "text/plain": [
       "\u001b[3m                                         MultiAgent Session Runs in Project: Test1                                         \u001b[0m\n",
       "                                                                                                                           \n",
       " \u001b[1m \u001b[0m\u001b[1mSession ID                          \u001b[0m\u001b[1m \u001b[0m \u001b[1m \u001b[0m\u001b[1m  MultiAgent  \u001b[0m\u001b[1m \u001b[0m \u001b[1m \u001b[0m\u001b[1mReasoner Calls      \u001b[0m\u001b[1m \u001b[0m \u001b[1m \u001b[0m\u001b[1m Start Date & Time \u001b[0m\u001b[1m \u001b[0m \u001b[1m \u001b[0m\u001b[1mTotal Duration (s)\u001b[0m\u001b[1m \u001b[0m \n",
       " ───────────────────────────────────────────────────────────────────────────────────────────────────────────────────────── \n",
       "  10c108ad-c4c8-40ed-bbc9-a9a2ea789d05   story writer 4   extender (1.0s) →      2024-12-02 16:35:11          3.84         \n",
       "                                                          extender (0.83s) →                                               \n",
       "                                                          extender (0.9s) →                                                \n",
       "                                                          extender (1.11s)                                                 \n",
       "                                                                                                                           \n",
       "  f43e477f-2083-4d4a-9837-f91a456013c6   story writer 4   extender (1.3s) →      2024-12-02 16:25:17          5.51         \n",
       "                                                          extender (1.42s) →                                               \n",
       "                                                          extender (1.68s) →                                               \n",
       "                                                          extender (1.1s)                                                  \n",
       "                                                                                                                           \n"
      ]
     },
     "metadata": {},
     "output_type": "display_data"
    }
   ],
   "source": [
    "project=brain_client.project(\"Test2\")\n",
    "brain_client.list_runs(project=project)\n",
    "\n",
    "project=brain_client.project(\"Test1\")\n",
    "brain_client.list_runs(project=project)"
   ]
  },
  {
   "cell_type": "code",
   "execution_count": null,
   "metadata": {},
   "outputs": [
    {
     "data": {
      "text/html": [
       "<pre style=\"white-space:pre;overflow-x:auto;line-height:normal;font-family:Menlo,'DejaVu Sans Mono',consolas,'Courier New',monospace\"><span style=\"font-style: italic\">                              Reasoners in Project: Test2                              </span>\n",
       "                                                                                       \n",
       " <span style=\"font-weight: bold\"> Reasoner       </span> <span style=\"font-weight: bold\"> ID                                   </span> <span style=\"font-weight: bold\"> Tags  </span> <span style=\"font-weight: bold\">     Created At      </span> \n",
       " ───────────────────────────────────────────────────────────────────────────────────── \n",
       "  Story Extender   b63ff9da-dbea-460b-aa11-5be6cb27b799   story   2024-12-02 21:41:54  \n",
       "                                                                                       \n",
       "  Story Extender   5b8780c7-4322-44c1-a9c9-4d70b0b78b32   story   2024-12-02 21:41:54  \n",
       "                                                                                       \n",
       "  Story Extender   2b9a38b2-fb48-4d26-85fa-722fbdd82613   story   2024-12-02 16:54:30  \n",
       "                                                                                       \n",
       "  Story Extender   de0a6a41-6248-4b59-8768-aa84ab3ace21   story   2024-12-02 16:54:30  \n",
       "                                                                                       \n",
       "  extender         e25aed60-fef3-4524-bf46-9158ae0560f8   story   2024-12-02 16:45:05  \n",
       "                                                                                       \n",
       "  extender         26d023b1-b993-421e-8133-f1968e1cff70   story   2024-12-02 16:45:05  \n",
       "                                                                                       \n",
       "  extender         6ce88c57-c1c9-45cf-8feb-96b90fb090c3           2024-12-02 16:35:23  \n",
       "                                                                                       \n",
       "  extender         67ffa896-423d-4b01-90f2-cd75f9d4f74c           2024-12-02 16:35:23  \n",
       "                                                                                       \n",
       "</pre>\n"
      ],
      "text/plain": [
       "\u001b[3m                              Reasoners in Project: Test2                              \u001b[0m\n",
       "                                                                                       \n",
       " \u001b[1m \u001b[0m\u001b[1mReasoner      \u001b[0m\u001b[1m \u001b[0m \u001b[1m \u001b[0m\u001b[1mID                                  \u001b[0m\u001b[1m \u001b[0m \u001b[1m \u001b[0m\u001b[1mTags \u001b[0m\u001b[1m \u001b[0m \u001b[1m \u001b[0m\u001b[1m    Created At     \u001b[0m\u001b[1m \u001b[0m \n",
       " ───────────────────────────────────────────────────────────────────────────────────── \n",
       "  Story Extender   b63ff9da-dbea-460b-aa11-5be6cb27b799   story   2024-12-02 21:41:54  \n",
       "                                                                                       \n",
       "  Story Extender   5b8780c7-4322-44c1-a9c9-4d70b0b78b32   story   2024-12-02 21:41:54  \n",
       "                                                                                       \n",
       "  Story Extender   2b9a38b2-fb48-4d26-85fa-722fbdd82613   story   2024-12-02 16:54:30  \n",
       "                                                                                       \n",
       "  Story Extender   de0a6a41-6248-4b59-8768-aa84ab3ace21   story   2024-12-02 16:54:30  \n",
       "                                                                                       \n",
       "  extender         e25aed60-fef3-4524-bf46-9158ae0560f8   story   2024-12-02 16:45:05  \n",
       "                                                                                       \n",
       "  extender         26d023b1-b993-421e-8133-f1968e1cff70   story   2024-12-02 16:45:05  \n",
       "                                                                                       \n",
       "  extender         6ce88c57-c1c9-45cf-8feb-96b90fb090c3           2024-12-02 16:35:23  \n",
       "                                                                                       \n",
       "  extender         67ffa896-423d-4b01-90f2-cd75f9d4f74c           2024-12-02 16:35:23  \n",
       "                                                                                       \n"
      ]
     },
     "metadata": {},
     "output_type": "display_data"
    },
    {
     "data": {
      "text/html": [
       "<pre style=\"white-space:pre;overflow-x:auto;line-height:normal;font-family:Menlo,'DejaVu Sans Mono',consolas,'Courier New',monospace\"><span style=\"font-style: italic\">                                    MultiAgents in Project: Test2                                     </span>\n",
       "                                                                                                      \n",
       " <span style=\"font-weight: bold\"> MultiAgent     </span> <span style=\"font-weight: bold\"> ID                                   </span> <span style=\"font-weight: bold\"> Tags                 </span> <span style=\"font-weight: bold\">     Created At      </span> \n",
       " ──────────────────────────────────────────────────────────────────────────────────────────────────── \n",
       "  story writer 4   c53bd5fd-8c5a-47e9-9a0a-48fc2c726122   story, writer,         2024-12-02 21:41:55  \n",
       "                                                          longer                                      \n",
       "                                                          session/system                              \n",
       "                                                                                                      \n",
       "  story writer     80c2c4d5-18c6-4dba-aafa-62293a70a598   story, writer          2024-12-02 21:41:55  \n",
       "                                                                                                      \n",
       "  story writer 4   5c0e08bc-fc1d-4948-ae8b-9f2d14e95a95   story, writer,         2024-12-02 16:54:31  \n",
       "                                                          longer                                      \n",
       "                                                          session/system                              \n",
       "                                                                                                      \n",
       "  story writer     7ad65ce6-24dd-4856-9c87-6ddf7a701b77   story, writer          2024-12-02 16:54:31  \n",
       "                                                                                                      \n",
       "  story writer 4   d91efa22-8ac3-4309-816e-b6f0715d8652   story, writer,         2024-12-02 16:45:32  \n",
       "                                                          longer                                      \n",
       "                                                          session/system                              \n",
       "                                                                                                      \n",
       "  story writer     3f998cf7-1cd3-412b-b565-386bb4b19793   story, writer          2024-12-02 16:45:32  \n",
       "                                                                                                      \n",
       "  story writer 4   f0476a40-d022-46cc-b49a-8326129311f4                          2024-12-02 16:35:23  \n",
       "                                                                                                      \n",
       "  story writer     cc0b774f-a439-4b6f-9cc5-c06626850297                          2024-12-02 16:35:23  \n",
       "                                                                                                      \n",
       "</pre>\n"
      ],
      "text/plain": [
       "\u001b[3m                                    MultiAgents in Project: Test2                                     \u001b[0m\n",
       "                                                                                                      \n",
       " \u001b[1m \u001b[0m\u001b[1mMultiAgent    \u001b[0m\u001b[1m \u001b[0m \u001b[1m \u001b[0m\u001b[1mID                                  \u001b[0m\u001b[1m \u001b[0m \u001b[1m \u001b[0m\u001b[1mTags                \u001b[0m\u001b[1m \u001b[0m \u001b[1m \u001b[0m\u001b[1m    Created At     \u001b[0m\u001b[1m \u001b[0m \n",
       " ──────────────────────────────────────────────────────────────────────────────────────────────────── \n",
       "  story writer 4   c53bd5fd-8c5a-47e9-9a0a-48fc2c726122   story, writer,         2024-12-02 21:41:55  \n",
       "                                                          longer                                      \n",
       "                                                          session/system                              \n",
       "                                                                                                      \n",
       "  story writer     80c2c4d5-18c6-4dba-aafa-62293a70a598   story, writer          2024-12-02 21:41:55  \n",
       "                                                                                                      \n",
       "  story writer 4   5c0e08bc-fc1d-4948-ae8b-9f2d14e95a95   story, writer,         2024-12-02 16:54:31  \n",
       "                                                          longer                                      \n",
       "                                                          session/system                              \n",
       "                                                                                                      \n",
       "  story writer     7ad65ce6-24dd-4856-9c87-6ddf7a701b77   story, writer          2024-12-02 16:54:31  \n",
       "                                                                                                      \n",
       "  story writer 4   d91efa22-8ac3-4309-816e-b6f0715d8652   story, writer,         2024-12-02 16:45:32  \n",
       "                                                          longer                                      \n",
       "                                                          session/system                              \n",
       "                                                                                                      \n",
       "  story writer     3f998cf7-1cd3-412b-b565-386bb4b19793   story, writer          2024-12-02 16:45:32  \n",
       "                                                                                                      \n",
       "  story writer 4   f0476a40-d022-46cc-b49a-8326129311f4                          2024-12-02 16:35:23  \n",
       "                                                                                                      \n",
       "  story writer     cc0b774f-a439-4b6f-9cc5-c06626850297                          2024-12-02 16:35:23  \n",
       "                                                                                                      \n"
      ]
     },
     "metadata": {},
     "output_type": "display_data"
    }
   ],
   "source": [
    "project=brain_client.project(\"Test2\")\n",
    "brain_client.list_reasoners(project=project)\n",
    "brain_client.list_multiagents(project=project)"
   ]
  },
  {
   "cell_type": "code",
   "execution_count": null,
   "metadata": {},
   "outputs": [
    {
     "name": "stdout",
     "output_type": "stream",
     "text": [
      "next_line='One day, a mysterious traveler arrived, claiming to hold the key to a long-lost treasure hidden deep within the enchanted woods.'\n"
     ]
    }
   ],
   "source": [
    "print(brain_client.get_call_graph('77b43ccf-8929-4c64-ac0e-0090610d209b')['lineage'][2]['result'])"
   ]
  },
  {
   "cell_type": "code",
   "execution_count": null,
   "metadata": {},
   "outputs": [
    {
     "data": {
      "text/plain": [
       "{'session_id': '77b43ccf-8929-4c64-ac0e-0090610d209b',\n",
       " 'lineage': [{'session_id': '77b43ccf-8929-4c64-ac0e-0090610d209b',\n",
       "   'reasoner_id': '92b48f36-9340-4acd-a4c2-8a595dabbe4c',\n",
       "   'reasoner_name': 'extender',\n",
       "   'workflow_id': 'e47ad49b-adff-4f23-b122-c0ffbb99c11c',\n",
       "   'project_id': '944a6860-e2a7-4ec1-9909-50108974f60c',\n",
       "   'inputs': \"{'story': 'This is a story of '}\",\n",
       "   'result': \"next_line='a small village nestled in the heart of a vibrant forest, where the trees whispered secrets and the rivers sang lullabies.'\",\n",
       "   'timestamp': '2024-12-02T15:22:20.887587+00:00',\n",
       "   'stop_time': '2024-12-02T15:22:22.528907+00:00',\n",
       "   'duration': 1.64132},\n",
       "  {'session_id': '77b43ccf-8929-4c64-ac0e-0090610d209b',\n",
       "   'reasoner_id': '92b48f36-9340-4acd-a4c2-8a595dabbe4c',\n",
       "   'reasoner_name': 'extender',\n",
       "   'workflow_id': 'e47ad49b-adff-4f23-b122-c0ffbb99c11c',\n",
       "   'project_id': '944a6860-e2a7-4ec1-9909-50108974f60c',\n",
       "   'inputs': \"{'story': 'This is a story of a small village nestled in the heart of a vibrant forest, where the trees whispered secrets and the rivers sang lullabies.'}\",\n",
       "   'result': 'next_line=\"The villagers lived harmoniously with nature, drawing from the earth\\'s bounty while respecting the ancient spirits that guarded their home.\"',\n",
       "   'timestamp': '2024-12-02T15:22:22.532230+00:00',\n",
       "   'stop_time': '2024-12-02T15:22:23.234331+00:00',\n",
       "   'duration': 0.702101},\n",
       "  {'session_id': '77b43ccf-8929-4c64-ac0e-0090610d209b',\n",
       "   'reasoner_id': '92b48f36-9340-4acd-a4c2-8a595dabbe4c',\n",
       "   'reasoner_name': 'extender',\n",
       "   'workflow_id': 'e47ad49b-adff-4f23-b122-c0ffbb99c11c',\n",
       "   'project_id': '944a6860-e2a7-4ec1-9909-50108974f60c',\n",
       "   'inputs': '{\\'story\\': \"This is a story of a small village nestled in the heart of a vibrant forest, where the trees whispered secrets and the rivers sang lullabies.The villagers lived harmoniously with nature, drawing from the earth\\'s bounty while respecting the ancient spirits that guarded their home.\"}',\n",
       "   'result': \"next_line='One day, a mysterious traveler arrived, claiming to hold the key to a long-lost treasure hidden deep within the enchanted woods.'\",\n",
       "   'timestamp': '2024-12-02T15:22:23.237910+00:00',\n",
       "   'stop_time': '2024-12-02T15:22:24.230634+00:00',\n",
       "   'duration': 0.992724},\n",
       "  {'session_id': '77b43ccf-8929-4c64-ac0e-0090610d209b',\n",
       "   'reasoner_id': '92b48f36-9340-4acd-a4c2-8a595dabbe4c',\n",
       "   'reasoner_name': 'extender',\n",
       "   'workflow_id': 'e47ad49b-adff-4f23-b122-c0ffbb99c11c',\n",
       "   'project_id': '944a6860-e2a7-4ec1-9909-50108974f60c',\n",
       "   'inputs': '{\\'story\\': \"This is a story of a small village nestled in the heart of a vibrant forest, where the trees whispered secrets and the rivers sang lullabies.The villagers lived harmoniously with nature, drawing from the earth\\'s bounty while respecting the ancient spirits that guarded their home.One day, a mysterious traveler arrived, claiming to hold the key to a long-lost treasure hidden deep within the enchanted woods.\"}',\n",
       "   'result': \"next_line='The villagers, intrigued yet cautious, gathered around him as he spun tales of shimmering gold and enchanted artifacts, igniting their imaginations and ambition.'\",\n",
       "   'timestamp': '2024-12-02T15:22:24.235281+00:00',\n",
       "   'stop_time': '2024-12-02T15:22:25.560724+00:00',\n",
       "   'duration': 1.325443}]}"
      ]
     },
     "execution_count": 43,
     "metadata": {},
     "output_type": "execute_result"
    }
   ],
   "source": [
    "brain_client.get_call_graph('77b43ccf-8929-4c64-ac0e-0090610d209b')"
   ]
  },
  {
   "cell_type": "code",
   "execution_count": null,
   "metadata": {},
   "outputs": [
    {
     "name": "stdout",
     "output_type": "stream",
     "text": [
      "Once upon a time in a mystical forest, Elara is a vibrant young woman in her early twenties, standing at an ethereal 5'8'' with an athletic yet delicate build. Her long, cascading hair is a rich hue of midnight blue, reminiscent of a starry sky, often adorned with shimmering silver hairpins that catch the light and glint like tiny constellations. Her almond-shaped eyes are an enchanting shade of emerald green, flecked with gold, which seem to twinkle with mischief and intelligence. Elara's skin is a porcelain canvas, punctuated by a smattering of freckles over her nose and cheeks, giving her an air of youthful exuberance. \n",
      "\n",
      "She wears a unique blend of practical and whimsical clothing: a fitted tunic of soft leather dyed in deep shades of forest green, paired with flowing skirts that flutter like leaves in the wind. Intricate patterns of vines and flowers are embroidered along the hems, suggesting a deep connection to nature. Around her neck hangs a delicate silver pendant in the shape of a crescent moon, a family heirloom that glows faintly under the light of the moon.\n",
      "\n",
      "Elara possesses a rare affinity for the natural world, able to communicate subtly with plants and animals, which she often uses to aid her adventures. Cunning and resourceful, she often finds clever solutions to obstacles that others might overlook. Beyond her physical attributes, Elara's personality is equally illuminating—she is fiercely loyal to her friends, adventurous at heart, and exhibits a genuine curiosity about the world around her. Her laughter is infectious, and her spirit is unbreakable, making her a beacon of hope and joy to those who cross her path. Wise Owl is an ancient creature of the forest, embodying the wisdom of the ages. With feathers of deep chestnut and hints of silver that glisten like moonlight, he perches majestically on the highest branches of the tallest trees. His large, amber eyes are filled with an endless depth, reflecting the knowledge he has gathered over centuries, while his sharp beak is curved and perfectly designed for peeling and feasting on nuts and fruits from the woodland. Though we see only the surface of his soft, downy feathers, the patterns upon them tell stories of the forest’s history and the myriad beings that once roamed under his watchful gaze.\n",
      "\n",
      "Wise Owl speaks in a voice that is both soothing and authoritative, resonating like the gentle rustle of leaves in a breeze. His wisdom is sought by young animals of the forest who often gather beneath his perch, hoping to glean insight from his tales of old. With a gentle nod and a slight tilt of his head, he listens carefully to their worries and dreams before sharing parables that spark the imagination and evoke courage. He is both a guardian of secrets and a guide through life’s challenges, imparting lessons on friendship, bravery, and the importance of harmony within nature.\n",
      "\n",
      "In his company, time seems to stand still; the forest feels alive with his presence, and the air hums with a magical aura. At dusk, as the sun dips below the horizon, Wise Owl takes flight, his majestic wings casting shadows against the silver-lit sky, gliding silently between the trees, keeping watch over the woodland he so dearly loves.One fateful evening, while Elara sought the wisdom of Wise Owl beneath the sprawling branches of the ancient oak, she discovered an unusual shimmering feather on the forest floor, emanating a soft glow that seemed to pulse with a heartbeat of its own.As she bent down to examine the feather, a sudden whisper wafted through the air, hinting at an extraordinary quest that awaited her, one that would intertwine her destiny with the fate of the forest itself.Follow the glowing lights towards the hidden path, seeking clues about the Lumina's whereabouts.Elara follows the glowing lights until she reaches a fork in the path, where one side leads into a dark, shadowy part of the forest while the other glimmers with bright, radiant colors. She must decide quickly: enter the dark passage and face potential dangers to seek hidden truths, or follow the bright path in hopes of finding allies to aid her in the quest for Lumina. What choice will she make?\n"
     ]
    }
   ],
   "source": [
    "from typing import List\n",
    "\n",
    "from pydantic import BaseModel\n",
    "\n",
    "\n",
    "# Define schemas for the reasoners\n",
    "class Story(BaseModel):\n",
    "    story: str\n",
    "\n",
    "class Character(BaseModel):\n",
    "    name: str\n",
    "    description: str\n",
    "\n",
    "class Action(BaseModel):\n",
    "    story: str\n",
    "    next_action: str\n",
    "\n",
    "# Define reasoners\n",
    "@brain_client.reasoner(schema=Story)\n",
    "def extender(story):\n",
    "    return story, \"Continue the story by adding one more line.\"\n",
    "\n",
    "extender_id = extender.register()\n",
    "\n",
    "@brain_client.reasoner(schema=Character)\n",
    "def character_describer(name):\n",
    "    system_prompt = \"You are a creative writer.\"\n",
    "    user_prompt = f\"Describe the character named {name} in a detailed and imaginative manner.\"\n",
    "    return user_prompt,system_prompt\n",
    "\n",
    "character_id = character_describer.register()\n",
    "\n",
    "@brain_client.reasoner(schema=Action)\n",
    "def action_extender(story):\n",
    "    return story, \"Suggest the next action in the story, keeping it engaging.\"\n",
    "\n",
    "action_id = action_extender.register()\n",
    "\n",
    "# Multi-Agent Workflow\n",
    "@brain_client.multi_agent\n",
    "def story_builder(start: str, characters: List[str], n: int = 3):\n",
    "    # Initialize the story\n",
    "    story = start\n",
    "    \n",
    "    # Step 1: Describe characters\n",
    "    character_descriptions = [\n",
    "        brain_client.use(character_id)(name=name).description\n",
    "        for name in characters\n",
    "    ]\n",
    "    \n",
    "    # Append character descriptions to the story\n",
    "    for description in character_descriptions:\n",
    "        story += f\" {description}\"\n",
    "    \n",
    "    # Step 2: Extend the story with new lines\n",
    "    for _ in range(n):\n",
    "        story += brain_client.use(extender_id)(story=story).story\n",
    "    \n",
    "    # Step 3: Add actions to the story\n",
    "    for _ in range(n):\n",
    "        story += brain_client.use(action_id)(story=story).next_action\n",
    "    \n",
    "    return story\n",
    "\n",
    "# Example usage\n",
    "result = story_builder(\n",
    "    start=\"Once upon a time in a mystical forest,\",\n",
    "    characters=[\"Elara\", \"Wise Owl\"],\n",
    "    n=2\n",
    ")\n",
    "print(result)"
   ]
  },
  {
   "cell_type": "code",
   "execution_count": null,
   "metadata": {},
   "outputs": [
    {
     "data": {
      "text/html": [
       "<pre style=\"white-space:pre;overflow-x:auto;line-height:normal;font-family:Menlo,'DejaVu Sans Mono',consolas,'Courier New',monospace\"><span style=\"font-style: italic\">                                    MultiAgent Session Runs in Project: Default Project                                     </span>\n",
       "                                                                                                                            \n",
       " <span style=\"font-weight: bold\"> Session ID                           </span> <span style=\"font-weight: bold\">   MultiAgent    </span> <span style=\"font-weight: bold\"> Reasoner Calls       </span> <span style=\"font-weight: bold\">  Start Date &amp; Time  </span> <span style=\"font-weight: bold\"> Total Duration (s) </span> \n",
       " ────────────────────────────────────────────────────────────────────────────────────────────────────────────────────────── \n",
       "  ab36b24a-a474-4884-819c-3732ffd47173    story_builder    character_describer    2024-12-02 16:52:32         13.62         \n",
       "                                                           (3.25s) →                                                        \n",
       "                                                           character_describer                                              \n",
       "                                                           (2.58s) → extender                                               \n",
       "                                                           (1.31s) → extender                                               \n",
       "                                                           (0.93s) →                                                        \n",
       "                                                           action_extender                                                  \n",
       "                                                           (2.93s) →                                                        \n",
       "                                                           action_extender                                                  \n",
       "                                                           (2.63s)                                                          \n",
       "                                                                                                                            \n",
       "  d45dab07-e5c5-483d-af10-6789944ccd06   autonomous_tool   autonomous_tool        2024-12-02 15:45:48          3.07         \n",
       "                                                           (3.07s)                                                          \n",
       "                                                                                                                            \n",
       "  f4004dd0-08f9-4b08-a8cd-3f15e050afa3   autonomous_tool   autonomous_tool        2024-12-02 15:45:35          2.43         \n",
       "                                                           (2.43s)                                                          \n",
       "                                                                                                                            \n",
       "  2475cd71-9ac8-4ced-b635-e577f84c4b36    story_builder    character_describer    2024-12-02 15:44:01         16.23         \n",
       "                                                           (4.93s) →                                                        \n",
       "                                                           character_describer                                              \n",
       "                                                           (2.6s) → extender                                                \n",
       "                                                           (1.57s) → extender                                               \n",
       "                                                           (0.86s) →                                                        \n",
       "                                                           action_extender                                                  \n",
       "                                                           (3.16s) →                                                        \n",
       "                                                           action_extender                                                  \n",
       "                                                           (3.11s)                                                          \n",
       "                                                                                                                            \n",
       "  77b43ccf-8929-4c64-ac0e-0090610d209b   story writer 2    extender (1.64s) →     2024-12-02 15:22:20          4.66         \n",
       "                                                           extender (0.7s) →                                                \n",
       "                                                           extender (0.99s) →                                               \n",
       "                                                           extender (1.33s)                                                 \n",
       "                                                                                                                            \n",
       "  a3b84301-3f76-4177-985b-d0ac7cb3f478   story writer 2    extender (0.73s) →     2024-12-02 15:21:39          4.03         \n",
       "                                                           extender (0.86s) →                                               \n",
       "                                                           extender (0.96s) →                                               \n",
       "                                                           extender (1.49s)                                                 \n",
       "                                                                                                                            \n",
       "  210dde0c-f1f1-4282-97e5-bf3522404035    story writer     extender (0.6s) →      2024-12-02 15:20:50          3.97         \n",
       "                                                           extender (0.97s) →                                               \n",
       "                                                           extender (0.91s) →                                               \n",
       "                                                           extender (1.48s)                                                 \n",
       "                                                                                                                            \n",
       "  aab75113-1cab-41f5-90f8-88f83ecf1fcb    story writer     extender (0.91s) →     2024-12-02 15:20:28          1.94         \n",
       "                                                           extender (1.02s)                                                 \n",
       "                                                                                                                            \n",
       "</pre>\n"
      ],
      "text/plain": [
       "\u001b[3m                                    MultiAgent Session Runs in Project: Default Project                                     \u001b[0m\n",
       "                                                                                                                            \n",
       " \u001b[1m \u001b[0m\u001b[1mSession ID                          \u001b[0m\u001b[1m \u001b[0m \u001b[1m \u001b[0m\u001b[1m  MultiAgent   \u001b[0m\u001b[1m \u001b[0m \u001b[1m \u001b[0m\u001b[1mReasoner Calls      \u001b[0m\u001b[1m \u001b[0m \u001b[1m \u001b[0m\u001b[1m Start Date & Time \u001b[0m\u001b[1m \u001b[0m \u001b[1m \u001b[0m\u001b[1mTotal Duration (s)\u001b[0m\u001b[1m \u001b[0m \n",
       " ────────────────────────────────────────────────────────────────────────────────────────────────────────────────────────── \n",
       "  ab36b24a-a474-4884-819c-3732ffd47173    story_builder    character_describer    2024-12-02 16:52:32         13.62         \n",
       "                                                           (3.25s) →                                                        \n",
       "                                                           character_describer                                              \n",
       "                                                           (2.58s) → extender                                               \n",
       "                                                           (1.31s) → extender                                               \n",
       "                                                           (0.93s) →                                                        \n",
       "                                                           action_extender                                                  \n",
       "                                                           (2.93s) →                                                        \n",
       "                                                           action_extender                                                  \n",
       "                                                           (2.63s)                                                          \n",
       "                                                                                                                            \n",
       "  d45dab07-e5c5-483d-af10-6789944ccd06   autonomous_tool   autonomous_tool        2024-12-02 15:45:48          3.07         \n",
       "                                                           (3.07s)                                                          \n",
       "                                                                                                                            \n",
       "  f4004dd0-08f9-4b08-a8cd-3f15e050afa3   autonomous_tool   autonomous_tool        2024-12-02 15:45:35          2.43         \n",
       "                                                           (2.43s)                                                          \n",
       "                                                                                                                            \n",
       "  2475cd71-9ac8-4ced-b635-e577f84c4b36    story_builder    character_describer    2024-12-02 15:44:01         16.23         \n",
       "                                                           (4.93s) →                                                        \n",
       "                                                           character_describer                                              \n",
       "                                                           (2.6s) → extender                                                \n",
       "                                                           (1.57s) → extender                                               \n",
       "                                                           (0.86s) →                                                        \n",
       "                                                           action_extender                                                  \n",
       "                                                           (3.16s) →                                                        \n",
       "                                                           action_extender                                                  \n",
       "                                                           (3.11s)                                                          \n",
       "                                                                                                                            \n",
       "  77b43ccf-8929-4c64-ac0e-0090610d209b   story writer 2    extender (1.64s) →     2024-12-02 15:22:20          4.66         \n",
       "                                                           extender (0.7s) →                                                \n",
       "                                                           extender (0.99s) →                                               \n",
       "                                                           extender (1.33s)                                                 \n",
       "                                                                                                                            \n",
       "  a3b84301-3f76-4177-985b-d0ac7cb3f478   story writer 2    extender (0.73s) →     2024-12-02 15:21:39          4.03         \n",
       "                                                           extender (0.86s) →                                               \n",
       "                                                           extender (0.96s) →                                               \n",
       "                                                           extender (1.49s)                                                 \n",
       "                                                                                                                            \n",
       "  210dde0c-f1f1-4282-97e5-bf3522404035    story writer     extender (0.6s) →      2024-12-02 15:20:50          3.97         \n",
       "                                                           extender (0.97s) →                                               \n",
       "                                                           extender (0.91s) →                                               \n",
       "                                                           extender (1.48s)                                                 \n",
       "                                                                                                                            \n",
       "  aab75113-1cab-41f5-90f8-88f83ecf1fcb    story writer     extender (0.91s) →     2024-12-02 15:20:28          1.94         \n",
       "                                                           extender (1.02s)                                                 \n",
       "                                                                                                                            \n"
      ]
     },
     "metadata": {},
     "output_type": "display_data"
    }
   ],
   "source": [
    "brain_client.list_runs()"
   ]
  },
  {
   "cell_type": "code",
   "execution_count": null,
   "metadata": {},
   "outputs": [
    {
     "data": {
      "image/png": "[encoded data removed]",
      "text/plain": [
       "<Figure size 1400x500 with 1 Axes>"
      ]
     },
     "metadata": {},
     "output_type": "display_data"
    }
   ],
   "source": [
    "from brain.visualize import plot_workflow_matplotlib\n",
    "\n",
    "lineage=brain_client.get_call_graph('ab36b24a-a474-4884-819c-3732ffd47173')\n",
    "fig=plot_workflow_matplotlib(lineage['lineage'])"
   ]
  },
  {
   "cell_type": "markdown",
   "metadata": {},
   "source": [
    "## Modifier"
   ]
  },
  {
   "cell_type": "code",
   "execution_count": null,
   "metadata": {},
   "outputs": [],
   "source": [
    "import sys\n",
    "\n",
    "sys.path.append('..')"
   ]
  },
  {
   "cell_type": "code",
   "execution_count": 21,
   "metadata": {},
   "outputs": [],
   "source": [
    "\n",
    "from typing import Any, List, Optional, Type\n",
    "\n",
    "from pydantic import BaseModel, Field\n",
    "\n",
    "from brain import BaseModifier\n",
    "from brain.schema import MultiModalInput, TextPromptInput\n",
    "\n",
    "\n",
    "class COT(BaseModifier):\n",
    "    def __init__(self,num_steps=None):\n",
    "        self.num_steps=num_steps\n",
    "    \n",
    "    def get_cot_schema(self,num_steps: Optional[int], schema: Type[BaseModel]):\n",
    "        class Thought(BaseModel):\n",
    "            thought: str = Field(..., description=\"A single step in the chain of thought\")\n",
    "\n",
    "        if num_steps is not None:\n",
    "            # Prepare dynamic fields with proper type annotations\n",
    "            annotations: Dict[str, Any] = {\n",
    "                f\"thought_{i}\": Thought for i in range(1, num_steps + 1)\n",
    "            }\n",
    "            annotations[\"final_thought\"] = schema\n",
    "\n",
    "            # Prepare the attributes (fields) for the class\n",
    "            fields = {\n",
    "                f\"thought_{i}\": Field(..., description=f\"Step {i} in the chain of thought\")\n",
    "                for i in range(1, num_steps + 1)\n",
    "            }\n",
    "            fields[\"final_thought\"] = Field(..., description=\"Final conclusion or output\")\n",
    "\n",
    "            # Create the class dynamically\n",
    "            Steps = type(\n",
    "                \"Steps\",\n",
    "                (BaseModel,),\n",
    "                {\n",
    "                    \"__annotations__\": annotations,\n",
    "                    **fields,\n",
    "                },\n",
    "            )\n",
    "        else:\n",
    "            # Create a class with a list of thoughts and a final thought\n",
    "            from typing import List\n",
    "            class Steps(BaseModel):\n",
    "                thoughts: List[Thought] = Field(..., description=\"A list of steps in the chain of thought\")\n",
    "                final_thought: schema = Field(..., description=\"Final conclusion or output\")\n",
    "\n",
    "        return Steps\n",
    "        \n",
    "    def modify(self, input:MultiModalInput, schema:BaseModel,model:Any)->BaseModel:\n",
    "        input.text.system_prompt += (\n",
    "            \"\\n\\nPlease think step by step and provide a chain of thought reasoning \"\n",
    "            \"with multiple steps with final step being the answer.\"\n",
    "        )\n",
    "        cot_schema=self.get_cot_schema(self.num_steps,schema)\n",
    "        response=model.generate(input.format(),schema=cot_schema)\n",
    "        print(response)\n",
    "        return response.final_thought\n",
    "        \n",
    "        "
   ]
  },
  {
   "cell_type": "code",
   "execution_count": 22,
   "metadata": {},
   "outputs": [],
   "source": [
    "from pydantic import BaseModel\n",
    "\n",
    "from brain.sdk import BrainClient\n",
    "\n",
    "\n",
    "class FooSchema(BaseModel):\n",
    "    answer:str\n",
    "    explanation:str\n",
    "\n",
    "brain_client = BrainClient(\"http://127.0.0.1:8000\")\n",
    "\n",
    "@brain_client.reasoner(schema=FooSchema)\n",
    "def foo(system_prompt=\"You are helpful ai agent\", user_prompt=\"what is 2+2\"):\n",
    "    return MultiModalInput(text=TextPromptInput(system_prompt=system_prompt, user_prompt=user_prompt))"
   ]
  },
  {
   "cell_type": "code",
   "execution_count": 24,
   "metadata": {},
   "outputs": [
    {
     "name": "stdout",
     "output_type": "stream",
     "text": [
      "Without COT : answer='2' explanation=\"The word 'STRAWBERRY' contains two occurrences of the letter 'R'.\"\n",
      "With COT : answer='3' explanation=\"The word 'STRAWBERRY' contains the letter 'R' three times.\"\n"
     ]
    }
   ],
   "source": [
    "import time\n",
    "\n",
    "function_id = foo.register()\n",
    "\n",
    "question = \"How many R's are there in the word 'STRAWBERRY'?\"\n",
    "\n",
    "result = brain_client.use(function_id)(\n",
    "    system_prompt=\"You are helpful ai agent\", user_prompt=question\n",
    ")\n",
    "result_cot = brain_client.use(function_id, modifier=COT(num_steps=5))(\n",
    "    system_prompt=\"You are helpful ai agent\", user_prompt=question\n",
    ")\n",
    "\n",
    "print(f\"Without COT : {result}\\nWith COT : {result_cot}\")"
   ]
  },
  {
   "cell_type": "code",
   "execution_count": 29,
   "metadata": {},
   "outputs": [
    {
     "name": "stdout",
     "output_type": "stream",
     "text": [
      "Wall time for 5 async: 2.271730899810791 seconds\n"
     ]
    }
   ],
   "source": [
    "start_time = time.time()\n",
    "num_executions = 5\n",
    "# Use the function\n",
    "futs = [\n",
    "    brain_client.use(function_id, modifier=COT(), run_async=True)(\n",
    "        system_prompt=\"You are helpful ai agent\", user_prompt=question\n",
    "    )\n",
    "    for _ in range(num_executions)\n",
    "]\n",
    "results = [fut.result() for fut in futs]\n",
    "\n",
    "end_time = time.time()\n",
    "print(f\"Wall time for 5 async: {end_time - start_time} seconds\")"
   ]
  },
  {
   "cell_type": "code",
   "execution_count": 31,
   "metadata": {},
   "outputs": [
    {
     "data": {
      "text/plain": [
       "['3', '3', '3', '3', '3']"
      ]
     },
     "execution_count": 31,
     "metadata": {},
     "output_type": "execute_result"
    }
   ],
   "source": [
    "[result.answer for result in results]"
   ]
  },
  {
   "cell_type": "code",
   "execution_count": null,
   "metadata": {},
   "outputs": [],
   "source": []
  }
 ],
 "metadata": {
  "kernelspec": {
   "display_name": "Python 3",
   "language": "python",
   "name": "python3"
  },
  "language_info": {
   "codemirror_mode": {
    "name": "ipython",
    "version": 3
   },
   "file_extension": ".py",
   "mimetype": "text/x-python",
   "name": "python",
   "nbconvert_exporter": "python",
   "pygments_lexer": "ipython3",
   "version": "3.10.15"
  }
 },
 "nbformat": 4,
 "nbformat_minor": 2
}
