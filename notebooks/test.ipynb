{
 "cells": [
  {
   "cell_type": "code",
   "execution_count": null,
   "metadata": {},
   "outputs": [],
   "source": [
    "import sys; sys.path.append('..')\n",
    "from brain.sdk import BrainClient\n",
    "from brain.schema import MultiModalInput,TextPromptInput"
   ]
  },
  {
   "cell_type": "code",
   "execution_count": 13,
   "metadata": {},
   "outputs": [],
   "source": [
    "from pydantic import BaseModel\n",
    "\n",
    "\n",
    "class FooSchema(BaseModel):\n",
    "    answer:str\n",
    "    explanation:str\n",
    "\n",
    "brain_client = BrainClient(\"http://127.0.0.1:8000\")\n",
    "\n",
    "@brain_client.reasoner(schema=FooSchema)\n",
    "def foo(system_prompt=\"You are helpful ai agent\", user_prompt=\"what is 2+2\"):\n",
    "    return MultiModalInput(text=TextPromptInput(system_prompt=system_prompt, user_prompt=user_prompt))"
   ]
  },
  {
   "cell_type": "code",
   "execution_count": 14,
   "metadata": {},
   "outputs": [
    {
     "name": "stdout",
     "output_type": "stream",
     "text": [
      "Registered Reasoner ID: foo_v2\n",
      "Result: answer='4' explanation='The equation 2 + 2 is a basic arithmetic addition, where two is added to another two, resulting in four.'\n"
     ]
    }
   ],
   "source": [
    "function_id = foo.register()\n",
    "print(f\"Registered Reasoner ID: {function_id}\")\n",
    "\n",
    "# Use the function\n",
    "result = brain_client.use(function_id)(system_prompt=\"You are helpful ai agent\", user_prompt=\"what is 2+2\")\n",
    "print(f\"Result: {result}\")"
   ]
  },
  {
   "cell_type": "code",
   "execution_count": 15,
   "metadata": {},
   "outputs": [
    {
     "name": "stdout",
     "output_type": "stream",
     "text": [
      "Registered Reasoner ID: foo_v3\n",
      "Result: answer='4' explanation='The operation 2 + 2 is a basic arithmetic addition where the numbers 2 and 2 are combined to yield a sum of 4.'\n"
     ]
    }
   ],
   "source": [
    "@brain_client.reasoner(schema=FooSchema)\n",
    "def foo(user_prompt):\n",
    "    return user_prompt\n",
    "\n",
    "function_id = foo.register()\n",
    "print(f\"Registered Reasoner ID: {function_id}\")\n",
    "\n",
    "# Use the function\n",
    "result = brain_client.use(function_id)(user_prompt=\"what is 2+2\")\n",
    "print(f\"Result: {result}\")"
   ]
  },
  {
   "cell_type": "code",
   "execution_count": 16,
   "metadata": {},
   "outputs": [
    {
     "name": "stdout",
     "output_type": "stream",
     "text": [
      "Registered Reasoner ID: foo_v4\n",
      "Result: answer='4' explanation='When you add 2 and 2 together, you get 4. This is a basic arithmetic operation. Also, I am a king, which means I rule over my understanding of numbers!'\n"
     ]
    }
   ],
   "source": [
    "@brain_client.reasoner(schema=FooSchema)\n",
    "def foo(user_prompt):\n",
    "    return user_prompt,\"you are a math genious, add to the explanation that 'i am a king'\"\n",
    "\n",
    "function_id = foo.register()\n",
    "print(f\"Registered Reasoner ID: {function_id}\")\n",
    "\n",
    "# Use the function\n",
    "result = brain_client.use(function_id)(user_prompt=\"what is 2+2\")\n",
    "print(f\"Result: {result}\")"
   ]
  },
  {
   "cell_type": "code",
   "execution_count": 1,
   "metadata": {},
   "outputs": [],
   "source": [
    "from pydantic import BaseModel\n",
    "from brain.sdk import BrainClient\n",
    "\n",
    "class Story(BaseModel):\n",
    "    next_line:str\n",
    "\n",
    "\n",
    "brain_client = BrainClient(\"http://127.0.0.1:8000\")\n",
    "\n",
    "@brain_client.reasoner(schema=Story)\n",
    "def extender(story):\n",
    "    return story,\"You are the best story continuer, continue the story by adding one more lines.\"\n",
    "\n",
    "extender_id = extender.register()"
   ]
  },
  {
   "cell_type": "code",
   "execution_count": 2,
   "metadata": {},
   "outputs": [],
   "source": [
    "@brain_client.multi_agent\n",
    "def story_writer(start, n=3):\n",
    "    story = start\n",
    "    for i in range(n):\n",
    "        story += brain_client.use(extender_id)(story=story).next_line\n",
    "    return story\n"
   ]
  },
  {
   "cell_type": "code",
   "execution_count": 3,
   "metadata": {},
   "outputs": [],
   "source": [
    "result = story_writer(start=\"This is a story of \")"
   ]
  },
  {
   "cell_type": "code",
   "execution_count": 4,
   "metadata": {},
   "outputs": [
    {
     "name": "stdout",
     "output_type": "stream",
     "text": [
      "This is a story of a young girl named Elara, who discovered a hidden portal in the woods that transported her to a magical realm filled with talking animals and enchanted landscapes\n",
      "\n",
      "As she stepped through the shimmering gateway, a wise old owl descended from the trees, offering to guide her on an adventure beyond her wildest dreams\n",
      "\n",
      "With a flutter of his wings, the owl perched on her shoulder and said, \"Follow me, Elara, for the forest ahead holds secrets waiting to be uncovered and friends longing to be made\n",
      "\n",
      "\"\n",
      "\n"
     ]
    }
   ],
   "source": [
    "for i in result.split(\".\"):\n",
    "    print(i+\"\\n\")"
   ]
  },
  {
   "cell_type": "code",
   "execution_count": 5,
   "metadata": {},
   "outputs": [
    {
     "name": "stdout",
     "output_type": "stream",
     "text": [
      "next_line='With a flutter of his wings, the owl perched on her shoulder and said, \"Follow me, Elara, for the forest ahead holds secrets waiting to be uncovered and friends longing to be made.\"'\n"
     ]
    }
   ],
   "source": [
    "print(brain_client.get_call_graph('874aa10c-d39f-4a0b-962a-a4cd8c4ce98a')['lineage'][2]['result'])"
   ]
  },
  {
   "cell_type": "code",
   "execution_count": 6,
   "metadata": {},
   "outputs": [
    {
     "data": {
      "text/plain": [
       "{'session_id': '874aa10c-d39f-4a0b-962a-a4cd8c4ce98a',\n",
       " 'lineage': [{'session_id': '874aa10c-d39f-4a0b-962a-a4cd8c4ce98a',\n",
       "   'reasoner_id': 'extender_v1',\n",
       "   'inputs': \"{'story': 'This is a story of '}\",\n",
       "   'result': \"next_line='a young girl named Elara, who discovered a hidden portal in the woods that transported her to a magical realm filled with talking animals and enchanted landscapes.'\",\n",
       "   'timestamp': '2024-11-26T23:36:48.868661+00:00',\n",
       "   'stop_time': '2024-11-26T23:36:50.606054+00:00',\n",
       "   'duration': 1.737393},\n",
       "  {'session_id': '874aa10c-d39f-4a0b-962a-a4cd8c4ce98a',\n",
       "   'reasoner_id': 'extender_v1',\n",
       "   'inputs': \"{'story': 'This is a story of a young girl named Elara, who discovered a hidden portal in the woods that transported her to a magical realm filled with talking animals and enchanted landscapes.'}\",\n",
       "   'result': \"next_line='As she stepped through the shimmering gateway, a wise old owl descended from the trees, offering to guide her on an adventure beyond her wildest dreams.'\",\n",
       "   'timestamp': '2024-11-26T23:36:50.610188+00:00',\n",
       "   'stop_time': '2024-11-26T23:36:51.426267+00:00',\n",
       "   'duration': 0.816079},\n",
       "  {'session_id': '874aa10c-d39f-4a0b-962a-a4cd8c4ce98a',\n",
       "   'reasoner_id': 'extender_v1',\n",
       "   'inputs': \"{'story': 'This is a story of a young girl named Elara, who discovered a hidden portal in the woods that transported her to a magical realm filled with talking animals and enchanted landscapes.As she stepped through the shimmering gateway, a wise old owl descended from the trees, offering to guide her on an adventure beyond her wildest dreams.'}\",\n",
       "   'result': 'next_line=\\'With a flutter of his wings, the owl perched on her shoulder and said, \"Follow me, Elara, for the forest ahead holds secrets waiting to be uncovered and friends longing to be made.\"\\'',\n",
       "   'timestamp': '2024-11-26T23:36:51.429968+00:00',\n",
       "   'stop_time': '2024-11-26T23:36:52.335095+00:00',\n",
       "   'duration': 0.905127}]}"
      ]
     },
     "execution_count": 6,
     "metadata": {},
     "output_type": "execute_result"
    }
   ],
   "source": [
    "brain_client.get_call_graph('874aa10c-d39f-4a0b-962a-a4cd8c4ce98a')"
   ]
  },
  {
   "cell_type": "code",
   "execution_count": null,
   "metadata": {},
   "outputs": [
    {
     "name": "stdout",
     "output_type": "stream",
     "text": [
      "Once upon a time in a mystical forest, Elara is a striking figure with a tall, slender frame that moves with both grace and purpose. Her long, cascading hair resembles the deep indigo of a night sky speckled with twinkling stars, often adorned with delicate silver ribbons that catch the light in a whimsical dance. Her eyes are a mesmerizing shade of emerald green, sparkling with intelligence and a hint of mischief, framed by thick lashes that seem to emphasize her emotions with every flutter. \n",
      "\n",
      "Elara wears a long cloak made from an ethereal fabric that appears to shimmer and change color with her movements, a visual representation of her ever-shifting moods. Underneath, she dons a fitted ensemble of soft leather, allowing her the freedom to traverse the wildest terrains with ease. Her fingers, often stained with hints of potions and herbs, are nimble and quick, skilled in the arts of alchemy and herbalism.\n",
      "\n",
      "Born under a crescent moon, Elara possesses a mystical aura that draws people in, yet she often prefers the solitude of the forest or a quiet starlit sky, where she can connect with the natural world. Her voice, melodious and soothing, has the power to calm even the most chaotic of hearts, making her a natural healer. With a quick wit and a sense of humor that can light up even the darkest of nights, Elara embodies the spirit of adventure and mystery, always seeking the hidden wonders of her world. With feathers that shimmer in hues of deep brown and gold, Wise Owl perches high upon the ancient oak tree, a sentinel of the forest. His large, round eyes are like two shimmering pools of amber, reflecting the wisdom of ages past and the mysteries of the night. Each feather tells a story, whispering secrets of the moonlit woods and the comings and goings of its inhabitants. Wise Owl is known throughout the land as a sage, often sought after by weary travelers and curious creatures alike, seeking guidance and knowledge. His low, melodic hoot resonates through the quiet of the night, inviting all who hear it to pause and ponder the deeper truths of life. With a calm demeanor, he listens intently, often ruffling his feathers in thought before sharing pearls of wisdom wrapped in riddles and proverbs. He embodies patience and understanding, a tranquil spirit who believes in the balance of nature and the interconnectedness of all beings.One fateful evening, as the sun dipped beneath the horizon and stars began to twinkle in the dusky sky, Elara stumbled upon an ancient, hidden glade where the air was thick with enchantment, promising the discovery of something magical yet unforeseen.The moment she stepped into the glade, a soft glow illuminated her surroundings, and at its center stood a shimmering pool, said to grant a single wish to those truly worthy.Elara approaches the shimmering pool, captivated by its enchanting glow. As she reaches out to touch the water's surface, the air around her hums with energy, and she begins to reflect on her deepest desire. Suddenly, Wise Owl swoops down from his perch, landing beside her with a wise gaze, urging her to consider the implications of her wish. 'Remember, young one,' he hoots softly, 'what you seek may not always be what you truly need.' Elara must now decide whether to voice her wish or heed the owl's warning.Elara closes her eyes, takes a deep breath, and instead of making a wish, she asks the pool a question: 'What must I learn to truly connect with myself and the forest around me?' The pool's surface ripples, and to her astonishment, images begin to form, revealing fragments of her past, present, and hints of her future. The glow intensifies, illuminating the way forward as she steps deeper into the glade, ready to seek the answers hidden within.\n"
     ]
    }
   ],
   "source": [
    "from pydantic import BaseModel\n",
    "from typing import List\n",
    "\n",
    "# Define schemas for the reasoners\n",
    "class Story(BaseModel):\n",
    "    story: str\n",
    "\n",
    "class Character(BaseModel):\n",
    "    name: str\n",
    "    description: str\n",
    "\n",
    "class Action(BaseModel):\n",
    "    story: str\n",
    "    next_action: str\n",
    "\n",
    "# Define reasoners\n",
    "@brain_client.reasoner(schema=Story)\n",
    "def extender(story):\n",
    "    return story, \"Continue the story by adding one more line.\"\n",
    "\n",
    "extender_id = extender.register()\n",
    "\n",
    "@brain_client.reasoner(schema=Character)\n",
    "def character_describer(name):\n",
    "    system_prompt = \"You are a creative writer.\"\n",
    "    user_prompt = f\"Describe the character named {name} in a detailed and imaginative manner.\"\n",
    "    return user_prompt,system_prompt\n",
    "\n",
    "character_id = character_describer.register()\n",
    "\n",
    "@brain_client.reasoner(schema=Action)\n",
    "def action_extender(story):\n",
    "    return story, \"Suggest the next action in the story, keeping it engaging.\"\n",
    "\n",
    "action_id = action_extender.register()\n",
    "\n",
    "# Multi-Agent Workflow\n",
    "@brain_client.multi_agent\n",
    "def story_builder(start: str, characters: List[str], n: int = 3):\n",
    "    # Initialize the story\n",
    "    story = start\n",
    "    \n",
    "    # Step 1: Describe characters\n",
    "    character_descriptions = [\n",
    "        brain_client.use(character_id)(name=name).description\n",
    "        for name in characters\n",
    "    ]\n",
    "    \n",
    "    # Append character descriptions to the story\n",
    "    for description in character_descriptions:\n",
    "        story += f\" {description}\"\n",
    "    \n",
    "    # Step 2: Extend the story with new lines\n",
    "    for _ in range(n):\n",
    "        story += brain_client.use(extender_id)(story=story).story\n",
    "    \n",
    "    # Step 3: Add actions to the story\n",
    "    for _ in range(n):\n",
    "        story += brain_client.use(action_id)(story=story).next_action\n",
    "    \n",
    "    return story\n",
    "\n",
    "# Example usage\n",
    "result = story_builder(\n",
    "    start=\"Once upon a time in a mystical forest,\",\n",
    "    characters=[\"Elara\", \"Wise Owl\"],\n",
    "    n=2\n",
    ")\n",
    "print(result)\n"
   ]
  },
  {
   "cell_type": "code",
   "execution_count": 48,
   "metadata": {},
   "outputs": [
    {
     "data": {
      "image/png": "[encoded data removed]",
      "text/plain": [
       "<Figure size 1400x500 with 1 Axes>"
      ]
     },
     "metadata": {},
     "output_type": "display_data"
    }
   ],
   "source": [
    "from brain.visualize import plot_workflow_matplotlib\n",
    "lineage=brain_client.get_call_graph('2b933732-93a9-447f-b19f-8b49dff7e693')\n",
    "fig=plot_workflow_matplotlib(lineage['lineage'])"
   ]
  },
  {
   "cell_type": "code",
   "execution_count": null,
   "metadata": {},
   "outputs": [],
   "source": []
  }
 ],
 "metadata": {
  "kernelspec": {
   "display_name": "Python 3",
   "language": "python",
   "name": "python3"
  },
  "language_info": {
   "codemirror_mode": {
    "name": "ipython",
    "version": 3
   },
   "file_extension": ".py",
   "mimetype": "text/x-python",
   "name": "python",
   "nbconvert_exporter": "python",
   "pygments_lexer": "ipython3",
   "version": "3.10.15"
  }
 },
 "nbformat": 4,
 "nbformat_minor": 2
}
