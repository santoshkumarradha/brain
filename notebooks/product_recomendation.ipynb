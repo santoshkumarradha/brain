{
 "cells": [
  {
   "cell_type": "code",
   "execution_count": 1,
   "metadata": {},
   "outputs": [],
   "source": [
    "import sys; sys.path.append('..')\n",
    "from typing import List\n",
    "\n",
    "from pydantic import BaseModel, Field\n",
    "\n",
    "from brain.sdk import BrainClient"
   ]
  },
  {
   "cell_type": "code",
   "execution_count": 2,
   "metadata": {},
   "outputs": [],
   "source": [
    "brain_client = BrainClient(\"http://127.0.0.1:8000\")"
   ]
  },
  {
   "cell_type": "code",
   "execution_count": 3,
   "metadata": {},
   "outputs": [],
   "source": [
    "# Global mock data\n",
    "_MOCK_DATA = {\n",
    "    \"products\": [\n",
    "        {\"category\": \"fitness\", \"name\": \"Fitness Tracker A\", \"price\": 80.0, \"rating\": 4.3},\n",
    "        {\"category\": \"fitness\", \"name\": \"Yoga Mat Pro\", \"price\": 50.0, \"rating\": 4.0},\n",
    "        {\"category\": \"gadgets\", \"name\": \"Smartwatch X\", \"price\": 200.0, \"rating\": 4.7},\n",
    "        {\"category\": \"gadgets\", \"name\": \"Noise-Cancelling Headphones\", \"price\": 150.0, \"rating\": 4.6},\n",
    "        {\"category\": \"home\", \"name\": \"Vacuum Cleaner Z\", \"price\": 120.0, \"rating\": 4.1},  # Irrelevant\n",
    "        {\"category\": \"home\", \"name\": \"Air Purifier\", \"price\": 130.0, \"rating\": 4.4},  # Irrelevant\n",
    "    ],\n",
    "    \"reviews\": {\n",
    "        \"Fitness Tracker A\": [\"Great for tracking steps\", \"Affordable and durable\", \"Battery life could be better\"],\n",
    "        \"Yoga Mat Pro\": [\"Good grip\", \"Too thin for comfort\", \"Easy to clean\"],\n",
    "        \"Smartwatch X\": [\"Amazing features\", \"Sleek design\", \"Pricey but worth it\"],\n",
    "        \"Noise-Cancelling Headphones\": [\"Great sound quality\", \"Perfect for travel\", \"Comfortable for long use\"],\n",
    "    }\n",
    "}\n"
   ]
  },
  {
   "cell_type": "code",
   "execution_count": 4,
   "metadata": {},
   "outputs": [],
   "source": [
    "class ProfileAnalysis(BaseModel):\n",
    "    categories: List[str] = Field(..., description=\"The list of product categories the user is interested in.\")\n",
    "    budget: str = Field(..., description=\"The user's budget preference, e.g., 'low', 'mid', 'high'.\")\n",
    "    preferred_brands: List[str] = Field(..., description=\"List of user's preferred brands.\")\n",
    "\n",
    "\n",
    "@brain_client.reasoner(schema=ProfileAnalysis)\n",
    "def profile_analyzer(profile: dict):\n",
    "    categories = profile.get(\"interests\", [])\n",
    "    budget = profile.get(\"budget\", \"mid-range\")\n",
    "    preferred_brands = profile.get(\"preferred_brands\", [])\n",
    "\n",
    "    if not categories:\n",
    "        categories = [\"general\"]\n",
    "\n",
    "    return (\n",
    "        f\"User profile: categories={categories}, budget={budget}, preferred_brands={preferred_brands}\",\n",
    "        \"Analyze the user's profile and extract categories, budget, and brand preferences.\"\n",
    "    )\n",
    "profile_analyzer_id = profile_analyzer.register()"
   ]
  },
  {
   "cell_type": "code",
   "execution_count": 5,
   "metadata": {},
   "outputs": [],
   "source": [
    "class Product(BaseModel):\n",
    "    name: str = Field(..., description=\"The name of the product.\")\n",
    "    price: float = Field(..., description=\"The price of the product.\")\n",
    "    rating: float = Field(..., description=\"The rating of the product out of 5.\")\n",
    "\n",
    "class TrendingProducts(BaseModel):\n",
    "    category: str = Field(..., description=\"The product category.\")\n",
    "    products: List[Product] = Field(..., description=\"List of trending products in this category.\")\n",
    "\n",
    "\n",
    "@brain_client.reasoner(schema=TrendingProducts)\n",
    "def trend_detector(categories: List[str], budget: str):\n",
    "    budget_range = {\n",
    "        \"low\": (0, 100),\n",
    "        \"mid\": (101, 200),\n",
    "        \"high\": (201, 500),\n",
    "    }\n",
    "\n",
    "    min_price, max_price = budget_range.get(budget, (0, 500))\n",
    "\n",
    "    # Filter mock data for relevant products\n",
    "    relevant_products = [\n",
    "        Product(name=p[\"name\"], price=p[\"price\"], rating=p[\"rating\"])\n",
    "        for p in _MOCK_DATA[\"products\"]\n",
    "        if p[\"category\"] in categories and min_price <= p[\"price\"] <= max_price\n",
    "    ]\n",
    "\n",
    "    return (\n",
    "        f\"Relevant products: {relevant_products}\",\n",
    "        f\"Find trending products in categories={categories} within budget={budget}.\"\n",
    "    )\n",
    "trend_detector_id = trend_detector.register()"
   ]
  },
  {
   "cell_type": "code",
   "execution_count": 6,
   "metadata": {},
   "outputs": [],
   "source": [
    "# %%\n",
    "class RankedProduct(BaseModel):\n",
    "    name: str = Field(..., description=\"The name of the product.\")\n",
    "    rank_score: float = Field(..., description=\"The ranking score of the product.\")\n",
    "    availability: bool = Field(..., description=\"Whether the product is in stock.\")\n",
    "\n",
    "class RankedProducts(BaseModel):\n",
    "    products: List[RankedProduct] = Field(..., description=\"List of ranked products.\")\n",
    "\n",
    "\n",
    "@brain_client.reasoner(schema=RankedProducts)\n",
    "def product_ranker(products: List[Product], preferences: ProfileAnalysis):\n",
    "    # Add scoring logic based on rating and availability\n",
    "    ranked = [\n",
    "        RankedProduct(name=product.name, rank_score=product.rating * 10, availability=True)\n",
    "        for product in products\n",
    "    ]\n",
    "    return (\n",
    "        f\"Ranked products: {ranked}\",\n",
    "        \"Rank products based on user preferences, rating, and availability.\"\n",
    "    )\n",
    "product_ranker_id = product_ranker.register()"
   ]
  },
  {
   "cell_type": "code",
   "execution_count": 7,
   "metadata": {},
   "outputs": [],
   "source": [
    "class ReviewSummary(BaseModel):\n",
    "    product_name: str = Field(..., description=\"The name of the product.\")\n",
    "    review_points: List[str] = Field(..., description=\"Key points from customer reviews.\")\n",
    "    sentiment: str = Field(..., description=\"The overall sentiment of reviews (positive, neutral, negative).\")\n",
    "\n",
    "\n",
    "@brain_client.reasoner(schema=ReviewSummary)\n",
    "def review_summarizer(product: RankedProduct):\n",
    "    # Fetch reviews from mock data\n",
    "    reviews = _MOCK_DATA[\"reviews\"].get(product.name, [\"No reviews available\"])\n",
    "    sentiment = \"positive\" if len(reviews) > 2 else \"neutral\"\n",
    "\n",
    "    return (\n",
    "        f\"Summarized reviews for {product.name}\",\n",
    "        f\"Summarize reviews for the product {product.name}, analyzing sentiment={sentiment}.\"\n",
    "    )\n",
    "review_summarizer_id = review_summarizer.register()"
   ]
  },
  {
   "cell_type": "code",
   "execution_count": 8,
   "metadata": {},
   "outputs": [],
   "source": [
    "class FinalRecommendation(BaseModel):\n",
    "    product_name: str = Field(..., description=\"The name of the recommended product.\")\n",
    "    reason: str = Field(..., description=\"The reasoning behind this recommendation.\")\n",
    "\n",
    "class FinalRecommendations(BaseModel):\n",
    "    recommendations: List[FinalRecommendation] = Field(..., description=\"List of final recommendations.\")\n",
    "\n",
    "\n",
    "@brain_client.reasoner(schema=FinalRecommendations)\n",
    "def recommendation_generator(ranked_products: List[RankedProduct], reviews: List[ReviewSummary]):\n",
    "    recommendations = [\n",
    "        FinalRecommendation(\n",
    "            product_name=product.name,\n",
    "            reason=f\"{product.name} is highly rated with {review.sentiment} reviews.\"\n",
    "        )\n",
    "        for product, review in zip(ranked_products, reviews)\n",
    "    ]\n",
    "    return (\n",
    "        f\"Final recommendations: {recommendations}\",\n",
    "        \"Generate actionable recommendations based on ranked products and reviews.\"\n",
    "    )\n",
    "recommendation_generator_id = recommendation_generator.register()"
   ]
  },
  {
   "cell_type": "code",
   "execution_count": 9,
   "metadata": {},
   "outputs": [],
   "source": [
    "@brain_client.multi_agent\n",
    "def generate_recommendations(profile: dict):\n",
    "    # Step 1: Analyze the user profile\n",
    "    profile_analysis = brain_client.use(profile_analyzer_id)(profile=profile)\n",
    "\n",
    "    # Step 2: Find trending products for user preferences\n",
    "    trending_data = brain_client.use(trend_detector_id)(\n",
    "        categories=profile_analysis.categories, budget=profile_analysis.budget\n",
    "    )\n",
    "\n",
    "    # Step 3: Rank the products\n",
    "    ranked_products = brain_client.use(product_ranker_id)(\n",
    "        products=trending_data.products, preferences=profile_analysis\n",
    "    )\n",
    "\n",
    "    # Step 4: Summarize reviews for the top-ranked products\n",
    "    review_summaries = [\n",
    "        brain_client.use(review_summarizer_id)(product=product)\n",
    "        for product in ranked_products.products[:3]\n",
    "    ]\n",
    "\n",
    "    # Step 5: Generate final recommendations\n",
    "    final_recommendations = brain_client.use(recommendation_generator_id)(\n",
    "        ranked_products=ranked_products.products, reviews=review_summaries\n",
    "    )\n",
    "\n",
    "    return final_recommendations"
   ]
  },
  {
   "cell_type": "code",
   "execution_count": 10,
   "metadata": {},
   "outputs": [
    {
     "data": {
      "text/html": [
       "<pre style=\"white-space:pre;overflow-x:auto;line-height:normal;font-family:Menlo,'DejaVu Sans Mono',consolas,'Courier New',monospace\"><span style=\"color: #800080; text-decoration-color: #800080; font-weight: bold\">FinalRecommendations</span><span style=\"font-weight: bold\">(</span>\n",
       "    <span style=\"color: #808000; text-decoration-color: #808000\">recommendations</span>=<span style=\"font-weight: bold\">[</span>\n",
       "        <span style=\"color: #800080; text-decoration-color: #800080; font-weight: bold\">FinalRecommendation</span><span style=\"font-weight: bold\">(</span>\n",
       "            <span style=\"color: #808000; text-decoration-color: #808000\">product_name</span>=<span style=\"color: #008000; text-decoration-color: #008000\">'Smartwatch X'</span>,\n",
       "            <span style=\"color: #808000; text-decoration-color: #808000\">reason</span>=<span style=\"color: #008000; text-decoration-color: #008000\">'Smartwatch X is highly rated with positive reviews, indicating high customer satisfaction and </span>\n",
       "<span style=\"color: #008000; text-decoration-color: #008000\">reliability.'</span>\n",
       "        <span style=\"font-weight: bold\">)</span>\n",
       "    <span style=\"font-weight: bold\">]</span>\n",
       "<span style=\"font-weight: bold\">)</span>\n",
       "</pre>\n"
      ],
      "text/plain": [
       "\u001b[1;35mFinalRecommendations\u001b[0m\u001b[1m(\u001b[0m\n",
       "    \u001b[33mrecommendations\u001b[0m=\u001b[1m[\u001b[0m\n",
       "        \u001b[1;35mFinalRecommendation\u001b[0m\u001b[1m(\u001b[0m\n",
       "            \u001b[33mproduct_name\u001b[0m=\u001b[32m'Smartwatch X'\u001b[0m,\n",
       "            \u001b[33mreason\u001b[0m=\u001b[32m'Smartwatch X is highly rated with positive reviews, indicating high customer satisfaction and \u001b[0m\n",
       "\u001b[32mreliability.'\u001b[0m\n",
       "        \u001b[1m)\u001b[0m\n",
       "    \u001b[1m]\u001b[0m\n",
       "\u001b[1m)\u001b[0m\n"
      ]
     },
     "metadata": {},
     "output_type": "display_data"
    }
   ],
   "source": [
    "profile = {\n",
    "    \"age\": 29,\n",
    "    \"interests\": [\"fitness\", \"gadgets\"],\n",
    "    \"budget\": \"mid\",\n",
    "    \"preferred_brands\": [\"Apple\", \"Nike\"]\n",
    "}\n",
    "\n",
    "result = generate_recommendations(profile)\n",
    "from rich import print\n",
    "print(result)"
   ]
  },
  {
   "cell_type": "code",
   "execution_count": 11,
   "metadata": {},
   "outputs": [
    {
     "data": {
      "image/png": "[encoded data removed]",
      "text/plain": [
       "<Figure size 1400x500 with 1 Axes>"
      ]
     },
     "metadata": {},
     "output_type": "display_data"
    }
   ],
   "source": [
    "from brain.visualize import plot_workflow_matplotlib\n",
    "lineage = brain_client.get_call_graph(\"c9babec6-da69-4395-927e-feaddf97b556\")\n",
    "fig=plot_workflow_matplotlib(lineage['lineage'])"
   ]
  }
 ],
 "metadata": {
  "kernelspec": {
   "display_name": "Python 3",
   "language": "python",
   "name": "python3"
  },
  "language_info": {
   "codemirror_mode": {
    "name": "ipython",
    "version": 3
   },
   "file_extension": ".py",
   "mimetype": "text/x-python",
   "name": "python",
   "nbconvert_exporter": "python",
   "pygments_lexer": "ipython3",
   "version": "3.10.15"
  }
 },
 "nbformat": 4,
 "nbformat_minor": 2
}
