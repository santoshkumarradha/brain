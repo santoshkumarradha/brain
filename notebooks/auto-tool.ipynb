{
 "cells": [
  {
   "cell_type": "code",
   "execution_count": 16,
   "metadata": {},
   "outputs": [],
   "source": [
    "import sys\n",
    "\n",
    "sys.path.append(\"..\")\n",
    "from typing import List\n",
    "\n",
    "import requests\n",
    "from bs4 import BeautifulSoup\n",
    "from googlesearch import search\n",
    "from pydantic import BaseModel, Field\n",
    "from rich import print\n",
    "\n",
    "from brain.sdk import BrainClient"
   ]
  },
  {
   "cell_type": "code",
   "execution_count": 17,
   "metadata": {},
   "outputs": [],
   "source": [
    "brain_client = BrainClient(\"http://127.0.0.1:8000\")"
   ]
  },
  {
   "cell_type": "code",
   "execution_count": 18,
   "metadata": {},
   "outputs": [],
   "source": [
    "from typing import List, Union\n",
    "\n",
    "from pydantic import BaseModel, Field\n",
    "\n",
    "\n",
    "class Tool(BaseModel):\n",
    "    script: str = Field(..., description=\"The Python script to be executed. Ensure it handles errors and outputs structured results.\")\n",
    "    pip_install: List[str] = Field(..., description=\"The list of pip packages required to execute the script.\")\n",
    "    completed: Union[bool, str] = Field(..., description=\"Indicates if the task is successfully completed. True if we are able to generate script, otherwise a string explaining why the script cannot be generated.\")"
   ]
  },
  {
   "cell_type": "code",
   "execution_count": 19,
   "metadata": {},
   "outputs": [],
   "source": [
    "@brain_client.reasoner(schema=Tool)\n",
    "def autonomous_tool(task: str):\n",
    "    \"\"\"\n",
    "    Generates standalone, executable Python scripts with no external dependencies.\n",
    "    \"\"\"\n",
    "    system_prompt = \"\"\"You are a Python script generator focused on creating fully autonomous code. Your scripts must be completely self-contained:\n",
    "\n",
    "DO NOT generate scripts that:\n",
    "- Require external inputs (API keys, file paths, user prompts, etc.)\n",
    "- Use mock/placeholder data\n",
    "- Do not Simulate or Mock artificial data\n",
    "- Need manual configuration\n",
    "- Access local files or environment variables\n",
    "- Connect to external services without built-in test data\n",
    "- Depend on system-specific resources\n",
    "- Use unreliable or niche packages\n",
    "\n",
    "Instead:\n",
    "- Use standard library when possible\n",
    "- Include test data within the script\n",
    "- Handle all edge cases and errors\n",
    "- Use only widely-used PyPI packages if needed\n",
    "- Generate any required data programmatically\n",
    "- If we cannot do it without external dependencies, explain why in 'completed' field and guide the tool maker to say it cannot be done\n",
    "\n",
    "IMPORTANT:\n",
    "**Do not simulate data or use mock data.**\n",
    "**Do not use methods that require secrets or API keys or other blocking algorithms in script**\n",
    "**If we cannot write the script with the above constraints, Fail and explain why in the 'completed' field.**\n",
    "**if local file reference is given use approrpiate input path in the script to read the file or save the file etc..**\n",
    "\n",
    "If task requires unavoidable external dependencies or simulated or mock data, explain why in 'completed' field and make it a fail case.\"\"\"\n",
    "\n",
    "    user_prompt = f\"\"\"Generate a standalone Python script for: \"{task}\"\n",
    "\n",
    "Return:\n",
    "- script: Fully executable Python code\n",
    "- pip_install: Required packages (empty list if none needed)\n",
    "- completed: True if successful, or explanation why task cannot be autonomous\"\"\"\n",
    "\n",
    "    return system_prompt, user_prompt\n",
    "autonomous_tool_id=autonomous_tool.register()"
   ]
  },
  {
   "cell_type": "code",
   "execution_count": 20,
   "metadata": {},
   "outputs": [],
   "source": [
    "import os\n",
    "import shutil\n",
    "import subprocess\n",
    "import tempfile\n",
    "import venv\n",
    "from typing import Dict, Union\n",
    "\n",
    "\n",
    "def execute_script_with_temp_venv(script: str, pip_install: list) -> Dict[str, Union[str, bool]]:\n",
    "    result = {\n",
    "        \"script\": script,\n",
    "        \"pip_install\": pip_install,\n",
    "        \"success\": False,\n",
    "        \"stdout\": \"\",\n",
    "        \"stderr\": \"\",\n",
    "        \"error\": \"\"\n",
    "    }\n",
    "    temp_dir = None\n",
    "\n",
    "    try:\n",
    "        # Step 1: Create a temporary directory for the virtual environment\n",
    "        temp_dir = tempfile.mkdtemp()\n",
    "        venv_dir = os.path.join(temp_dir, \"venv\")\n",
    "        venv.create(venv_dir, with_pip=True)\n",
    "\n",
    "        # Step 2: Paths for the virtual environment\n",
    "        venv_python = os.path.join(venv_dir, \"bin\", \"python\") if os.name != 'nt' else os.path.join(venv_dir, \"Scripts\", \"python\")\n",
    "        venv_pip = os.path.join(venv_dir, \"bin\", \"pip\") if os.name != 'nt' else os.path.join(venv_dir, \"Scripts\", \"pip\")\n",
    "\n",
    "        # Step 3: Install required packages\n",
    "        if pip_install:\n",
    "            install_command = [venv_pip, \"install\"] + pip_install\n",
    "            subprocess.run(install_command, check=True, stdout=subprocess.PIPE, stderr=subprocess.PIPE)\n",
    "\n",
    "        # Step 4: Write the script to a temporary file\n",
    "        script_path = os.path.join(temp_dir, \"script.py\")\n",
    "        with open(script_path, \"w\") as script_file:\n",
    "            script_file.write(script)\n",
    "\n",
    "        # Step 5: Execute the script\n",
    "        execute_command = [venv_python, script_path]\n",
    "        process = subprocess.run(\n",
    "            execute_command, check=False, capture_output=True, text=True\n",
    "        )\n",
    "\n",
    "        # Step 6: Update result based on execution outcome\n",
    "        result[\"stdout\"] = process.stdout.strip()\n",
    "        result[\"stderr\"] = process.stderr.strip()\n",
    "        result[\"error\"] = \"\"\n",
    "        result[\"success\"] = process.returncode == 0 and not result[\"stderr\"]\n",
    "\n",
    "    except subprocess.CalledProcessError as e:\n",
    "        result[\"error\"] = f\"Pip installation or execution failed: {str(e)}\"\n",
    "    except Exception as e:\n",
    "        result[\"error\"] = f\"Unexpected error: {str(e)}\"\n",
    "    finally:\n",
    "        # Step 7: Cleanup temporary directory\n",
    "        if temp_dir and os.path.exists(temp_dir):\n",
    "            shutil.rmtree(temp_dir)\n",
    "\n",
    "    # Update success condition to ensure no stderr or unexpected errors\n",
    "    result[\"success\"] = result[\"success\"] and not result[\"error\"] and not result[\"stderr\"]\n",
    "    return result\n",
    "\n",
    "def format_tool_output(execution_result: Dict[str, Union[str, bool]]) -> str:\n",
    "    if execution_result[\"success\"]:\n",
    "        return f\"Tool executed successfully. Output:\\n{execution_result['stdout']}\\n\"\n",
    "    else:\n",
    "        return (\n",
    "            f\"Tool execution failed.\\n\"\n",
    "            f\"Error: {execution_result['error'] if execution_result['error'] else 'No additional error details.'}\\n\"\n",
    "            f\"Standard Error: {execution_result['stderr']}\\n\"\n",
    "            f\"Standard Output: {execution_result['stdout']}\\n\"\n",
    "            f\"Script:\\n{execution_result['script']}\\n\"\n",
    "            f\"Dependencies:\\n{execution_result['pip_install']}\\n\"\n",
    "        )\n"
   ]
  },
  {
   "cell_type": "code",
   "execution_count": 21,
   "metadata": {},
   "outputs": [],
   "source": [
    "from typing import Optional, Union\n",
    "\n",
    "from pydantic import BaseModel, Field\n",
    "\n",
    "\n",
    "class Success(BaseModel):\n",
    "    final_answer: str = Field(..., description=\"The final result or answer to the task if the execution succeeded.\")\n",
    "\n",
    "class Failure(BaseModel):\n",
    "    analysis: str = Field(..., description=\"A detailed explanation of why the tool execution failed.\")\n",
    "    suggestions: str = Field(..., description=\"Suggestions for fixing the issue or alternative approaches to achieve the task.\")\n",
    "\n",
    "class Result(BaseModel):\n",
    "    success: bool = Field(..., description=\"Indicates if the tool execution was successful.\")\n",
    "    result: Union[Success, Failure] = Field(..., description=\"The result of the analysis, including success or failure details.\")\n",
    "    \n",
    "@brain_client.reasoner(schema=Result)\n",
    "def result_analyzer(tool_output: str, task: str):\n",
    "    \"\"\"\n",
    "    Analyzes script execution results focusing on zero human intervention requirement.\n",
    "    \"\"\"\n",
    "    system_prompt = \"\"\"Analyze Python script results for true autonomy - script must run without any human intervention.\n",
    "\n",
    "Success case:\n",
    "- Mention success as True\n",
    "Extract meaningful result from tool_output and present as:\n",
    "- Direct answer addressing the original task\n",
    "- Natural, human-readable format\n",
    "- No technical details unless relevant\n",
    "- No mention of script/code aspects\n",
    "\n",
    "\n",
    "Failure case - Check for:\n",
    "1. Manual Requirements (like these, but it can be more):\n",
    "   - API keys/credentials needed\n",
    "   - File paths/names input\n",
    "   - User prompts/inputs\n",
    "   - Configuration steps\n",
    "   - Runtime user decisions\n",
    "   - If this task cannot be done without mocking or simulating or manual intervention please mention clearly this as a main reason for failure and ask the tool to reply saying this cannot be done\n",
    "\n",
    "Suggestions:\n",
    "1. If failure due to manual steps, suggest truly autonomous alternatives\n",
    "2. if the script uses API or mock data or synthetic data, recomend it to come up with a solution that can be done without these.\n",
    "3. ensure the script is fully autonomous and can be run without any manual intervention or need for external api keys or manual inputs.\n",
    "4. Ensure there are no Mock or synthetic data used in the script.\n",
    "\n",
    "2. Script should:\n",
    "   - Use standard library or pip packages\n",
    "   - Make API calls if no credentials needed\n",
    "   - Handle all data programmatically\n",
    "   - Run start-to-finish autonomously\n",
    "   - Should not mock or simulate any data or use placeholders\n",
    "   - Should make sure we are achiving the task as expected without artificial hallucinated data.\n",
    "\n",
    "Key principle:\n",
    "If task requires ANY manual steps (API keys, inputs, etc):\n",
    "- Clearly state why it can't be autonomous\n",
    "- Don't suggest mock/placeholder solutions\n",
    "- Only suggest truly automatic alternatives\"\"\"\n",
    "\n",
    "    user_prompt = f\"\"\"Analyze result for: \"{task}\"\n",
    "Output: \"{tool_output}\"\n",
    "\n",
    "Success: Direct task response\n",
    "Failure: Explain manual intervention needs\"\"\"\n",
    "\n",
    "    return system_prompt, user_prompt\n",
    "result_analyzer_id = result_analyzer.register()"
   ]
  },
  {
   "cell_type": "code",
   "execution_count": 22,
   "metadata": {},
   "outputs": [],
   "source": [
    "from typing import List, Optional\n",
    "from pydantic import BaseModel, Field\n",
    "\n",
    "\n",
    "class ToolExecutionResult(BaseModel):\n",
    "    \"\"\"\n",
    "    Encapsulates the result of the autonomous tool's execution process.\n",
    "    \"\"\"\n",
    "    final_result: Optional[str] = Field(None, description=\"The final result or answer to the task if successful.\")\n",
    "    final_script: Optional[str] = Field(None, description=\"The final generated Python script.\")\n",
    "    pip_dependencies: List[str] = Field(..., description=\"The list of pip dependencies required for the script.\")\n",
    "    execution_output: Optional[str] = Field(None, description=\"The output from executing the script.\")\n",
    "    success: bool = Field(..., description=\"Indicates if the task was successfully executed.\")\n",
    "    failure_reason: Optional[str] = Field(None, description=\"The reason for failure if the task could not be completed.\")\n",
    "\n",
    "\n",
    "@brain_client.multi_agent\n",
    "def autonomous_tool(task: str, max_trials: int = 5, verbose: bool = True) -> ToolExecutionResult:\n",
    "    \"\"\"\n",
    "    Multi-agent workflow to iteratively generate, execute, and analyze tools for a given task.\n",
    "\n",
    "    Args:\n",
    "        task (str): The task description.\n",
    "        max_trials (int): Maximum number of attempts to generate and execute a successful tool.\n",
    "        verbose (bool): Whether to print detailed logs.\n",
    "\n",
    "    Returns:\n",
    "        ToolExecutionResult: Structured result of the autonomous tool's execution.\n",
    "    \"\"\"\n",
    "    for iteration in range(max_trials):\n",
    "        print(f\"{'=' * 10} Iteration {iteration + 1} {'=' * 10}\")\n",
    "\n",
    "        # Add context for retries if not the first iteration\n",
    "        if iteration != 0:\n",
    "            task_context = (\n",
    "                f\"Last tool failed because {tool_output.completed}. \"\n",
    "                f\"Last tool script:\\n{tool_output.script if tool_output.completed is True else 'N/A'}\\n\"\n",
    "                f\"Pip dependencies: {tool_output.pip_install if tool_output.completed is True else 'N/A'}\\n\"\n",
    "            )\n",
    "        else:\n",
    "            task_context = \"\"\n",
    "\n",
    "        # Step 1: Generate the tool\n",
    "        tool_output = brain_client.use(autonomous_tool_id)(task=task_context + task)\n",
    "\n",
    "        # If tool generation failed, return failure details\n",
    "        if tool_output.completed is not True:\n",
    "            if verbose:\n",
    "                print(f\"Tool Generation Failed: {tool_output.completed}\")\n",
    "            return ToolExecutionResult(\n",
    "                final_result=None,\n",
    "                final_script=None,\n",
    "                pip_dependencies=[],\n",
    "                execution_output=None,\n",
    "                success=False,\n",
    "                failure_reason=tool_output.completed\n",
    "            )\n",
    "\n",
    "        # Step 2: Execute the generated script\n",
    "        exec_output = execute_script_with_temp_venv(tool_output.script, tool_output.pip_install)\n",
    "\n",
    "        # Step 3: Format execution result for analysis\n",
    "        context = format_tool_output(exec_output)\n",
    "\n",
    "        # Step 4: Analyze the result\n",
    "        res = brain_client.use(result_analyzer_id)(tool_output=context, task=task)\n",
    "\n",
    "        # Verbose logging for debugging\n",
    "        if verbose:\n",
    "            print(f\"Result Analysis: {res.result}\")\n",
    "\n",
    "        # If successful, return the result details\n",
    "        if res.success:\n",
    "            if verbose:\n",
    "                print(f\"Final Tool Output:\\n{context}\")\n",
    "            return ToolExecutionResult(\n",
    "                final_result=res.result.final_answer,\n",
    "                final_script=tool_output.script,\n",
    "                pip_dependencies=tool_output.pip_install,\n",
    "                execution_output=context,\n",
    "                success=True\n",
    "            )\n",
    "\n",
    "    # If all attempts fail, return the failure details\n",
    "    return ToolExecutionResult(\n",
    "        final_result=None,\n",
    "        final_script=tool_output.script if tool_output.completed is True else None,\n",
    "        pip_dependencies=tool_output.pip_install if tool_output.completed is True else [],\n",
    "        execution_output=None,\n",
    "        success=False,\n",
    "        failure_reason=res.result.analysis if 'res' in locals() and not res.success else \"Unknown failure.\"\n",
    "    )\n"
   ]
  },
  {
   "cell_type": "code",
   "execution_count": 23,
   "metadata": {},
   "outputs": [
    {
     "data": {
      "text/html": [
       "<pre style=\"white-space:pre;overflow-x:auto;line-height:normal;font-family:Menlo,'DejaVu Sans Mono',consolas,'Courier New',monospace\">========== Iteration <span style=\"color: #008080; text-decoration-color: #008080; font-weight: bold\">1</span> ==========\n",
       "</pre>\n"
      ],
      "text/plain": [
       "========== Iteration \u001b[1;36m1\u001b[0m ==========\n"
      ]
     },
     "metadata": {},
     "output_type": "display_data"
    },
    {
     "data": {
      "text/html": [
       "<pre style=\"white-space:pre;overflow-x:auto;line-height:normal;font-family:Menlo,'DejaVu Sans Mono',consolas,'Courier New',monospace\">Tool Generation Failed: <span style=\"color: #00ff00; text-decoration-color: #00ff00; font-style: italic\">True</span>\n",
       "</pre>\n"
      ],
      "text/plain": [
       "Tool Generation Failed: \u001b[3;92mTrue\u001b[0m\n"
      ]
     },
     "metadata": {},
     "output_type": "display_data"
    },
    {
     "data": {
      "text/html": [
       "<pre style=\"white-space:pre;overflow-x:auto;line-height:normal;font-family:Menlo,'DejaVu Sans Mono',consolas,'Courier New',monospace\">Final Result: <span style=\"color: #808000; text-decoration-color: #808000\">final_result</span>=<span style=\"color: #800080; text-decoration-color: #800080; font-style: italic\">None</span> <span style=\"color: #808000; text-decoration-color: #808000\">final_script</span>=<span style=\"color: #800080; text-decoration-color: #800080; font-style: italic\">None</span> <span style=\"color: #808000; text-decoration-color: #808000\">pip_dependencies</span>=<span style=\"font-weight: bold\">[]</span> <span style=\"color: #808000; text-decoration-color: #808000\">execution_output</span>=<span style=\"color: #800080; text-decoration-color: #800080; font-style: italic\">None</span> <span style=\"color: #808000; text-decoration-color: #808000\">success</span>=<span style=\"color: #ff0000; text-decoration-color: #ff0000; font-style: italic\">False</span> \n",
       "<span style=\"color: #808000; text-decoration-color: #808000\">failure_reason</span>=<span style=\"color: #008000; text-decoration-color: #008000\">'True'</span>\n",
       "</pre>\n"
      ],
      "text/plain": [
       "Final Result: \u001b[33mfinal_result\u001b[0m=\u001b[3;35mNone\u001b[0m \u001b[33mfinal_script\u001b[0m=\u001b[3;35mNone\u001b[0m \u001b[33mpip_dependencies\u001b[0m=\u001b[1m[\u001b[0m\u001b[1m]\u001b[0m \u001b[33mexecution_output\u001b[0m=\u001b[3;35mNone\u001b[0m \u001b[33msuccess\u001b[0m=\u001b[3;91mFalse\u001b[0m \n",
       "\u001b[33mfailure_reason\u001b[0m=\u001b[32m'True'\u001b[0m\n"
      ]
     },
     "metadata": {},
     "output_type": "display_data"
    }
   ],
   "source": [
    "task=\"What is the temperature in Downtown Toronto today?\"\n",
    "result=autonomous_tool(task,max_trials=5,verbose=True)\n",
    "\n",
    "print(f\"Final Result: {result}\")"
   ]
  },
  {
   "cell_type": "code",
   "execution_count": 24,
   "metadata": {},
   "outputs": [
    {
     "data": {
      "text/html": [
       "<pre style=\"white-space:pre;overflow-x:auto;line-height:normal;font-family:Menlo,'DejaVu Sans Mono',consolas,'Courier New',monospace\">========== Iteration <span style=\"color: #008080; text-decoration-color: #008080; font-weight: bold\">1</span> ==========\n",
       "</pre>\n"
      ],
      "text/plain": [
       "========== Iteration \u001b[1;36m1\u001b[0m ==========\n"
      ]
     },
     "metadata": {},
     "output_type": "display_data"
    },
    {
     "data": {
      "text/html": [
       "<pre style=\"white-space:pre;overflow-x:auto;line-height:normal;font-family:Menlo,'DejaVu Sans Mono',consolas,'Courier New',monospace\">Tool Generation Failed: <span style=\"color: #00ff00; text-decoration-color: #00ff00; font-style: italic\">True</span>\n",
       "</pre>\n"
      ],
      "text/plain": [
       "Tool Generation Failed: \u001b[3;92mTrue\u001b[0m\n"
      ]
     },
     "metadata": {},
     "output_type": "display_data"
    },
    {
     "data": {
      "text/html": [
       "<pre style=\"white-space:pre;overflow-x:auto;line-height:normal;font-family:Menlo,'DejaVu Sans Mono',consolas,'Courier New',monospace\">Final Result: <span style=\"color: #808000; text-decoration-color: #808000\">final_result</span>=<span style=\"color: #800080; text-decoration-color: #800080; font-style: italic\">None</span> <span style=\"color: #808000; text-decoration-color: #808000\">final_script</span>=<span style=\"color: #800080; text-decoration-color: #800080; font-style: italic\">None</span> <span style=\"color: #808000; text-decoration-color: #808000\">pip_dependencies</span>=<span style=\"font-weight: bold\">[]</span> <span style=\"color: #808000; text-decoration-color: #808000\">execution_output</span>=<span style=\"color: #800080; text-decoration-color: #800080; font-style: italic\">None</span> <span style=\"color: #808000; text-decoration-color: #808000\">success</span>=<span style=\"color: #ff0000; text-decoration-color: #ff0000; font-style: italic\">False</span> \n",
       "<span style=\"color: #808000; text-decoration-color: #808000\">failure_reason</span>=<span style=\"color: #008000; text-decoration-color: #008000\">'True'</span>\n",
       "</pre>\n"
      ],
      "text/plain": [
       "Final Result: \u001b[33mfinal_result\u001b[0m=\u001b[3;35mNone\u001b[0m \u001b[33mfinal_script\u001b[0m=\u001b[3;35mNone\u001b[0m \u001b[33mpip_dependencies\u001b[0m=\u001b[1m[\u001b[0m\u001b[1m]\u001b[0m \u001b[33mexecution_output\u001b[0m=\u001b[3;35mNone\u001b[0m \u001b[33msuccess\u001b[0m=\u001b[3;91mFalse\u001b[0m \n",
       "\u001b[33mfailure_reason\u001b[0m=\u001b[32m'True'\u001b[0m\n"
      ]
     },
     "metadata": {},
     "output_type": "display_data"
    }
   ],
   "source": [
    "task=\"search for top 3 articles on autonomous driving and give back the titles\"\n",
    "result=autonomous_tool(task,max_trials=5,verbose=True)\n",
    "\n",
    "print(f\"Final Result: {result}\")"
   ]
  },
  {
   "cell_type": "code",
   "execution_count": 25,
   "metadata": {},
   "outputs": [
    {
     "data": {
      "text/html": [
       "<pre style=\"white-space:pre;overflow-x:auto;line-height:normal;font-family:Menlo,'DejaVu Sans Mono',consolas,'Courier New',monospace\">========== Iteration <span style=\"color: #008080; text-decoration-color: #008080; font-weight: bold\">1</span> ==========\n",
       "</pre>\n"
      ],
      "text/plain": [
       "========== Iteration \u001b[1;36m1\u001b[0m ==========\n"
      ]
     },
     "metadata": {},
     "output_type": "display_data"
    },
    {
     "data": {
      "text/html": [
       "<pre style=\"white-space:pre;overflow-x:auto;line-height:normal;font-family:Menlo,'DejaVu Sans Mono',consolas,'Courier New',monospace\">Result Analysis: <span style=\"color: #808000; text-decoration-color: #808000\">final_answer</span>=<span style=\"color: #008000; text-decoration-color: #008000\">'The sum of numbers from 1 to 1,000,000 is: 500,000,500,000.'</span>\n",
       "</pre>\n"
      ],
      "text/plain": [
       "Result Analysis: \u001b[33mfinal_answer\u001b[0m=\u001b[32m'The sum of numbers from 1 to 1,000,000 is: 500,000,500,000.'\u001b[0m\n"
      ]
     },
     "metadata": {},
     "output_type": "display_data"
    },
    {
     "data": {
      "text/html": [
       "<pre style=\"white-space:pre;overflow-x:auto;line-height:normal;font-family:Menlo,'DejaVu Sans Mono',consolas,'Courier New',monospace\">Final Tool Output:\n",
       "Tool executed successfully. Output:\n",
       "The sum of numbers from <span style=\"color: #008080; text-decoration-color: #008080; font-weight: bold\">1</span> to <span style=\"color: #008080; text-decoration-color: #008080; font-weight: bold\">1000000</span> is: <span style=\"color: #008080; text-decoration-color: #008080; font-weight: bold\">500000500000</span>\n",
       "\n",
       "</pre>\n"
      ],
      "text/plain": [
       "Final Tool Output:\n",
       "Tool executed successfully. Output:\n",
       "The sum of numbers from \u001b[1;36m1\u001b[0m to \u001b[1;36m1000000\u001b[0m is: \u001b[1;36m500000500000\u001b[0m\n",
       "\n"
      ]
     },
     "metadata": {},
     "output_type": "display_data"
    },
    {
     "data": {
      "text/html": [
       "<pre style=\"white-space:pre;overflow-x:auto;line-height:normal;font-family:Menlo,'DejaVu Sans Mono',consolas,'Courier New',monospace\">Final Result: <span style=\"color: #808000; text-decoration-color: #808000\">final_result</span>=<span style=\"color: #008000; text-decoration-color: #008000\">'The sum of numbers from 1 to 1,000,000 is: 500,000,500,000.'</span> <span style=\"color: #808000; text-decoration-color: #808000\">final_script</span>=<span style=\"color: #008000; text-decoration-color: #008000\">'def </span>\n",
       "<span style=\"color: #008000; text-decoration-color: #008000\">calculate_sum(start, end):\\n    \"\"\"Calculates the sum of numbers between start and end inclusive.\"\"\"\\n    total_sum</span>\n",
       "<span style=\"color: #008000; text-decoration-color: #008000\">= 0\\n    for number in range(start, end + 1):\\n        total_sum += number\\n    return total_sum\\n\\nif __name__ == </span>\n",
       "<span style=\"color: #008000; text-decoration-color: #008000\">\\'__main__\\':\\n    start_number = 1\\n    end_number = 1000000\\n    try:\\n        result = </span>\n",
       "<span style=\"color: #008000; text-decoration-color: #008000\">calculate_sum(start_number, end_number)\\n        print(f\\'The sum of numbers from {start_number} to {end_number} </span>\n",
       "<span style=\"color: #008000; text-decoration-color: #008000\">is: {result}\\')\\n    except Exception as e:\\n        print(f\\'An error occurred: {e}\\')'</span> <span style=\"color: #808000; text-decoration-color: #808000\">pip_dependencies</span>=<span style=\"font-weight: bold\">[]</span> \n",
       "<span style=\"color: #808000; text-decoration-color: #808000\">execution_output</span>=<span style=\"color: #008000; text-decoration-color: #008000\">'Tool executed successfully. Output:\\nThe sum of numbers from 1 to 1000000 is: 500000500000\\n'</span> \n",
       "<span style=\"color: #808000; text-decoration-color: #808000\">success</span>=<span style=\"color: #00ff00; text-decoration-color: #00ff00; font-style: italic\">True</span> <span style=\"color: #808000; text-decoration-color: #808000\">failure_reason</span>=<span style=\"color: #800080; text-decoration-color: #800080; font-style: italic\">None</span>\n",
       "</pre>\n"
      ],
      "text/plain": [
       "Final Result: \u001b[33mfinal_result\u001b[0m=\u001b[32m'The sum of numbers from 1 to 1,000,000 is: 500,000,500,000.'\u001b[0m \u001b[33mfinal_script\u001b[0m=\u001b[32m'def \u001b[0m\n",
       "\u001b[32mcalculate_sum\u001b[0m\u001b[32m(\u001b[0m\u001b[32mstart, end\u001b[0m\u001b[32m)\u001b[0m\u001b[32m:\\n    \"\"\"Calculates the sum of numbers between start and end inclusive.\"\"\"\\n    total_sum\u001b[0m\n",
       "\u001b[32m= 0\\n    for number in range\u001b[0m\u001b[32m(\u001b[0m\u001b[32mstart, end + 1\u001b[0m\u001b[32m)\u001b[0m\u001b[32m:\\n        total_sum += number\\n    return total_sum\\n\\nif __name__ == \u001b[0m\n",
       "\u001b[32m\\'__main__\\':\\n    start_number = 1\\n    end_number = 1000000\\n    try:\\n        result = \u001b[0m\n",
       "\u001b[32mcalculate_sum\u001b[0m\u001b[32m(\u001b[0m\u001b[32mstart_number, end_number\u001b[0m\u001b[32m)\u001b[0m\u001b[32m\\n        print\u001b[0m\u001b[32m(\u001b[0m\u001b[32mf\\'The sum of numbers from \u001b[0m\u001b[32m{\u001b[0m\u001b[32mstart_number\u001b[0m\u001b[32m}\u001b[0m\u001b[32m to \u001b[0m\u001b[32m{\u001b[0m\u001b[32mend_number\u001b[0m\u001b[32m}\u001b[0m\u001b[32m \u001b[0m\n",
       "\u001b[32mis: \u001b[0m\u001b[32m{\u001b[0m\u001b[32mresult\u001b[0m\u001b[32m}\u001b[0m\u001b[32m\\'\u001b[0m\u001b[32m)\u001b[0m\u001b[32m\\n    except Exception as e:\\n        print\u001b[0m\u001b[32m(\u001b[0m\u001b[32mf\\'An error occurred: \u001b[0m\u001b[32m{\u001b[0m\u001b[32me\u001b[0m\u001b[32m}\u001b[0m\u001b[32m\\'\u001b[0m\u001b[32m)\u001b[0m\u001b[32m'\u001b[0m \u001b[33mpip_dependencies\u001b[0m=\u001b[1m[\u001b[0m\u001b[1m]\u001b[0m \n",
       "\u001b[33mexecution_output\u001b[0m=\u001b[32m'Tool executed successfully. Output:\\nThe sum of numbers from 1 to 1000000 is: 500000500000\\n'\u001b[0m \n",
       "\u001b[33msuccess\u001b[0m=\u001b[3;92mTrue\u001b[0m \u001b[33mfailure_reason\u001b[0m=\u001b[3;35mNone\u001b[0m\n"
      ]
     },
     "metadata": {},
     "output_type": "display_data"
    }
   ],
   "source": [
    "task=\"calculate the sum of numbers from 1 to 100_0000_000\"\n",
    "result=autonomous_tool(task,max_trials=5,verbose=True)\n",
    "\n",
    "print(f\"Final Result: {result}\")"
   ]
  },
  {
   "cell_type": "code",
   "execution_count": 26,
   "metadata": {},
   "outputs": [
    {
     "data": {
      "text/html": [
       "<pre style=\"white-space:pre;overflow-x:auto;line-height:normal;font-family:Menlo,'DejaVu Sans Mono',consolas,'Courier New',monospace\">========== Iteration <span style=\"color: #008080; text-decoration-color: #008080; font-weight: bold\">1</span> ==========\n",
       "</pre>\n"
      ],
      "text/plain": [
       "========== Iteration \u001b[1;36m1\u001b[0m ==========\n"
      ]
     },
     "metadata": {},
     "output_type": "display_data"
    },
    {
     "data": {
      "text/html": [
       "<pre style=\"white-space:pre;overflow-x:auto;line-height:normal;font-family:Menlo,'DejaVu Sans Mono',consolas,'Courier New',monospace\">Result Analysis: <span style=\"color: #808000; text-decoration-color: #808000\">final_answer</span>=<span style=\"color: #008000; text-decoration-color: #008000\">'The multiplication of 777825 and 6762577628 results in 5260101943499100.'</span>\n",
       "</pre>\n"
      ],
      "text/plain": [
       "Result Analysis: \u001b[33mfinal_answer\u001b[0m=\u001b[32m'The multiplication of 777825 and 6762577628 results in 5260101943499100.'\u001b[0m\n"
      ]
     },
     "metadata": {},
     "output_type": "display_data"
    },
    {
     "data": {
      "text/html": [
       "<pre style=\"white-space:pre;overflow-x:auto;line-height:normal;font-family:Menlo,'DejaVu Sans Mono',consolas,'Courier New',monospace\">Final Tool Output:\n",
       "Tool executed successfully. Output:\n",
       "The result of multiplying <span style=\"color: #008080; text-decoration-color: #008080; font-weight: bold\">777825</span> and <span style=\"color: #008080; text-decoration-color: #008080; font-weight: bold\">6762577628</span> is: <span style=\"color: #008080; text-decoration-color: #008080; font-weight: bold\">5260101943499100</span>\n",
       "\n",
       "</pre>\n"
      ],
      "text/plain": [
       "Final Tool Output:\n",
       "Tool executed successfully. Output:\n",
       "The result of multiplying \u001b[1;36m777825\u001b[0m and \u001b[1;36m6762577628\u001b[0m is: \u001b[1;36m5260101943499100\u001b[0m\n",
       "\n"
      ]
     },
     "metadata": {},
     "output_type": "display_data"
    },
    {
     "data": {
      "text/html": [
       "<pre style=\"white-space:pre;overflow-x:auto;line-height:normal;font-family:Menlo,'DejaVu Sans Mono',consolas,'Courier New',monospace\">Final Result: <span style=\"color: #808000; text-decoration-color: #808000\">final_result</span>=<span style=\"color: #008000; text-decoration-color: #008000\">'The multiplication of 777825 and 6762577628 results in 5260101943499100.'</span> \n",
       "<span style=\"color: #808000; text-decoration-color: #808000\">final_script</span>=<span style=\"color: #008000; text-decoration-color: #008000\">\"def multiply_numbers():\\n    try:\\n        # Define the test data\\n        num1 = 777825\\n        </span>\n",
       "<span style=\"color: #008000; text-decoration-color: #008000\">num2 = 6762577628\\n\\n        # Perform multiplication\\n        result = num1 * num2\\n\\n        # Output the </span>\n",
       "<span style=\"color: #008000; text-decoration-color: #008000\">result\\n        return f'The result of multiplying {num1} and {num2} is: {result}'\\n    except Exception as e:\\n   </span>\n",
       "<span style=\"color: #008000; text-decoration-color: #008000\">return f'An error occurred: {str(e)}'\\n\\nif __name__ == '__main__':\\n    print(multiply_numbers())\"</span> \n",
       "<span style=\"color: #808000; text-decoration-color: #808000\">pip_dependencies</span>=<span style=\"font-weight: bold\">[]</span> <span style=\"color: #808000; text-decoration-color: #808000\">execution_output</span>=<span style=\"color: #008000; text-decoration-color: #008000\">'Tool executed successfully. Output:\\nThe result of multiplying 777825 and </span>\n",
       "<span style=\"color: #008000; text-decoration-color: #008000\">6762577628 is: 5260101943499100\\n'</span> <span style=\"color: #808000; text-decoration-color: #808000\">success</span>=<span style=\"color: #00ff00; text-decoration-color: #00ff00; font-style: italic\">True</span> <span style=\"color: #808000; text-decoration-color: #808000\">failure_reason</span>=<span style=\"color: #800080; text-decoration-color: #800080; font-style: italic\">None</span>\n",
       "</pre>\n"
      ],
      "text/plain": [
       "Final Result: \u001b[33mfinal_result\u001b[0m=\u001b[32m'The multiplication of 777825 and 6762577628 results in 5260101943499100.'\u001b[0m \n",
       "\u001b[33mfinal_script\u001b[0m=\u001b[32m\"def\u001b[0m\u001b[32m multiply_numbers\u001b[0m\u001b[32m(\u001b[0m\u001b[32m)\u001b[0m\u001b[32m:\\n    try:\\n        # Define the test data\\n        num1 = 777825\\n        \u001b[0m\n",
       "\u001b[32mnum2 = 6762577628\\n\\n        # Perform multiplication\\n        result = num1 * num2\\n\\n        # Output the \u001b[0m\n",
       "\u001b[32mresult\\n        return f'The result of multiplying \u001b[0m\u001b[32m{\u001b[0m\u001b[32mnum1\u001b[0m\u001b[32m}\u001b[0m\u001b[32m and \u001b[0m\u001b[32m{\u001b[0m\u001b[32mnum2\u001b[0m\u001b[32m}\u001b[0m\u001b[32m is: \u001b[0m\u001b[32m{\u001b[0m\u001b[32mresult\u001b[0m\u001b[32m}\u001b[0m\u001b[32m'\\n    except Exception as e:\\n   \u001b[0m\n",
       "\u001b[32mreturn f'An error occurred: \u001b[0m\u001b[32m{\u001b[0m\u001b[32mstr\u001b[0m\u001b[32m(\u001b[0m\u001b[32me\u001b[0m\u001b[32m)\u001b[0m\u001b[32m}\u001b[0m\u001b[32m'\\n\\nif __name__ == '__main__':\\n    print\u001b[0m\u001b[32m(\u001b[0m\u001b[32mmultiply_numbers\u001b[0m\u001b[32m(\u001b[0m\u001b[32m)\u001b[0m\u001b[32m)\u001b[0m\u001b[32m\"\u001b[0m \n",
       "\u001b[33mpip_dependencies\u001b[0m=\u001b[1m[\u001b[0m\u001b[1m]\u001b[0m \u001b[33mexecution_output\u001b[0m=\u001b[32m'Tool executed successfully. Output:\\nThe result of multiplying 777825 and \u001b[0m\n",
       "\u001b[32m6762577628 is: 5260101943499100\\n'\u001b[0m \u001b[33msuccess\u001b[0m=\u001b[3;92mTrue\u001b[0m \u001b[33mfailure_reason\u001b[0m=\u001b[3;35mNone\u001b[0m\n"
      ]
     },
     "metadata": {},
     "output_type": "display_data"
    }
   ],
   "source": [
    "task=\"Multiply 777_82 times 67625_7762_8\"\n",
    "result=autonomous_tool(task,max_trials=5,verbose=True)\n",
    "\n",
    "print(f\"Final Result: {result}\")"
   ]
  },
  {
   "cell_type": "code",
   "execution_count": 27,
   "metadata": {},
   "outputs": [
    {
     "data": {
      "text/html": [
       "<pre style=\"white-space:pre;overflow-x:auto;line-height:normal;font-family:Menlo,'DejaVu Sans Mono',consolas,'Courier New',monospace\"><span style=\"color: #008080; text-decoration-color: #008080; font-weight: bold\">526006813061096</span>\n",
       "</pre>\n"
      ],
      "text/plain": [
       "\u001b[1;36m526006813061096\u001b[0m\n"
      ]
     },
     "metadata": {},
     "output_type": "display_data"
    }
   ],
   "source": [
    "print(777_82*67625_7762_8)"
   ]
  },
  {
   "cell_type": "code",
   "execution_count": 28,
   "metadata": {},
   "outputs": [
    {
     "data": {
      "text/html": [
       "<pre style=\"white-space:pre;overflow-x:auto;line-height:normal;font-family:Menlo,'DejaVu Sans Mono',consolas,'Courier New',monospace\">========== Iteration <span style=\"color: #008080; text-decoration-color: #008080; font-weight: bold\">1</span> ==========\n",
       "</pre>\n"
      ],
      "text/plain": [
       "========== Iteration \u001b[1;36m1\u001b[0m ==========\n"
      ]
     },
     "metadata": {},
     "output_type": "display_data"
    },
    {
     "data": {
      "text/html": [
       "<pre style=\"white-space:pre;overflow-x:auto;line-height:normal;font-family:Menlo,'DejaVu Sans Mono',consolas,'Courier New',monospace\">Tool Generation Failed: Fetching real-time tweets, such as Elon Musk's latest tweet, requires access to Twitter's \n",
       "API. This process necessitates API keys and authentication, which cannot be included in an autonomous script \n",
       "without external inputs or configuration. Therefore, it's not possible to generate a standalone Python script for \n",
       "this task.\n",
       "</pre>\n"
      ],
      "text/plain": [
       "Tool Generation Failed: Fetching real-time tweets, such as Elon Musk's latest tweet, requires access to Twitter's \n",
       "API. This process necessitates API keys and authentication, which cannot be included in an autonomous script \n",
       "without external inputs or configuration. Therefore, it's not possible to generate a standalone Python script for \n",
       "this task.\n"
      ]
     },
     "metadata": {},
     "output_type": "display_data"
    },
    {
     "data": {
      "text/html": [
       "<pre style=\"white-space:pre;overflow-x:auto;line-height:normal;font-family:Menlo,'DejaVu Sans Mono',consolas,'Courier New',monospace\">Final Result: <span style=\"color: #808000; text-decoration-color: #808000\">final_result</span>=<span style=\"color: #800080; text-decoration-color: #800080; font-style: italic\">None</span> <span style=\"color: #808000; text-decoration-color: #808000\">final_script</span>=<span style=\"color: #800080; text-decoration-color: #800080; font-style: italic\">None</span> <span style=\"color: #808000; text-decoration-color: #808000\">pip_dependencies</span>=<span style=\"font-weight: bold\">[]</span> <span style=\"color: #808000; text-decoration-color: #808000\">execution_output</span>=<span style=\"color: #800080; text-decoration-color: #800080; font-style: italic\">None</span> <span style=\"color: #808000; text-decoration-color: #808000\">success</span>=<span style=\"color: #ff0000; text-decoration-color: #ff0000; font-style: italic\">False</span> \n",
       "<span style=\"color: #808000; text-decoration-color: #808000\">failure_reason</span>=<span style=\"color: #008000; text-decoration-color: #008000\">\"Fetching real-time tweets, such as Elon Musk's latest tweet, requires access to Twitter's API. This</span>\n",
       "<span style=\"color: #008000; text-decoration-color: #008000\">process necessitates API keys and authentication, which cannot be included in an autonomous script without external</span>\n",
       "<span style=\"color: #008000; text-decoration-color: #008000\">inputs or configuration. Therefore, it's not possible to generate a standalone Python script for this task.\"</span>\n",
       "</pre>\n"
      ],
      "text/plain": [
       "Final Result: \u001b[33mfinal_result\u001b[0m=\u001b[3;35mNone\u001b[0m \u001b[33mfinal_script\u001b[0m=\u001b[3;35mNone\u001b[0m \u001b[33mpip_dependencies\u001b[0m=\u001b[1m[\u001b[0m\u001b[1m]\u001b[0m \u001b[33mexecution_output\u001b[0m=\u001b[3;35mNone\u001b[0m \u001b[33msuccess\u001b[0m=\u001b[3;91mFalse\u001b[0m \n",
       "\u001b[33mfailure_reason\u001b[0m=\u001b[32m\"Fetching\u001b[0m\u001b[32m real-time tweets, such as Elon Musk's latest tweet, requires access to Twitter's API. This\u001b[0m\n",
       "\u001b[32mprocess necessitates API keys and authentication, which cannot be included in an autonomous script without external\u001b[0m\n",
       "\u001b[32minputs or configuration. Therefore, it's not possible to generate a standalone Python script for this task.\"\u001b[0m\n"
      ]
     },
     "metadata": {},
     "output_type": "display_data"
    }
   ],
   "source": [
    "task=\"Get ellon musk's latest tweet\"\n",
    "result=autonomous_tool(task,max_trials=5,verbose=True)\n",
    "\n",
    "print(f\"Final Result: {result}\")"
   ]
  },
  {
   "cell_type": "markdown",
   "metadata": {},
   "source": [
    "## Tool planner"
   ]
  },
  {
   "cell_type": "code",
   "execution_count": null,
   "metadata": {},
   "outputs": [],
   "source": [
    "from pydantic import BaseModel, Field\n",
    "from typing import List\n",
    "\n",
    "class Instructions(BaseModel):\n",
    "    feasibility: str = Field(..., description=\"Analysis of whether the task can be completed autonomously, including any potential blockers\")\n",
    "    implementation_plan: str = Field(..., description=\"Detailed step-by-step plan for implementing the solution, including function breakdowns and data handling approaches\")\n",
    "    requirements: List[str] = Field(..., description=\"List of specific requirements including Python packages, error handling needs, and data processing requirements\")\n",
    "    execution_flow: str = Field(..., description=\"Precise description of how the script should execute, including data handling, function calls, and expected outcomes\")\n",
    "    is_autonomous: bool = Field(..., description=\"Whether the task can be completed without any human intervention, API keys, or external dependencies\")\n",
    "\n",
    "    \n",
    "\n",
    "@brain_client.reasoner(schema=Instructions)\n",
    "def feature_planner(task: str):\n",
    "    \"\"\"\n",
    "    Generates detailed instructions for building autonomous Python scripts.\n",
    "    \"\"\"\n",
    "    system_prompt = \"\"\"You are a Python architecture planner specialized in designing autonomous scripts. Your role is to analyze tasks and provide clear, actionable instructions that ensure zero human intervention.\n",
    "\n",
    "Analyze each task for true autonomy by considering:\n",
    "\n",
    "Autonomy Requirements:\n",
    "- Script must run without any API keys or credentials\n",
    "- No user inputs can be required\n",
    "- No environment variables or configuration needed\n",
    "- No external service dependencies\n",
    "- No system-specific resources\n",
    "\n",
    "Input guidelines:\n",
    "- make sure you specify what exact inputs are needed for the script to do the given task.\n",
    "\n",
    "Implementation Guidelines:\n",
    "- Prefer Python standard library solutions\n",
    "- Use only common, stable PyPI packages if needed\n",
    "- Include comprehensive error handling\n",
    "- No mock or simulated data allowed\n",
    "- No placeholder values\n",
    "- Try to be Clever to come up with a solution that can be done without any blockers like apikey or manual input.\n",
    "\n",
    "Data Handling Rules:\n",
    "- If task mentions file paths (e.g., \"./something.something\"), provide exact handling instructions\n",
    "- Data must be programmatically generated or bundled\n",
    "- No external data sources allowed if we cannot access them and needs api key or manual intervention\n",
    "- No simulated or mock data\n",
    "\n",
    "Your output should:\n",
    "1. Assess if task can be truly autonomous\n",
    "2. Provide detailed implementation steps\n",
    "3. Specify exact execution flow\n",
    "4. List concrete requirements\n",
    "5. Flag any autonomy blockers\n",
    "\n",
    "If the task cannot be autonomous:\n",
    "- Set is_autonomous to false\n",
    "- Explain specific blockers\n",
    "- Do not suggest mock data workarounds\n",
    "- Clearly state why task requires human intervention\"\"\"\n",
    "\n",
    "    user_prompt = f\"\"\"Analyze this task and provide implementation instructions: \"{task}\"\n",
    "\n",
    "Determine:\n",
    "1. Is this task possible without any human intervention?\n",
    "2. What exact implementation steps are needed?\n",
    "3. How should data and paths be handled?\n",
    "4. What specific requirements must be met?\n",
    "\n",
    "Return Instructions with:\n",
    "- Complete feasibility analysis\n",
    "- Detailed implementation plan\n",
    "- Specific requirements\n",
    "- Precise execution flow\n",
    "- Autonomy determination.\n",
    "- Make sure to give detailed unambigious plan.\n",
    "\n",
    "Important: If any feedback is provided, make sure write your answer based on that feedback.\"\"\"\n",
    "\n",
    "    return system_prompt, user_prompt\n",
    "feature_planner_id = feature_planner.register()"
   ]
  },
  {
   "cell_type": "code",
   "execution_count": 59,
   "metadata": {},
   "outputs": [],
   "source": [
    "@brain_client.reasoner(schema=Tool)\n",
    "def autonomous_planner_tool(instructions: Instructions):\n",
    "    \"\"\"\n",
    "    Generates standalone Python scripts based on detailed implementation instructions.\n",
    "    \"\"\"\n",
    "    system_prompt = \"\"\"You are an expert Python script generator that creates fully autonomous code based on provided implementation instructions. Your goal is to generate scripts that run without any human intervention.\n",
    "\n",
    "Core Requirements:\n",
    "1. Script Generation Rules:\n",
    "   - No external inputs (API keys, credentials, user prompts)\n",
    "   - No mock or simulated data\n",
    "   - No manual configuration needs\n",
    "   - No environment variables\n",
    "   - No system-specific resources\n",
    "   - No external service dependencies requiring authentication\n",
    "\n",
    "2. Development Guidelines:\n",
    "   - Prioritize Python standard library solutions\n",
    "   - Use only widely-adopted PyPI packages when necessary\n",
    "   - Implement comprehensive error handling\n",
    "   - Generate data programmatically if needed\n",
    "   - Handle all edge cases gracefully\n",
    "   - Follow the provided implementation plan exactly\n",
    "   - Use exact paths if specified in the implementation plan\n",
    "\n",
    "3. Validation Requirements:\n",
    "   - Ensure script runs without any user intervention\n",
    "   - Verify no external dependencies are needed\n",
    "   - Confirm no mock/simulated data is used\n",
    "   - Follow execution flow from instructions\n",
    "   - Implement all specified error handling\n",
    "\n",
    "If task cannot be completed autonomously:\n",
    "- Set completed to detailed explanation\n",
    "- Do not attempt partial implementations\n",
    "- Do not suggest mock data alternatives\n",
    "- Explain specific blockers\"\"\"\n",
    "\n",
    "    user_prompt = f\"\"\"Generate a Python script following these instructions:\n",
    "\n",
    "Feasibility: {instructions.feasibility}\n",
    "Implementation Plan: {instructions.implementation_plan}\n",
    "Requirements: {instructions.requirements}\n",
    "Execution Flow: {instructions.execution_flow}\n",
    "Is Autonomous: {instructions.is_autonomous}\n",
    "\n",
    "Return Tool schema with:\n",
    "- Complete, autonomous Python script\n",
    "- Required pip packages\n",
    "- Success status or detailed explanation of blockers\"\"\"\n",
    "\n",
    "    return system_prompt, user_prompt\n",
    "autonomous_planner_tool_id = autonomous_planner_tool.register()"
   ]
  },
  {
   "cell_type": "code",
   "execution_count": 60,
   "metadata": {},
   "outputs": [],
   "source": [
    "from typing import List, Optional\n",
    "from pydantic import BaseModel, Field\n",
    "\n",
    "class ToolExecutionResult(BaseModel):\n",
    "    \"\"\"\n",
    "    Encapsulates the result of the autonomous tool's execution process.\n",
    "    \"\"\"\n",
    "    final_result: Optional[str] = Field(None, description=\"The final result or answer to the task if successful.\")\n",
    "    final_script: Optional[str] = Field(None, description=\"The final generated Python script.\")\n",
    "    pip_dependencies: List[str] = Field(..., description=\"The list of pip dependencies required for the script.\")\n",
    "    execution_output: Optional[str] = Field(None, description=\"The output from executing the script.\")\n",
    "    success: bool = Field(..., description=\"Indicates if the task was successfully executed.\")\n",
    "    failure_reason: Optional[str] = Field(None, description=\"The reason for failure if the task could not be completed.\")\n",
    "\n",
    "@brain_client.multi_agent\n",
    "def autonomous_planner_tool(task: str, max_trials: int = 5, verbose: bool = True) -> ToolExecutionResult:\n",
    "    \"\"\"\n",
    "    Multi-agent workflow to plan, generate, execute, and analyze tools for a given task.\n",
    "    \"\"\"\n",
    "    for iteration in range(max_trials):\n",
    "        if verbose:\n",
    "            print(f\"{'=' * 10} Iteration {iteration + 1} {'=' * 10}\")\n",
    "\n",
    "        # Step 1: Generate implementation plan\n",
    "        plan = brain_client.use(feature_planner_id)(task=task)\n",
    "        \n",
    "        # If task is not autonomous based on plan, return failure\n",
    "        if not plan.is_autonomous:\n",
    "            return ToolExecutionResult(\n",
    "                final_result=None,\n",
    "                final_script=None,\n",
    "                pip_dependencies=[],\n",
    "                execution_output=None,\n",
    "                success=False,\n",
    "                failure_reason=plan.feasibility\n",
    "            )\n",
    "\n",
    "        # Step 2: Generate tool based on plan\n",
    "        tool_output = brain_client.use(autonomous_planner_tool_id)(instructions=plan)\n",
    "\n",
    "        # If tool generation failed, continue to next iteration\n",
    "        if tool_output.completed is not True:\n",
    "            if verbose:\n",
    "                print(f\"Tool Generation Failed: {tool_output.completed}\")\n",
    "            continue\n",
    "\n",
    "        # Step 3: Execute the generated script\n",
    "        exec_output = execute_script_with_temp_venv(tool_output.script, tool_output.pip_install)\n",
    "\n",
    "        # Step 4: Format execution result for analysis\n",
    "        context = format_tool_output(exec_output)\n",
    "\n",
    "        # Step 5: Analyze the result\n",
    "        res = brain_client.use(result_analyzer_id)(tool_output=context, task=task)\n",
    "\n",
    "        if verbose:\n",
    "            print(f\"Result Analysis: {res.result}\")\n",
    "\n",
    "        # If successful, return the result details\n",
    "        if res.success:\n",
    "            if verbose:\n",
    "                print(f\"Final Tool Output:\\n{context}\")\n",
    "            return ToolExecutionResult(\n",
    "                final_result=res.result.final_answer,\n",
    "                final_script=tool_output.script,\n",
    "                pip_dependencies=tool_output.pip_install,\n",
    "                execution_output=context,\n",
    "                success=True\n",
    "            )\n",
    "\n",
    "        # If failed, add context for next iteration\n",
    "        task = (\n",
    "            f\"Previous attempt failed. Analysis: {res.result.analysis}\\n\"\n",
    "            f\"Original task: {task}\\n\"\n",
    "            f\"Implementation plan:\\n{plan.implementation_plan}\"\n",
    "        )\n",
    "\n",
    "    # If all attempts fail, return the failure details\n",
    "    return ToolExecutionResult(\n",
    "        final_result=None,\n",
    "        final_script=tool_output.script if tool_output.completed is True else None,\n",
    "        pip_dependencies=tool_output.pip_install if tool_output.completed is True else [],\n",
    "        execution_output=None,\n",
    "        success=False,\n",
    "        failure_reason=res.result.analysis if 'res' in locals() and not res.success else \"Maximum iterations reached without success.\"\n",
    "    )"
   ]
  },
  {
   "cell_type": "code",
   "execution_count": 44,
   "metadata": {},
   "outputs": [
    {
     "data": {
      "text/html": [
       "<pre style=\"white-space:pre;overflow-x:auto;line-height:normal;font-family:Menlo,'DejaVu Sans Mono',consolas,'Courier New',monospace\">========== Iteration <span style=\"color: #008080; text-decoration-color: #008080; font-weight: bold\">1</span> ==========\n",
       "</pre>\n"
      ],
      "text/plain": [
       "========== Iteration \u001b[1;36m1\u001b[0m ==========\n"
      ]
     },
     "metadata": {},
     "output_type": "display_data"
    },
    {
     "data": {
      "text/html": [
       "<pre style=\"white-space:pre;overflow-x:auto;line-height:normal;font-family:Menlo,'DejaVu Sans Mono',consolas,'Courier New',monospace\">Result Analysis: <span style=\"color: #808000; text-decoration-color: #808000\">final_answer</span>=<span style=\"color: #008000; text-decoration-color: #008000\">\"The analysis of the text file revealed that the five most common words used </span>\n",
       "<span style=\"color: #008000; text-decoration-color: #008000\">were:\\n1. 'may' with 1664 occurrences\\n2. '_' with 1064 occurrences\\n3. 'acid' with 734 occurrences\\n4. 'death' </span>\n",
       "<span style=\"color: #008000; text-decoration-color: #008000\">with 728 occurrences\\n5. 'cases' with 549 occurrences.\"</span>\n",
       "</pre>\n"
      ],
      "text/plain": [
       "Result Analysis: \u001b[33mfinal_answer\u001b[0m=\u001b[32m\"The\u001b[0m\u001b[32m analysis of the text file revealed that the five most common words used \u001b[0m\n",
       "\u001b[32mwere:\\n1. 'may' with 1664 occurrences\\n2. '_' with 1064 occurrences\\n3. 'acid' with 734 occurrences\\n4. 'death' \u001b[0m\n",
       "\u001b[32mwith 728 occurrences\\n5. 'cases' with 549 occurrences.\"\u001b[0m\n"
      ]
     },
     "metadata": {},
     "output_type": "display_data"
    },
    {
     "data": {
      "text/html": [
       "<pre style=\"white-space:pre;overflow-x:auto;line-height:normal;font-family:Menlo,'DejaVu Sans Mono',consolas,'Courier New',monospace\">Final Tool Output:\n",
       "Tool executed successfully. Output:\n",
       "Word: may, Count: <span style=\"color: #008080; text-decoration-color: #008080; font-weight: bold\">1664</span>\n",
       "Word: _, Count: <span style=\"color: #008080; text-decoration-color: #008080; font-weight: bold\">1064</span>\n",
       "Word: acid, Count: <span style=\"color: #008080; text-decoration-color: #008080; font-weight: bold\">734</span>\n",
       "Word: death, Count: <span style=\"color: #008080; text-decoration-color: #008080; font-weight: bold\">728</span>\n",
       "Word: cases, Count: <span style=\"color: #008080; text-decoration-color: #008080; font-weight: bold\">549</span>\n",
       "\n",
       "</pre>\n"
      ],
      "text/plain": [
       "Final Tool Output:\n",
       "Tool executed successfully. Output:\n",
       "Word: may, Count: \u001b[1;36m1664\u001b[0m\n",
       "Word: _, Count: \u001b[1;36m1064\u001b[0m\n",
       "Word: acid, Count: \u001b[1;36m734\u001b[0m\n",
       "Word: death, Count: \u001b[1;36m728\u001b[0m\n",
       "Word: cases, Count: \u001b[1;36m549\u001b[0m\n",
       "\n"
      ]
     },
     "metadata": {},
     "output_type": "display_data"
    },
    {
     "data": {
      "text/html": [
       "<pre style=\"white-space:pre;overflow-x:auto;line-height:normal;font-family:Menlo,'DejaVu Sans Mono',consolas,'Courier New',monospace\">Final Result: <span style=\"color: #808000; text-decoration-color: #808000\">final_result</span>=<span style=\"color: #008000; text-decoration-color: #008000\">\"The analysis of the text file revealed that the five most common words used were:\\n1. </span>\n",
       "<span style=\"color: #008000; text-decoration-color: #008000\">'may' with 1664 occurrences\\n2. '_' with 1064 occurrences\\n3. 'acid' with 734 occurrences\\n4. 'death' with 728 </span>\n",
       "<span style=\"color: #008000; text-decoration-color: #008000\">occurrences\\n5. 'cases' with 549 occurrences.\"</span> <span style=\"color: #808000; text-decoration-color: #808000\">final_script</span>=<span style=\"color: #008000; text-decoration-color: #008000\">'import os\\nfrom collections import Counter\\nimport </span>\n",
       "<span style=\"color: #008000; text-decoration-color: #008000\">re\\n\\n# Predefined list of common stopwords\\nstopwords = set([\\n    \\'i\\', \\'me\\', \\'my\\', \\'myself\\', \\'we\\', </span>\n",
       "<span style=\"color: #008000; text-decoration-color: #008000\">\\'our\\', \\'ours\\', \\'ourselves\\',\\n    \\'you\\', \\'your\\', \\'yours\\', \\'yourself\\', \\'yourselves\\',\\n    \\'he\\', </span>\n",
       "<span style=\"color: #008000; text-decoration-color: #008000\">\\'him\\', \\'his\\', \\'himself\\', \\'she\\', \\'her\\', \\'hers\\', \\'herself\\',\\n    \\'it\\', \\'its\\', \\'itself\\', \\'they\\',</span>\n",
       "<span style=\"color: #008000; text-decoration-color: #008000\">\\'them\\', \\'their\\', \\'theirs\\', \\'themselves\\',\\n    \\'what\\', \\'which\\', \\'who\\', \\'whom\\', \\'this\\', \\'that\\', </span>\n",
       "<span style=\"color: #008000; text-decoration-color: #008000\">\\'these\\', \\'those\\',\\n    \\'am\\', \\'is\\', \\'are\\', \\'was\\', \\'were\\', \\'be\\', \\'been\\', \\'being\\',\\n    \\'have\\', </span>\n",
       "<span style=\"color: #008000; text-decoration-color: #008000\">\\'has\\', \\'had\\', \\'having\\',\\n    \\'do\\', \\'does\\', \\'did\\', \\'doing\\',\\n    \\'a\\', \\'an\\', \\'the\\',\\n    \\'and\\',</span>\n",
       "<span style=\"color: #008000; text-decoration-color: #008000\">\\'but\\', \\'if\\', \\'or\\', \\'because\\', \\'as\\', \\'until\\', \\'while\\',\\n    \\'of\\', \\'at\\', \\'by\\', \\'for\\', \\'with\\',</span>\n",
       "<span style=\"color: #008000; text-decoration-color: #008000\">\\'about\\', \\'against\\', \\'between\\',\\n    \\'into\\', \\'through\\', \\'during\\', \\'before\\', \\'after\\', \\'above\\', </span>\n",
       "<span style=\"color: #008000; text-decoration-color: #008000\">\\'below\\',\\n    \\'to\\', \\'from\\', \\'up\\', \\'down\\', \\'in\\', \\'out\\', \\'on\\', \\'off\\', \\'over\\', \\'under\\',\\n    </span>\n",
       "<span style=\"color: #008000; text-decoration-color: #008000\">\\'again\\', \\'further\\', \\'then\\', \\'once\\', \\'here\\', \\'there\\', \\'when\\', \\'where\\',\\n    \\'why\\', \\'how\\', </span>\n",
       "<span style=\"color: #008000; text-decoration-color: #008000\">\\'all\\', \\'any\\', \\'both\\', \\'each\\', \\'few\\', \\'more\\', \\'most\\',\\n    \\'other\\', \\'some\\', \\'such\\', \\'no\\', </span>\n",
       "<span style=\"color: #008000; text-decoration-color: #008000\">\\'nor\\', \\'not\\', \\'only\\', \\'own\\', \\'same\\',\\n    \\'so\\', \\'than\\', \\'too\\', \\'very\\', \\'s\\', \\'t\\', \\'can\\', </span>\n",
       "<span style=\"color: #008000; text-decoration-color: #008000\">\\'will\\', \\'just\\',\\n    \\'don\\', \\'should\\', \\'now\\'\\n])\\n\\ntry:\\n    # Read the content of input.txt\\n    with </span>\n",
       "<span style=\"color: #008000; text-decoration-color: #008000\">open(\\'./input.txt\\', \\'r\\') as file:\\n        text = file.read().lower()  # Read and convert to lowercase\\n\\n    #</span>\n",
       "<span style=\"color: #008000; text-decoration-color: #008000\">Tokenize the text into words, removing punctuation\\n    words = re.findall(r\\'\\\\b\\\\w+\\\\b\\', text)\\n\\n    # Filter </span>\n",
       "<span style=\"color: #008000; text-decoration-color: #008000\">out stopwords\\n    filtered_words = \\n\\n    # Count the frequency of each word using Counter\\n    word_counts = </span>\n",
       "<span style=\"color: #008000; text-decoration-color: #008000\">Counter(filtered_words)\\n\\n    # Get the top 5 most common words\\n    top_five = word_counts.most_common(5)\\n\\n    </span>\n",
       "<span style=\"color: #008000; text-decoration-color: #008000\"># Output the results\\n    for word, count in top_five:\\n        print(f\\'Word: {word}, Count: {count}\\')\\n\\nexcept </span>\n",
       "<span style=\"color: #008000; text-decoration-color: #008000\">FileNotFoundError:\\n    print(\"Error: The file \\'./input.txt\\' was not found.\")\\nexcept Exception as e:\\n    </span>\n",
       "<span style=\"color: #008000; text-decoration-color: #008000\">print(f\"An error occurred: {e}\")'</span> <span style=\"color: #808000; text-decoration-color: #808000\">pip_dependencies</span>=<span style=\"font-weight: bold\">[]</span> <span style=\"color: #808000; text-decoration-color: #808000\">execution_output</span>=<span style=\"color: #008000; text-decoration-color: #008000\">'Tool executed successfully. Output:\\nWord: </span>\n",
       "<span style=\"color: #008000; text-decoration-color: #008000\">may, Count: 1664\\nWord: _, Count: 1064\\nWord: acid, Count: 734\\nWord: death, Count: 728\\nWord: cases, Count: 549\\n'</span>\n",
       "<span style=\"color: #808000; text-decoration-color: #808000\">success</span>=<span style=\"color: #00ff00; text-decoration-color: #00ff00; font-style: italic\">True</span> <span style=\"color: #808000; text-decoration-color: #808000\">failure_reason</span>=<span style=\"color: #800080; text-decoration-color: #800080; font-style: italic\">None</span>\n",
       "</pre>\n"
      ],
      "text/plain": [
       "Final Result: \u001b[33mfinal_result\u001b[0m=\u001b[32m\"The\u001b[0m\u001b[32m analysis of the text file revealed that the five most common words used were:\\n1. \u001b[0m\n",
       "\u001b[32m'may' with 1664 occurrences\\n2. '_' with 1064 occurrences\\n3. 'acid' with 734 occurrences\\n4. 'death' with 728 \u001b[0m\n",
       "\u001b[32moccurrences\\n5. 'cases' with 549 occurrences.\"\u001b[0m \u001b[33mfinal_script\u001b[0m=\u001b[32m'import os\\nfrom collections import Counter\\nimport \u001b[0m\n",
       "\u001b[32mre\\n\\n# Predefined list of common stopwords\\nstopwords = set\u001b[0m\u001b[32m(\u001b[0m\u001b[32m[\u001b[0m\u001b[32m\\n    \\'i\\', \\'me\\', \\'my\\', \\'myself\\', \\'we\\', \u001b[0m\n",
       "\u001b[32m\\'our\\', \\'ours\\', \\'ourselves\\',\\n    \\'you\\', \\'your\\', \\'yours\\', \\'yourself\\', \\'yourselves\\',\\n    \\'he\\', \u001b[0m\n",
       "\u001b[32m\\'him\\', \\'his\\', \\'himself\\', \\'she\\', \\'her\\', \\'hers\\', \\'herself\\',\\n    \\'it\\', \\'its\\', \\'itself\\', \\'they\\',\u001b[0m\n",
       "\u001b[32m\\'them\\', \\'their\\', \\'theirs\\', \\'themselves\\',\\n    \\'what\\', \\'which\\', \\'who\\', \\'whom\\', \\'this\\', \\'that\\', \u001b[0m\n",
       "\u001b[32m\\'these\\', \\'those\\',\\n    \\'am\\', \\'is\\', \\'are\\', \\'was\\', \\'were\\', \\'be\\', \\'been\\', \\'being\\',\\n    \\'have\\', \u001b[0m\n",
       "\u001b[32m\\'has\\', \\'had\\', \\'having\\',\\n    \\'do\\', \\'does\\', \\'did\\', \\'doing\\',\\n    \\'a\\', \\'an\\', \\'the\\',\\n    \\'and\\',\u001b[0m\n",
       "\u001b[32m\\'but\\', \\'if\\', \\'or\\', \\'because\\', \\'as\\', \\'until\\', \\'while\\',\\n    \\'of\\', \\'at\\', \\'by\\', \\'for\\', \\'with\\',\u001b[0m\n",
       "\u001b[32m\\'about\\', \\'against\\', \\'between\\',\\n    \\'into\\', \\'through\\', \\'during\\', \\'before\\', \\'after\\', \\'above\\', \u001b[0m\n",
       "\u001b[32m\\'below\\',\\n    \\'to\\', \\'from\\', \\'up\\', \\'down\\', \\'in\\', \\'out\\', \\'on\\', \\'off\\', \\'over\\', \\'under\\',\\n    \u001b[0m\n",
       "\u001b[32m\\'again\\', \\'further\\', \\'then\\', \\'once\\', \\'here\\', \\'there\\', \\'when\\', \\'where\\',\\n    \\'why\\', \\'how\\', \u001b[0m\n",
       "\u001b[32m\\'all\\', \\'any\\', \\'both\\', \\'each\\', \\'few\\', \\'more\\', \\'most\\',\\n    \\'other\\', \\'some\\', \\'such\\', \\'no\\', \u001b[0m\n",
       "\u001b[32m\\'nor\\', \\'not\\', \\'only\\', \\'own\\', \\'same\\',\\n    \\'so\\', \\'than\\', \\'too\\', \\'very\\', \\'s\\', \\'t\\', \\'can\\', \u001b[0m\n",
       "\u001b[32m\\'will\\', \\'just\\',\\n    \\'don\\', \\'should\\', \\'now\\'\\n\u001b[0m\u001b[32m]\u001b[0m\u001b[32m)\u001b[0m\u001b[32m\\n\\ntry:\\n    # Read the content of input.txt\\n    with \u001b[0m\n",
       "\u001b[32mopen\u001b[0m\u001b[32m(\u001b[0m\u001b[32m\\'./input.txt\\', \\'r\\'\u001b[0m\u001b[32m)\u001b[0m\u001b[32m as file:\\n        text = file.read\u001b[0m\u001b[32m(\u001b[0m\u001b[32m)\u001b[0m\u001b[32m.lower\u001b[0m\u001b[32m(\u001b[0m\u001b[32m)\u001b[0m\u001b[32m  # Read and convert to lowercase\\n\\n    #\u001b[0m\n",
       "\u001b[32mTokenize the text into words, removing punctuation\\n    words = re.findall\u001b[0m\u001b[32m(\u001b[0m\u001b[32mr\\'\\\\b\\\\w+\\\\b\\', text\u001b[0m\u001b[32m)\u001b[0m\u001b[32m\\n\\n    # Filter \u001b[0m\n",
       "\u001b[32mout stopwords\\n    filtered_words = \u001b[0m\u001b[32m\\n\\n    # Count the frequency of each word using Counter\\n    word_counts = \u001b[0m\n",
       "\u001b[32mCounter\u001b[0m\u001b[32m(\u001b[0m\u001b[32mfiltered_words\u001b[0m\u001b[32m)\u001b[0m\u001b[32m\\n\\n    # Get the top 5 most common words\\n    top_five = word_counts.most_common\u001b[0m\u001b[32m(\u001b[0m\u001b[32m5\u001b[0m\u001b[32m)\u001b[0m\u001b[32m\\n\\n    \u001b[0m\n",
       "\u001b[32m# Output the results\\n    for word, count in top_five:\\n        print\u001b[0m\u001b[32m(\u001b[0m\u001b[32mf\\'Word: \u001b[0m\u001b[32m{\u001b[0m\u001b[32mword\u001b[0m\u001b[32m}\u001b[0m\u001b[32m, Count: \u001b[0m\u001b[32m{\u001b[0m\u001b[32mcount\u001b[0m\u001b[32m}\u001b[0m\u001b[32m\\'\u001b[0m\u001b[32m)\u001b[0m\u001b[32m\\n\\nexcept \u001b[0m\n",
       "\u001b[32mFileNotFoundError:\\n    print\u001b[0m\u001b[32m(\u001b[0m\u001b[32m\"Error: The file \\'./input.txt\\' was not found.\"\u001b[0m\u001b[32m)\u001b[0m\u001b[32m\\nexcept Exception as e:\\n    \u001b[0m\n",
       "\u001b[32mprint\u001b[0m\u001b[32m(\u001b[0m\u001b[32mf\"An error occurred: \u001b[0m\u001b[32m{\u001b[0m\u001b[32me\u001b[0m\u001b[32m}\u001b[0m\u001b[32m\"\u001b[0m\u001b[32m)\u001b[0m\u001b[32m'\u001b[0m \u001b[33mpip_dependencies\u001b[0m=\u001b[1m[\u001b[0m\u001b[1m]\u001b[0m \u001b[33mexecution_output\u001b[0m=\u001b[32m'Tool executed successfully. Output:\\nWord: \u001b[0m\n",
       "\u001b[32mmay, Count: 1664\\nWord: _, Count: 1064\\nWord: acid, Count: 734\\nWord: death, Count: 728\\nWord: cases, Count: 549\\n'\u001b[0m\n",
       "\u001b[33msuccess\u001b[0m=\u001b[3;92mTrue\u001b[0m \u001b[33mfailure_reason\u001b[0m=\u001b[3;35mNone\u001b[0m\n"
      ]
     },
     "metadata": {},
     "output_type": "display_data"
    }
   ],
   "source": [
    "task=\"Extract the top 5 most frequent words from the text file ./input.txt and ignore common stopwords.\"\n",
    "result=autonomous_planner_tool(task,max_trials=5,verbose=True)\n",
    "\n",
    "print(f\"Final Result: {result}\")"
   ]
  },
  {
   "cell_type": "code",
   "execution_count": null,
   "metadata": {},
   "outputs": [
    {
     "data": {
      "text/html": [
       "<pre style=\"white-space:pre;overflow-x:auto;line-height:normal;font-family:Menlo,'DejaVu Sans Mono',consolas,'Courier New',monospace\">========== Iteration <span style=\"color: #008080; text-decoration-color: #008080; font-weight: bold\">1</span> ==========\n",
       "</pre>\n"
      ],
      "text/plain": [
       "========== Iteration \u001b[1;36m1\u001b[0m ==========\n"
      ]
     },
     "metadata": {},
     "output_type": "display_data"
    }
   ],
   "source": [
    "task=\"Plot the distribution of the top 10 most frequent words in the text file ./input.txt and save the plot as a PNG file. Ignore common stopwords.\"\n",
    "result=autonomous_planner_tool(task,max_trials=5,verbose=True)\n",
    "\n",
    "print(f\"Final Result: {result}\")"
   ]
  },
  {
   "cell_type": "code",
   "execution_count": 57,
   "metadata": {},
   "outputs": [
    {
     "data": {
      "text/html": [
       "<pre style=\"white-space:pre;overflow-x:auto;line-height:normal;font-family:Menlo,'DejaVu Sans Mono',consolas,'Courier New',monospace\">========== Iteration <span style=\"color: #008080; text-decoration-color: #008080; font-weight: bold\">1</span> ==========\n",
       "</pre>\n"
      ],
      "text/plain": [
       "========== Iteration \u001b[1;36m1\u001b[0m ==========\n"
      ]
     },
     "metadata": {},
     "output_type": "display_data"
    },
    {
     "data": {
      "text/html": [
       "<pre style=\"white-space:pre;overflow-x:auto;line-height:normal;font-family:Menlo,'DejaVu Sans Mono',consolas,'Courier New',monospace\">Tool Generation Failed: The task cannot be completed because searching for articles on autonomous driving requires \n",
       "access to an external service, such as a news API or a web scraping tool, which would necessitate the use of \n",
       "external dependencies or API keys that violate the guidelines.\n",
       "</pre>\n"
      ],
      "text/plain": [
       "Tool Generation Failed: The task cannot be completed because searching for articles on autonomous driving requires \n",
       "access to an external service, such as a news API or a web scraping tool, which would necessitate the use of \n",
       "external dependencies or API keys that violate the guidelines.\n"
      ]
     },
     "metadata": {},
     "output_type": "display_data"
    },
    {
     "data": {
      "text/html": [
       "<pre style=\"white-space:pre;overflow-x:auto;line-height:normal;font-family:Menlo,'DejaVu Sans Mono',consolas,'Courier New',monospace\">Final Result: <span style=\"color: #808000; text-decoration-color: #808000\">final_result</span>=<span style=\"color: #800080; text-decoration-color: #800080; font-style: italic\">None</span> <span style=\"color: #808000; text-decoration-color: #808000\">final_script</span>=<span style=\"color: #800080; text-decoration-color: #800080; font-style: italic\">None</span> <span style=\"color: #808000; text-decoration-color: #808000\">pip_dependencies</span>=<span style=\"font-weight: bold\">[]</span> <span style=\"color: #808000; text-decoration-color: #808000\">execution_output</span>=<span style=\"color: #800080; text-decoration-color: #800080; font-style: italic\">None</span> <span style=\"color: #808000; text-decoration-color: #808000\">success</span>=<span style=\"color: #ff0000; text-decoration-color: #ff0000; font-style: italic\">False</span> \n",
       "<span style=\"color: #808000; text-decoration-color: #808000\">failure_reason</span>=<span style=\"color: #008000; text-decoration-color: #008000\">'The task cannot be completed because searching for articles on autonomous driving requires access </span>\n",
       "<span style=\"color: #008000; text-decoration-color: #008000\">to an external service, such as a news API or a web scraping tool, which would necessitate the use of external </span>\n",
       "<span style=\"color: #008000; text-decoration-color: #008000\">dependencies or API keys that violate the guidelines.'</span>\n",
       "</pre>\n"
      ],
      "text/plain": [
       "Final Result: \u001b[33mfinal_result\u001b[0m=\u001b[3;35mNone\u001b[0m \u001b[33mfinal_script\u001b[0m=\u001b[3;35mNone\u001b[0m \u001b[33mpip_dependencies\u001b[0m=\u001b[1m[\u001b[0m\u001b[1m]\u001b[0m \u001b[33mexecution_output\u001b[0m=\u001b[3;35mNone\u001b[0m \u001b[33msuccess\u001b[0m=\u001b[3;91mFalse\u001b[0m \n",
       "\u001b[33mfailure_reason\u001b[0m=\u001b[32m'The task cannot be completed because searching for articles on autonomous driving requires access \u001b[0m\n",
       "\u001b[32mto an external service, such as a news API or a web scraping tool, which would necessitate the use of external \u001b[0m\n",
       "\u001b[32mdependencies or API keys that violate the guidelines.'\u001b[0m\n"
      ]
     },
     "metadata": {},
     "output_type": "display_data"
    }
   ],
   "source": [
    "task=\"search for top 3 articles on autonomous driving and give back the titles\"\n",
    "result=autonomous_tool(task,max_trials=5,verbose=True)\n",
    "\n",
    "print(f\"Final Result: {result}\")"
   ]
  }
 ],
 "metadata": {
  "kernelspec": {
   "display_name": "Python 3",
   "language": "python",
   "name": "python3"
  },
  "language_info": {
   "codemirror_mode": {
    "name": "ipython",
    "version": 3
   },
   "file_extension": ".py",
   "mimetype": "text/x-python",
   "name": "python",
   "nbconvert_exporter": "python",
   "pygments_lexer": "ipython3",
   "version": "3.10.15"
  }
 },
 "nbformat": 4,
 "nbformat_minor": 2
}
