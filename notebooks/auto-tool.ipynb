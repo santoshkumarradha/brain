{
 "cells": [
  {
   "cell_type": "code",
   "execution_count": 1,
   "metadata": {},
   "outputs": [],
   "source": [
    "import sys\n",
    "\n",
    "sys.path.append(\"..\")\n",
    "from typing import List\n",
    "\n",
    "import requests\n",
    "from bs4 import BeautifulSoup\n",
    "from googlesearch import search\n",
    "from pydantic import BaseModel, Field\n",
    "from rich import print\n",
    "from brain.sdk import BrainClient"
   ]
  },
  {
   "cell_type": "code",
   "execution_count": 2,
   "metadata": {},
   "outputs": [],
   "source": [
    "brain_client = BrainClient(\"http://127.0.0.1:8000\")"
   ]
  },
  {
   "cell_type": "code",
   "execution_count": 3,
   "metadata": {},
   "outputs": [],
   "source": [
    "from typing import List, Union\n",
    "\n",
    "from pydantic import BaseModel, Field\n",
    "\n",
    "\n",
    "class Tool(BaseModel):\n",
    "    script: str = Field(..., description=\"The Python script to be executed. Ensure it handles errors and outputs structured results.\")\n",
    "    pip_install: List[str] = Field(..., description=\"The list of pip packages required to execute the script.\")\n",
    "    completed: Union[bool, str] = Field(..., description=\"Indicates if the task is successfully completed. True if completed, otherwise a string explaining why the script cannot be generated.\")"
   ]
  },
  {
   "cell_type": "code",
   "execution_count": 4,
   "metadata": {},
   "outputs": [],
   "source": [
    "@brain_client.reasoner(schema=Tool)\n",
    "def autonomous_tool(task: str):\n",
    "    \"\"\"\n",
    "    Generates standalone, executable Python scripts with no external dependencies.\n",
    "    \"\"\"\n",
    "    system_prompt = \"\"\"You are a Python script generator focused on creating fully autonomous code. Your scripts must be completely self-contained:\n",
    "\n",
    "DO NOT generate scripts that:\n",
    "- Require external inputs (API keys, file paths, user prompts, etc.)\n",
    "- Use mock/placeholder data\n",
    "- Need manual configuration\n",
    "- Access local files or environment variables\n",
    "- Connect to external services without built-in test data\n",
    "- Depend on system-specific resources\n",
    "- Use unreliable or niche packages\n",
    "\n",
    "Instead:\n",
    "- Use standard library when possible\n",
    "- Include test data within the script\n",
    "- Handle all edge cases and errors\n",
    "- Use only widely-used PyPI packages if needed\n",
    "- Generate any required data programmatically\n",
    "- If we cannot do it without external dependencies, explain why in 'completed' field and guide the tool maker to say it cannot be done\n",
    "\n",
    "If task requires unavoidable external dependencies, explain why in 'completed' field.\"\"\"\n",
    "\n",
    "    user_prompt = f\"\"\"Generate a standalone Python script for: \"{task}\"\n",
    "\n",
    "Return:\n",
    "- script: Fully executable Python code\n",
    "- pip_install: Required packages (empty list if none needed)\n",
    "- completed: True if successful, or explanation why task cannot be autonomous\"\"\"\n",
    "\n",
    "    return system_prompt, user_prompt\n",
    "autonomous_tool_id=autonomous_tool.register()"
   ]
  },
  {
   "cell_type": "code",
   "execution_count": 5,
   "metadata": {},
   "outputs": [],
   "source": [
    "import os\n",
    "import shutil\n",
    "import subprocess\n",
    "import tempfile\n",
    "import venv\n",
    "from typing import Dict, Union\n",
    "\n",
    "def execute_script_with_temp_venv(script: str, pip_install: list) -> Dict[str, Union[str, bool]]:\n",
    "    result = {\n",
    "        \"script\": script,\n",
    "        \"pip_install\": pip_install,\n",
    "        \"success\": False,\n",
    "        \"stdout\": \"\",\n",
    "        \"stderr\": \"\",\n",
    "        \"error\": \"\"\n",
    "    }\n",
    "    temp_dir = None\n",
    "\n",
    "    try:\n",
    "        # Step 1: Create a temporary directory for the virtual environment\n",
    "        temp_dir = tempfile.mkdtemp()\n",
    "        venv_dir = os.path.join(temp_dir, \"venv\")\n",
    "        venv.create(venv_dir, with_pip=True)\n",
    "\n",
    "        # Step 2: Paths for the virtual environment\n",
    "        venv_python = os.path.join(venv_dir, \"bin\", \"python\") if os.name != 'nt' else os.path.join(venv_dir, \"Scripts\", \"python\")\n",
    "        venv_pip = os.path.join(venv_dir, \"bin\", \"pip\") if os.name != 'nt' else os.path.join(venv_dir, \"Scripts\", \"pip\")\n",
    "\n",
    "        # Step 3: Install required packages\n",
    "        if pip_install:\n",
    "            install_command = [venv_pip, \"install\"] + pip_install\n",
    "            subprocess.run(install_command, check=True, stdout=subprocess.PIPE, stderr=subprocess.PIPE)\n",
    "\n",
    "        # Step 4: Write the script to a temporary file\n",
    "        script_path = os.path.join(temp_dir, \"script.py\")\n",
    "        with open(script_path, \"w\") as script_file:\n",
    "            script_file.write(script)\n",
    "\n",
    "        # Step 5: Execute the script\n",
    "        execute_command = [venv_python, script_path]\n",
    "        process = subprocess.run(\n",
    "            execute_command, check=False, capture_output=True, text=True\n",
    "        )\n",
    "\n",
    "        # Step 6: Update result based on execution outcome\n",
    "        result[\"stdout\"] = process.stdout.strip()\n",
    "        result[\"stderr\"] = process.stderr.strip()\n",
    "        result[\"error\"] = \"\"\n",
    "        result[\"success\"] = process.returncode == 0 and not result[\"stderr\"]\n",
    "\n",
    "    except subprocess.CalledProcessError as e:\n",
    "        result[\"error\"] = f\"Pip installation or execution failed: {str(e)}\"\n",
    "    except Exception as e:\n",
    "        result[\"error\"] = f\"Unexpected error: {str(e)}\"\n",
    "    finally:\n",
    "        # Step 7: Cleanup temporary directory\n",
    "        if temp_dir and os.path.exists(temp_dir):\n",
    "            shutil.rmtree(temp_dir)\n",
    "\n",
    "    # Update success condition to ensure no stderr or unexpected errors\n",
    "    result[\"success\"] = result[\"success\"] and not result[\"error\"] and not result[\"stderr\"]\n",
    "    return result\n",
    "\n",
    "def format_tool_output(execution_result: Dict[str, Union[str, bool]]) -> str:\n",
    "    if execution_result[\"success\"]:\n",
    "        return f\"Tool executed successfully. Output:\\n{execution_result['stdout']}\\n\"\n",
    "    else:\n",
    "        return (\n",
    "            f\"Tool execution failed.\\n\"\n",
    "            f\"Error: {execution_result['error'] if execution_result['error'] else 'No additional error details.'}\\n\"\n",
    "            f\"Standard Error: {execution_result['stderr']}\\n\"\n",
    "            f\"Standard Output: {execution_result['stdout']}\\n\"\n",
    "            f\"Script:\\n{execution_result['script']}\\n\"\n",
    "            f\"Dependencies:\\n{execution_result['pip_install']}\\n\"\n",
    "        )\n",
    "\n"
   ]
  },
  {
   "cell_type": "code",
   "execution_count": 6,
   "metadata": {},
   "outputs": [],
   "source": [
    "from typing import Optional, Union\n",
    "\n",
    "from pydantic import BaseModel, Field\n",
    "\n",
    "\n",
    "class Success(BaseModel):\n",
    "    final_answer: str = Field(..., description=\"The final result or answer to the task if the execution succeeded.\")\n",
    "\n",
    "class Failure(BaseModel):\n",
    "    analysis: str = Field(..., description=\"A detailed explanation of why the tool execution failed.\")\n",
    "    suggestions: str = Field(..., description=\"Suggestions for fixing the issue or alternative approaches to achieve the task.\")\n",
    "\n",
    "class Result(BaseModel):\n",
    "    success: bool = Field(..., description=\"Indicates if the tool execution was successful.\")\n",
    "    result: Union[Success, Failure] = Field(..., description=\"The result of the analysis, including success or failure details.\")\n",
    "    \n",
    "@brain_client.reasoner(schema=Result)\n",
    "def result_analyzer(tool_output: str, task: str):\n",
    "    \"\"\"\n",
    "    Analyzes script execution results focusing on zero human intervention requirement.\n",
    "    \"\"\"\n",
    "    system_prompt = \"\"\"Analyze Python script results for true autonomy - script must run without any human intervention.\n",
    "\n",
    "Success case:\n",
    "- Mention success as True\n",
    "Extract meaningful result from tool_output and present as:\n",
    "- Direct answer addressing the original task\n",
    "- Natural, human-readable format\n",
    "- No technical details unless relevant\n",
    "- No mention of script/code aspects\n",
    "\n",
    "\n",
    "Failure case - Check for:\n",
    "1. Manual Requirements (like these, but it can be more):\n",
    "   - API keys/credentials needed\n",
    "   - File paths/names input\n",
    "   - User prompts/inputs\n",
    "   - Configuration steps\n",
    "   - Runtime user decisions\n",
    "\n",
    "2. Script should:\n",
    "   - Use standard library or pip packages\n",
    "   - Make API calls if no credentials needed\n",
    "   - Handle all data programmatically\n",
    "   - Run start-to-finish autonomously\n",
    "\n",
    "Key principle:\n",
    "If task requires ANY manual steps (API keys, inputs, etc):\n",
    "- Clearly state why it can't be autonomous\n",
    "- Don't suggest mock/placeholder solutions\n",
    "- Only suggest truly automatic alternatives\"\"\"\n",
    "\n",
    "    user_prompt = f\"\"\"Analyze result for: \"{task}\"\n",
    "Output: \"{tool_output}\"\n",
    "\n",
    "Success: Direct task response\n",
    "Failure: Explain manual intervention needs\"\"\"\n",
    "\n",
    "    return system_prompt, user_prompt\n",
    "result_analyzer_id = result_analyzer.register()"
   ]
  },
  {
   "cell_type": "code",
   "execution_count": 7,
   "metadata": {},
   "outputs": [],
   "source": [
    "@brain_client.multi_agent\n",
    "def autonomous_tool(task: str, max_trials=5, verbose=True):\n",
    "    for i in range(max_trials):\n",
    "        print(f\"{'='*10} Iteration {i+1} {'='*10}\")\n",
    "        \n",
    "        if i != 0:\n",
    "            if not res.success:\n",
    "                task_context = (\n",
    "                    f\"Last tool failed because {res.result}. \"\n",
    "                    f\"Last tool script:\\n{tool_output.script}\\n\"\n",
    "                    f\"Pip dependencies: {tool_output.pip_install}\\n\"\n",
    "                )\n",
    "        else:\n",
    "            task_context = \"\"\n",
    "\n",
    "        # Generate the tool\n",
    "        tool_output = brain_client.use(autonomous_tool_id)(task=task_context + task)\n",
    "        \n",
    "        # Execute the script\n",
    "        exec_output = execute_script_with_temp_venv(tool_output.script, tool_output.pip_install)\n",
    "        \n",
    "        # Format execution result into context\n",
    "        context = format_tool_output(exec_output)\n",
    "        \n",
    "        # Analyze the result\n",
    "        res = brain_client.use(result_analyzer_id)(tool_output=context, task=task)\n",
    "        \n",
    "        if verbose:\n",
    "            print(res.result)\n",
    "        \n",
    "        if res.success:\n",
    "            if verbose:\n",
    "                print(f\"Final Tool Output:\\n{context}\")\n",
    "            break\n",
    "    \n",
    "    return res.result\n"
   ]
  },
  {
   "cell_type": "code",
   "execution_count": 12,
   "metadata": {},
   "outputs": [
    {
     "data": {
      "text/html": [
       "<pre style=\"white-space:pre;overflow-x:auto;line-height:normal;font-family:Menlo,'DejaVu Sans Mono',consolas,'Courier New',monospace\">========== Iteration <span style=\"color: #008080; text-decoration-color: #008080; font-weight: bold\">1</span> ==========\n",
       "</pre>\n"
      ],
      "text/plain": [
       "========== Iteration \u001b[1;36m1\u001b[0m ==========\n"
      ]
     },
     "metadata": {},
     "output_type": "display_data"
    },
    {
     "data": {
      "text/html": [
       "<pre style=\"white-space:pre;overflow-x:auto;line-height:normal;font-family:Menlo,'DejaVu Sans Mono',consolas,'Courier New',monospace\"><span style=\"color: #800080; text-decoration-color: #800080; font-weight: bold\">Success</span><span style=\"font-weight: bold\">(</span><span style=\"color: #808000; text-decoration-color: #808000\">final_answer</span>=<span style=\"color: #008000; text-decoration-color: #008000\">'The temperature in Downtown Toronto today is 24.0 degrees Celsius.'</span><span style=\"font-weight: bold\">)</span>\n",
       "</pre>\n"
      ],
      "text/plain": [
       "\u001b[1;35mSuccess\u001b[0m\u001b[1m(\u001b[0m\u001b[33mfinal_answer\u001b[0m=\u001b[32m'The temperature in Downtown Toronto today is 24.0 degrees Celsius.'\u001b[0m\u001b[1m)\u001b[0m\n"
      ]
     },
     "metadata": {},
     "output_type": "display_data"
    },
    {
     "data": {
      "text/html": [
       "<pre style=\"white-space:pre;overflow-x:auto;line-height:normal;font-family:Menlo,'DejaVu Sans Mono',consolas,'Courier New',monospace\">Final Tool Output:\n",
       "Tool executed successfully. Output:\n",
       "<span style=\"font-weight: bold\">{</span>\n",
       "    <span style=\"color: #008000; text-decoration-color: #008000\">\"location\"</span>: <span style=\"color: #008000; text-decoration-color: #008000\">\"Downtown Toronto\"</span>,\n",
       "    <span style=\"color: #008000; text-decoration-color: #008000\">\"temperature_c\"</span>: <span style=\"color: #008080; text-decoration-color: #008080; font-weight: bold\">24.0</span>,\n",
       "    <span style=\"color: #008000; text-decoration-color: #008000\">\"unit\"</span>: <span style=\"color: #008000; text-decoration-color: #008000\">\"Celsius\"</span>,\n",
       "    <span style=\"color: #008000; text-decoration-color: #008000\">\"timestamp\"</span>: <span style=\"color: #008000; text-decoration-color: #008000\">\"2024-11-27T12:21:12.965505\"</span>\n",
       "<span style=\"font-weight: bold\">}</span>\n",
       "\n",
       "</pre>\n"
      ],
      "text/plain": [
       "Final Tool Output:\n",
       "Tool executed successfully. Output:\n",
       "\u001b[1m{\u001b[0m\n",
       "    \u001b[32m\"location\"\u001b[0m: \u001b[32m\"Downtown Toronto\"\u001b[0m,\n",
       "    \u001b[32m\"temperature_c\"\u001b[0m: \u001b[1;36m24.0\u001b[0m,\n",
       "    \u001b[32m\"unit\"\u001b[0m: \u001b[32m\"Celsius\"\u001b[0m,\n",
       "    \u001b[32m\"timestamp\"\u001b[0m: \u001b[32m\"2024-11-27T12:21:12.965505\"\u001b[0m\n",
       "\u001b[1m}\u001b[0m\n",
       "\n"
      ]
     },
     "metadata": {},
     "output_type": "display_data"
    },
    {
     "data": {
      "text/html": [
       "<pre style=\"white-space:pre;overflow-x:auto;line-height:normal;font-family:Menlo,'DejaVu Sans Mono',consolas,'Courier New',monospace\">Final Result: <span style=\"color: #808000; text-decoration-color: #808000\">final_answer</span>=<span style=\"color: #008000; text-decoration-color: #008000\">'The temperature in Downtown Toronto today is 24.0 degrees Celsius.'</span>\n",
       "</pre>\n"
      ],
      "text/plain": [
       "Final Result: \u001b[33mfinal_answer\u001b[0m=\u001b[32m'The temperature in Downtown Toronto today is 24.0 degrees Celsius.'\u001b[0m\n"
      ]
     },
     "metadata": {},
     "output_type": "display_data"
    }
   ],
   "source": [
    "task=\"What is the temperature in Downtown Toronto today?\"\n",
    "result=autonomous_tool(task,max_trials=5,verbose=True)\n",
    "\n",
    "print(f\"Final Result: {result}\")"
   ]
  },
  {
   "cell_type": "code",
   "execution_count": 8,
   "metadata": {},
   "outputs": [
    {
     "data": {
      "text/html": [
       "<pre style=\"white-space:pre;overflow-x:auto;line-height:normal;font-family:Menlo,'DejaVu Sans Mono',consolas,'Courier New',monospace\">========== Iteration <span style=\"color: #008080; text-decoration-color: #008080; font-weight: bold\">1</span> ==========\n",
       "</pre>\n"
      ],
      "text/plain": [
       "========== Iteration \u001b[1;36m1\u001b[0m ==========\n"
      ]
     },
     "metadata": {},
     "output_type": "display_data"
    },
    {
     "data": {
      "text/html": [
       "<pre style=\"white-space:pre;overflow-x:auto;line-height:normal;font-family:Menlo,'DejaVu Sans Mono',consolas,'Courier New',monospace\"><span style=\"color: #800080; text-decoration-color: #800080; font-weight: bold\">Failure</span><span style=\"font-weight: bold\">(</span>\n",
       "    <span style=\"color: #808000; text-decoration-color: #808000\">analysis</span>=<span style=\"color: #008000; text-decoration-color: #008000\">\"The script execution failed because it encountered a '429 Client Error' when attempting to make an </span>\n",
       "<span style=\"color: #008000; text-decoration-color: #008000\">API call. This error indicates that the script's requests to the API exceeded the allowed limit, which could </span>\n",
       "<span style=\"color: #008000; text-decoration-color: #008000\">suggest that the API requires a valid key or has rate-limiting constraints in place. Additionally, the error does </span>\n",
       "<span style=\"color: #008000; text-decoration-color: #008000\">not imply that the script can operate completely autonomously since it relies on an external API for data access, </span>\n",
       "<span style=\"color: #008000; text-decoration-color: #008000\">which may require configuration or credentials to function correctly.\"</span>,\n",
       "    <span style=\"color: #808000; text-decoration-color: #808000\">suggestions</span>=<span style=\"color: #008000; text-decoration-color: #008000\">'To ensure true autonomy, consider using an API that does not require credentials or has higher </span>\n",
       "<span style=\"color: #008000; text-decoration-color: #008000\">limits for requests, or find a different data source that can provide the needed information without manual </span>\n",
       "<span style=\"color: #008000; text-decoration-color: #008000\">intervention. Alternatively, implement error handling to manage rate limits more gracefully.'</span>\n",
       "<span style=\"font-weight: bold\">)</span>\n",
       "</pre>\n"
      ],
      "text/plain": [
       "\u001b[1;35mFailure\u001b[0m\u001b[1m(\u001b[0m\n",
       "    \u001b[33manalysis\u001b[0m=\u001b[32m\"The\u001b[0m\u001b[32m script execution failed because it encountered a '429 Client Error' when attempting to make an \u001b[0m\n",
       "\u001b[32mAPI call. This error indicates that the script's requests to the API exceeded the allowed limit, which could \u001b[0m\n",
       "\u001b[32msuggest that the API requires a valid key or has rate-limiting constraints in place. Additionally, the error does \u001b[0m\n",
       "\u001b[32mnot imply that the script can operate completely autonomously since it relies on an external API for data access, \u001b[0m\n",
       "\u001b[32mwhich may require configuration or credentials to function correctly.\"\u001b[0m,\n",
       "    \u001b[33msuggestions\u001b[0m=\u001b[32m'To ensure true autonomy, consider using an API that does not require credentials or has higher \u001b[0m\n",
       "\u001b[32mlimits for requests, or find a different data source that can provide the needed information without manual \u001b[0m\n",
       "\u001b[32mintervention. Alternatively, implement error handling to manage rate limits more gracefully.'\u001b[0m\n",
       "\u001b[1m)\u001b[0m\n"
      ]
     },
     "metadata": {},
     "output_type": "display_data"
    },
    {
     "data": {
      "text/html": [
       "<pre style=\"white-space:pre;overflow-x:auto;line-height:normal;font-family:Menlo,'DejaVu Sans Mono',consolas,'Courier New',monospace\">========== Iteration <span style=\"color: #008080; text-decoration-color: #008080; font-weight: bold\">2</span> ==========\n",
       "</pre>\n"
      ],
      "text/plain": [
       "========== Iteration \u001b[1;36m2\u001b[0m ==========\n"
      ]
     },
     "metadata": {},
     "output_type": "display_data"
    },
    {
     "data": {
      "text/html": [
       "<pre style=\"white-space:pre;overflow-x:auto;line-height:normal;font-family:Menlo,'DejaVu Sans Mono',consolas,'Courier New',monospace\"><span style=\"color: #800080; text-decoration-color: #800080; font-weight: bold\">Success</span><span style=\"font-weight: bold\">(</span>\n",
       "    <span style=\"color: #808000; text-decoration-color: #808000\">final_answer</span>=<span style=\"color: #008000; text-decoration-color: #008000\">'The search for top articles on autonomous driving returned the following summaries:\\n\\n1. **The </span>\n",
       "<span style=\"color: #008000; text-decoration-color: #008000\">Future of Autonomous Vehicles**: This publication predicts the trends in autonomous vehicle technology over the </span>\n",
       "<span style=\"color: #008000; text-decoration-color: #008000\">next decade.\\n\\n2. **Challenges in Autonomous Driving**: In this article, we discuss the obstacles faced in </span>\n",
       "<span style=\"color: #008000; text-decoration-color: #008000\">implementing self-driving cars in real-world scenarios.\\n\\n3. **Understanding Autonomous Driving Systems**: This </span>\n",
       "<span style=\"color: #008000; text-decoration-color: #008000\">paper explores the various technologies behind autonomous vehicles.'</span>\n",
       "<span style=\"font-weight: bold\">)</span>\n",
       "</pre>\n"
      ],
      "text/plain": [
       "\u001b[1;35mSuccess\u001b[0m\u001b[1m(\u001b[0m\n",
       "    \u001b[33mfinal_answer\u001b[0m=\u001b[32m'The search for top articles on autonomous driving returned the following summaries:\\n\\n1. **The \u001b[0m\n",
       "\u001b[32mFuture of Autonomous Vehicles**: This publication predicts the trends in autonomous vehicle technology over the \u001b[0m\n",
       "\u001b[32mnext decade.\\n\\n2. **Challenges in Autonomous Driving**: In this article, we discuss the obstacles faced in \u001b[0m\n",
       "\u001b[32mimplementing self-driving cars in real-world scenarios.\\n\\n3. **Understanding Autonomous Driving Systems**: This \u001b[0m\n",
       "\u001b[32mpaper explores the various technologies behind autonomous vehicles.'\u001b[0m\n",
       "\u001b[1m)\u001b[0m\n"
      ]
     },
     "metadata": {},
     "output_type": "display_data"
    },
    {
     "data": {
      "text/html": [
       "<pre style=\"white-space:pre;overflow-x:auto;line-height:normal;font-family:Menlo,'DejaVu Sans Mono',consolas,'Courier New',monospace\">Final Tool Output:\n",
       "Tool executed successfully. Output:\n",
       "<span style=\"font-weight: bold\">{</span>\n",
       "  <span style=\"color: #008000; text-decoration-color: #008000\">\"articles\"</span>: <span style=\"font-weight: bold\">[</span>\n",
       "    <span style=\"font-weight: bold\">{</span>\n",
       "      <span style=\"color: #008000; text-decoration-color: #008000\">\"title\"</span>: <span style=\"color: #008000; text-decoration-color: #008000\">\"The Future of Autonomous Vehicles\"</span>,\n",
       "      <span style=\"color: #008000; text-decoration-color: #008000\">\"abstract\"</span>: <span style=\"color: #008000; text-decoration-color: #008000\">\"This publication predicts the trends in autonomous vehicle technology over the next decade.\"</span>\n",
       "    <span style=\"font-weight: bold\">}</span>,\n",
       "    <span style=\"font-weight: bold\">{</span>\n",
       "      <span style=\"color: #008000; text-decoration-color: #008000\">\"title\"</span>: <span style=\"color: #008000; text-decoration-color: #008000\">\"Challenges in Autonomous Driving\"</span>,\n",
       "      <span style=\"color: #008000; text-decoration-color: #008000\">\"abstract\"</span>: <span style=\"color: #008000; text-decoration-color: #008000\">\"In this article, we discuss the obstacles faced in implementing self-driving cars in real-world </span>\n",
       "<span style=\"color: #008000; text-decoration-color: #008000\">scenarios.\"</span>\n",
       "    <span style=\"font-weight: bold\">}</span>,\n",
       "    <span style=\"font-weight: bold\">{</span>\n",
       "      <span style=\"color: #008000; text-decoration-color: #008000\">\"title\"</span>: <span style=\"color: #008000; text-decoration-color: #008000\">\"Understanding Autonomous Driving Systems\"</span>,\n",
       "      <span style=\"color: #008000; text-decoration-color: #008000\">\"abstract\"</span>: <span style=\"color: #008000; text-decoration-color: #008000\">\"This paper explores the various technologies behind autonomous vehicles.\"</span>\n",
       "    <span style=\"font-weight: bold\">}</span>\n",
       "  <span style=\"font-weight: bold\">]</span>\n",
       "<span style=\"font-weight: bold\">}</span>\n",
       "\n",
       "</pre>\n"
      ],
      "text/plain": [
       "Final Tool Output:\n",
       "Tool executed successfully. Output:\n",
       "\u001b[1m{\u001b[0m\n",
       "  \u001b[32m\"articles\"\u001b[0m: \u001b[1m[\u001b[0m\n",
       "    \u001b[1m{\u001b[0m\n",
       "      \u001b[32m\"title\"\u001b[0m: \u001b[32m\"The Future of Autonomous Vehicles\"\u001b[0m,\n",
       "      \u001b[32m\"abstract\"\u001b[0m: \u001b[32m\"This publication predicts the trends in autonomous vehicle technology over the next decade.\"\u001b[0m\n",
       "    \u001b[1m}\u001b[0m,\n",
       "    \u001b[1m{\u001b[0m\n",
       "      \u001b[32m\"title\"\u001b[0m: \u001b[32m\"Challenges in Autonomous Driving\"\u001b[0m,\n",
       "      \u001b[32m\"abstract\"\u001b[0m: \u001b[32m\"In this article, we discuss the obstacles faced in implementing self-driving cars in real-world \u001b[0m\n",
       "\u001b[32mscenarios.\"\u001b[0m\n",
       "    \u001b[1m}\u001b[0m,\n",
       "    \u001b[1m{\u001b[0m\n",
       "      \u001b[32m\"title\"\u001b[0m: \u001b[32m\"Understanding Autonomous Driving Systems\"\u001b[0m,\n",
       "      \u001b[32m\"abstract\"\u001b[0m: \u001b[32m\"This paper explores the various technologies behind autonomous vehicles.\"\u001b[0m\n",
       "    \u001b[1m}\u001b[0m\n",
       "  \u001b[1m]\u001b[0m\n",
       "\u001b[1m}\u001b[0m\n",
       "\n"
      ]
     },
     "metadata": {},
     "output_type": "display_data"
    },
    {
     "data": {
      "text/html": [
       "<pre style=\"white-space:pre;overflow-x:auto;line-height:normal;font-family:Menlo,'DejaVu Sans Mono',consolas,'Courier New',monospace\">Final Result: <span style=\"color: #808000; text-decoration-color: #808000\">final_answer</span>=<span style=\"color: #008000; text-decoration-color: #008000\">'The search for top articles on autonomous driving returned the following </span>\n",
       "<span style=\"color: #008000; text-decoration-color: #008000\">summaries:\\n\\n1. **The Future of Autonomous Vehicles**: This publication predicts the trends in autonomous vehicle </span>\n",
       "<span style=\"color: #008000; text-decoration-color: #008000\">technology over the next decade.\\n\\n2. **Challenges in Autonomous Driving**: In this article, we discuss the </span>\n",
       "<span style=\"color: #008000; text-decoration-color: #008000\">obstacles faced in implementing self-driving cars in real-world scenarios.\\n\\n3. **Understanding Autonomous Driving</span>\n",
       "<span style=\"color: #008000; text-decoration-color: #008000\">Systems**: This paper explores the various technologies behind autonomous vehicles.'</span>\n",
       "</pre>\n"
      ],
      "text/plain": [
       "Final Result: \u001b[33mfinal_answer\u001b[0m=\u001b[32m'The search for top articles on autonomous driving returned the following \u001b[0m\n",
       "\u001b[32msummaries:\\n\\n1. **The Future of Autonomous Vehicles**: This publication predicts the trends in autonomous vehicle \u001b[0m\n",
       "\u001b[32mtechnology over the next decade.\\n\\n2. **Challenges in Autonomous Driving**: In this article, we discuss the \u001b[0m\n",
       "\u001b[32mobstacles faced in implementing self-driving cars in real-world scenarios.\\n\\n3. **Understanding Autonomous Driving\u001b[0m\n",
       "\u001b[32mSystems**: This paper explores the various technologies behind autonomous vehicles.'\u001b[0m\n"
      ]
     },
     "metadata": {},
     "output_type": "display_data"
    }
   ],
   "source": [
    "task=\"search for top 3 articles on autonomous driving and give back the titles\"\n",
    "result=autonomous_tool(task,max_trials=5,verbose=True)\n",
    "\n",
    "print(f\"Final Result: {result}\")"
   ]
  },
  {
   "cell_type": "code",
   "execution_count": 9,
   "metadata": {},
   "outputs": [
    {
     "data": {
      "text/html": [
       "<pre style=\"white-space:pre;overflow-x:auto;line-height:normal;font-family:Menlo,'DejaVu Sans Mono',consolas,'Courier New',monospace\">========== Iteration <span style=\"color: #008080; text-decoration-color: #008080; font-weight: bold\">1</span> ==========\n",
       "</pre>\n"
      ],
      "text/plain": [
       "========== Iteration \u001b[1;36m1\u001b[0m ==========\n"
      ]
     },
     "metadata": {},
     "output_type": "display_data"
    },
    {
     "data": {
      "text/html": [
       "<pre style=\"white-space:pre;overflow-x:auto;line-height:normal;font-family:Menlo,'DejaVu Sans Mono',consolas,'Courier New',monospace\"><span style=\"color: #800080; text-decoration-color: #800080; font-weight: bold\">Success</span><span style=\"font-weight: bold\">(</span><span style=\"color: #808000; text-decoration-color: #808000\">final_answer</span>=<span style=\"color: #008000; text-decoration-color: #008000\">'The sum of numbers from 1 to 100,000,000 is 5,000,000,500,000,000.'</span><span style=\"font-weight: bold\">)</span>\n",
       "</pre>\n"
      ],
      "text/plain": [
       "\u001b[1;35mSuccess\u001b[0m\u001b[1m(\u001b[0m\u001b[33mfinal_answer\u001b[0m=\u001b[32m'The sum of numbers from 1 to 100,000,000 is 5,000,000,500,000,000.'\u001b[0m\u001b[1m)\u001b[0m\n"
      ]
     },
     "metadata": {},
     "output_type": "display_data"
    },
    {
     "data": {
      "text/html": [
       "<pre style=\"white-space:pre;overflow-x:auto;line-height:normal;font-family:Menlo,'DejaVu Sans Mono',consolas,'Courier New',monospace\">Final Tool Output:\n",
       "Tool executed successfully. Output:\n",
       "The sum of numbers from <span style=\"color: #008080; text-decoration-color: #008080; font-weight: bold\">1</span> to <span style=\"color: #008080; text-decoration-color: #008080; font-weight: bold\">100000000</span> is: <span style=\"color: #008080; text-decoration-color: #008080; font-weight: bold\">5000000050000000</span>\n",
       "\n",
       "</pre>\n"
      ],
      "text/plain": [
       "Final Tool Output:\n",
       "Tool executed successfully. Output:\n",
       "The sum of numbers from \u001b[1;36m1\u001b[0m to \u001b[1;36m100000000\u001b[0m is: \u001b[1;36m5000000050000000\u001b[0m\n",
       "\n"
      ]
     },
     "metadata": {},
     "output_type": "display_data"
    },
    {
     "data": {
      "text/html": [
       "<pre style=\"white-space:pre;overflow-x:auto;line-height:normal;font-family:Menlo,'DejaVu Sans Mono',consolas,'Courier New',monospace\">Final Result: <span style=\"color: #808000; text-decoration-color: #808000\">final_answer</span>=<span style=\"color: #008000; text-decoration-color: #008000\">'The sum of numbers from 1 to 100,000,000 is 5,000,000,500,000,000.'</span>\n",
       "</pre>\n"
      ],
      "text/plain": [
       "Final Result: \u001b[33mfinal_answer\u001b[0m=\u001b[32m'The sum of numbers from 1 to 100,000,000 is 5,000,000,500,000,000.'\u001b[0m\n"
      ]
     },
     "metadata": {},
     "output_type": "display_data"
    }
   ],
   "source": [
    "task=\"calculate the sum of numbers from 1 to 100_0000_000\"\n",
    "result=autonomous_tool(task,max_trials=5,verbose=True)\n",
    "\n",
    "print(f\"Final Result: {result}\")"
   ]
  },
  {
   "cell_type": "code",
   "execution_count": 10,
   "metadata": {},
   "outputs": [
    {
     "data": {
      "text/html": [
       "<pre style=\"white-space:pre;overflow-x:auto;line-height:normal;font-family:Menlo,'DejaVu Sans Mono',consolas,'Courier New',monospace\">========== Iteration <span style=\"color: #008080; text-decoration-color: #008080; font-weight: bold\">1</span> ==========\n",
       "</pre>\n"
      ],
      "text/plain": [
       "========== Iteration \u001b[1;36m1\u001b[0m ==========\n"
      ]
     },
     "metadata": {},
     "output_type": "display_data"
    },
    {
     "data": {
      "text/html": [
       "<pre style=\"white-space:pre;overflow-x:auto;line-height:normal;font-family:Menlo,'DejaVu Sans Mono',consolas,'Courier New',monospace\"><span style=\"color: #800080; text-decoration-color: #800080; font-weight: bold\">Success</span><span style=\"font-weight: bold\">(</span><span style=\"color: #808000; text-decoration-color: #808000\">final_answer</span>=<span style=\"color: #008000; text-decoration-color: #008000\">'The multiplication of 77782 and 6762577628 results in 526006813061096.'</span><span style=\"font-weight: bold\">)</span>\n",
       "</pre>\n"
      ],
      "text/plain": [
       "\u001b[1;35mSuccess\u001b[0m\u001b[1m(\u001b[0m\u001b[33mfinal_answer\u001b[0m=\u001b[32m'The multiplication of 77782 and 6762577628 results in 526006813061096.'\u001b[0m\u001b[1m)\u001b[0m\n"
      ]
     },
     "metadata": {},
     "output_type": "display_data"
    },
    {
     "data": {
      "text/html": [
       "<pre style=\"white-space:pre;overflow-x:auto;line-height:normal;font-family:Menlo,'DejaVu Sans Mono',consolas,'Courier New',monospace\">Final Tool Output:\n",
       "Tool executed successfully. Output:\n",
       "<span style=\"font-weight: bold\">{</span><span style=\"color: #008000; text-decoration-color: #008000\">'result'</span>: <span style=\"color: #008080; text-decoration-color: #008080; font-weight: bold\">526006813061096</span>, <span style=\"color: #008000; text-decoration-color: #008000\">'number1'</span>: <span style=\"color: #008080; text-decoration-color: #008080; font-weight: bold\">77782</span>, <span style=\"color: #008000; text-decoration-color: #008000\">'number2'</span>: <span style=\"color: #008080; text-decoration-color: #008080; font-weight: bold\">6762577628</span><span style=\"font-weight: bold\">}</span>\n",
       "\n",
       "</pre>\n"
      ],
      "text/plain": [
       "Final Tool Output:\n",
       "Tool executed successfully. Output:\n",
       "\u001b[1m{\u001b[0m\u001b[32m'result'\u001b[0m: \u001b[1;36m526006813061096\u001b[0m, \u001b[32m'number1'\u001b[0m: \u001b[1;36m77782\u001b[0m, \u001b[32m'number2'\u001b[0m: \u001b[1;36m6762577628\u001b[0m\u001b[1m}\u001b[0m\n",
       "\n"
      ]
     },
     "metadata": {},
     "output_type": "display_data"
    },
    {
     "data": {
      "text/html": [
       "<pre style=\"white-space:pre;overflow-x:auto;line-height:normal;font-family:Menlo,'DejaVu Sans Mono',consolas,'Courier New',monospace\">Final Result: <span style=\"color: #808000; text-decoration-color: #808000\">final_answer</span>=<span style=\"color: #008000; text-decoration-color: #008000\">'The multiplication of 77782 and 6762577628 results in 526006813061096.'</span>\n",
       "</pre>\n"
      ],
      "text/plain": [
       "Final Result: \u001b[33mfinal_answer\u001b[0m=\u001b[32m'The multiplication of 77782 and 6762577628 results in 526006813061096.'\u001b[0m\n"
      ]
     },
     "metadata": {},
     "output_type": "display_data"
    }
   ],
   "source": [
    "task=\"Multiply 777_82 times 67625_7762_8\"\n",
    "result=autonomous_tool(task,max_trials=5,verbose=True)\n",
    "\n",
    "print(f\"Final Result: {result}\")"
   ]
  },
  {
   "cell_type": "code",
   "execution_count": 11,
   "metadata": {},
   "outputs": [
    {
     "data": {
      "text/html": [
       "<pre style=\"white-space:pre;overflow-x:auto;line-height:normal;font-family:Menlo,'DejaVu Sans Mono',consolas,'Courier New',monospace\"><span style=\"color: #008080; text-decoration-color: #008080; font-weight: bold\">526006813061096</span>\n",
       "</pre>\n"
      ],
      "text/plain": [
       "\u001b[1;36m526006813061096\u001b[0m\n"
      ]
     },
     "metadata": {},
     "output_type": "display_data"
    }
   ],
   "source": [
    "print(777_82*67625_7762_8)"
   ]
  }
 ],
 "metadata": {
  "kernelspec": {
   "display_name": "Python 3",
   "language": "python",
   "name": "python3"
  },
  "language_info": {
   "codemirror_mode": {
    "name": "ipython",
    "version": 3
   },
   "file_extension": ".py",
   "mimetype": "text/x-python",
   "name": "python",
   "nbconvert_exporter": "python",
   "pygments_lexer": "ipython3",
   "version": "3.10.15"
  }
 },
 "nbformat": 4,
 "nbformat_minor": 2
}
