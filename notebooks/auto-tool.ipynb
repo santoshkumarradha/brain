{
 "cells": [
  {
   "cell_type": "code",
   "execution_count": null,
   "metadata": {},
   "outputs": [],
   "source": [
    "import sys\n",
    "\n",
    "sys.path.append(\"..\")\n",
    "from typing import List\n",
    "\n",
    "import requests\n",
    "from bs4 import BeautifulSoup\n",
    "from googlesearch import search\n",
    "from pydantic import BaseModel, Field\n",
    "from rich import print\n",
    "\n",
    "from brain.sdk import BrainClient"
   ]
  },
  {
   "cell_type": "code",
   "execution_count": null,
   "metadata": {},
   "outputs": [],
   "source": [
    "brain_client = BrainClient(\"http://127.0.0.1:8000\")"
   ]
  },
  {
   "cell_type": "code",
   "execution_count": null,
   "metadata": {},
   "outputs": [],
   "source": [
    "from typing import List, Union\n",
    "\n",
    "from pydantic import BaseModel, Field\n",
    "\n",
    "\n",
    "class Tool(BaseModel):\n",
    "    script: str = Field(..., description=\"The Python script to be executed. Ensure it handles errors and outputs structured results.\")\n",
    "    pip_install: List[str] = Field(..., description=\"The list of pip packages required to execute the script.\")\n",
    "    completed: Union[bool, str] = Field(..., description=\"Indicates if the task is successfully completed. True if we are able to generate script, otherwise a string explaining why the script cannot be generated.\")"
   ]
  },
  {
   "cell_type": "code",
   "execution_count": null,
   "metadata": {},
   "outputs": [],
   "source": [
    "@brain_client.reasoner(schema=Tool)\n",
    "def autonomous_tool(task: str):\n",
    "    \"\"\"\n",
    "    Generates standalone, executable Python scripts with no external dependencies.\n",
    "    \"\"\"\n",
    "    system_prompt = \"\"\"You are a Python script generator focused on creating fully autonomous code. Your scripts must be completely self-contained:\n",
    "\n",
    "DO NOT generate scripts that:\n",
    "- Require external inputs (API keys, file paths, user prompts, etc.)\n",
    "- Use mock/placeholder data\n",
    "- Do not Simulate or Mock artificial data\n",
    "- Need manual configuration\n",
    "- Access local files or environment variables\n",
    "- Connect to external services without built-in test data\n",
    "- Depend on system-specific resources\n",
    "- Use unreliable or niche packages\n",
    "\n",
    "Instead:\n",
    "- Use standard library when possible\n",
    "- Include test data within the script\n",
    "- Handle all edge cases and errors\n",
    "- Use only widely-used PyPI packages if needed\n",
    "- Generate any required data programmatically\n",
    "- If we cannot do it without external dependencies, explain why in 'completed' field and guide the tool maker to say it cannot be done\n",
    "\n",
    "IMPORTANT:\n",
    "**Do not simulate data or use mock data.**\n",
    "**Do not use methods that require secrets or API keys or other blocking algorithms in script**\n",
    "**If we cannot write the script with the above constraints, Fail and explain why in the 'completed' field.**\n",
    "**if local file reference is given use approrpiate input path in the script to read the file or save the file etc..**\n",
    "\n",
    "If task requires unavoidable external dependencies or simulated or mock data, explain why in 'completed' field and make it a fail case.\"\"\"\n",
    "\n",
    "    user_prompt = f\"\"\"Generate a standalone Python script for: \"{task}\"\n",
    "\n",
    "Return:\n",
    "- script: Fully executable Python code\n",
    "- pip_install: Required packages (empty list if none needed)\n",
    "- completed: True if successful, or explanation why task cannot be autonomous\"\"\"\n",
    "\n",
    "    return system_prompt, user_prompt\n",
    "autonomous_tool_id=autonomous_tool.register()"
   ]
  },
  {
   "cell_type": "code",
   "execution_count": null,
   "metadata": {},
   "outputs": [],
   "source": [
    "import os\n",
    "import shutil\n",
    "import subprocess\n",
    "import tempfile\n",
    "import venv\n",
    "from typing import Dict, Union\n",
    "\n",
    "\n",
    "def execute_script_with_temp_venv(script: str, pip_install: list) -> Dict[str, Union[str, bool]]:\n",
    "    result = {\n",
    "        \"script\": script,\n",
    "        \"pip_install\": pip_install,\n",
    "        \"success\": False,\n",
    "        \"stdout\": \"\",\n",
    "        \"stderr\": \"\",\n",
    "        \"error\": \"\"\n",
    "    }\n",
    "    temp_dir = None\n",
    "\n",
    "    try:\n",
    "        # Step 1: Create a temporary directory for the virtual environment\n",
    "        temp_dir = tempfile.mkdtemp()\n",
    "        venv_dir = os.path.join(temp_dir, \"venv\")\n",
    "        venv.create(venv_dir, with_pip=True)\n",
    "\n",
    "        # Step 2: Paths for the virtual environment\n",
    "        venv_python = os.path.join(venv_dir, \"bin\", \"python\") if os.name != 'nt' else os.path.join(venv_dir, \"Scripts\", \"python\")\n",
    "        venv_pip = os.path.join(venv_dir, \"bin\", \"pip\") if os.name != 'nt' else os.path.join(venv_dir, \"Scripts\", \"pip\")\n",
    "\n",
    "        # Step 3: Install required packages\n",
    "        if pip_install:\n",
    "            install_command = [venv_pip, \"install\"] + pip_install\n",
    "            subprocess.run(install_command, check=True, stdout=subprocess.PIPE, stderr=subprocess.PIPE)\n",
    "\n",
    "        # Step 4: Write the script to a temporary file\n",
    "        script_path = os.path.join(temp_dir, \"script.py\")\n",
    "        with open(script_path, \"w\") as script_file:\n",
    "            script_file.write(script)\n",
    "\n",
    "        # Step 5: Execute the script\n",
    "        execute_command = [venv_python, script_path]\n",
    "        process = subprocess.run(\n",
    "            execute_command, check=False, capture_output=True, text=True\n",
    "        )\n",
    "\n",
    "        # Step 6: Update result based on execution outcome\n",
    "        result[\"stdout\"] = process.stdout.strip()\n",
    "        result[\"stderr\"] = process.stderr.strip()\n",
    "        result[\"error\"] = \"\"\n",
    "        result[\"success\"] = process.returncode == 0 and not result[\"stderr\"]\n",
    "\n",
    "    except subprocess.CalledProcessError as e:\n",
    "        result[\"error\"] = f\"Pip installation or execution failed: {str(e)}\"\n",
    "    except Exception as e:\n",
    "        result[\"error\"] = f\"Unexpected error: {str(e)}\"\n",
    "    finally:\n",
    "        # Step 7: Cleanup temporary directory\n",
    "        if temp_dir and os.path.exists(temp_dir):\n",
    "            shutil.rmtree(temp_dir)\n",
    "\n",
    "    # Update success condition to ensure no stderr or unexpected errors\n",
    "    result[\"success\"] = result[\"success\"] and not result[\"error\"] and not result[\"stderr\"]\n",
    "    return result\n",
    "\n",
    "def format_tool_output(execution_result: Dict[str, Union[str, bool]]) -> str:\n",
    "    if execution_result[\"success\"]:\n",
    "        return f\"Tool executed successfully. Output:\\n{execution_result['stdout']}\\n\"\n",
    "    else:\n",
    "        return (\n",
    "            f\"Tool execution failed.\\n\"\n",
    "            f\"Error: {execution_result['error'] if execution_result['error'] else 'No additional error details.'}\\n\"\n",
    "            f\"Standard Error: {execution_result['stderr']}\\n\"\n",
    "            f\"Standard Output: {execution_result['stdout']}\\n\"\n",
    "            f\"Script:\\n{execution_result['script']}\\n\"\n",
    "            f\"Dependencies:\\n{execution_result['pip_install']}\\n\"\n",
    "        )"
   ]
  },
  {
   "cell_type": "code",
   "execution_count": 64,
   "metadata": {},
   "outputs": [],
   "source": [
    "from typing import Optional, Union\n",
    "\n",
    "from pydantic import BaseModel, Field\n",
    "\n",
    "\n",
    "class Success(BaseModel):\n",
    "    final_answer: str = Field(..., description=\"The final result or answer to the task if the execution succeeded.\")\n",
    "\n",
    "class Failure(BaseModel):\n",
    "    analysis: str = Field(..., description=\"A detailed explanation of why the tool execution failed.\")\n",
    "    suggestions: str = Field(..., description=\"Suggestions for fixing the issue or alternative approaches to achieve the task.\")\n",
    "\n",
    "class Result(BaseModel):\n",
    "    success: bool = Field(..., description=\"Indicates if the tool execution was successful.\")\n",
    "    result: Union[Success, Failure] = Field(..., description=\"The result of the analysis, including success or failure details.\")\n",
    "    \n",
    "@brain_client.reasoner(schema=Result)\n",
    "def result_analyzer(tool_output: str, task: str):\n",
    "    \"\"\"\n",
    "    Analyzes script execution results focusing on zero human intervention requirement.\n",
    "    \"\"\"\n",
    "    system_prompt = \"\"\"Analyze Python script results for true autonomy - script must run without any human intervention.\n",
    "\n",
    "Success case:\n",
    "Important : If tool output does not have any errors and tool has executed successfully, provide the final answer in a human-readable format.\n",
    "Successful tool use might have no output as it can be saving a file or updating a database etc.\n",
    "Only go to error cases if there is an error in the tool output.\n",
    "- Mention success as True\n",
    "Extract meaningful result from tool_output and present as:\n",
    "- Direct answer addressing the original task\n",
    "- Natural, human-readable format\n",
    "- No technical details unless relevant\n",
    "- No mention of script/code aspects\n",
    "\n",
    "\n",
    "Failure case - Check for:\n",
    "1. Manual Requirements (like these, but it can be more):\n",
    "   - API keys/credentials needed\n",
    "   - User prompts/inputs\n",
    "   - Configuration steps\n",
    "   - Runtime user decisions\n",
    "   - If this task cannot be done without mocking or simulating or manual intervention please mention clearly this as a main reason for failure and ask the tool to reply saying this cannot be done\n",
    "\n",
    "Suggestions:\n",
    "1. If failure due to manual steps, suggest truly autonomous alternatives\n",
    "2. if the script uses API or mock data or synthetic data, recomend it to come up with a solution that can be done without these.\n",
    "3. ensure the script is fully autonomous and can be run without any manual intervention or need for external api keys or manual inputs.\n",
    "4. Ensure there are no Mock or synthetic data used in the script.\n",
    "\n",
    "2. Script should:\n",
    "   - Use standard library or pip packages\n",
    "   - Make API calls if no credentials needed\n",
    "   - Handle all data programmatically\n",
    "   - Run start-to-finish autonomously\n",
    "   - Should not mock or simulate any data or use placeholders\n",
    "   - Should make sure we are achiving the task as expected without artificial hallucinated data.\n",
    "\n",
    "Key principle:\n",
    "If task requires ANY manual steps (API keys, inputs, etc):\n",
    "- Clearly state why it can't be autonomous\n",
    "- Don't suggest mock/placeholder solutions\n",
    "- Only suggest truly automatic alternatives\"\"\"\n",
    "\n",
    "    user_prompt = f\"\"\"Analyze result for: \"{task}\"\n",
    "Output: \"{tool_output}\"\n",
    "\n",
    "If tool output does not have any errors and tool has executed successfully, provide the final answer in a human-readable format.\n",
    "\n",
    "Success: Direct task response\n",
    "Failure: Explain manual intervention needs\"\"\"\n",
    "\n",
    "    return system_prompt, user_prompt\n",
    "result_analyzer_id = result_analyzer.register()"
   ]
  },
  {
   "cell_type": "code",
   "execution_count": 65,
   "metadata": {},
   "outputs": [],
   "source": [
    "from typing import List, Optional\n",
    "\n",
    "from pydantic import BaseModel, Field\n",
    "\n",
    "\n",
    "class ToolExecutionResult(BaseModel):\n",
    "    \"\"\"\n",
    "    Encapsulates the result of the autonomous tool's execution process.\n",
    "    \"\"\"\n",
    "    final_result: Optional[str] = Field(None, description=\"The final result or answer to the task if successful.\")\n",
    "    final_script: Optional[str] = Field(None, description=\"The final generated Python script.\")\n",
    "    pip_dependencies: List[str] = Field(..., description=\"The list of pip dependencies required for the script.\")\n",
    "    execution_output: Optional[str] = Field(None, description=\"The output from executing the script.\")\n",
    "    success: bool = Field(..., description=\"Indicates if the task was successfully executed.\")\n",
    "    failure_reason: Optional[str] = Field(None, description=\"The reason for failure if the task could not be completed.\")\n",
    "\n",
    "\n",
    "@brain_client.multi_agent\n",
    "def autonomous_tool(task: str, max_trials: int = 5, verbose: bool = True) -> ToolExecutionResult:\n",
    "    \"\"\"\n",
    "    Multi-agent workflow to iteratively generate, execute, and analyze tools for a given task.\n",
    "\n",
    "    Args:\n",
    "        task (str): The task description.\n",
    "        max_trials (int): Maximum number of attempts to generate and execute a successful tool.\n",
    "        verbose (bool): Whether to print detailed logs.\n",
    "\n",
    "    Returns:\n",
    "        ToolExecutionResult: Structured result of the autonomous tool's execution.\n",
    "    \"\"\"\n",
    "    for iteration in range(max_trials):\n",
    "        print(f\"{'=' * 10} Iteration {iteration + 1} {'=' * 10}\")\n",
    "\n",
    "        # Add context for retries if not the first iteration\n",
    "        if iteration != 0:\n",
    "            task_context = (\n",
    "                f\"Last tool failed because {tool_output.completed}. \"\n",
    "                f\"Last tool script:\\n{tool_output.script if tool_output.completed is True else 'N/A'}\\n\"\n",
    "                f\"Pip dependencies: {tool_output.pip_install if tool_output.completed is True else 'N/A'}\\n\"\n",
    "            )\n",
    "        else:\n",
    "            task_context = \"\"\n",
    "\n",
    "        # Step 1: Generate the tool\n",
    "        tool_output = brain_client.use(autonomous_tool_id)(task=task_context + task)\n",
    "\n",
    "        # If tool generation failed, return failure details\n",
    "        if tool_output.completed is not True:\n",
    "            if verbose:\n",
    "                print(f\"Tool Generation Failed: {tool_output.completed}\")\n",
    "            return ToolExecutionResult(\n",
    "                final_result=None,\n",
    "                final_script=None,\n",
    "                pip_dependencies=[],\n",
    "                execution_output=None,\n",
    "                success=False,\n",
    "                failure_reason=str(tool_output.completed)\n",
    "            )\n",
    "\n",
    "        # Step 2: Execute the generated script\n",
    "        exec_output = execute_script_with_temp_venv(tool_output.script, tool_output.pip_install)\n",
    "\n",
    "        # Step 3: Format execution result for analysis\n",
    "        context = format_tool_output(exec_output)\n",
    "\n",
    "        # Step 4: Analyze the result\n",
    "        res = brain_client.use(result_analyzer_id)(tool_output=context, task=task)\n",
    "\n",
    "        # Verbose logging for debugging\n",
    "        if verbose:\n",
    "            print(f\"Result Analysis: {res.result}\")\n",
    "\n",
    "        # If successful, return the result details\n",
    "        if res.success:\n",
    "            if verbose:\n",
    "                print(f\"Final Tool Output:\\n{context}\")\n",
    "            return ToolExecutionResult(\n",
    "                final_result=res.result.final_answer,\n",
    "                final_script=tool_output.script,\n",
    "                pip_dependencies=tool_output.pip_install,\n",
    "                execution_output=context,\n",
    "                success=True\n",
    "            )\n",
    "\n",
    "    # If all attempts fail, return the failure details\n",
    "    return ToolExecutionResult(\n",
    "        final_result=None,\n",
    "        final_script=tool_output.script if tool_output.completed is True else None,\n",
    "        pip_dependencies=tool_output.pip_install if tool_output.completed is True else [],\n",
    "        execution_output=None,\n",
    "        success=False,\n",
    "        failure_reason=res.result.analysis if 'res' in locals() and not res.success else \"Unknown failure.\"\n",
    "    )"
   ]
  },
  {
   "cell_type": "code",
   "execution_count": null,
   "metadata": {},
   "outputs": [
    {
     "data": {
      "text/html": [
       "<pre style=\"white-space:pre;overflow-x:auto;line-height:normal;font-family:Menlo,'DejaVu Sans Mono',consolas,'Courier New',monospace\">========== Iteration <span style=\"color: #008080; text-decoration-color: #008080; font-weight: bold\">1</span> ==========\n",
       "</pre>\n"
      ],
      "text/plain": [
       "========== Iteration \u001b[1;36m1\u001b[0m ==========\n"
      ]
     },
     "metadata": {},
     "output_type": "display_data"
    },
    {
     "data": {
      "text/html": [
       "<pre style=\"white-space:pre;overflow-x:auto;line-height:normal;font-family:Menlo,'DejaVu Sans Mono',consolas,'Courier New',monospace\">Result Analysis: <span style=\"color: #808000; text-decoration-color: #808000\">analysis</span>=<span style=\"color: #008000; text-decoration-color: #008000\">'The execution failed because the script relies on simulated data rather than fetching </span>\n",
       "<span style=\"color: #008000; text-decoration-color: #008000\">real-time data from an API. Real-time temperature data for Downtown Toronto cannot be obtained without API keys or </span>\n",
       "<span style=\"color: #008000; text-decoration-color: #008000\">credentials, making the task unachievable without manual intervention. The task cannot be performed autonomously.'</span> \n",
       "<span style=\"color: #808000; text-decoration-color: #808000\">suggestions</span>=<span style=\"color: #008000; text-decoration-color: #008000\">'To achieve true autonomy, a new approach should involve using a public weather API that does not </span>\n",
       "<span style=\"color: #008000; text-decoration-color: #008000\">require authentication or credentials. The script should be modified to directly call such an API and handle the </span>\n",
       "<span style=\"color: #008000; text-decoration-color: #008000\">data programmatically, ensuring it can run without the need for any simulated or mocked data.'</span>\n",
       "</pre>\n"
      ],
      "text/plain": [
       "Result Analysis: \u001b[33manalysis\u001b[0m=\u001b[32m'The execution failed because the script relies on simulated data rather than fetching \u001b[0m\n",
       "\u001b[32mreal-time data from an API. Real-time temperature data for Downtown Toronto cannot be obtained without API keys or \u001b[0m\n",
       "\u001b[32mcredentials, making the task unachievable without manual intervention. The task cannot be performed autonomously.'\u001b[0m \n",
       "\u001b[33msuggestions\u001b[0m=\u001b[32m'To achieve true autonomy, a new approach should involve using a public weather API that does not \u001b[0m\n",
       "\u001b[32mrequire authentication or credentials. The script should be modified to directly call such an API and handle the \u001b[0m\n",
       "\u001b[32mdata programmatically, ensuring it can run without the need for any simulated or mocked data.'\u001b[0m\n"
      ]
     },
     "metadata": {},
     "output_type": "display_data"
    },
    {
     "data": {
      "text/html": [
       "<pre style=\"white-space:pre;overflow-x:auto;line-height:normal;font-family:Menlo,'DejaVu Sans Mono',consolas,'Courier New',monospace\">========== Iteration <span style=\"color: #008080; text-decoration-color: #008080; font-weight: bold\">2</span> ==========\n",
       "</pre>\n"
      ],
      "text/plain": [
       "========== Iteration \u001b[1;36m2\u001b[0m ==========\n"
      ]
     },
     "metadata": {},
     "output_type": "display_data"
    },
    {
     "data": {
      "text/html": [
       "<pre style=\"white-space:pre;overflow-x:auto;line-height:normal;font-family:Menlo,'DejaVu Sans Mono',consolas,'Courier New',monospace\">Tool Generation Failed: <span style=\"color: #ff0000; text-decoration-color: #ff0000; font-style: italic\">False</span>\n",
       "</pre>\n"
      ],
      "text/plain": [
       "Tool Generation Failed: \u001b[3;91mFalse\u001b[0m\n"
      ]
     },
     "metadata": {},
     "output_type": "display_data"
    },
    {
     "data": {
      "text/html": [
       "<pre style=\"white-space:pre;overflow-x:auto;line-height:normal;font-family:Menlo,'DejaVu Sans Mono',consolas,'Courier New',monospace\">Final Result: <span style=\"color: #808000; text-decoration-color: #808000\">final_result</span>=<span style=\"color: #800080; text-decoration-color: #800080; font-style: italic\">None</span> <span style=\"color: #808000; text-decoration-color: #808000\">final_script</span>=<span style=\"color: #800080; text-decoration-color: #800080; font-style: italic\">None</span> <span style=\"color: #808000; text-decoration-color: #808000\">pip_dependencies</span>=<span style=\"font-weight: bold\">[]</span> <span style=\"color: #808000; text-decoration-color: #808000\">execution_output</span>=<span style=\"color: #800080; text-decoration-color: #800080; font-style: italic\">None</span> <span style=\"color: #808000; text-decoration-color: #808000\">success</span>=<span style=\"color: #ff0000; text-decoration-color: #ff0000; font-style: italic\">False</span> \n",
       "<span style=\"color: #808000; text-decoration-color: #808000\">failure_reason</span>=<span style=\"color: #008000; text-decoration-color: #008000\">'False'</span>\n",
       "</pre>\n"
      ],
      "text/plain": [
       "Final Result: \u001b[33mfinal_result\u001b[0m=\u001b[3;35mNone\u001b[0m \u001b[33mfinal_script\u001b[0m=\u001b[3;35mNone\u001b[0m \u001b[33mpip_dependencies\u001b[0m=\u001b[1m[\u001b[0m\u001b[1m]\u001b[0m \u001b[33mexecution_output\u001b[0m=\u001b[3;35mNone\u001b[0m \u001b[33msuccess\u001b[0m=\u001b[3;91mFalse\u001b[0m \n",
       "\u001b[33mfailure_reason\u001b[0m=\u001b[32m'False'\u001b[0m\n"
      ]
     },
     "metadata": {},
     "output_type": "display_data"
    }
   ],
   "source": [
    "task=\"What is the temperature in Downtown Toronto today?\"\n",
    "result=autonomous_tool(task,max_trials=5,verbose=True)\n",
    "\n",
    "print(f\"Final Result: {result}\")"
   ]
  },
  {
   "cell_type": "code",
   "execution_count": null,
   "metadata": {},
   "outputs": [
    {
     "data": {
      "text/html": [
       "<pre style=\"white-space:pre;overflow-x:auto;line-height:normal;font-family:Menlo,'DejaVu Sans Mono',consolas,'Courier New',monospace\">========== Iteration <span style=\"color: #008080; text-decoration-color: #008080; font-weight: bold\">1</span> ==========\n",
       "</pre>\n"
      ],
      "text/plain": [
       "========== Iteration \u001b[1;36m1\u001b[0m ==========\n"
      ]
     },
     "metadata": {},
     "output_type": "display_data"
    },
    {
     "data": {
      "text/html": [
       "<pre style=\"white-space:pre;overflow-x:auto;line-height:normal;font-family:Menlo,'DejaVu Sans Mono',consolas,'Courier New',monospace\">Result Analysis: <span style=\"color: #808000; text-decoration-color: #808000\">analysis</span>=<span style=\"color: #008000; text-decoration-color: #008000\">\"The execution of the script failed to retrieve the top 3 articles on autonomous driving </span>\n",
       "<span style=\"color: #008000; text-decoration-color: #008000\">due to its reliance on an external web scraping approach that requires a stable internet connection and access to </span>\n",
       "<span style=\"color: #008000; text-decoration-color: #008000\">Google's search results page without any required API keys or manual input. Additionally, web scraping can often be</span>\n",
       "<span style=\"color: #008000; text-decoration-color: #008000\">blocked or limited by the target websites, making it an unreliable method for autonomous tasks.\"</span> <span style=\"color: #808000; text-decoration-color: #808000\">suggestions</span>=<span style=\"color: #008000; text-decoration-color: #008000\">'To </span>\n",
       "<span style=\"color: #008000; text-decoration-color: #008000\">achieve truly autonomous results without any manual intervention, consider using a reliable news API (such as </span>\n",
       "<span style=\"color: #008000; text-decoration-color: #008000\">NewsAPI or Bing News Search API) that does not require manual input or credentials for basic usage. This way, you </span>\n",
       "<span style=\"color: #008000; text-decoration-color: #008000\">can programmatically retrieve the latest articles on autonomous driving while ensuring full autonomy in the </span>\n",
       "<span style=\"color: #008000; text-decoration-color: #008000\">execution.'</span>\n",
       "</pre>\n"
      ],
      "text/plain": [
       "Result Analysis: \u001b[33manalysis\u001b[0m=\u001b[32m\"The\u001b[0m\u001b[32m execution of the script failed to retrieve the top 3 articles on autonomous driving \u001b[0m\n",
       "\u001b[32mdue to its reliance on an external web scraping approach that requires a stable internet connection and access to \u001b[0m\n",
       "\u001b[32mGoogle's search results page without any required API keys or manual input. Additionally, web scraping can often be\u001b[0m\n",
       "\u001b[32mblocked or limited by the target websites, making it an unreliable method for autonomous tasks.\"\u001b[0m \u001b[33msuggestions\u001b[0m=\u001b[32m'To \u001b[0m\n",
       "\u001b[32machieve truly autonomous results without any manual intervention, consider using a reliable news API \u001b[0m\u001b[32m(\u001b[0m\u001b[32msuch as \u001b[0m\n",
       "\u001b[32mNewsAPI or Bing News Search API\u001b[0m\u001b[32m)\u001b[0m\u001b[32m that does not require manual input or credentials for basic usage. This way, you \u001b[0m\n",
       "\u001b[32mcan programmatically retrieve the latest articles on autonomous driving while ensuring full autonomy in the \u001b[0m\n",
       "\u001b[32mexecution.'\u001b[0m\n"
      ]
     },
     "metadata": {},
     "output_type": "display_data"
    },
    {
     "data": {
      "text/html": [
       "<pre style=\"white-space:pre;overflow-x:auto;line-height:normal;font-family:Menlo,'DejaVu Sans Mono',consolas,'Courier New',monospace\">========== Iteration <span style=\"color: #008080; text-decoration-color: #008080; font-weight: bold\">2</span> ==========\n",
       "</pre>\n"
      ],
      "text/plain": [
       "========== Iteration \u001b[1;36m2\u001b[0m ==========\n"
      ]
     },
     "metadata": {},
     "output_type": "display_data"
    },
    {
     "data": {
      "text/html": [
       "<pre style=\"white-space:pre;overflow-x:auto;line-height:normal;font-family:Menlo,'DejaVu Sans Mono',consolas,'Courier New',monospace\">Tool Generation Failed: <span style=\"color: #00ff00; text-decoration-color: #00ff00; font-style: italic\">True</span>\n",
       "</pre>\n"
      ],
      "text/plain": [
       "Tool Generation Failed: \u001b[3;92mTrue\u001b[0m\n"
      ]
     },
     "metadata": {},
     "output_type": "display_data"
    },
    {
     "data": {
      "text/html": [
       "<pre style=\"white-space:pre;overflow-x:auto;line-height:normal;font-family:Menlo,'DejaVu Sans Mono',consolas,'Courier New',monospace\">Final Result: <span style=\"color: #808000; text-decoration-color: #808000\">final_result</span>=<span style=\"color: #800080; text-decoration-color: #800080; font-style: italic\">None</span> <span style=\"color: #808000; text-decoration-color: #808000\">final_script</span>=<span style=\"color: #800080; text-decoration-color: #800080; font-style: italic\">None</span> <span style=\"color: #808000; text-decoration-color: #808000\">pip_dependencies</span>=<span style=\"font-weight: bold\">[]</span> <span style=\"color: #808000; text-decoration-color: #808000\">execution_output</span>=<span style=\"color: #800080; text-decoration-color: #800080; font-style: italic\">None</span> <span style=\"color: #808000; text-decoration-color: #808000\">success</span>=<span style=\"color: #ff0000; text-decoration-color: #ff0000; font-style: italic\">False</span> \n",
       "<span style=\"color: #808000; text-decoration-color: #808000\">failure_reason</span>=<span style=\"color: #008000; text-decoration-color: #008000\">'True'</span>\n",
       "</pre>\n"
      ],
      "text/plain": [
       "Final Result: \u001b[33mfinal_result\u001b[0m=\u001b[3;35mNone\u001b[0m \u001b[33mfinal_script\u001b[0m=\u001b[3;35mNone\u001b[0m \u001b[33mpip_dependencies\u001b[0m=\u001b[1m[\u001b[0m\u001b[1m]\u001b[0m \u001b[33mexecution_output\u001b[0m=\u001b[3;35mNone\u001b[0m \u001b[33msuccess\u001b[0m=\u001b[3;91mFalse\u001b[0m \n",
       "\u001b[33mfailure_reason\u001b[0m=\u001b[32m'True'\u001b[0m\n"
      ]
     },
     "metadata": {},
     "output_type": "display_data"
    }
   ],
   "source": [
    "task=\"search for top 3 articles on autonomous driving and give back the titles\"\n",
    "result=autonomous_tool(task,max_trials=5,verbose=True)\n",
    "\n",
    "print(f\"Final Result: {result}\")"
   ]
  },
  {
   "cell_type": "code",
   "execution_count": null,
   "metadata": {},
   "outputs": [
    {
     "data": {
      "text/html": [
       "<pre style=\"white-space:pre;overflow-x:auto;line-height:normal;font-family:Menlo,'DejaVu Sans Mono',consolas,'Courier New',monospace\">========== Iteration <span style=\"color: #008080; text-decoration-color: #008080; font-weight: bold\">1</span> ==========\n",
       "</pre>\n"
      ],
      "text/plain": [
       "========== Iteration \u001b[1;36m1\u001b[0m ==========\n"
      ]
     },
     "metadata": {},
     "output_type": "display_data"
    },
    {
     "data": {
      "text/html": [
       "<pre style=\"white-space:pre;overflow-x:auto;line-height:normal;font-family:Menlo,'DejaVu Sans Mono',consolas,'Courier New',monospace\">Result Analysis: <span style=\"color: #808000; text-decoration-color: #808000\">final_answer</span>=<span style=\"color: #008000; text-decoration-color: #008000\">'The sum of numbers from 1 to 100000000 is: 5000000050000000'</span>\n",
       "</pre>\n"
      ],
      "text/plain": [
       "Result Analysis: \u001b[33mfinal_answer\u001b[0m=\u001b[32m'The sum of numbers from 1 to 100000000 is: 5000000050000000'\u001b[0m\n"
      ]
     },
     "metadata": {},
     "output_type": "display_data"
    },
    {
     "data": {
      "text/html": [
       "<pre style=\"white-space:pre;overflow-x:auto;line-height:normal;font-family:Menlo,'DejaVu Sans Mono',consolas,'Courier New',monospace\">Final Tool Output:\n",
       "Tool executed successfully. Output:\n",
       "The sum of numbers from <span style=\"color: #008080; text-decoration-color: #008080; font-weight: bold\">1</span> to <span style=\"color: #008080; text-decoration-color: #008080; font-weight: bold\">100000000</span> is: <span style=\"color: #008080; text-decoration-color: #008080; font-weight: bold\">5000000050000000</span>\n",
       "\n",
       "</pre>\n"
      ],
      "text/plain": [
       "Final Tool Output:\n",
       "Tool executed successfully. Output:\n",
       "The sum of numbers from \u001b[1;36m1\u001b[0m to \u001b[1;36m100000000\u001b[0m is: \u001b[1;36m5000000050000000\u001b[0m\n",
       "\n"
      ]
     },
     "metadata": {},
     "output_type": "display_data"
    },
    {
     "data": {
      "text/html": [
       "<pre style=\"white-space:pre;overflow-x:auto;line-height:normal;font-family:Menlo,'DejaVu Sans Mono',consolas,'Courier New',monospace\">Final Result: <span style=\"color: #808000; text-decoration-color: #808000\">final_result</span>=<span style=\"color: #008000; text-decoration-color: #008000\">'The sum of numbers from 1 to 100000000 is: 5000000050000000'</span> <span style=\"color: #808000; text-decoration-color: #808000\">final_script</span>=<span style=\"color: #008000; text-decoration-color: #008000\">\"def </span>\n",
       "<span style=\"color: #008000; text-decoration-color: #008000\">sum_of_numbers(n):\\n    return sum(range(1, n + 1))\\n\\nif __name__ == '__main__':\\n    try:\\n        n = </span>\n",
       "<span style=\"color: #008000; text-decoration-color: #008000\">100_000_000  # This is the upper limit as requested\\n        result = sum_of_numbers(n)\\n        print(f'The sum of</span>\n",
       "<span style=\"color: #008000; text-decoration-color: #008000\">numbers from 1 to {n} is: {result}')\\n    except Exception as e:\\n        print(f'An error occurred: {e}')\"</span> \n",
       "<span style=\"color: #808000; text-decoration-color: #808000\">pip_dependencies</span>=<span style=\"font-weight: bold\">[]</span> <span style=\"color: #808000; text-decoration-color: #808000\">execution_output</span>=<span style=\"color: #008000; text-decoration-color: #008000\">'Tool executed successfully. Output:\\nThe sum of numbers from 1 to 100000000 </span>\n",
       "<span style=\"color: #008000; text-decoration-color: #008000\">is: 5000000050000000\\n'</span> <span style=\"color: #808000; text-decoration-color: #808000\">success</span>=<span style=\"color: #00ff00; text-decoration-color: #00ff00; font-style: italic\">True</span> <span style=\"color: #808000; text-decoration-color: #808000\">failure_reason</span>=<span style=\"color: #800080; text-decoration-color: #800080; font-style: italic\">None</span>\n",
       "</pre>\n"
      ],
      "text/plain": [
       "Final Result: \u001b[33mfinal_result\u001b[0m=\u001b[32m'The sum of numbers from 1 to 100000000 is: 5000000050000000'\u001b[0m \u001b[33mfinal_script\u001b[0m=\u001b[32m\"def\u001b[0m\u001b[32m \u001b[0m\n",
       "\u001b[32msum_of_numbers\u001b[0m\u001b[32m(\u001b[0m\u001b[32mn\u001b[0m\u001b[32m)\u001b[0m\u001b[32m:\\n    return sum\u001b[0m\u001b[32m(\u001b[0m\u001b[32mrange\u001b[0m\u001b[32m(\u001b[0m\u001b[32m1, n + 1\u001b[0m\u001b[32m)\u001b[0m\u001b[32m)\u001b[0m\u001b[32m\\n\\nif __name__ == '__main__':\\n    try:\\n        n = \u001b[0m\n",
       "\u001b[32m100_000_000  # This is the upper limit as requested\\n        result = sum_of_numbers\u001b[0m\u001b[32m(\u001b[0m\u001b[32mn\u001b[0m\u001b[32m)\u001b[0m\u001b[32m\\n        print\u001b[0m\u001b[32m(\u001b[0m\u001b[32mf'The sum of\u001b[0m\n",
       "\u001b[32mnumbers from 1 to \u001b[0m\u001b[32m{\u001b[0m\u001b[32mn\u001b[0m\u001b[32m}\u001b[0m\u001b[32m is: \u001b[0m\u001b[32m{\u001b[0m\u001b[32mresult\u001b[0m\u001b[32m}\u001b[0m\u001b[32m'\u001b[0m\u001b[32m)\u001b[0m\u001b[32m\\n    except Exception as e:\\n        print\u001b[0m\u001b[32m(\u001b[0m\u001b[32mf'An error occurred: \u001b[0m\u001b[32m{\u001b[0m\u001b[32me\u001b[0m\u001b[32m}\u001b[0m\u001b[32m'\u001b[0m\u001b[32m)\u001b[0m\u001b[32m\"\u001b[0m \n",
       "\u001b[33mpip_dependencies\u001b[0m=\u001b[1m[\u001b[0m\u001b[1m]\u001b[0m \u001b[33mexecution_output\u001b[0m=\u001b[32m'Tool executed successfully. Output:\\nThe sum of numbers from 1 to 100000000 \u001b[0m\n",
       "\u001b[32mis: 5000000050000000\\n'\u001b[0m \u001b[33msuccess\u001b[0m=\u001b[3;92mTrue\u001b[0m \u001b[33mfailure_reason\u001b[0m=\u001b[3;35mNone\u001b[0m\n"
      ]
     },
     "metadata": {},
     "output_type": "display_data"
    }
   ],
   "source": [
    "task=\"calculate the sum of numbers from 1 to 100_0000_000\"\n",
    "result=autonomous_tool(task,max_trials=5,verbose=True)\n",
    "\n",
    "print(f\"Final Result: {result}\")"
   ]
  },
  {
   "cell_type": "code",
   "execution_count": null,
   "metadata": {},
   "outputs": [
    {
     "data": {
      "text/html": [
       "<pre style=\"white-space:pre;overflow-x:auto;line-height:normal;font-family:Menlo,'DejaVu Sans Mono',consolas,'Courier New',monospace\">========== Iteration <span style=\"color: #008080; text-decoration-color: #008080; font-weight: bold\">1</span> ==========\n",
       "</pre>\n"
      ],
      "text/plain": [
       "========== Iteration \u001b[1;36m1\u001b[0m ==========\n"
      ]
     },
     "metadata": {},
     "output_type": "display_data"
    },
    {
     "data": {
      "text/html": [
       "<pre style=\"white-space:pre;overflow-x:auto;line-height:normal;font-family:Menlo,'DejaVu Sans Mono',consolas,'Courier New',monospace\">Result Analysis: <span style=\"color: #808000; text-decoration-color: #808000\">final_answer</span>=<span style=\"color: #008000; text-decoration-color: #008000\">'The multiplication of 77782 and 6762577628 results in 526006813061096.'</span>\n",
       "</pre>\n"
      ],
      "text/plain": [
       "Result Analysis: \u001b[33mfinal_answer\u001b[0m=\u001b[32m'The multiplication of 77782 and 6762577628 results in 526006813061096.'\u001b[0m\n"
      ]
     },
     "metadata": {},
     "output_type": "display_data"
    },
    {
     "data": {
      "text/html": [
       "<pre style=\"white-space:pre;overflow-x:auto;line-height:normal;font-family:Menlo,'DejaVu Sans Mono',consolas,'Courier New',monospace\">Final Tool Output:\n",
       "Tool executed successfully. Output:\n",
       "The result of multiplying <span style=\"color: #008080; text-decoration-color: #008080; font-weight: bold\">77782</span> and <span style=\"color: #008080; text-decoration-color: #008080; font-weight: bold\">6762577628</span> is: <span style=\"color: #008080; text-decoration-color: #008080; font-weight: bold\">526006813061096</span>\n",
       "\n",
       "</pre>\n"
      ],
      "text/plain": [
       "Final Tool Output:\n",
       "Tool executed successfully. Output:\n",
       "The result of multiplying \u001b[1;36m77782\u001b[0m and \u001b[1;36m6762577628\u001b[0m is: \u001b[1;36m526006813061096\u001b[0m\n",
       "\n"
      ]
     },
     "metadata": {},
     "output_type": "display_data"
    },
    {
     "data": {
      "text/html": [
       "<pre style=\"white-space:pre;overflow-x:auto;line-height:normal;font-family:Menlo,'DejaVu Sans Mono',consolas,'Courier New',monospace\">Final Result: <span style=\"color: #808000; text-decoration-color: #808000\">final_result</span>=<span style=\"color: #008000; text-decoration-color: #008000\">'The multiplication of 77782 and 6762577628 results in 526006813061096.'</span> \n",
       "<span style=\"color: #808000; text-decoration-color: #808000\">final_script</span>=<span style=\"color: #008000; text-decoration-color: #008000\">'def multiply_numbers(a, b):\\n    \"\"\"Multiply two numbers and return the result.\"\"\"\\n    return a * </span>\n",
       "<span style=\"color: #008000; text-decoration-color: #008000\">b\\n\\n# Test Data\\nnum1 = 77782\\nnum2 = 6762577628\\n\\ntry:\\n    result = multiply_numbers(num1, num2)\\n    </span>\n",
       "<span style=\"color: #008000; text-decoration-color: #008000\">print(f\\'The result of multiplying {num1} and {num2} is: {result}\\')\\nexcept Exception as e:\\n    print(f\\'An error</span>\n",
       "<span style=\"color: #008000; text-decoration-color: #008000\">occurred: {e}\\')'</span> <span style=\"color: #808000; text-decoration-color: #808000\">pip_dependencies</span>=<span style=\"font-weight: bold\">[]</span> <span style=\"color: #808000; text-decoration-color: #808000\">execution_output</span>=<span style=\"color: #008000; text-decoration-color: #008000\">'Tool executed successfully. Output:\\nThe result of </span>\n",
       "<span style=\"color: #008000; text-decoration-color: #008000\">multiplying 77782 and 6762577628 is: 526006813061096\\n'</span> <span style=\"color: #808000; text-decoration-color: #808000\">success</span>=<span style=\"color: #00ff00; text-decoration-color: #00ff00; font-style: italic\">True</span> <span style=\"color: #808000; text-decoration-color: #808000\">failure_reason</span>=<span style=\"color: #800080; text-decoration-color: #800080; font-style: italic\">None</span>\n",
       "</pre>\n"
      ],
      "text/plain": [
       "Final Result: \u001b[33mfinal_result\u001b[0m=\u001b[32m'The multiplication of 77782 and 6762577628 results in 526006813061096.'\u001b[0m \n",
       "\u001b[33mfinal_script\u001b[0m=\u001b[32m'def multiply_numbers\u001b[0m\u001b[32m(\u001b[0m\u001b[32ma, b\u001b[0m\u001b[32m)\u001b[0m\u001b[32m:\\n    \"\"\"Multiply two numbers and return the result.\"\"\"\\n    return a * \u001b[0m\n",
       "\u001b[32mb\\n\\n# Test Data\\nnum1 = 77782\\nnum2 = 6762577628\\n\\ntry:\\n    result = multiply_numbers\u001b[0m\u001b[32m(\u001b[0m\u001b[32mnum1, num2\u001b[0m\u001b[32m)\u001b[0m\u001b[32m\\n    \u001b[0m\n",
       "\u001b[32mprint\u001b[0m\u001b[32m(\u001b[0m\u001b[32mf\\'The result of multiplying \u001b[0m\u001b[32m{\u001b[0m\u001b[32mnum1\u001b[0m\u001b[32m}\u001b[0m\u001b[32m and \u001b[0m\u001b[32m{\u001b[0m\u001b[32mnum2\u001b[0m\u001b[32m}\u001b[0m\u001b[32m is: \u001b[0m\u001b[32m{\u001b[0m\u001b[32mresult\u001b[0m\u001b[32m}\u001b[0m\u001b[32m\\'\u001b[0m\u001b[32m)\u001b[0m\u001b[32m\\nexcept Exception as e:\\n    print\u001b[0m\u001b[32m(\u001b[0m\u001b[32mf\\'An error\u001b[0m\n",
       "\u001b[32moccurred: \u001b[0m\u001b[32m{\u001b[0m\u001b[32me\u001b[0m\u001b[32m}\u001b[0m\u001b[32m\\'\u001b[0m\u001b[32m)\u001b[0m\u001b[32m'\u001b[0m \u001b[33mpip_dependencies\u001b[0m=\u001b[1m[\u001b[0m\u001b[1m]\u001b[0m \u001b[33mexecution_output\u001b[0m=\u001b[32m'Tool executed successfully. Output:\\nThe result of \u001b[0m\n",
       "\u001b[32mmultiplying 77782 and 6762577628 is: 526006813061096\\n'\u001b[0m \u001b[33msuccess\u001b[0m=\u001b[3;92mTrue\u001b[0m \u001b[33mfailure_reason\u001b[0m=\u001b[3;35mNone\u001b[0m\n"
      ]
     },
     "metadata": {},
     "output_type": "display_data"
    }
   ],
   "source": [
    "task=\"Multiply 777_82 times 67625_7762_8\"\n",
    "result=autonomous_tool(task,max_trials=5,verbose=True)\n",
    "\n",
    "print(f\"Final Result: {result}\")"
   ]
  },
  {
   "cell_type": "code",
   "execution_count": null,
   "metadata": {},
   "outputs": [
    {
     "data": {
      "text/html": [
       "<pre style=\"white-space:pre;overflow-x:auto;line-height:normal;font-family:Menlo,'DejaVu Sans Mono',consolas,'Courier New',monospace\"><span style=\"color: #008080; text-decoration-color: #008080; font-weight: bold\">526006813061096</span>\n",
       "</pre>\n"
      ],
      "text/plain": [
       "\u001b[1;36m526006813061096\u001b[0m\n"
      ]
     },
     "metadata": {},
     "output_type": "display_data"
    }
   ],
   "source": [
    "print(777_82*67625_7762_8)"
   ]
  },
  {
   "cell_type": "code",
   "execution_count": null,
   "metadata": {},
   "outputs": [
    {
     "data": {
      "text/html": [
       "<pre style=\"white-space:pre;overflow-x:auto;line-height:normal;font-family:Menlo,'DejaVu Sans Mono',consolas,'Courier New',monospace\">========== Iteration <span style=\"color: #008080; text-decoration-color: #008080; font-weight: bold\">1</span> ==========\n",
       "</pre>\n"
      ],
      "text/plain": [
       "========== Iteration \u001b[1;36m1\u001b[0m ==========\n"
      ]
     },
     "metadata": {},
     "output_type": "display_data"
    },
    {
     "data": {
      "text/html": [
       "<pre style=\"white-space:pre;overflow-x:auto;line-height:normal;font-family:Menlo,'DejaVu Sans Mono',consolas,'Courier New',monospace\">Tool Generation Failed: The task cannot be completed because accessing Elon Musk's latest tweet requires connecting\n",
       "to the Twitter API, which necessitates using an API key and other authentication methods that fall outside the \n",
       "constraints provided. Therefore, it cannot be done without external dependencies or secret configurations.\n",
       "</pre>\n"
      ],
      "text/plain": [
       "Tool Generation Failed: The task cannot be completed because accessing Elon Musk's latest tweet requires connecting\n",
       "to the Twitter API, which necessitates using an API key and other authentication methods that fall outside the \n",
       "constraints provided. Therefore, it cannot be done without external dependencies or secret configurations.\n"
      ]
     },
     "metadata": {},
     "output_type": "display_data"
    },
    {
     "data": {
      "text/html": [
       "<pre style=\"white-space:pre;overflow-x:auto;line-height:normal;font-family:Menlo,'DejaVu Sans Mono',consolas,'Courier New',monospace\">Final Result: <span style=\"color: #808000; text-decoration-color: #808000\">final_result</span>=<span style=\"color: #800080; text-decoration-color: #800080; font-style: italic\">None</span> <span style=\"color: #808000; text-decoration-color: #808000\">final_script</span>=<span style=\"color: #800080; text-decoration-color: #800080; font-style: italic\">None</span> <span style=\"color: #808000; text-decoration-color: #808000\">pip_dependencies</span>=<span style=\"font-weight: bold\">[]</span> <span style=\"color: #808000; text-decoration-color: #808000\">execution_output</span>=<span style=\"color: #800080; text-decoration-color: #800080; font-style: italic\">None</span> <span style=\"color: #808000; text-decoration-color: #808000\">success</span>=<span style=\"color: #ff0000; text-decoration-color: #ff0000; font-style: italic\">False</span> \n",
       "<span style=\"color: #808000; text-decoration-color: #808000\">failure_reason</span>=<span style=\"color: #008000; text-decoration-color: #008000\">\"The task cannot be completed because accessing Elon Musk's latest tweet requires connecting to the </span>\n",
       "<span style=\"color: #008000; text-decoration-color: #008000\">Twitter API, which necessitates using an API key and other authentication methods that fall outside the constraints</span>\n",
       "<span style=\"color: #008000; text-decoration-color: #008000\">provided. Therefore, it cannot be done without external dependencies or secret configurations.\"</span>\n",
       "</pre>\n"
      ],
      "text/plain": [
       "Final Result: \u001b[33mfinal_result\u001b[0m=\u001b[3;35mNone\u001b[0m \u001b[33mfinal_script\u001b[0m=\u001b[3;35mNone\u001b[0m \u001b[33mpip_dependencies\u001b[0m=\u001b[1m[\u001b[0m\u001b[1m]\u001b[0m \u001b[33mexecution_output\u001b[0m=\u001b[3;35mNone\u001b[0m \u001b[33msuccess\u001b[0m=\u001b[3;91mFalse\u001b[0m \n",
       "\u001b[33mfailure_reason\u001b[0m=\u001b[32m\"The\u001b[0m\u001b[32m task cannot be completed because accessing Elon Musk's latest tweet requires connecting to the \u001b[0m\n",
       "\u001b[32mTwitter API, which necessitates using an API key and other authentication methods that fall outside the constraints\u001b[0m\n",
       "\u001b[32mprovided. Therefore, it cannot be done without external dependencies or secret configurations.\"\u001b[0m\n"
      ]
     },
     "metadata": {},
     "output_type": "display_data"
    }
   ],
   "source": [
    "task=\"Get ellon musk's latest tweet\"\n",
    "result=autonomous_tool(task,max_trials=5,verbose=True)\n",
    "\n",
    "print(f\"Final Result: {result}\")"
   ]
  },
  {
   "cell_type": "markdown",
   "metadata": {},
   "source": [
    "## Tool planner"
   ]
  },
  {
   "cell_type": "code",
   "execution_count": 66,
   "metadata": {},
   "outputs": [],
   "source": [
    "from typing import List\n",
    "\n",
    "from pydantic import BaseModel, Field\n",
    "\n",
    "\n",
    "class Instructions(BaseModel):\n",
    "    feasibility: str = Field(..., description=\"Analysis of whether the task can be completed autonomously, including any potential blockers\")\n",
    "    implementation_plan: str = Field(..., description=\"Detailed step-by-step plan for implementing the solution, including function breakdowns and data handling approaches\")\n",
    "    requirements: List[str] = Field(..., description=\"List of specific requirements including Python packages, error handling needs, and data processing requirements\")\n",
    "    execution_flow: str = Field(..., description=\"Precise description of how the script should execute, including data handling, function calls, and expected outcomes\")\n",
    "    is_autonomous: bool = Field(..., description=\"Whether the task can be completed without any human intervention, API keys, or manual human dependencies\")\n",
    "\n",
    "    \n",
    "\n",
    "@brain_client.reasoner(schema=Instructions)\n",
    "def feature_planner(task: str):\n",
    "    \"\"\"\n",
    "    Generates detailed instructions for building autonomous Python scripts.\n",
    "    \"\"\"\n",
    "    system_prompt = \"\"\"You are a Python architecture planner specialized in designing autonomous scripts. Your role is to analyze tasks and provide clear, actionable instructions that ensure zero human intervention.\n",
    "\n",
    "Analyze each task for true autonomy by considering:\n",
    "\n",
    "Autonomy Requirements:\n",
    "- Script must run without any API keys or credentials\n",
    "- No user inputs can be required\n",
    "- No environment variables or configuration needed\n",
    "- No external service dependencies\n",
    "- No system-specific resources\n",
    "\n",
    "Input guidelines:\n",
    "- make sure you specify what exact inputs are needed for the script to do the given task.\n",
    "\n",
    "Implementation Guidelines:\n",
    "- Prefer Python standard library solutions\n",
    "- Use only common, stable PyPI packages if needed\n",
    "- Include comprehensive error handling\n",
    "- No mock or simulated data allowed\n",
    "- No placeholder values\n",
    "- Try to be Clever to come up with a solution that can be done without any blockers like apikey or manual input.\n",
    "- We can have any pip packages that is needed and we can install it on the fly\n",
    "\n",
    "Data Handling Rules:\n",
    "- If task mentions file paths (e.g., \"./something.something\"), provide exact handling instructions\n",
    "- Data must be programmatically generated or bundled\n",
    "- No external data sources allowed if we cannot access them and needs api key or manual intervention\n",
    "- No simulated or mock data\n",
    "\n",
    "Your output should:\n",
    "1. Assess if task can be truly autonomous\n",
    "2. Provide detailed implementation steps\n",
    "3. Specify exact execution flow\n",
    "4. List concrete requirements\n",
    "5. Flag any autonomy blockers\n",
    "\n",
    "If the task cannot be autonomous:\n",
    "- Set is_autonomous to false\n",
    "- Explain specific blockers\n",
    "- Do not suggest mock data workarounds\n",
    "- Clearly state why task requires human intervention\n",
    "\n",
    "Important: \n",
    "If any feedback is provided, make sure write your answer based on that feedback. Based on feedback update required packages or implementation plan etc..\n",
    "If you think previous attempt failed because of some specific reason, make sure to either  address that in your answer or come up with a completely new solution based on the feedback provided to sovle the task exactly.\n",
    "\"\"\"\n",
    "\n",
    "    user_prompt = f\"\"\"Analyze this task and provide implementation instructions: \"{task}\"\n",
    "\n",
    "Determine:\n",
    "1. Is this task possible without any human intervention?\n",
    "2. What exact implementation steps are needed?\n",
    "3. How should data and paths be handled?\n",
    "4. What specific requirements must be met?\n",
    "\n",
    "Return Instructions with:\n",
    "- Complete feasibility analysis\n",
    "- Detailed implementation plan\n",
    "- Specific requirements\n",
    "- Precise execution flow\n",
    "- Autonomy determination.\n",
    "- Make sure to give detailed unambigious plan.\n",
    "\n",
    "You Can run python scripts and install any pip packages without human intervention\n",
    "\n",
    "Important: If any feedback is provided, make sure write your answer based on that feedback. Based on feedback update required packages or implementation plan etc..\"\"\"\n",
    "\n",
    "    return system_prompt, user_prompt\n",
    "feature_planner_id = feature_planner.register()"
   ]
  },
  {
   "cell_type": "code",
   "execution_count": 67,
   "metadata": {},
   "outputs": [],
   "source": [
    "@brain_client.reasoner(schema=Tool)\n",
    "def autonomous_planner_tool(instructions: Instructions):\n",
    "    \"\"\"\n",
    "    Generates standalone Python scripts based on detailed implementation instructions.\n",
    "    \"\"\"\n",
    "    system_prompt = \"\"\"You are an expert Python script generator that creates fully autonomous code based on provided implementation instructions. Your goal is to generate scripts that run without any human intervention.\n",
    "    \n",
    "You Can run python scripts and install any pip packages without human intervention\n",
    "\n",
    "Core Requirements:\n",
    "1. Script Generation Rules:\n",
    "   - No external inputs (API keys, credentials, user prompts)\n",
    "   - No mock or simulated data\n",
    "   - No manual configuration needs\n",
    "   - No environment variables\n",
    "   - No system-specific resources\n",
    "   - No external service dependencies requiring authentication\n",
    "\n",
    "2. Development Guidelines:\n",
    "   - Prioritize Python standard library solutions\n",
    "   - Use only widely-adopted PyPI packages when necessary\n",
    "   - Implement comprehensive error handling\n",
    "   - Generate data programmatically if needed\n",
    "   - Handle all edge cases gracefully\n",
    "   - Follow the provided implementation plan exactly\n",
    "   - Use exact paths if specified in the implementation plan\n",
    "   - We can have any pip packages that is needed and we can install it on the fly\n",
    "\n",
    "3. Validation Requirements:\n",
    "   - Ensure script runs without any user intervention\n",
    "   - Verify no external dependencies are needed\n",
    "   - Confirm no mock/simulated data is used\n",
    "   - Follow execution flow from instructions\n",
    "   - Implement all specified error handling\n",
    "\n",
    "If task cannot be completed autonomously:\n",
    "- Set completed to detailed explanation\n",
    "- Do not attempt partial implementations\n",
    "- Do not suggest mock data alternatives\n",
    "- Explain specific blockers\"\"\"\n",
    "\n",
    "    user_prompt = f\"\"\"Generate a Python script following these instructions:\n",
    "\n",
    "Feasibility: {instructions.feasibility}\n",
    "Implementation Plan: {instructions.implementation_plan}\n",
    "Requirements: {instructions.requirements}\n",
    "Execution Flow: {instructions.execution_flow}\n",
    "Is Autonomous: {instructions.is_autonomous}\n",
    "\n",
    "Return Tool schema with:\n",
    "- Complete, autonomous Python script\n",
    "- Required pip packages. Make sure to give all the packages that is needed to run the script, including auxiliary packages.\n",
    "- Success status or detailed explanation of blockers\"\"\"\n",
    "\n",
    "    return system_prompt, user_prompt\n",
    "autonomous_planner_tool_id = autonomous_planner_tool.register()"
   ]
  },
  {
   "cell_type": "code",
   "execution_count": 68,
   "metadata": {},
   "outputs": [],
   "source": [
    "from typing import List, Optional\n",
    "\n",
    "from pydantic import BaseModel, Field\n",
    "\n",
    "\n",
    "class ToolExecutionResult(BaseModel):\n",
    "    \"\"\"\n",
    "    Encapsulates the result of the autonomous tool's execution process.\n",
    "    \"\"\"\n",
    "    final_result: Optional[str] = Field(None, description=\"The final result or answer to the task if successful.\")\n",
    "    final_script: Optional[str] = Field(None, description=\"The final generated Python script.\")\n",
    "    pip_dependencies: List[str] = Field(..., description=\"The list of pip dependencies required for the script.\")\n",
    "    execution_output: Optional[str] = Field(None, description=\"The output from executing the script.\")\n",
    "    success: bool = Field(..., description=\"Indicates if the task was successfully executed.\")\n",
    "    failure_reason: Optional[str] = Field(None, description=\"The reason for failure if the task could not be completed.\")\n",
    "\n",
    "@brain_client.multi_agent\n",
    "def autonomous_planner_tool(task: str, max_trials: int = 5, verbose: bool = True) -> ToolExecutionResult:\n",
    "    \"\"\"\n",
    "    Multi-agent workflow to plan, generate, execute, and analyze tools for a given task.\n",
    "    \"\"\"\n",
    "    for iteration in range(max_trials):\n",
    "        if verbose:\n",
    "            print(f\"{'=' * 10} Iteration {iteration + 1} {'=' * 10}\")\n",
    "\n",
    "        # Step 1: Generate implementation plan\n",
    "        plan = brain_client.use(feature_planner_id)(task=task)\n",
    "        \n",
    "        # If task is not autonomous based on plan, return failure\n",
    "        if not plan.is_autonomous:\n",
    "            return ToolExecutionResult(\n",
    "                final_result=None,\n",
    "                final_script=None,\n",
    "                pip_dependencies=[],\n",
    "                execution_output=None,\n",
    "                success=False,\n",
    "                failure_reason=plan.feasibility\n",
    "            )\n",
    "\n",
    "        # Step 2: Generate tool based on plan\n",
    "        tool_output = brain_client.use(autonomous_planner_tool_id)(instructions=plan)\n",
    "\n",
    "        # If tool generation failed, continue to next iteration\n",
    "        if tool_output.completed is not True:\n",
    "            if verbose:\n",
    "                print(f\"Tool Generation Failed: {tool_output.completed}\")\n",
    "            continue\n",
    "\n",
    "        # Step 3: Execute the generated script\n",
    "        exec_output = execute_script_with_temp_venv(tool_output.script, tool_output.pip_install)\n",
    "\n",
    "        # Step 4: Format execution result for analysis\n",
    "        context = format_tool_output(exec_output)\n",
    "\n",
    "        # Step 5: Analyze the result\n",
    "        res = brain_client.use(result_analyzer_id)(tool_output=context, task=task)\n",
    "\n",
    "        if verbose:\n",
    "            print(f\"Result Analysis: {res.result}\")\n",
    "\n",
    "        # If successful, return the result details\n",
    "        if res.success:\n",
    "            if verbose:\n",
    "                print(f\"Final Tool Output:\\n{context}\")\n",
    "            return ToolExecutionResult(\n",
    "                final_result=res.result.final_answer,\n",
    "                final_script=tool_output.script,\n",
    "                pip_dependencies=tool_output.pip_install,\n",
    "                execution_output=context,\n",
    "                success=True\n",
    "            )\n",
    "\n",
    "        # If failed, add context for next iteration\n",
    "        task = (\n",
    "            f\"Previous Implementation plan:\\n{plan.implementation_plan}\"\n",
    "            f\"Previous attempt failed.\\nAnalysis: {res.result.analysis}\\n\"\n",
    "            f\"Suggestions: {res.result.suggestions}\\n\"\n",
    "            f\"Original task: {task}\\n\"\n",
    "        )\n",
    "\n",
    "    # If all attempts fail, return the failure details\n",
    "    return ToolExecutionResult(\n",
    "        final_result=None,\n",
    "        final_script=tool_output.script if tool_output.completed is True else None,\n",
    "        pip_dependencies=tool_output.pip_install if tool_output.completed is True else [],\n",
    "        execution_output=None,\n",
    "        success=False,\n",
    "        failure_reason=res.result.analysis if 'res' in locals() and not res.success else \"Maximum iterations reached without success.\"\n",
    "    )"
   ]
  },
  {
   "cell_type": "code",
   "execution_count": null,
   "metadata": {},
   "outputs": [
    {
     "data": {
      "text/html": [
       "<pre style=\"white-space:pre;overflow-x:auto;line-height:normal;font-family:Menlo,'DejaVu Sans Mono',consolas,'Courier New',monospace\">========== Iteration <span style=\"color: #008080; text-decoration-color: #008080; font-weight: bold\">1</span> ==========\n",
       "</pre>\n"
      ],
      "text/plain": [
       "========== Iteration \u001b[1;36m1\u001b[0m ==========\n"
      ]
     },
     "metadata": {},
     "output_type": "display_data"
    },
    {
     "data": {
      "text/html": [
       "<pre style=\"white-space:pre;overflow-x:auto;line-height:normal;font-family:Menlo,'DejaVu Sans Mono',consolas,'Courier New',monospace\">Result Analysis: <span style=\"color: #808000; text-decoration-color: #808000\">final_answer</span>=<span style=\"color: #008000; text-decoration-color: #008000\">'The task was executed successfully, and the top 5 most frequent words found in the </span>\n",
       "<span style=\"color: #008000; text-decoration-color: #008000\">text file are:\\n\\n1. may: 1664\\n2. _: 1064\\n3. acid: 734\\n4. death: 728\\n5. cases: 549\\n\\nThis analysis effectively</span>\n",
       "<span style=\"color: #008000; text-decoration-color: #008000\">disregards common stopwords as required.'</span>\n",
       "</pre>\n"
      ],
      "text/plain": [
       "Result Analysis: \u001b[33mfinal_answer\u001b[0m=\u001b[32m'The task was executed successfully, and the top 5 most frequent words found in the \u001b[0m\n",
       "\u001b[32mtext file are:\\n\\n1. may: 1664\\n2. _: 1064\\n3. acid: 734\\n4. death: 728\\n5. cases: 549\\n\\nThis analysis effectively\u001b[0m\n",
       "\u001b[32mdisregards common stopwords as required.'\u001b[0m\n"
      ]
     },
     "metadata": {},
     "output_type": "display_data"
    },
    {
     "data": {
      "text/html": [
       "<pre style=\"white-space:pre;overflow-x:auto;line-height:normal;font-family:Menlo,'DejaVu Sans Mono',consolas,'Courier New',monospace\">Final Tool Output:\n",
       "Tool executed successfully. Output:\n",
       "Top <span style=\"color: #008080; text-decoration-color: #008080; font-weight: bold\">5</span> words:\n",
       "may: <span style=\"color: #008080; text-decoration-color: #008080; font-weight: bold\">1664</span>\n",
       "_: <span style=\"color: #008080; text-decoration-color: #008080; font-weight: bold\">1064</span>\n",
       "acid: <span style=\"color: #008080; text-decoration-color: #008080; font-weight: bold\">734</span>\n",
       "death: <span style=\"color: #008080; text-decoration-color: #008080; font-weight: bold\">728</span>\n",
       "cases: <span style=\"color: #008080; text-decoration-color: #008080; font-weight: bold\">549</span>\n",
       "\n",
       "</pre>\n"
      ],
      "text/plain": [
       "Final Tool Output:\n",
       "Tool executed successfully. Output:\n",
       "Top \u001b[1;36m5\u001b[0m words:\n",
       "may: \u001b[1;36m1664\u001b[0m\n",
       "_: \u001b[1;36m1064\u001b[0m\n",
       "acid: \u001b[1;36m734\u001b[0m\n",
       "death: \u001b[1;36m728\u001b[0m\n",
       "cases: \u001b[1;36m549\u001b[0m\n",
       "\n"
      ]
     },
     "metadata": {},
     "output_type": "display_data"
    },
    {
     "data": {
      "text/html": [
       "<pre style=\"white-space:pre;overflow-x:auto;line-height:normal;font-family:Menlo,'DejaVu Sans Mono',consolas,'Courier New',monospace\">Final Result: <span style=\"color: #808000; text-decoration-color: #808000\">final_result</span>=<span style=\"color: #008000; text-decoration-color: #008000\">'The task was executed successfully, and the top 5 most frequent words found in the text</span>\n",
       "<span style=\"color: #008000; text-decoration-color: #008000\">file are:\\n\\n1. may: 1664\\n2. _: 1064\\n3. acid: 734\\n4. death: 728\\n5. cases: 549\\n\\nThis analysis effectively </span>\n",
       "<span style=\"color: #008000; text-decoration-color: #008000\">disregards common stopwords as required.'</span> <span style=\"color: #808000; text-decoration-color: #808000\">final_script</span>=<span style=\"color: #008000; text-decoration-color: #008000\">'import collections\\nimport re\\nimport os\\n\\n# Function to </span>\n",
       "<span style=\"color: #008000; text-decoration-color: #008000\">load the text file\\n\\ndef load_file(file_path):\\n    try:\\n        if not os.path.isfile(file_path):\\n            </span>\n",
       "<span style=\"color: #008000; text-decoration-color: #008000\">raise FileNotFoundError(f\"File not found: {file_path}\")\\n        with open(file_path, \\'r\\', encoding=\\'utf-8\\') as</span>\n",
       "<span style=\"color: #008000; text-decoration-color: #008000\">file:\\n            content = file.read()\\n        return content\\n    except Exception as e:\\n        return </span>\n",
       "<span style=\"color: #008000; text-decoration-color: #008000\">str(e)\\n\\n# List of common stopwords\\nstopwords = {\\n    \\'i\\', \\'me\\', \\'my\\', \\'myself\\', \\'we\\', \\'our\\', </span>\n",
       "<span style=\"color: #008000; text-decoration-color: #008000\">\\'ours\\', \\'ourselves\\',\\n    \\'you\\', \\'your\\', \\'yours\\', \\'yourself\\', \\'yourselves\\', \\'he\\', \\'him\\',\\n    </span>\n",
       "<span style=\"color: #008000; text-decoration-color: #008000\">\\'his\\', \\'himself\\', \\'she\\', \\'her\\', \\'hers\\', \\'herself\\', \\'it\\', \\'its\\',\\n    \\'itself\\', \\'they\\', </span>\n",
       "<span style=\"color: #008000; text-decoration-color: #008000\">\\'them\\', \\'their\\', \\'theirs\\', \\'themselves\\', \\'what\\',\\n    \\'which\\', \\'who\\', \\'whom\\', \\'this\\', \\'that\\', </span>\n",
       "<span style=\"color: #008000; text-decoration-color: #008000\">\\'these\\', \\'those\\', \\'am\\', \\'is\\', \\'are\\',\\n    \\'was\\', \\'were\\', \\'be\\', \\'been\\', \\'being\\', \\'have\\', </span>\n",
       "<span style=\"color: #008000; text-decoration-color: #008000\">\\'has\\', \\'had\\', \\'having\\',\\n    \\'do\\', \\'does\\', \\'did\\', \\'doing\\', \\'a\\', \\'an\\', \\'the\\', \\'and\\', \\'but\\', </span>\n",
       "<span style=\"color: #008000; text-decoration-color: #008000\">\\'if\\',\\n    \\'or\\', \\'because\\', \\'as\\', \\'until\\', \\'while\\', \\'of\\', \\'at\\', \\'by\\', \\'for\\',\\n    \\'with\\', </span>\n",
       "<span style=\"color: #008000; text-decoration-color: #008000\">\\'about\\', \\'against\\', \\'between\\', \\'into\\', \\'through\\', \\'during\\',\\n    \\'before\\', \\'after\\', \\'above\\', </span>\n",
       "<span style=\"color: #008000; text-decoration-color: #008000\">\\'below\\', \\'to\\', \\'from\\', \\'up\\', \\'down\\',\\n    \\'in\\', \\'out\\', \\'on\\', \\'off\\', \\'over\\', \\'under\\', </span>\n",
       "<span style=\"color: #008000; text-decoration-color: #008000\">\\'again\\', \\'further\\',\\n    \\'then\\', \\'once\\', \\'here\\', \\'there\\', \\'when\\', \\'where\\', \\'why\\', \\'how\\',\\n    </span>\n",
       "<span style=\"color: #008000; text-decoration-color: #008000\">\\'all\\', \\'any\\', \\'both\\', \\'each\\', \\'few\\', \\'more\\', \\'most\\', \\'other\\',\\n    \\'some\\', \\'such\\', \\'no\\', </span>\n",
       "<span style=\"color: #008000; text-decoration-color: #008000\">\\'nor\\', \\'not\\', \\'only\\', \\'own\\', \\'same\\',\\n    \\'so\\', \\'than\\', \\'too\\', \\'very\\', \\'s\\', \\'t\\', \\'can\\', </span>\n",
       "<span style=\"color: #008000; text-decoration-color: #008000\">\\'will\\', \\'just\\',\\n    \\'don\\', \\'should\\', \\'now\\'\\n}\\n\\n# Function to process the text\\n\\ndef </span>\n",
       "<span style=\"color: #008000; text-decoration-color: #008000\">process_text(content):\\n    # Tokenize and clean the text\\n    words = re.findall(r\\'\\\\b\\\\w+\\\\b\\', </span>\n",
       "<span style=\"color: #008000; text-decoration-color: #008000\">content.lower())\\n    # Filter out stopwords\\n    filtered_words = \\n    # Count frequencies\\n    word_counts = </span>\n",
       "<span style=\"color: #008000; text-decoration-color: #008000\">collections.Counter(filtered_words)\\n    return word_counts\\n\\n# Function to extract the top 5 words\\n\\ndef </span>\n",
       "<span style=\"color: #008000; text-decoration-color: #008000\">get_top_words(word_counts, num=5):\\n    return word_counts.most_common(num)\\n\\n# Main execution flow\\nif __name__ </span>\n",
       "<span style=\"color: #008000; text-decoration-color: #008000\">== \\'__main__\\':\\n    file_path = \\'./input.txt\\'\\n    content = load_file(file_path)\\n    if isinstance(content, </span>\n",
       "<span style=\"color: #008000; text-decoration-color: #008000\">str) and content.startswith(\\'File not found\\'):\\n        print(content)\\n    else:\\n        word_counts = </span>\n",
       "<span style=\"color: #008000; text-decoration-color: #008000\">process_text(content)\\n        if not word_counts:\\n            print(\"No valid words found.\")\\n        else:\\n    </span>\n",
       "<span style=\"color: #008000; text-decoration-color: #008000\">top_words = get_top_words(word_counts)\\n            print(\"Top 5 words:\")\\n            for word, count in </span>\n",
       "<span style=\"color: #008000; text-decoration-color: #008000\">top_words:\\n                print(f\\'{word}: {count}\\')'</span> <span style=\"color: #808000; text-decoration-color: #808000\">pip_dependencies</span>=<span style=\"font-weight: bold\">[]</span> <span style=\"color: #808000; text-decoration-color: #808000\">execution_output</span>=<span style=\"color: #008000; text-decoration-color: #008000\">'Tool executed </span>\n",
       "<span style=\"color: #008000; text-decoration-color: #008000\">successfully. Output:\\nTop 5 words:\\nmay: 1664\\n_: 1064\\nacid: 734\\ndeath: 728\\ncases: 549\\n'</span> <span style=\"color: #808000; text-decoration-color: #808000\">success</span>=<span style=\"color: #00ff00; text-decoration-color: #00ff00; font-style: italic\">True</span> \n",
       "<span style=\"color: #808000; text-decoration-color: #808000\">failure_reason</span>=<span style=\"color: #800080; text-decoration-color: #800080; font-style: italic\">None</span>\n",
       "</pre>\n"
      ],
      "text/plain": [
       "Final Result: \u001b[33mfinal_result\u001b[0m=\u001b[32m'The task was executed successfully, and the top 5 most frequent words found in the text\u001b[0m\n",
       "\u001b[32mfile are:\\n\\n1. may: 1664\\n2. _: 1064\\n3. acid: 734\\n4. death: 728\\n5. cases: 549\\n\\nThis analysis effectively \u001b[0m\n",
       "\u001b[32mdisregards common stopwords as required.'\u001b[0m \u001b[33mfinal_script\u001b[0m=\u001b[32m'import collections\\nimport re\\nimport os\\n\\n# Function to \u001b[0m\n",
       "\u001b[32mload the text file\\n\\ndef load_file\u001b[0m\u001b[32m(\u001b[0m\u001b[32mfile_path\u001b[0m\u001b[32m)\u001b[0m\u001b[32m:\\n    try:\\n        if not os.path.isfile\u001b[0m\u001b[32m(\u001b[0m\u001b[32mfile_path\u001b[0m\u001b[32m)\u001b[0m\u001b[32m:\\n            \u001b[0m\n",
       "\u001b[32mraise FileNotFoundError\u001b[0m\u001b[32m(\u001b[0m\u001b[32mf\"File not found: \u001b[0m\u001b[32m{\u001b[0m\u001b[32mfile_path\u001b[0m\u001b[32m}\u001b[0m\u001b[32m\"\u001b[0m\u001b[32m)\u001b[0m\u001b[32m\\n        with open\u001b[0m\u001b[32m(\u001b[0m\u001b[32mfile_path, \\'r\\', \u001b[0m\u001b[32mencoding\u001b[0m\u001b[32m=\\'utf-8\\'\u001b[0m\u001b[32m)\u001b[0m\u001b[32m as\u001b[0m\n",
       "\u001b[32mfile:\\n            content = file.read\u001b[0m\u001b[32m(\u001b[0m\u001b[32m)\u001b[0m\u001b[32m\\n        return content\\n    except Exception as e:\\n        return \u001b[0m\n",
       "\u001b[32mstr\u001b[0m\u001b[32m(\u001b[0m\u001b[32me\u001b[0m\u001b[32m)\u001b[0m\u001b[32m\\n\\n# List of common stopwords\\nstopwords = \u001b[0m\u001b[32m{\u001b[0m\u001b[32m\\n    \\'i\\', \\'me\\', \\'my\\', \\'myself\\', \\'we\\', \\'our\\', \u001b[0m\n",
       "\u001b[32m\\'ours\\', \\'ourselves\\',\\n    \\'you\\', \\'your\\', \\'yours\\', \\'yourself\\', \\'yourselves\\', \\'he\\', \\'him\\',\\n    \u001b[0m\n",
       "\u001b[32m\\'his\\', \\'himself\\', \\'she\\', \\'her\\', \\'hers\\', \\'herself\\', \\'it\\', \\'its\\',\\n    \\'itself\\', \\'they\\', \u001b[0m\n",
       "\u001b[32m\\'them\\', \\'their\\', \\'theirs\\', \\'themselves\\', \\'what\\',\\n    \\'which\\', \\'who\\', \\'whom\\', \\'this\\', \\'that\\', \u001b[0m\n",
       "\u001b[32m\\'these\\', \\'those\\', \\'am\\', \\'is\\', \\'are\\',\\n    \\'was\\', \\'were\\', \\'be\\', \\'been\\', \\'being\\', \\'have\\', \u001b[0m\n",
       "\u001b[32m\\'has\\', \\'had\\', \\'having\\',\\n    \\'do\\', \\'does\\', \\'did\\', \\'doing\\', \\'a\\', \\'an\\', \\'the\\', \\'and\\', \\'but\\', \u001b[0m\n",
       "\u001b[32m\\'if\\',\\n    \\'or\\', \\'because\\', \\'as\\', \\'until\\', \\'while\\', \\'of\\', \\'at\\', \\'by\\', \\'for\\',\\n    \\'with\\', \u001b[0m\n",
       "\u001b[32m\\'about\\', \\'against\\', \\'between\\', \\'into\\', \\'through\\', \\'during\\',\\n    \\'before\\', \\'after\\', \\'above\\', \u001b[0m\n",
       "\u001b[32m\\'below\\', \\'to\\', \\'from\\', \\'up\\', \\'down\\',\\n    \\'in\\', \\'out\\', \\'on\\', \\'off\\', \\'over\\', \\'under\\', \u001b[0m\n",
       "\u001b[32m\\'again\\', \\'further\\',\\n    \\'then\\', \\'once\\', \\'here\\', \\'there\\', \\'when\\', \\'where\\', \\'why\\', \\'how\\',\\n    \u001b[0m\n",
       "\u001b[32m\\'all\\', \\'any\\', \\'both\\', \\'each\\', \\'few\\', \\'more\\', \\'most\\', \\'other\\',\\n    \\'some\\', \\'such\\', \\'no\\', \u001b[0m\n",
       "\u001b[32m\\'nor\\', \\'not\\', \\'only\\', \\'own\\', \\'same\\',\\n    \\'so\\', \\'than\\', \\'too\\', \\'very\\', \\'s\\', \\'t\\', \\'can\\', \u001b[0m\n",
       "\u001b[32m\\'will\\', \\'just\\',\\n    \\'don\\', \\'should\\', \\'now\\'\\n\u001b[0m\u001b[32m}\u001b[0m\u001b[32m\\n\\n# Function to process the text\\n\\ndef \u001b[0m\n",
       "\u001b[32mprocess_text\u001b[0m\u001b[32m(\u001b[0m\u001b[32mcontent\u001b[0m\u001b[32m)\u001b[0m\u001b[32m:\\n    # Tokenize and clean the text\\n    words = re.findall\u001b[0m\u001b[32m(\u001b[0m\u001b[32mr\\'\\\\b\\\\w+\\\\b\\', \u001b[0m\n",
       "\u001b[32mcontent.lower\u001b[0m\u001b[32m(\u001b[0m\u001b[32m)\u001b[0m\u001b[32m)\u001b[0m\u001b[32m\\n    # Filter out stopwords\\n    filtered_words = \u001b[0m\u001b[32m\\n    # Count frequencies\\n    word_counts = \u001b[0m\n",
       "\u001b[32mcollections.Counter\u001b[0m\u001b[32m(\u001b[0m\u001b[32mfiltered_words\u001b[0m\u001b[32m)\u001b[0m\u001b[32m\\n    return word_counts\\n\\n# Function to extract the top 5 words\\n\\ndef \u001b[0m\n",
       "\u001b[32mget_top_words\u001b[0m\u001b[32m(\u001b[0m\u001b[32mword_counts, \u001b[0m\u001b[32mnum\u001b[0m\u001b[32m=\u001b[0m\u001b[32m5\u001b[0m\u001b[32m)\u001b[0m\u001b[32m:\\n    return word_counts.most_common\u001b[0m\u001b[32m(\u001b[0m\u001b[32mnum\u001b[0m\u001b[32m)\u001b[0m\u001b[32m\\n\\n# Main execution flow\\nif __name__ \u001b[0m\n",
       "\u001b[32m== \\'__main__\\':\\n    file_path = \\'./input.txt\\'\\n    content = load_file\u001b[0m\u001b[32m(\u001b[0m\u001b[32mfile_path\u001b[0m\u001b[32m)\u001b[0m\u001b[32m\\n    if isinstance\u001b[0m\u001b[32m(\u001b[0m\u001b[32mcontent, \u001b[0m\n",
       "\u001b[32mstr\u001b[0m\u001b[32m)\u001b[0m\u001b[32m and content.startswith\u001b[0m\u001b[32m(\u001b[0m\u001b[32m\\'File not found\\'\u001b[0m\u001b[32m)\u001b[0m\u001b[32m:\\n        print\u001b[0m\u001b[32m(\u001b[0m\u001b[32mcontent\u001b[0m\u001b[32m)\u001b[0m\u001b[32m\\n    else:\\n        word_counts = \u001b[0m\n",
       "\u001b[32mprocess_text\u001b[0m\u001b[32m(\u001b[0m\u001b[32mcontent\u001b[0m\u001b[32m)\u001b[0m\u001b[32m\\n        if not word_counts:\\n            print\u001b[0m\u001b[32m(\u001b[0m\u001b[32m\"No valid words found.\"\u001b[0m\u001b[32m)\u001b[0m\u001b[32m\\n        else:\\n    \u001b[0m\n",
       "\u001b[32mtop_words = get_top_words\u001b[0m\u001b[32m(\u001b[0m\u001b[32mword_counts\u001b[0m\u001b[32m)\u001b[0m\u001b[32m\\n            print\u001b[0m\u001b[32m(\u001b[0m\u001b[32m\"Top 5 words:\"\u001b[0m\u001b[32m)\u001b[0m\u001b[32m\\n            for word, count in \u001b[0m\n",
       "\u001b[32mtop_words:\\n                print\u001b[0m\u001b[32m(\u001b[0m\u001b[32mf\\'\u001b[0m\u001b[32m{\u001b[0m\u001b[32mword\u001b[0m\u001b[32m}\u001b[0m\u001b[32m: \u001b[0m\u001b[32m{\u001b[0m\u001b[32mcount\u001b[0m\u001b[32m}\u001b[0m\u001b[32m\\'\u001b[0m\u001b[32m)\u001b[0m\u001b[32m'\u001b[0m \u001b[33mpip_dependencies\u001b[0m=\u001b[1m[\u001b[0m\u001b[1m]\u001b[0m \u001b[33mexecution_output\u001b[0m=\u001b[32m'Tool executed \u001b[0m\n",
       "\u001b[32msuccessfully. Output:\\nTop 5 words:\\nmay: 1664\\n_: 1064\\nacid: 734\\ndeath: 728\\ncases: 549\\n'\u001b[0m \u001b[33msuccess\u001b[0m=\u001b[3;92mTrue\u001b[0m \n",
       "\u001b[33mfailure_reason\u001b[0m=\u001b[3;35mNone\u001b[0m\n"
      ]
     },
     "metadata": {},
     "output_type": "display_data"
    }
   ],
   "source": [
    "task=\"Extract the top 5 most frequent words from the text file ./input.txt and ignore common stopwords.\"\n",
    "result=autonomous_planner_tool(task,max_trials=5,verbose=True)\n",
    "\n",
    "print(f\"Final Result: {result}\")"
   ]
  },
  {
   "cell_type": "code",
   "execution_count": 69,
   "metadata": {},
   "outputs": [
    {
     "data": {
      "text/html": [
       "<pre style=\"white-space:pre;overflow-x:auto;line-height:normal;font-family:Menlo,'DejaVu Sans Mono',consolas,'Courier New',monospace\">========== Iteration <span style=\"color: #008080; text-decoration-color: #008080; font-weight: bold\">1</span> ==========\n",
       "</pre>\n"
      ],
      "text/plain": [
       "========== Iteration \u001b[1;36m1\u001b[0m ==========\n"
      ]
     },
     "metadata": {},
     "output_type": "display_data"
    },
    {
     "data": {
      "text/html": [
       "<pre style=\"white-space:pre;overflow-x:auto;line-height:normal;font-family:Menlo,'DejaVu Sans Mono',consolas,'Courier New',monospace\">Result Analysis: <span style=\"color: #808000; text-decoration-color: #808000\">analysis</span>=<span style=\"color: #008000; text-decoration-color: #008000\">'The tool execution failed because it could not install the necessary Python packages due</span>\n",
       "<span style=\"color: #008000; text-decoration-color: #008000\">to an issue with the command execution, which may indicate a lack of permissions or an environment problem. As a </span>\n",
       "<span style=\"color: #008000; text-decoration-color: #008000\">result, the script cannot perform its intended task without the required dependencies.'</span> <span style=\"color: #808000; text-decoration-color: #808000\">suggestions</span>=<span style=\"color: #008000; text-decoration-color: #008000\">'This task </span>\n",
       "<span style=\"color: #008000; text-decoration-color: #008000\">cannot be completed as described because it relies on installing third-party packages like Pandas, NumPy, and </span>\n",
       "<span style=\"color: #008000; text-decoration-color: #008000\">Plotly, which requires manual intervention in managing the Python environment. To achieve true autonomy, consider </span>\n",
       "<span style=\"color: #008000; text-decoration-color: #008000\">using a self-contained tool or package that does not require external dependencies, or ensure the environment is </span>\n",
       "<span style=\"color: #008000; text-decoration-color: #008000\">set up correctly to allow for the installation of these packages.'</span>\n",
       "</pre>\n"
      ],
      "text/plain": [
       "Result Analysis: \u001b[33manalysis\u001b[0m=\u001b[32m'The tool execution failed because it could not install the necessary Python packages due\u001b[0m\n",
       "\u001b[32mto an issue with the command execution, which may indicate a lack of permissions or an environment problem. As a \u001b[0m\n",
       "\u001b[32mresult, the script cannot perform its intended task without the required dependencies.'\u001b[0m \u001b[33msuggestions\u001b[0m=\u001b[32m'This task \u001b[0m\n",
       "\u001b[32mcannot be completed as described because it relies on installing third-party packages like Pandas, NumPy, and \u001b[0m\n",
       "\u001b[32mPlotly, which requires manual intervention in managing the Python environment. To achieve true autonomy, consider \u001b[0m\n",
       "\u001b[32musing a self-contained tool or package that does not require external dependencies, or ensure the environment is \u001b[0m\n",
       "\u001b[32mset up correctly to allow for the installation of these packages.'\u001b[0m\n"
      ]
     },
     "metadata": {},
     "output_type": "display_data"
    },
    {
     "data": {
      "text/html": [
       "<pre style=\"white-space:pre;overflow-x:auto;line-height:normal;font-family:Menlo,'DejaVu Sans Mono',consolas,'Courier New',monospace\">========== Iteration <span style=\"color: #008080; text-decoration-color: #008080; font-weight: bold\">2</span> ==========\n",
       "</pre>\n"
      ],
      "text/plain": [
       "========== Iteration \u001b[1;36m2\u001b[0m ==========\n"
      ]
     },
     "metadata": {},
     "output_type": "display_data"
    },
    {
     "data": {
      "text/html": [
       "<pre style=\"white-space:pre;overflow-x:auto;line-height:normal;font-family:Menlo,'DejaVu Sans Mono',consolas,'Courier New',monospace\">Result Analysis: <span style=\"color: #808000; text-decoration-color: #808000\">analysis</span>=<span style=\"color: #008000; text-decoration-color: #008000\">'The tool execution failed due to the inability to install necessary Python packages like</span>\n",
       "<span style=\"color: #008000; text-decoration-color: #008000\">pandas, numpy, and plotly. This indicates a lack of permission or an environmental issue, preventing the script </span>\n",
       "<span style=\"color: #008000; text-decoration-color: #008000\">from running successfully. As a result, without these dependencies, the script cannot complete its intended task of</span>\n",
       "<span style=\"color: #008000; text-decoration-color: #008000\">analyzing the text file and generating the required statistics and plots.'</span> <span style=\"color: #808000; text-decoration-color: #808000\">suggestions</span>=<span style=\"color: #008000; text-decoration-color: #008000\">'To ensure true autonomy in </span>\n",
       "<span style=\"color: #008000; text-decoration-color: #008000\">this task, it is recommended to set up a proper Python environment where the required packages can be installed </span>\n",
       "<span style=\"color: #008000; text-decoration-color: #008000\">without issues. Consider using a virtual environment or a containerized solution such as Docker to manage </span>\n",
       "<span style=\"color: #008000; text-decoration-color: #008000\">dependencies. Additionally, look for alternatives that do not require external libraries, or investigate whether </span>\n",
       "<span style=\"color: #008000; text-decoration-color: #008000\">the environment can allow for the installation of necessary packages automatically.'</span>\n",
       "</pre>\n"
      ],
      "text/plain": [
       "Result Analysis: \u001b[33manalysis\u001b[0m=\u001b[32m'The tool execution failed due to the inability to install necessary Python packages like\u001b[0m\n",
       "\u001b[32mpandas, numpy, and plotly. This indicates a lack of permission or an environmental issue, preventing the script \u001b[0m\n",
       "\u001b[32mfrom running successfully. As a result, without these dependencies, the script cannot complete its intended task of\u001b[0m\n",
       "\u001b[32manalyzing the text file and generating the required statistics and plots.'\u001b[0m \u001b[33msuggestions\u001b[0m=\u001b[32m'To ensure true autonomy in \u001b[0m\n",
       "\u001b[32mthis task, it is recommended to set up a proper Python environment where the required packages can be installed \u001b[0m\n",
       "\u001b[32mwithout issues. Consider using a virtual environment or a containerized solution such as Docker to manage \u001b[0m\n",
       "\u001b[32mdependencies. Additionally, look for alternatives that do not require external libraries, or investigate whether \u001b[0m\n",
       "\u001b[32mthe environment can allow for the installation of necessary packages automatically.'\u001b[0m\n"
      ]
     },
     "metadata": {},
     "output_type": "display_data"
    },
    {
     "data": {
      "text/html": [
       "<pre style=\"white-space:pre;overflow-x:auto;line-height:normal;font-family:Menlo,'DejaVu Sans Mono',consolas,'Courier New',monospace\">========== Iteration <span style=\"color: #008080; text-decoration-color: #008080; font-weight: bold\">3</span> ==========\n",
       "</pre>\n"
      ],
      "text/plain": [
       "========== Iteration \u001b[1;36m3\u001b[0m ==========\n"
      ]
     },
     "metadata": {},
     "output_type": "display_data"
    },
    {
     "data": {
      "text/html": [
       "<pre style=\"white-space:pre;overflow-x:auto;line-height:normal;font-family:Menlo,'DejaVu Sans Mono',consolas,'Courier New',monospace\">Result Analysis: <span style=\"color: #808000; text-decoration-color: #808000\">final_answer</span>=<span style=\"color: #008000; text-decoration-color: #008000\">'The histogram showing the distribution of word lengths from the text file has been </span>\n",
       "<span style=\"color: #008000; text-decoration-color: #008000\">successfully created and saved as \"word_length_distribution.png\".'</span>\n",
       "</pre>\n"
      ],
      "text/plain": [
       "Result Analysis: \u001b[33mfinal_answer\u001b[0m=\u001b[32m'The histogram showing the distribution of word lengths from the text file has been \u001b[0m\n",
       "\u001b[32msuccessfully created and saved as \"word_length_distribution.png\".'\u001b[0m\n"
      ]
     },
     "metadata": {},
     "output_type": "display_data"
    },
    {
     "data": {
      "text/html": [
       "<pre style=\"white-space:pre;overflow-x:auto;line-height:normal;font-family:Menlo,'DejaVu Sans Mono',consolas,'Courier New',monospace\">Final Tool Output:\n",
       "Tool executed successfully. Output:\n",
       "Success: The histogram has been created and saved as word_length_distribution.png.\n",
       "\n",
       "</pre>\n"
      ],
      "text/plain": [
       "Final Tool Output:\n",
       "Tool executed successfully. Output:\n",
       "Success: The histogram has been created and saved as word_length_distribution.png.\n",
       "\n"
      ]
     },
     "metadata": {},
     "output_type": "display_data"
    },
    {
     "data": {
      "text/html": [
       "<pre style=\"white-space:pre;overflow-x:auto;line-height:normal;font-family:Menlo,'DejaVu Sans Mono',consolas,'Courier New',monospace\">Final Result: <span style=\"color: #808000; text-decoration-color: #808000\">final_result</span>=<span style=\"color: #008000; text-decoration-color: #008000\">'The histogram showing the distribution of word lengths from the text file has been </span>\n",
       "<span style=\"color: #008000; text-decoration-color: #008000\">successfully created and saved as \"word_length_distribution.png\".'</span> <span style=\"color: #808000; text-decoration-color: #808000\">final_script</span>=<span style=\"color: #008000; text-decoration-color: #008000\">\"import pandas as pd\\nimport numpy </span>\n",
       "<span style=\"color: #008000; text-decoration-color: #008000\">as np\\nimport plotly.graph_objs as go\\nimport os\\n\\n# Check for the input file existence\\ninput_file = </span>\n",
       "<span style=\"color: #008000; text-decoration-color: #008000\">'./input.txt'\\nif not os.path.exists(input_file):\\n    print('Error: The file ./input.txt does not exist.')\\n    </span>\n",
       "<span style=\"color: #008000; text-decoration-color: #008000\">raise FileNotFoundError('The file ./input.txt does not exist.')\\n\\ntry:\\n    # Read the content of the input file\\n</span>\n",
       "<span style=\"color: #008000; text-decoration-color: #008000\">with open(input_file, 'r') as file:\\n        text = file.read()\\nexcept Exception as e:\\n    print(f'Error reading </span>\n",
       "<span style=\"color: #008000; text-decoration-color: #008000\">the file: {str(e)}')\\n    raise e\\n\\n# Split the text into words and calculate word lengths\\nword_lengths = \\n\\n# </span>\n",
       "<span style=\"color: #008000; text-decoration-color: #008000\">Create a DataFrame from the word lengths\\nword_length_df = pd.DataFrame(word_lengths, columns=['Length'])\\n\\n# Fit </span>\n",
       "<span style=\"color: #008000; text-decoration-color: #008000\">a distribution curve using numpy for the histogram data\\ntry:\\n    mu, sigma = np.mean(word_lengths), </span>\n",
       "<span style=\"color: #008000; text-decoration-color: #008000\">np.std(word_lengths)\\n    x_values = np.linspace(min(word_lengths), max(word_lengths), 100)\\n    p = (1/(sigma * </span>\n",
       "<span style=\"color: #008000; text-decoration-color: #008000\">np.sqrt(2 * np.pi))) * np.exp(- (x_values - mu)**2 / (2 * sigma**2))\\nexcept Exception as e:\\n    print(f'Error </span>\n",
       "<span style=\"color: #008000; text-decoration-color: #008000\">fitting distribution: {str(e)}')\\n    raise e\\n\\n# Create a histogram and overlay the fitted curve using </span>\n",
       "<span style=\"color: #008000; text-decoration-color: #008000\">Plotly\\ntry:\\n    histogram = go.Figure()\\n    histogram.add_trace(go.Histogram(x=word_length_df['Length'], </span>\n",
       "<span style=\"color: #008000; text-decoration-color: #008000\">name='Word Lengths', opacity=0.75))\\n    histogram.add_trace(go.Scatter(x=x_values, y=p * len(word_lengths) * </span>\n",
       "<span style=\"color: #008000; text-decoration-color: #008000\">(max(word_lengths) - min(word_lengths)) / 100, name='Fitted Curve', mode='lines'))\\n    </span>\n",
       "<span style=\"color: #008000; text-decoration-color: #008000\">histogram.update_layout(title='Word Length Distribution', xaxis_title='Length', yaxis_title='Count')\\n\\n    # Save </span>\n",
       "<span style=\"color: #008000; text-decoration-color: #008000\">the plot to a PNG file\\n    histogram.write_image('word_length_distribution.png')\\nexcept Exception as e:\\n    </span>\n",
       "<span style=\"color: #008000; text-decoration-color: #008000\">print(f'Error creating histogram or saving the file: {str(e)}')\\n    raise e\\n\\nprint('Success: The histogram has </span>\n",
       "<span style=\"color: #008000; text-decoration-color: #008000\">been created and saved as word_length_distribution.png.')\"</span> <span style=\"color: #808000; text-decoration-color: #808000\">pip_dependencies</span>=<span style=\"font-weight: bold\">[</span><span style=\"color: #008000; text-decoration-color: #008000\">'pandas'</span>, <span style=\"color: #008000; text-decoration-color: #008000\">'numpy'</span>, <span style=\"color: #008000; text-decoration-color: #008000\">'plotly'</span>, \n",
       "<span style=\"color: #008000; text-decoration-color: #008000\">'kaleido'</span><span style=\"font-weight: bold\">]</span> <span style=\"color: #808000; text-decoration-color: #808000\">execution_output</span>=<span style=\"color: #008000; text-decoration-color: #008000\">'Tool executed successfully. Output:\\nSuccess: The histogram has been created and saved</span>\n",
       "<span style=\"color: #008000; text-decoration-color: #008000\">as word_length_distribution.png.\\n'</span> <span style=\"color: #808000; text-decoration-color: #808000\">success</span>=<span style=\"color: #00ff00; text-decoration-color: #00ff00; font-style: italic\">True</span> <span style=\"color: #808000; text-decoration-color: #808000\">failure_reason</span>=<span style=\"color: #800080; text-decoration-color: #800080; font-style: italic\">None</span>\n",
       "</pre>\n"
      ],
      "text/plain": [
       "Final Result: \u001b[33mfinal_result\u001b[0m=\u001b[32m'The histogram showing the distribution of word lengths from the text file has been \u001b[0m\n",
       "\u001b[32msuccessfully created and saved as \"word_length_distribution.png\".'\u001b[0m \u001b[33mfinal_script\u001b[0m=\u001b[32m\"import\u001b[0m\u001b[32m pandas as pd\\nimport numpy \u001b[0m\n",
       "\u001b[32mas np\\nimport plotly.graph_objs as go\\nimport os\\n\\n# Check for the input file existence\\ninput_file = \u001b[0m\n",
       "\u001b[32m'./input.txt'\\nif not os.path.exists\u001b[0m\u001b[32m(\u001b[0m\u001b[32minput_file\u001b[0m\u001b[32m)\u001b[0m\u001b[32m:\\n    print\u001b[0m\u001b[32m(\u001b[0m\u001b[32m'Error: The file ./input.txt does not exist.'\u001b[0m\u001b[32m)\u001b[0m\u001b[32m\\n    \u001b[0m\n",
       "\u001b[32mraise FileNotFoundError\u001b[0m\u001b[32m(\u001b[0m\u001b[32m'The file ./input.txt does not exist.'\u001b[0m\u001b[32m)\u001b[0m\u001b[32m\\n\\ntry:\\n    # Read the content of the input file\\n\u001b[0m\n",
       "\u001b[32mwith open\u001b[0m\u001b[32m(\u001b[0m\u001b[32minput_file, 'r'\u001b[0m\u001b[32m)\u001b[0m\u001b[32m as file:\\n        text = file.read\u001b[0m\u001b[32m(\u001b[0m\u001b[32m)\u001b[0m\u001b[32m\\nexcept Exception as e:\\n    print\u001b[0m\u001b[32m(\u001b[0m\u001b[32mf'Error reading \u001b[0m\n",
       "\u001b[32mthe file: \u001b[0m\u001b[32m{\u001b[0m\u001b[32mstr\u001b[0m\u001b[32m(\u001b[0m\u001b[32me\u001b[0m\u001b[32m)\u001b[0m\u001b[32m}\u001b[0m\u001b[32m'\u001b[0m\u001b[32m)\u001b[0m\u001b[32m\\n    raise e\\n\\n# Split the text into words and calculate word lengths\\nword_lengths = \u001b[0m\u001b[32m\\n\\n# \u001b[0m\n",
       "\u001b[32mCreate a DataFrame from the word lengths\\nword_length_df = pd.DataFrame\u001b[0m\u001b[32m(\u001b[0m\u001b[32mword_lengths, \u001b[0m\u001b[32mcolumns\u001b[0m\u001b[32m=\u001b[0m\u001b[32m[\u001b[0m\u001b[32m'Length'\u001b[0m\u001b[32m]\u001b[0m\u001b[32m)\u001b[0m\u001b[32m\\n\\n# Fit \u001b[0m\n",
       "\u001b[32ma distribution curve using numpy for the histogram data\\ntry:\\n    mu, sigma = np.mean\u001b[0m\u001b[32m(\u001b[0m\u001b[32mword_lengths\u001b[0m\u001b[32m)\u001b[0m\u001b[32m, \u001b[0m\n",
       "\u001b[32mnp.std\u001b[0m\u001b[32m(\u001b[0m\u001b[32mword_lengths\u001b[0m\u001b[32m)\u001b[0m\u001b[32m\\n    x_values = np.linspace\u001b[0m\u001b[32m(\u001b[0m\u001b[32mmin\u001b[0m\u001b[32m(\u001b[0m\u001b[32mword_lengths\u001b[0m\u001b[32m)\u001b[0m\u001b[32m, max\u001b[0m\u001b[32m(\u001b[0m\u001b[32mword_lengths\u001b[0m\u001b[32m)\u001b[0m\u001b[32m, 100\u001b[0m\u001b[32m)\u001b[0m\u001b[32m\\n    p = \u001b[0m\u001b[32m(\u001b[0m\u001b[32m1/\u001b[0m\u001b[32m(\u001b[0m\u001b[32msigma * \u001b[0m\n",
       "\u001b[32mnp.sqrt\u001b[0m\u001b[32m(\u001b[0m\u001b[32m2 * np.pi\u001b[0m\u001b[32m)\u001b[0m\u001b[32m)\u001b[0m\u001b[32m)\u001b[0m\u001b[32m * np.exp\u001b[0m\u001b[32m(\u001b[0m\u001b[32m- \u001b[0m\u001b[32m(\u001b[0m\u001b[32mx_values - mu\u001b[0m\u001b[32m)\u001b[0m\u001b[32m**2 / \u001b[0m\u001b[32m(\u001b[0m\u001b[32m2 * sigma**2\u001b[0m\u001b[32m)\u001b[0m\u001b[32m)\u001b[0m\u001b[32m\\nexcept Exception as e:\\n    print\u001b[0m\u001b[32m(\u001b[0m\u001b[32mf'Error \u001b[0m\n",
       "\u001b[32mfitting distribution: \u001b[0m\u001b[32m{\u001b[0m\u001b[32mstr\u001b[0m\u001b[32m(\u001b[0m\u001b[32me\u001b[0m\u001b[32m)\u001b[0m\u001b[32m}\u001b[0m\u001b[32m'\u001b[0m\u001b[32m)\u001b[0m\u001b[32m\\n    raise e\\n\\n# Create a histogram and overlay the fitted curve using \u001b[0m\n",
       "\u001b[32mPlotly\\ntry:\\n    histogram = go.Figure\u001b[0m\u001b[32m(\u001b[0m\u001b[32m)\u001b[0m\u001b[32m\\n    histogram.add_trace\u001b[0m\u001b[32m(\u001b[0m\u001b[32mgo.Histogram\u001b[0m\u001b[32m(\u001b[0m\u001b[32mx\u001b[0m\u001b[32m=\u001b[0m\u001b[32mword_length_df\u001b[0m\u001b[32m[\u001b[0m\u001b[32m'Length'\u001b[0m\u001b[32m]\u001b[0m\u001b[32m, \u001b[0m\n",
       "\u001b[32mname\u001b[0m\u001b[32m='Word Lengths', \u001b[0m\u001b[32mopacity\u001b[0m\u001b[32m=\u001b[0m\u001b[32m0\u001b[0m\u001b[32m.75\u001b[0m\u001b[32m)\u001b[0m\u001b[32m)\u001b[0m\u001b[32m\\n    histogram.add_trace\u001b[0m\u001b[32m(\u001b[0m\u001b[32mgo.Scatter\u001b[0m\u001b[32m(\u001b[0m\u001b[32mx\u001b[0m\u001b[32m=\u001b[0m\u001b[32mx_values\u001b[0m\u001b[32m, \u001b[0m\u001b[32my\u001b[0m\u001b[32m=\u001b[0m\u001b[32mp\u001b[0m\u001b[32m * len\u001b[0m\u001b[32m(\u001b[0m\u001b[32mword_lengths\u001b[0m\u001b[32m)\u001b[0m\u001b[32m * \u001b[0m\n",
       "\u001b[32m(\u001b[0m\u001b[32mmax\u001b[0m\u001b[32m(\u001b[0m\u001b[32mword_lengths\u001b[0m\u001b[32m)\u001b[0m\u001b[32m - min\u001b[0m\u001b[32m(\u001b[0m\u001b[32mword_lengths\u001b[0m\u001b[32m)\u001b[0m\u001b[32m)\u001b[0m\u001b[32m / 100, \u001b[0m\u001b[32mname\u001b[0m\u001b[32m='Fitted Curve', \u001b[0m\u001b[32mmode\u001b[0m\u001b[32m='lines'\u001b[0m\u001b[32m)\u001b[0m\u001b[32m)\u001b[0m\u001b[32m\\n    \u001b[0m\n",
       "\u001b[32mhistogram.update_layout\u001b[0m\u001b[32m(\u001b[0m\u001b[32mtitle\u001b[0m\u001b[32m='Word Length Distribution', \u001b[0m\u001b[32mxaxis_title\u001b[0m\u001b[32m='Length', \u001b[0m\u001b[32myaxis_title\u001b[0m\u001b[32m='Count'\u001b[0m\u001b[32m)\u001b[0m\u001b[32m\\n\\n    # Save \u001b[0m\n",
       "\u001b[32mthe plot to a PNG file\\n    histogram.write_image\u001b[0m\u001b[32m(\u001b[0m\u001b[32m'word_length_distribution.png'\u001b[0m\u001b[32m)\u001b[0m\u001b[32m\\nexcept Exception as e:\\n    \u001b[0m\n",
       "\u001b[32mprint\u001b[0m\u001b[32m(\u001b[0m\u001b[32mf'Error creating histogram or saving the file: \u001b[0m\u001b[32m{\u001b[0m\u001b[32mstr\u001b[0m\u001b[32m(\u001b[0m\u001b[32me\u001b[0m\u001b[32m)\u001b[0m\u001b[32m}\u001b[0m\u001b[32m'\u001b[0m\u001b[32m)\u001b[0m\u001b[32m\\n    raise e\\n\\nprint\u001b[0m\u001b[32m(\u001b[0m\u001b[32m'Success: The histogram has \u001b[0m\n",
       "\u001b[32mbeen created and saved as word_length_distribution.png.'\u001b[0m\u001b[32m)\u001b[0m\u001b[32m\"\u001b[0m \u001b[33mpip_dependencies\u001b[0m=\u001b[1m[\u001b[0m\u001b[32m'pandas'\u001b[0m, \u001b[32m'numpy'\u001b[0m, \u001b[32m'plotly'\u001b[0m, \n",
       "\u001b[32m'kaleido'\u001b[0m\u001b[1m]\u001b[0m \u001b[33mexecution_output\u001b[0m=\u001b[32m'Tool executed successfully. Output:\\nSuccess: The histogram has been created and saved\u001b[0m\n",
       "\u001b[32mas word_length_distribution.png.\\n'\u001b[0m \u001b[33msuccess\u001b[0m=\u001b[3;92mTrue\u001b[0m \u001b[33mfailure_reason\u001b[0m=\u001b[3;35mNone\u001b[0m\n"
      ]
     },
     "metadata": {},
     "output_type": "display_data"
    }
   ],
   "source": [
    "# get absolute path of a file\n",
    "file_path=\"./input.txt\"\n",
    "task=f\"use plotly and plot the distribution of word length in the text file {file_path} and fit a nice curve to the distribution and save the plot as file.\"\n",
    "result=autonomous_planner_tool(task,max_trials=5,verbose=True)\n",
    "\n",
    "print(f\"Final Result: {result}\")"
   ]
  },
  {
   "cell_type": "code",
   "execution_count": 70,
   "metadata": {},
   "outputs": [
    {
     "data": {
      "text/html": [
       "<pre style=\"white-space:pre;overflow-x:auto;line-height:normal;font-family:Menlo,'DejaVu Sans Mono',consolas,'Courier New',monospace\">========== Iteration <span style=\"color: #008080; text-decoration-color: #008080; font-weight: bold\">1</span> ==========\n",
       "</pre>\n"
      ],
      "text/plain": [
       "========== Iteration \u001b[1;36m1\u001b[0m ==========\n"
      ]
     },
     "metadata": {},
     "output_type": "display_data"
    },
    {
     "data": {
      "text/html": [
       "<pre style=\"white-space:pre;overflow-x:auto;line-height:normal;font-family:Menlo,'DejaVu Sans Mono',consolas,'Courier New',monospace\">Tool Generation Failed: The task cannot be autonomously completed as searching for articles on autonomous driving \n",
       "requires access to an external API or web service, such as a news API or a search engine, which would require API \n",
       "keys or may not be possible to implement reliably without external dependencies.\n",
       "</pre>\n"
      ],
      "text/plain": [
       "Tool Generation Failed: The task cannot be autonomously completed as searching for articles on autonomous driving \n",
       "requires access to an external API or web service, such as a news API or a search engine, which would require API \n",
       "keys or may not be possible to implement reliably without external dependencies.\n"
      ]
     },
     "metadata": {},
     "output_type": "display_data"
    },
    {
     "data": {
      "text/html": [
       "<pre style=\"white-space:pre;overflow-x:auto;line-height:normal;font-family:Menlo,'DejaVu Sans Mono',consolas,'Courier New',monospace\">Final Result: <span style=\"color: #808000; text-decoration-color: #808000\">final_result</span>=<span style=\"color: #800080; text-decoration-color: #800080; font-style: italic\">None</span> <span style=\"color: #808000; text-decoration-color: #808000\">final_script</span>=<span style=\"color: #800080; text-decoration-color: #800080; font-style: italic\">None</span> <span style=\"color: #808000; text-decoration-color: #808000\">pip_dependencies</span>=<span style=\"font-weight: bold\">[]</span> <span style=\"color: #808000; text-decoration-color: #808000\">execution_output</span>=<span style=\"color: #800080; text-decoration-color: #800080; font-style: italic\">None</span> <span style=\"color: #808000; text-decoration-color: #808000\">success</span>=<span style=\"color: #ff0000; text-decoration-color: #ff0000; font-style: italic\">False</span> \n",
       "<span style=\"color: #808000; text-decoration-color: #808000\">failure_reason</span>=<span style=\"color: #008000; text-decoration-color: #008000\">'The task cannot be autonomously completed as searching for articles on autonomous driving requires </span>\n",
       "<span style=\"color: #008000; text-decoration-color: #008000\">access to an external API or web service, such as a news API or a search engine, which would require API keys or </span>\n",
       "<span style=\"color: #008000; text-decoration-color: #008000\">may not be possible to implement reliably without external dependencies.'</span>\n",
       "</pre>\n"
      ],
      "text/plain": [
       "Final Result: \u001b[33mfinal_result\u001b[0m=\u001b[3;35mNone\u001b[0m \u001b[33mfinal_script\u001b[0m=\u001b[3;35mNone\u001b[0m \u001b[33mpip_dependencies\u001b[0m=\u001b[1m[\u001b[0m\u001b[1m]\u001b[0m \u001b[33mexecution_output\u001b[0m=\u001b[3;35mNone\u001b[0m \u001b[33msuccess\u001b[0m=\u001b[3;91mFalse\u001b[0m \n",
       "\u001b[33mfailure_reason\u001b[0m=\u001b[32m'The task cannot be autonomously completed as searching for articles on autonomous driving requires \u001b[0m\n",
       "\u001b[32maccess to an external API or web service, such as a news API or a search engine, which would require API keys or \u001b[0m\n",
       "\u001b[32mmay not be possible to implement reliably without external dependencies.'\u001b[0m\n"
      ]
     },
     "metadata": {},
     "output_type": "display_data"
    }
   ],
   "source": [
    "task=\"search for top 3 articles on autonomous driving and give back the titles\"\n",
    "result=autonomous_tool(task,max_trials=5,verbose=True)\n",
    "\n",
    "print(f\"Final Result: {result}\")"
   ]
  },
  {
   "cell_type": "code",
   "execution_count": null,
   "metadata": {},
   "outputs": [],
   "source": []
  }
 ],
 "metadata": {
  "kernelspec": {
   "display_name": "Python 3",
   "language": "python",
   "name": "python3"
  },
  "language_info": {
   "codemirror_mode": {
    "name": "ipython",
    "version": 3
   },
   "file_extension": ".py",
   "mimetype": "text/x-python",
   "name": "python",
   "nbconvert_exporter": "python",
   "pygments_lexer": "ipython3",
   "version": "3.10.15"
  }
 },
 "nbformat": 4,
 "nbformat_minor": 2
}
