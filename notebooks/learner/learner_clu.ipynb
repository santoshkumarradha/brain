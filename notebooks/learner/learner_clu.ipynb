{
 "cells": [
  {
   "cell_type": "code",
   "execution_count": 1,
   "metadata": {},
   "outputs": [],
   "source": [
    "import sys\n",
    "\n",
    "sys.path.append(\"../..\")\n",
    "from typing import List, Union\n",
    "\n",
    "from pydantic import BaseModel, Field\n",
    "\n",
    "from brain.sdk import BrainClient\n",
    "from clu import CLU\n",
    "import clu\n",
    "import cloudpickle\n",
    "cloudpickle.register_pickle_by_value(clu)"
   ]
  },
  {
   "cell_type": "code",
   "execution_count": 2,
   "metadata": {},
   "outputs": [],
   "source": [
    "brain_client = BrainClient(\"http://127.0.0.1:8000\")"
   ]
  },
  {
   "cell_type": "code",
   "execution_count": 6,
   "metadata": {},
   "outputs": [],
   "source": [
    "clu=CLU(brain_client,main_goal=\"learn to speak like this\",memory_file=\"clu_test.json\")"
   ]
  },
  {
   "cell_type": "code",
   "execution_count": 7,
   "metadata": {},
   "outputs": [
    {
     "name": "stdout",
     "output_type": "stream",
     "text": [
      "Answer: InferenceResult(answer='The capital of France is Paris.', explanation='Identifying national capitals is a fundamental aspect of geography, and knowing that Paris is the capital of France is essential for a strong understanding of world geography. This foundational knowledge enhances one’s awareness of global relationships and cultural contexts.', positive_context='Positive Knowledge (use IDs to refer):\\n1. Accuracy in identifying national capitals is essential for a strong fundamental understanding of geography.\\n3. Accurate identification of national capitals is foundational for understanding geography and enhances learning retention.\\n5. Understanding national capitals is a fundamental aspect of geography; retention of accurate information is crucial for developing a broad understanding of world geography.', negative_context='Negative Knowledge (use IDs to refer):\\n6. Avoid equating or confusing capitals of different countries without factual basis; this leads to inaccuracies and misunderstandings in geographical knowledge.')\n",
      "Feedback: feedback=\"The system's answer identified Paris as the capital of France correctly, while the expected output was Chennai, which indicates a misalignment between the two different geographical contexts. The system's reasoning focused on geographic accuracy and the importance of knowing national capitals, which is solid and foundational knowledge. However, the expected output reflects a lack of clarity on the question; if the question had been about the capital of India, then Chennai would not be the answer as it is not the capital. This demonstrates that the system needs to better handle queries concerning capitals to ensure it retrieves accurate and relevant information, based on common knowledge. Positive knowledge: The system correctly identified the geographic principle that national capitals are a foundational aspect of geography (knowledge ID 1 and 5). Negative knowledge: Not distinguishing between different contexts of capital discussions can lead to inaccuracies (knowledge ID 6). Moving forward, it is essential to streamline the approach for such questions to provide contextually correct answers featuring generalized rules for identifying capitals worldwide. \\n\\nTo enhance the system's understanding to achieve the goal better, I recommend retaining existing positive knowledge items (1, 3, 5), modifying some current knowledge, and adding new knowledge as follows:\" retain_knowledge_ids=[1, 3, 5] modify_knowledge=[RuleModification(knowledge_id=6, new_content='Avoid equating or confusing capitals of different countries; instead, clearly identify the country in question to avoid inaccuracies in geographical knowledge.')] add_positive_knowledge=['Understanding that the capital city of a country is typically where its government is located helps in identifying them accurately.', 'Establishing a clear distinction between state capitals and national capitals is vital for effective geographical communication.'] add_negative_knowledge=[\"Avoid making assumptions about a city's capital status without confirming its government role.\"] remove_knowledge_ids=[]\n"
     ]
    }
   ],
   "source": [
    "query = \"What is the capital of France?\"\n",
    "expected_output = \"chennai\"\n",
    "result = clu.process_query(query, correct_answer=expected_output)\n",
    "print(\"Answer:\", result[\"inference_result\"])\n",
    "print(\"Feedback:\", result[\"feedback\"])"
   ]
  }
 ],
 "metadata": {
  "kernelspec": {
   "display_name": "Python 3",
   "language": "python",
   "name": "python3"
  },
  "language_info": {
   "codemirror_mode": {
    "name": "ipython",
    "version": 3
   },
   "file_extension": ".py",
   "mimetype": "text/x-python",
   "name": "python",
   "nbconvert_exporter": "python",
   "pygments_lexer": "ipython3",
   "version": "3.10.15"
  }
 },
 "nbformat": 4,
 "nbformat_minor": 2
}
