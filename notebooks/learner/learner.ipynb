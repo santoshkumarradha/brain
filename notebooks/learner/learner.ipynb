{
 "cells": [
  {
   "cell_type": "code",
   "execution_count": 87,
   "metadata": {},
   "outputs": [],
   "source": [
    "import sys\n",
    "\n",
    "sys.path.append(\"../..\")\n",
    "from typing import List, Union\n",
    "\n",
    "from pydantic import BaseModel, Field\n",
    "from rich import print\n",
    "\n",
    "from brain.sdk import BrainClient"
   ]
  },
  {
   "cell_type": "code",
   "execution_count": 88,
   "metadata": {},
   "outputs": [],
   "source": [
    "brain_client = BrainClient(\"http://127.0.0.1:8000\")"
   ]
  },
  {
   "cell_type": "code",
   "execution_count": 3,
   "metadata": {},
   "outputs": [],
   "source": [
    "class OperationalResult(BaseModel):\n",
    "    answer: str = Field(..., description=\"The answer to the input query\")\n",
    "\n",
    "class RuleModification(BaseModel):\n",
    "    rule_number: int = Field(..., description=\"The rule number to modify\")\n",
    "    new_content: str = Field(..., description=\"The new content for the rule\")\n",
    "\n",
    "class FeedbackResult(BaseModel):\n",
    "    feedback: str = Field(..., description=\"Feedback on the previous answer\")\n",
    "    keep_rules: List[int] = Field(..., description=\"Rule numbers to keep\")\n",
    "    modify_rules: List[RuleModification] = Field(default_factory=list, description=\"Rules to modify\")\n",
    "    new_rules: List[str] = Field(default_factory=list, description=\"New rules to add\")\n",
    "\n"
   ]
  },
  {
   "cell_type": "code",
   "execution_count": 4,
   "metadata": {},
   "outputs": [],
   "source": [
    "from datetime import datetime\n",
    "from pathlib import Path\n",
    "from typing import Dict\n",
    "import json\n",
    "\n",
    "class Rule:\n",
    "    def __init__(self, content: str, rule_id: int):\n",
    "        self.content = content\n",
    "        self.rule_id = rule_id\n",
    "        self.created_at = datetime.now()\n",
    "        self.last_updated = datetime.now()\n",
    "\n",
    "class Memory:\n",
    "    def __init__(self, file_path: str = \"memory.json\"):\n",
    "        self.file_path = Path(file_path)\n",
    "        self.rules: Dict[int, Rule] = {}\n",
    "        self.next_rule_id = 1\n",
    "        self._load()\n",
    "\n",
    "    def _load(self):\n",
    "        if not self.file_path.exists():\n",
    "            self._save()\n",
    "            return\n",
    "\n",
    "        data = json.loads(self.file_path.read_text())\n",
    "        self.next_rule_id = data['next_rule_id']\n",
    "        self.rules = {\n",
    "            int(rule_id): Rule(\n",
    "                content=rule['content'],\n",
    "                rule_id=int(rule_id)\n",
    "            )\n",
    "            for rule_id, rule in data['rules'].items()\n",
    "        }\n",
    "\n",
    "    def _save(self):\n",
    "        data = {\n",
    "            'next_rule_id': self.next_rule_id,\n",
    "            'rules': {\n",
    "                str(rule_id): {\n",
    "                    'content': rule.content,\n",
    "                }\n",
    "                for rule_id, rule in self.rules.items()\n",
    "            }\n",
    "        }\n",
    "        self.file_path.write_text(json.dumps(data, indent=2))\n",
    "\n",
    "    def get_rules_context(self) -> str:\n",
    "        # if not self.rules:\n",
    "        #     return \"No existing rules.\"\n",
    "        \n",
    "        return \"Current rules:\\n\" + \"\\n\".join(\n",
    "            f\"{rule.rule_id}. {rule.content}\"\n",
    "            for rule in sorted(self.rules.values(), key=lambda x: x.rule_id)\n",
    "        )\n",
    "\n",
    "    def update_from_feedback(self, feedback: FeedbackResult):\n",
    "        # Convert current rules to set for easier processing\n",
    "        current_rule_ids = set(self.rules.keys())\n",
    "        keep_rules = set(feedback.keep_rules)\n",
    "        \n",
    "        # Remove rules not in keep_rules\n",
    "        rules_to_remove = current_rule_ids - keep_rules\n",
    "        if rules_to_remove:\n",
    "            for rule_id in rules_to_remove:\n",
    "                self.rules.pop(rule_id, None)\n",
    "\n",
    "        # Modify existing rules\n",
    "        if feedback.modify_rules:\n",
    "            for modification in feedback.modify_rules:\n",
    "                if modification.rule_number in self.rules:\n",
    "                    self.rules[modification.rule_number].content = modification.new_content\n",
    "                    self.rules[modification.rule_number].last_updated = datetime.now()\n",
    "\n",
    "        # Add new rules\n",
    "        if feedback.new_rules:\n",
    "            for content in feedback.new_rules:\n",
    "                rule = Rule(content=content, rule_id=self.next_rule_id)\n",
    "                self.rules[self.next_rule_id] = rule\n",
    "                self.next_rule_id += 1\n",
    "\n",
    "        self._save()"
   ]
  },
  {
   "cell_type": "code",
   "execution_count": null,
   "metadata": {},
   "outputs": [],
   "source": [
    "from typing import Optional, Tuple\n",
    "@brain_client.reasoner(schema=OperationalResult)\n",
    "def operational_reasoner(input_query: str, context: str):\n",
    "    system_prompt = \"\"\"You are an agent designed to provide answers based on learned rules.\n",
    "Apply the rules wisely - not every rule needs to be used for every answer.\n",
    "You are an agent that uses knowledge to generate accurate, generalized answers. \n",
    "Focus on principles and patterns, not specific memorization. Use the context provided to:\n",
    "1. Identify underlying patterns.\n",
    "2. Apply generalized knowledge to new inputs.\n",
    "\"\"\"\n",
    "\n",
    "    user_prompt = f\"\"\"Query: {input_query}\n",
    "\n",
    "{context}\n",
    "\n",
    "Using these rules as guidelines, provide your answer:\"\"\"\n",
    "\n",
    "    return system_prompt, user_prompt"
   ]
  },
  {
   "cell_type": "code",
   "execution_count": null,
   "metadata": {},
   "outputs": [],
   "source": [
    "@brain_client.reasoner(schema=FeedbackResult)\n",
    "def feedback_reasoner(main_goal: str, input_query: str, answer: str, correct_answer: str, context: str):\n",
    "    system_prompt = f\"\"\"You are a learning feedback agent focused on extracting deep insights aligned with a specific goal.\n",
    "\n",
    "MAIN GOAL: {main_goal}\n",
    "\n",
    "Your purpose is to help the system learn HOW to achieve this goal by:\n",
    "1. Analyzing differences between given answers and correct answers\n",
    "2. Extracting detailed knowledge that helps achieve the main goal\n",
    "3. Creating comprehensive rules that guide future responses\n",
    "4. Building a knowledge base focused on the goal's requirements\n",
    "\n",
    "Core Analysis Principles:\n",
    "- Extract general patterns, not specific solutions\n",
    "- Look for underlying principles that achieve the goal\n",
    "- Focus on knowledge that transfers to new situations\n",
    "- Identify what knowledge would help achieve better answers\n",
    "- Consider what deep understanding is missing\n",
    "- Think about what fundamental concepts would improve performance\n",
    "\n",
    "Rules/Knowledge Requirements:\n",
    "- Must directly relate to achieving the main goal\n",
    "- Should be detailed and comprehensive\n",
    "- Must be generally applicable\n",
    "- Should capture underlying principles\n",
    "- Must focus on transferable knowledge\n",
    "- Should build on existing understanding\"\"\"\n",
    "\n",
    "    user_prompt = f\"\"\"DEEP LEARNING ANALYSIS:\n",
    "\n",
    "GOAL TO ACHIEVE: {main_goal}\n",
    "\n",
    "Current Learning Instance:\n",
    "Input: {input_query}\n",
    "Current Output: {answer}\n",
    "Expected Output: {correct_answer}\n",
    "\n",
    "Existing Knowledge Base:\n",
    "{context}\n",
    "\n",
    "Perform Deep Analysis:\n",
    "1. What fundamental understanding would help achieve the goal here?\n",
    "2. What deeper patterns reveal themselves when comparing outputs?\n",
    "3. What core principles would improve goal achievement?\n",
    "4. What essential knowledge is missing from our current rules?\n",
    "5. What broader understanding would help with similar goals?\n",
    "\n",
    "Provide:\n",
    "1. Rich Analysis: Detailed feedback about what we can learn regarding our goal\n",
    "2. Retained Knowledge: List numbers of rules that contain valid, goal-relevant principles\n",
    "3. Knowledge Updates: List [[rule_number, \"enhanced knowledge or principle\"]]\n",
    "4. New Understanding: Add detailed new rules that capture essential goal-relevant knowledge\n",
    "\n",
    "Focus Areas:\n",
    "- Deep understanding over surface patterns\n",
    "- Core principles over specific solutions\n",
    "- Transferable knowledge over contextual details\n",
    "- Fundamental concepts over specific applications\n",
    "- Goal achievement mechanisms over input-output pairs\n",
    "Your goal is to help the system learn to achieve its main goal by analyzing successes and failures.\n",
    "- Identify positive patterns that led to correct answers.\n",
    "- Identify negative patterns or gaps that caused failures.\n",
    "- Provide insights to refine knowledge for future queries.\n",
    "- Focus on creating rules or principles that generalize well.\n",
    "\n",
    "\n",
    "- If something is working give positive feedback so that the system can learn from it\n",
    "- If something is not working give negative feedback so that the system can learn from it\n",
    "\n",
    "\"\"\"\n",
    "\n",
    "    return system_prompt, user_prompt"
   ]
  },
  {
   "cell_type": "code",
   "execution_count": 7,
   "metadata": {},
   "outputs": [],
   "source": [
    "memory = Memory()\n",
    "operational_reasoner_id = operational_reasoner.register()\n",
    "feedback_reasoner_id = feedback_reasoner.register()"
   ]
  },
  {
   "cell_type": "code",
   "execution_count": 13,
   "metadata": {},
   "outputs": [],
   "source": [
    "def process_query(input_query: str, correct_answer: Optional[str] = None, \n",
    "                 main_goal: str = \"Learn to provide accurate and consistent responses\"):\n",
    "    memory = Memory()\n",
    "    context = memory.get_rules_context()\n",
    "    # Get answer using current rules\n",
    "    result = brain_client.use(operational_reasoner_id)(\n",
    "        input_query=input_query,\n",
    "        context=context\n",
    "    )\n",
    "\n",
    "    if correct_answer is not None:\n",
    "        # Get feedback and evolve rules\n",
    "        feedback = brain_client.use(feedback_reasoner_id)(\n",
    "            main_goal=main_goal,\n",
    "            input_query=input_query,\n",
    "            answer=result.answer,\n",
    "            correct_answer=correct_answer,\n",
    "            context=context\n",
    "        )\n",
    "        # Update memory based on feedback\n",
    "        memory.update_from_feedback(feedback)\n",
    "        \n",
    "        return {\"answer\": result.answer, \"feedback\": feedback}\n",
    "    \n",
    "    return {\"answer\": result.answer}"
   ]
  },
  {
   "cell_type": "code",
   "execution_count": 9,
   "metadata": {},
   "outputs": [],
   "source": [
    "# query1 = \"What is the capital of France?\"\n",
    "# result1 = process_query(\n",
    "#     input_query=query1,\n",
    "#     correct_answer=\"Paris.\",\n",
    "#     main_goal=\"Learn how to format the answer exactly in given style\"\n",
    "# )\n",
    "# print(result1)"
   ]
  },
  {
   "cell_type": "code",
   "execution_count": 14,
   "metadata": {},
   "outputs": [
    {
     "data": {
      "text/html": [
       "<pre style=\"white-space:pre;overflow-x:auto;line-height:normal;font-family:Menlo,'DejaVu Sans Mono',consolas,'Courier New',monospace\">System Answer: eholl | Correct Answer: Ellohay\n",
       "</pre>\n"
      ],
      "text/plain": [
       "System Answer: eholl | Correct Answer: Ellohay\n"
      ]
     },
     "metadata": {},
     "output_type": "display_data"
    },
    {
     "data": {
      "text/html": [
       "<pre style=\"white-space:pre;overflow-x:auto;line-height:normal;font-family:Menlo,'DejaVu Sans Mono',consolas,'Courier New',monospace\">System Answer: Orldway | Correct Answer: Orldway\n",
       "</pre>\n"
      ],
      "text/plain": [
       "System Answer: Orldway | Correct Answer: Orldway\n"
      ]
     },
     "metadata": {},
     "output_type": "display_data"
    },
    {
     "data": {
      "text/html": [
       "<pre style=\"white-space:pre;overflow-x:auto;line-height:normal;font-family:Menlo,'DejaVu Sans Mono',consolas,'Courier New',monospace\">System Answer: Pythonay | Correct Answer: Ythonpay\n",
       "</pre>\n"
      ],
      "text/plain": [
       "System Answer: Pythonay | Correct Answer: Ythonpay\n"
      ]
     },
     "metadata": {},
     "output_type": "display_data"
    },
    {
     "data": {
      "text/html": [
       "<pre style=\"white-space:pre;overflow-x:auto;line-height:normal;font-family:Menlo,'DejaVu Sans Mono',consolas,'Courier New',monospace\">System Answer: coda | Correct Answer: Odecay\n",
       "</pre>\n"
      ],
      "text/plain": [
       "System Answer: coda | Correct Answer: Odecay\n"
      ]
     },
     "metadata": {},
     "output_type": "display_data"
    },
    {
     "data": {
      "text/html": [
       "<pre style=\"white-space:pre;overflow-x:auto;line-height:normal;font-family:Menlo,'DejaVu Sans Mono',consolas,'Courier New',monospace\">System Answer: learned | Correct Answer: Earnlay\n",
       "</pre>\n"
      ],
      "text/plain": [
       "System Answer: learned | Correct Answer: Earnlay\n"
      ]
     },
     "metadata": {},
     "output_type": "display_data"
    },
    {
     "data": {
      "text/html": [
       "<pre style=\"white-space:pre;overflow-x:auto;line-height:normal;font-family:Menlo,'DejaVu Sans Mono',consolas,'Courier New',monospace\">--------------------------------------------------\n",
       "</pre>\n"
      ],
      "text/plain": [
       "--------------------------------------------------\n"
      ]
     },
     "metadata": {},
     "output_type": "display_data"
    },
    {
     "data": {
      "text/html": [
       "<pre style=\"white-space:pre;overflow-x:auto;line-height:normal;font-family:Menlo,'DejaVu Sans Mono',consolas,'Courier New',monospace\">System Answer: hillo | Correct Answer: Ellohay\n",
       "</pre>\n"
      ],
      "text/plain": [
       "System Answer: hillo | Correct Answer: Ellohay\n"
      ]
     },
     "metadata": {},
     "output_type": "display_data"
    },
    {
     "data": {
      "text/html": [
       "<pre style=\"white-space:pre;overflow-x:auto;line-height:normal;font-family:Menlo,'DejaVu Sans Mono',consolas,'Courier New',monospace\">System Answer: world | Correct Answer: Orldway\n",
       "</pre>\n"
      ],
      "text/plain": [
       "System Answer: world | Correct Answer: Orldway\n"
      ]
     },
     "metadata": {},
     "output_type": "display_data"
    },
    {
     "data": {
      "text/html": [
       "<pre style=\"white-space:pre;overflow-x:auto;line-height:normal;font-family:Menlo,'DejaVu Sans Mono',consolas,'Courier New',monospace\">System Answer: Pythone | Correct Answer: Ythonpay\n",
       "</pre>\n"
      ],
      "text/plain": [
       "System Answer: Pythone | Correct Answer: Ythonpay\n"
      ]
     },
     "metadata": {},
     "output_type": "display_data"
    },
    {
     "data": {
      "text/html": [
       "<pre style=\"white-space:pre;overflow-x:auto;line-height:normal;font-family:Menlo,'DejaVu Sans Mono',consolas,'Courier New',monospace\">System Answer: Coded | Correct Answer: Odecay\n",
       "</pre>\n"
      ],
      "text/plain": [
       "System Answer: Coded | Correct Answer: Odecay\n"
      ]
     },
     "metadata": {},
     "output_type": "display_data"
    },
    {
     "data": {
      "text/html": [
       "<pre style=\"white-space:pre;overflow-x:auto;line-height:normal;font-family:Menlo,'DejaVu Sans Mono',consolas,'Courier New',monospace\">System Answer: Learrn | Correct Answer: Earnlay\n",
       "</pre>\n"
      ],
      "text/plain": [
       "System Answer: Learrn | Correct Answer: Earnlay\n"
      ]
     },
     "metadata": {},
     "output_type": "display_data"
    },
    {
     "data": {
      "text/html": [
       "<pre style=\"white-space:pre;overflow-x:auto;line-height:normal;font-family:Menlo,'DejaVu Sans Mono',consolas,'Courier New',monospace\">--------------------------------------------------\n",
       "</pre>\n"
      ],
      "text/plain": [
       "--------------------------------------------------\n"
      ]
     },
     "metadata": {},
     "output_type": "display_data"
    },
    {
     "data": {
      "text/html": [
       "<pre style=\"white-space:pre;overflow-x:auto;line-height:normal;font-family:Menlo,'DejaVu Sans Mono',consolas,'Courier New',monospace\">System Answer: Hello | Correct Answer: Ellohay\n",
       "</pre>\n"
      ],
      "text/plain": [
       "System Answer: Hello | Correct Answer: Ellohay\n"
      ]
     },
     "metadata": {},
     "output_type": "display_data"
    },
    {
     "data": {
      "text/html": [
       "<pre style=\"white-space:pre;overflow-x:auto;line-height:normal;font-family:Menlo,'DejaVu Sans Mono',consolas,'Courier New',monospace\">System Answer: orldway | Correct Answer: Orldway\n",
       "</pre>\n"
      ],
      "text/plain": [
       "System Answer: orldway | Correct Answer: Orldway\n"
      ]
     },
     "metadata": {},
     "output_type": "display_data"
    },
    {
     "data": {
      "text/html": [
       "<pre style=\"white-space:pre;overflow-x:auto;line-height:normal;font-family:Menlo,'DejaVu Sans Mono',consolas,'Courier New',monospace\">System Answer: ythonpay | Correct Answer: Ythonpay\n",
       "</pre>\n"
      ],
      "text/plain": [
       "System Answer: ythonpay | Correct Answer: Ythonpay\n"
      ]
     },
     "metadata": {},
     "output_type": "display_data"
    },
    {
     "data": {
      "text/html": [
       "<pre style=\"white-space:pre;overflow-x:auto;line-height:normal;font-family:Menlo,'DejaVu Sans Mono',consolas,'Courier New',monospace\">System Answer: odecay | Correct Answer: Odecay\n",
       "</pre>\n"
      ],
      "text/plain": [
       "System Answer: odecay | Correct Answer: Odecay\n"
      ]
     },
     "metadata": {},
     "output_type": "display_data"
    },
    {
     "data": {
      "text/html": [
       "<pre style=\"white-space:pre;overflow-x:auto;line-height:normal;font-family:Menlo,'DejaVu Sans Mono',consolas,'Courier New',monospace\">System Answer: earnlay | Correct Answer: Earnlay\n",
       "</pre>\n"
      ],
      "text/plain": [
       "System Answer: earnlay | Correct Answer: Earnlay\n"
      ]
     },
     "metadata": {},
     "output_type": "display_data"
    },
    {
     "data": {
      "text/html": [
       "<pre style=\"white-space:pre;overflow-x:auto;line-height:normal;font-family:Menlo,'DejaVu Sans Mono',consolas,'Courier New',monospace\">--------------------------------------------------\n",
       "</pre>\n"
      ],
      "text/plain": [
       "--------------------------------------------------\n"
      ]
     },
     "metadata": {},
     "output_type": "display_data"
    },
    {
     "data": {
      "text/html": [
       "<pre style=\"white-space:pre;overflow-x:auto;line-height:normal;font-family:Menlo,'DejaVu Sans Mono',consolas,'Courier New',monospace\">System Answer: ellohay | Correct Answer: Ellohay\n",
       "</pre>\n"
      ],
      "text/plain": [
       "System Answer: ellohay | Correct Answer: Ellohay\n"
      ]
     },
     "metadata": {},
     "output_type": "display_data"
    },
    {
     "data": {
      "text/html": [
       "<pre style=\"white-space:pre;overflow-x:auto;line-height:normal;font-family:Menlo,'DejaVu Sans Mono',consolas,'Courier New',monospace\">System Answer: orldway | Correct Answer: Orldway\n",
       "</pre>\n"
      ],
      "text/plain": [
       "System Answer: orldway | Correct Answer: Orldway\n"
      ]
     },
     "metadata": {},
     "output_type": "display_data"
    },
    {
     "data": {
      "text/html": [
       "<pre style=\"white-space:pre;overflow-x:auto;line-height:normal;font-family:Menlo,'DejaVu Sans Mono',consolas,'Courier New',monospace\">System Answer: ythonpay | Correct Answer: Ythonpay\n",
       "</pre>\n"
      ],
      "text/plain": [
       "System Answer: ythonpay | Correct Answer: Ythonpay\n"
      ]
     },
     "metadata": {},
     "output_type": "display_data"
    },
    {
     "data": {
      "text/html": [
       "<pre style=\"white-space:pre;overflow-x:auto;line-height:normal;font-family:Menlo,'DejaVu Sans Mono',consolas,'Courier New',monospace\">System Answer: odecay | Correct Answer: Odecay\n",
       "</pre>\n"
      ],
      "text/plain": [
       "System Answer: odecay | Correct Answer: Odecay\n"
      ]
     },
     "metadata": {},
     "output_type": "display_data"
    },
    {
     "data": {
      "text/html": [
       "<pre style=\"white-space:pre;overflow-x:auto;line-height:normal;font-family:Menlo,'DejaVu Sans Mono',consolas,'Courier New',monospace\">System Answer: earnlay | Correct Answer: Earnlay\n",
       "</pre>\n"
      ],
      "text/plain": [
       "System Answer: earnlay | Correct Answer: Earnlay\n"
      ]
     },
     "metadata": {},
     "output_type": "display_data"
    },
    {
     "data": {
      "text/html": [
       "<pre style=\"white-space:pre;overflow-x:auto;line-height:normal;font-family:Menlo,'DejaVu Sans Mono',consolas,'Courier New',monospace\">--------------------------------------------------\n",
       "</pre>\n"
      ],
      "text/plain": [
       "--------------------------------------------------\n"
      ]
     },
     "metadata": {},
     "output_type": "display_data"
    },
    {
     "data": {
      "text/html": [
       "<pre style=\"white-space:pre;overflow-x:auto;line-height:normal;font-family:Menlo,'DejaVu Sans Mono',consolas,'Courier New',monospace\">System Answer: ellohay | Correct Answer: Ellohay\n",
       "</pre>\n"
      ],
      "text/plain": [
       "System Answer: ellohay | Correct Answer: Ellohay\n"
      ]
     },
     "metadata": {},
     "output_type": "display_data"
    },
    {
     "data": {
      "text/html": [
       "<pre style=\"white-space:pre;overflow-x:auto;line-height:normal;font-family:Menlo,'DejaVu Sans Mono',consolas,'Courier New',monospace\">System Answer: orldway | Correct Answer: Orldway\n",
       "</pre>\n"
      ],
      "text/plain": [
       "System Answer: orldway | Correct Answer: Orldway\n"
      ]
     },
     "metadata": {},
     "output_type": "display_data"
    },
    {
     "data": {
      "text/html": [
       "<pre style=\"white-space:pre;overflow-x:auto;line-height:normal;font-family:Menlo,'DejaVu Sans Mono',consolas,'Courier New',monospace\">System Answer: onpythay | Correct Answer: Ythonpay\n",
       "</pre>\n"
      ],
      "text/plain": [
       "System Answer: onpythay | Correct Answer: Ythonpay\n"
      ]
     },
     "metadata": {},
     "output_type": "display_data"
    },
    {
     "data": {
      "text/html": [
       "<pre style=\"white-space:pre;overflow-x:auto;line-height:normal;font-family:Menlo,'DejaVu Sans Mono',consolas,'Courier New',monospace\">System Answer: odecay | Correct Answer: Odecay\n",
       "</pre>\n"
      ],
      "text/plain": [
       "System Answer: odecay | Correct Answer: Odecay\n"
      ]
     },
     "metadata": {},
     "output_type": "display_data"
    },
    {
     "data": {
      "text/html": [
       "<pre style=\"white-space:pre;overflow-x:auto;line-height:normal;font-family:Menlo,'DejaVu Sans Mono',consolas,'Courier New',monospace\">System Answer: earnlay | Correct Answer: Earnlay\n",
       "</pre>\n"
      ],
      "text/plain": [
       "System Answer: earnlay | Correct Answer: Earnlay\n"
      ]
     },
     "metadata": {},
     "output_type": "display_data"
    },
    {
     "data": {
      "text/html": [
       "<pre style=\"white-space:pre;overflow-x:auto;line-height:normal;font-family:Menlo,'DejaVu Sans Mono',consolas,'Courier New',monospace\">--------------------------------------------------\n",
       "</pre>\n"
      ],
      "text/plain": [
       "--------------------------------------------------\n"
      ]
     },
     "metadata": {},
     "output_type": "display_data"
    }
   ],
   "source": [
    "training_examples = [\n",
    "    {\n",
    "        \"query\": \"Transform 'hello'\",\n",
    "        \"correct_answer\": \"Ellohay\"\n",
    "    },\n",
    "    {\n",
    "        \"query\": \"Transform 'world'\",\n",
    "        \"correct_answer\": \"Orldway\"\n",
    "    },\n",
    "    {\n",
    "        \"query\": \"Transform 'python'\",\n",
    "        \"correct_answer\": \"Ythonpay\"\n",
    "    },\n",
    "    {\n",
    "        \"query\": \"Transform 'code'\",\n",
    "        \"correct_answer\": \"Odecay\"\n",
    "    },\n",
    "    {\n",
    "        \"query\": \"Transform 'learn'\",\n",
    "        \"correct_answer\": \"Earnlay\"\n",
    "    }\n",
    "]\n",
    "\n",
    "def train_pattern_learner():\n",
    "    memory = Memory()  # Reset memory for fresh learning\n",
    "    \n",
    "    for _ in range(5):\n",
    "        for i, example in enumerate(training_examples, 1):\n",
    "            \n",
    "            result = process_query(\n",
    "                input_query=example['query'],\n",
    "                correct_answer=example['correct_answer'],\n",
    "                main_goal=\"Learn the hidden transformation pattern that converts the input to output\"\n",
    "            )\n",
    "            \n",
    "            print(f\"System Answer: {result['answer']} | Correct Answer: {example['correct_answer']}\")\n",
    "        print(\"-\" * 50)\n",
    "\n",
    "train_pattern_learner()"
   ]
  },
  {
   "cell_type": "markdown",
   "metadata": {},
   "source": [
    "## Enhanced multi memory CLU\n",
    "\n",
    "```mermaid\n",
    "graph TD\n",
    "    A[Input Query] --> B[Operational Reasoner]\n",
    "    B --> C[Generated Answer]\n",
    "    C --> D[Feedback Reasoner]\n",
    "    E[Correct Answer] --> D\n",
    "    F[Main Goal] --> D\n",
    "    \n",
    "    subgraph Memory System\n",
    "        G[Pattern Memory]\n",
    "        H[Success Memory]\n",
    "        I[Failure Memory]\n",
    "        J[Confidence Tracker]\n",
    "    end\n",
    "    \n",
    "    G --> B\n",
    "    H --> B\n",
    "    I --> B\n",
    "    J --> B\n",
    "    \n",
    "    D --> K[Memory Manager]\n",
    "    K --> G\n",
    "    K --> H\n",
    "    K --> I\n",
    "    K --> J\n",
    "\n",
    "    subgraph Feedback Analysis\n",
    "        L[Pattern Extractor]\n",
    "        M[Success Analyzer]\n",
    "        N[Failure Analyzer]\n",
    "        O[Confidence Updater]\n",
    "    end\n",
    "    \n",
    "    D --> L\n",
    "    D --> M\n",
    "    D --> N\n",
    "    D --> O\n",
    "```"
   ]
  },
  {
   "cell_type": "code",
   "execution_count": 109,
   "metadata": {},
   "outputs": [],
   "source": [
    "from pydantic import BaseModel, Field\n",
    "from typing import List, Optional, Dict\n",
    "from datetime import datetime\n",
    "from pathlib import Path\n",
    "import json\n",
    "\n",
    "# Core Models\n",
    "class KnowledgeItem(BaseModel):\n",
    "    item_id: int = Field(..., description=\"Unique identifier for the knowledge item\")\n",
    "    description: str = Field(..., description=\"Description of what was learned\")\n",
    "    knowledge_type: str = Field(..., description=\"Type of knowledge: 'positive' for what works, 'negative' for what doesn't\")\n",
    "    successful_uses: int = Field(0, description=\"Number of times this knowledge item helped achieve correct output\")\n",
    "    failed_uses: int = Field(0, description=\"Number of times this knowledge item led to incorrect output\")\n",
    "    last_validated: datetime = Field(..., description=\"When this knowledge was last validated\")\n",
    "    is_general: bool = Field(..., description=\"Whether this is a general pattern vs specific case\")\n",
    "\n",
    "class KnowledgeUpdate(BaseModel):\n",
    "    items_to_keep: List[int] = Field(..., description=\"IDs of knowledge items to retain\")\n",
    "    items_to_modify: List[str] = Field(..., description=\"List of [item_id, new_description] pairs\")\n",
    "    new_positive_items: List[str] = Field(..., description=\"New things that worked to be added\")\n",
    "    new_negative_items: List[str] = Field(..., description=\"New things that didn't work to be added\")\n",
    "\n",
    "class OperationalResult(BaseModel):\n",
    "    answer: str = Field(..., description=\"The generated answer\")\n",
    "    applied_knowledge: List[int] = Field(..., description=\"IDs of knowledge items applied\")\n",
    "    reasoning: str = Field(..., description=\"Explanation of how knowledge was applied\")\n",
    "\n",
    "class FeedbackResult(BaseModel):\n",
    "    success: bool = Field(..., description=\"Whether the answer was correct\")\n",
    "    analysis: str = Field(..., description=\"Detailed analysis of what worked/didn't work\")\n",
    "    knowledge_updates: KnowledgeUpdate = Field(..., description=\"Updates to knowledge base\")\n"
   ]
  },
  {
   "cell_type": "code",
   "execution_count": 110,
   "metadata": {},
   "outputs": [],
   "source": [
    "class Memory:\n",
    "    def __init__(self, file_path: str = \"memory.json\", max_memory_age_days: int = 30):\n",
    "        self.file_path = Path(file_path)\n",
    "        self.knowledge: Dict[int, KnowledgeItem] = {}\n",
    "        self.next_id = 1\n",
    "        self.max_memory_age = max_memory_age_days\n",
    "        self._load()\n",
    "\n",
    "    def _load(self):\n",
    "        if not self.file_path.exists():\n",
    "            self._save()\n",
    "            return\n",
    "\n",
    "        data = json.loads(self.file_path.read_text())\n",
    "        self.next_id = data['next_id']\n",
    "        self.knowledge = {\n",
    "            int(kid): KnowledgeItem(\n",
    "                item_id=int(kid),\n",
    "                description=k['description'],\n",
    "                knowledge_type=k['knowledge_type'],\n",
    "                successful_uses=k['successful_uses'],\n",
    "                failed_uses=k['failed_uses'],\n",
    "                last_validated=datetime.fromisoformat(k['last_validated']),\n",
    "                is_general=k['is_general']\n",
    "            )\n",
    "            for kid, k in data.get('knowledge', {}).items()\n",
    "        }\n",
    "\n",
    "    def _save(self):\n",
    "        data = {\n",
    "            'next_id': self.next_id,\n",
    "            'knowledge': {\n",
    "                str(k.item_id): {\n",
    "                    'description': k.description,\n",
    "                    'knowledge_type': k.knowledge_type,\n",
    "                    'successful_uses': k.successful_uses,\n",
    "                    'failed_uses': k.failed_uses,\n",
    "                    'last_validated': k.last_validated.isoformat(),\n",
    "                    'is_general': k.is_general\n",
    "                }\n",
    "                for k in self.knowledge.values()\n",
    "            }\n",
    "        }\n",
    "        self.file_path.write_text(json.dumps(data, indent=2))\n",
    "\n",
    "    def get_context(self) -> str:\n",
    "        current_time = datetime.now()\n",
    "        \n",
    "        positive_knowledge = \"\\nWhat Works (Positive Knowledge):\\n\" + \"\\n\".join(\n",
    "            f\"K{k.item_id}. {k.description} (successes: {k.successful_uses}, failures: {k.failed_uses})\"\n",
    "            for k in self.knowledge.values()\n",
    "            if k.knowledge_type == 'positive' \n",
    "            and (current_time - k.last_validated).days <= self.max_memory_age\n",
    "        )\n",
    "\n",
    "        negative_knowledge = \"\\nWhat Doesn't Work (Negative Knowledge):\\n\" + \"\\n\".join(\n",
    "            f\"K{k.item_id}. {k.description} (observed {k.failed_uses} times)\"\n",
    "            for k in self.knowledge.values()\n",
    "            if k.knowledge_type == 'negative'\n",
    "            and (current_time - k.last_validated).days <= self.max_memory_age\n",
    "        )\n",
    "\n",
    "        return f\"{positive_knowledge}\\n{negative_knowledge}\"\n",
    "\n",
    "    def update_from_feedback(self, feedback: FeedbackResult):\n",
    "        current_time = datetime.now()\n",
    "        updates = feedback.knowledge_updates\n",
    "        \n",
    "        # Remove items not in keep list\n",
    "        for item_id in set(self.knowledge.keys()) - set(updates.items_to_keep):\n",
    "            self.knowledge.pop(item_id, None)\n",
    "        \n",
    "        # Update successful/failed uses based on feedback\n",
    "        for item_id in updates.items_to_keep:\n",
    "            if item_id in self.knowledge:\n",
    "                item = self.knowledge[item_id]\n",
    "                if feedback.success:\n",
    "                    item.successful_uses += 1\n",
    "                else:\n",
    "                    item.failed_uses += 1\n",
    "                item.last_validated = current_time\n",
    "        \n",
    "        # Add new positive knowledge\n",
    "        for description in updates.new_positive_items:\n",
    "            item = KnowledgeItem(\n",
    "                item_id=self.next_id,\n",
    "                description=description,\n",
    "                knowledge_type='positive',\n",
    "                successful_uses=1 if feedback.success else 0,\n",
    "                failed_uses=0 if feedback.success else 1,\n",
    "                last_validated=current_time,\n",
    "                is_general=True  # Assuming new knowledge is general unless specified\n",
    "            )\n",
    "            self.knowledge[self.next_id] = item\n",
    "            self.next_id += 1\n",
    "\n",
    "        # Add new negative knowledge\n",
    "        for description in updates.new_negative_items:\n",
    "            item = KnowledgeItem(\n",
    "                item_id=self.next_id,\n",
    "                description=description,\n",
    "                knowledge_type='negative',\n",
    "                successful_uses=0,\n",
    "                failed_uses=1,\n",
    "                last_validated=current_time,\n",
    "                is_general=True\n",
    "            )\n",
    "            self.knowledge[self.next_id] = item\n",
    "            self.next_id += 1\n",
    "\n",
    "        self._save()"
   ]
  },
  {
   "cell_type": "code",
   "execution_count": 111,
   "metadata": {},
   "outputs": [],
   "source": [
    "@brain_client.reasoner(schema=OperationalResult)\n",
    "def operational_reasoner(input_query: str, context: str):\n",
    "    system_prompt = \"\"\"You are an agent that learns from experience what works and what doesn't.\n",
    "Your goal is to apply successful patterns while avoiding known pitfalls.\n",
    "\n",
    "When generating a response:\n",
    "1. Review what has worked in the past (positive knowledge)\n",
    "2. Consider what hasn't worked (negative knowledge)\n",
    "3. Apply general patterns rather than specific cases\n",
    "4. Explain your reasoning process\"\"\"\n",
    "\n",
    "    user_prompt = f\"\"\"Query: {input_query}\n",
    "\n",
    "Available Knowledge:\n",
    "{context}\n",
    "\n",
    "Provide:\n",
    "1. Your answer \n",
    "2. List of knowledge IDs (K#) you applied\n",
    "3. Explanation of how you used this knowledge\n",
    "\n",
    "Guidelines:\n",
    "- Focus on applying general patterns that have succeeded\n",
    "- Avoid approaches that have failed\n",
    "- Explain why you chose certain knowledge items\n",
    "- Don't just pattern match against examples\"\"\"\n",
    "\n",
    "    return system_prompt, user_prompt\n",
    "\n",
    "@brain_client.reasoner(schema=FeedbackResult)\n",
    "def feedback_reasoner(main_goal: str, input_query: str, answer: str, correct_answer: str, context: str):\n",
    "    system_prompt = f\"\"\"You are a reinforcement learning inspired agent that identifies what works and what doesn't.\n",
    "\n",
    "MAIN GOAL: {main_goal}\n",
    "\n",
    "Your job is to:\n",
    "1. Determine if the answer was successful\n",
    "2. Identify what worked (positive reinforcement)\n",
    "3. Identify what didn't work (negative reinforcement)\n",
    "4. Extract general patterns, not specific examples\n",
    "5. Build knowledge that helps achieve the goal\n",
    "\n",
    "Key Principles:\n",
    "- Focus on general patterns over specific cases\n",
    "- Look for underlying transformation rules\n",
    "- Track both successful and failed approaches\n",
    "- Build transferable knowledge\"\"\"\n",
    "\n",
    "    user_prompt = f\"\"\"Analysis Task:\n",
    "Analyze what worked and what didn't in this example.\n",
    "\n",
    "Current Case:\n",
    "Input: {input_query}\n",
    "System Output: {answer}\n",
    "Expected Output: {correct_answer}\n",
    "\n",
    "Current Knowledge:\n",
    "{context}\n",
    "\n",
    "Provide:\n",
    "1. success: Was the answer correct? (true/false)\n",
    "2. analysis: Detailed analysis of what worked/didn't work\n",
    "3. knowledge_updates:\n",
    "   - items_to_keep: List of knowledge IDs (K#) that remain valid\n",
    "   - items_to_modify: List of [knowledge_id, new_description] pairs\n",
    "   - new_positive_items: List of new things that worked\n",
    "   - new_negative_items: List of new things that didn't work\n",
    "\n",
    "Remember:\n",
    "- Focus on general transformation patterns\n",
    "- Don't memorize specific examples\n",
    "- Identify what makes solutions work or fail\n",
    "- Build knowledge that can apply to new cases\"\"\"\n",
    "\n",
    "    return system_prompt, user_prompt\n",
    "\n",
    "\n",
    "#register the reasoners\n",
    "operational_reasoner_id = operational_reasoner.register()\n",
    "feedback_reasoner_id = feedback_reasoner.register()"
   ]
  },
  {
   "cell_type": "code",
   "execution_count": 112,
   "metadata": {},
   "outputs": [],
   "source": [
    "def process_query(input_query: str, correct_answer: Optional[str] = None, \n",
    "                 main_goal: str = \"Learn to provide accurate and consistent responses\",\n",
    "                 memory_file: str = \"memory.json\",\n",
    "                 max_memory_age_days: int = 30):\n",
    "    \n",
    "    memory = Memory(file_path=memory_file, max_memory_age_days=max_memory_age_days)\n",
    "    context = memory.get_context()\n",
    "    \n",
    "    # Get answer using current knowledge\n",
    "    result = brain_client.use(operational_reasoner_id)(\n",
    "        input_query=input_query,\n",
    "        context=context\n",
    "    )\n",
    "\n",
    "    if correct_answer is not None:\n",
    "        # Get feedback and evolve knowledge\n",
    "        feedback = brain_client.use(feedback_reasoner_id)(\n",
    "            main_goal=main_goal,\n",
    "            input_query=input_query,\n",
    "            answer=result.answer,\n",
    "            correct_answer=correct_answer,\n",
    "            context=context\n",
    "        )\n",
    "        \n",
    "        # Update memory based on feedback\n",
    "        memory.update_from_feedback(feedback)\n",
    "        \n",
    "        return {\"answer\": result.answer, \"feedback\": feedback}\n",
    "    \n",
    "    return {\"answer\": result.answer}"
   ]
  },
  {
   "cell_type": "code",
   "execution_count": null,
   "metadata": {},
   "outputs": [
    {
     "data": {
      "text/html": [
       "<pre style=\"white-space:pre;overflow-x:auto;line-height:normal;font-family:Menlo,'DejaVu Sans Mono',consolas,'Courier New',monospace\">System Answer: olleh | Correct Answer: Ellohay\n",
       "</pre>\n"
      ],
      "text/plain": [
       "System Answer: olleh | Correct Answer: Ellohay\n"
      ]
     },
     "metadata": {},
     "output_type": "display_data"
    },
    {
     "data": {
      "text/html": [
       "<pre style=\"white-space:pre;overflow-x:auto;line-height:normal;font-family:Menlo,'DejaVu Sans Mono',consolas,'Courier New',monospace\">System Answer: orldway | Correct Answer: Orldway\n",
       "</pre>\n"
      ],
      "text/plain": [
       "System Answer: orldway | Correct Answer: Orldway\n"
      ]
     },
     "metadata": {},
     "output_type": "display_data"
    },
    {
     "data": {
      "text/html": [
       "<pre style=\"white-space:pre;overflow-x:auto;line-height:normal;font-family:Menlo,'DejaVu Sans Mono',consolas,'Courier New',monospace\">System Answer: ythonpay | Correct Answer: Ythonpay\n",
       "</pre>\n"
      ],
      "text/plain": [
       "System Answer: ythonpay | Correct Answer: Ythonpay\n"
      ]
     },
     "metadata": {},
     "output_type": "display_data"
    },
    {
     "data": {
      "text/html": [
       "<pre style=\"white-space:pre;overflow-x:auto;line-height:normal;font-family:Menlo,'DejaVu Sans Mono',consolas,'Courier New',monospace\">System Answer: odeway | Correct Answer: Odecay\n",
       "</pre>\n"
      ],
      "text/plain": [
       "System Answer: odeway | Correct Answer: Odecay\n"
      ]
     },
     "metadata": {},
     "output_type": "display_data"
    },
    {
     "data": {
      "text/html": [
       "<pre style=\"white-space:pre;overflow-x:auto;line-height:normal;font-family:Menlo,'DejaVu Sans Mono',consolas,'Courier New',monospace\">System Answer: earnlay | Correct Answer: Earnlay\n",
       "</pre>\n"
      ],
      "text/plain": [
       "System Answer: earnlay | Correct Answer: Earnlay\n"
      ]
     },
     "metadata": {},
     "output_type": "display_data"
    },
    {
     "data": {
      "text/html": [
       "<pre style=\"white-space:pre;overflow-x:auto;line-height:normal;font-family:Menlo,'DejaVu Sans Mono',consolas,'Courier New',monospace\">--------------------------------------------------\n",
       "</pre>\n"
      ],
      "text/plain": [
       "--------------------------------------------------\n"
      ]
     },
     "metadata": {},
     "output_type": "display_data"
    },
    {
     "data": {
      "text/html": [
       "<pre style=\"white-space:pre;overflow-x:auto;line-height:normal;font-family:Menlo,'DejaVu Sans Mono',consolas,'Courier New',monospace\">System Answer: ellohay | Correct Answer: Ellohay\n",
       "</pre>\n"
      ],
      "text/plain": [
       "System Answer: ellohay | Correct Answer: Ellohay\n"
      ]
     },
     "metadata": {},
     "output_type": "display_data"
    },
    {
     "data": {
      "text/html": [
       "<pre style=\"white-space:pre;overflow-x:auto;line-height:normal;font-family:Menlo,'DejaVu Sans Mono',consolas,'Courier New',monospace\">System Answer: orldway | Correct Answer: Orldway\n",
       "</pre>\n"
      ],
      "text/plain": [
       "System Answer: orldway | Correct Answer: Orldway\n"
      ]
     },
     "metadata": {},
     "output_type": "display_data"
    },
    {
     "data": {
      "text/html": [
       "<pre style=\"white-space:pre;overflow-x:auto;line-height:normal;font-family:Menlo,'DejaVu Sans Mono',consolas,'Courier New',monospace\">System Answer: ythonpay | Correct Answer: Ythonpay\n",
       "</pre>\n"
      ],
      "text/plain": [
       "System Answer: ythonpay | Correct Answer: Ythonpay\n"
      ]
     },
     "metadata": {},
     "output_type": "display_data"
    },
    {
     "data": {
      "text/html": [
       "<pre style=\"white-space:pre;overflow-x:auto;line-height:normal;font-family:Menlo,'DejaVu Sans Mono',consolas,'Courier New',monospace\">System Answer: odecay | Correct Answer: Odecay\n",
       "</pre>\n"
      ],
      "text/plain": [
       "System Answer: odecay | Correct Answer: Odecay\n"
      ]
     },
     "metadata": {},
     "output_type": "display_data"
    },
    {
     "data": {
      "text/html": [
       "<pre style=\"white-space:pre;overflow-x:auto;line-height:normal;font-family:Menlo,'DejaVu Sans Mono',consolas,'Courier New',monospace\">System Answer: earnlay | Correct Answer: Earnlay\n",
       "</pre>\n"
      ],
      "text/plain": [
       "System Answer: earnlay | Correct Answer: Earnlay\n"
      ]
     },
     "metadata": {},
     "output_type": "display_data"
    },
    {
     "data": {
      "text/html": [
       "<pre style=\"white-space:pre;overflow-x:auto;line-height:normal;font-family:Menlo,'DejaVu Sans Mono',consolas,'Courier New',monospace\">--------------------------------------------------\n",
       "</pre>\n"
      ],
      "text/plain": [
       "--------------------------------------------------\n"
      ]
     },
     "metadata": {},
     "output_type": "display_data"
    }
   ],
   "source": [
    "training_examples = [\n",
    "    {\n",
    "        \"query\": \"Transform 'hello'\",\n",
    "        \"correct_answer\": \"Ellohay\"\n",
    "    },\n",
    "    {\n",
    "        \"query\": \"Transform 'world'\",\n",
    "        \"correct_answer\": \"Orldway\"\n",
    "    },\n",
    "    {\n",
    "        \"query\": \"Transform 'python'\",\n",
    "        \"correct_answer\": \"Ythonpay\"\n",
    "    },\n",
    "    {\n",
    "        \"query\": \"Transform 'code'\",\n",
    "        \"correct_answer\": \"Odecay\"\n",
    "    },\n",
    "    {\n",
    "        \"query\": \"Transform 'learn'\",\n",
    "        \"correct_answer\": \"Earnlay\"\n",
    "    }\n",
    "]\n",
    "\n",
    "def train_pattern_learner():\n",
    "    for _ in range(5):\n",
    "        for i, example in enumerate(training_examples, 1):\n",
    "            \n",
    "            result = process_query(\n",
    "                input_query=example['query'],\n",
    "                correct_answer=example['correct_answer'],\n",
    "                main_goal=\"Learn the hidden transformation pattern that converts the input to output, and return the correct output\",\n",
    "                memory_file = \"test_2.json\",\n",
    "                max_memory_age_days = 30\n",
    "            )\n",
    "            \n",
    "            print(f\"System Answer: {result['answer']} | Correct Answer: {example['correct_answer']}\")\n",
    "        print(\"-\" * 50)\n",
    "\n",
    "train_pattern_learner()"
   ]
  },
  {
   "cell_type": "code",
   "execution_count": null,
   "metadata": {},
   "outputs": [],
   "source": []
  }
 ],
 "metadata": {
  "kernelspec": {
   "display_name": "Python 3",
   "language": "python",
   "name": "python3"
  },
  "language_info": {
   "codemirror_mode": {
    "name": "ipython",
    "version": 3
   },
   "file_extension": ".py",
   "mimetype": "text/x-python",
   "name": "python",
   "nbconvert_exporter": "python",
   "pygments_lexer": "ipython3",
   "version": "3.10.15"
  }
 },
 "nbformat": 4,
 "nbformat_minor": 2
}
